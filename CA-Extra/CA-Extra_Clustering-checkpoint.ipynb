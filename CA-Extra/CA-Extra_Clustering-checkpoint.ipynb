{
 "cells": [
  {
   "cell_type": "markdown",
   "id": "10edc6a1-150e-4642-910b-3d9ad4631ca5",
   "metadata": {},
   "source": [
    "## BSAN6070 <br> CA-Extra Clustering\n",
    "#### Tina Brauneck<br>Spring 2025"
   ]
  },
  {
   "cell_type": "markdown",
   "id": "9db3abf0-f60c-4cc4-85bc-cf4c4ee42ab4",
   "metadata": {},
   "source": [
    "<br>Description: This program uses the k-means algorithm to cluster mall customers based on their spending and demographics. <br><br>\n",
    "Data source: https://github.com/ArinB/MSBA-CA-Data/raw/main/CA06/Mall_Customers.csv <br>\n",
    "The dataset contains the following attributes:\n",
    "1. CustomerID: Unique ID for each customer<br>\n",
    "2. Gender: Male or Female<br>\n",
    "3. Age: Age of the customer<br>\n",
    "4. Annual Income (k$): Annual income of the customer in thousands of dollars<br>\n",
    "5. Spending Score (1-100): A score assigned by the mall based on customer<br>\n",
    "behavior and spending nature (higher scores indicate higher spending)<br>"
   ]
  },
  {
   "cell_type": "markdown",
   "id": "7f1406c7-6356-4967-a51f-4e72d753517b",
   "metadata": {},
   "source": [
    "<br>"
   ]
  },
  {
   "cell_type": "markdown",
   "id": "c217e735-2c1b-4906-85cd-1baa3f462510",
   "metadata": {},
   "source": [
    "### Table of Contents<br>\n",
    "\n",
    "##### &emsp; Setup\n",
    "##### &emsp; Step 1: Generating an Analytics Base Table (ABT)"
   ]
  },
  {
   "cell_type": "markdown",
   "id": "c2dfc7e4-4f0f-45df-8b3e-e1d7c8162ddd",
   "metadata": {},
   "source": [
    "##### &emsp; Step 2: Assessing Data Quality"
   ]
  },
  {
   "cell_type": "markdown",
   "id": "82f34fd7-da23-4e65-851a-6e0304b30b43",
   "metadata": {},
   "source": [
    "&emsp; &emsp; &emsp; Data Quality Report: Continuous Features <br>\n",
    "&emsp; &emsp; &emsp; Data Quality Report: Categorical Features <br>"
   ]
  },
  {
   "cell_type": "markdown",
   "id": "b412be95-e5de-484b-b3f5-53c1b060e384",
   "metadata": {},
   "source": [
    "##### &emsp; Step 3: Data Exploration"
   ]
  },
  {
   "cell_type": "markdown",
   "id": "46d18935-2351-4d7a-8c1d-3493f9927e79",
   "metadata": {},
   "source": [
    "&emsp; &emsp; &emsp; Data Distribution <br>\n",
    "&emsp; &emsp; &emsp; &emsp; Histograms <br>\n",
    "&emsp; &emsp; &emsp; &emsp; Bar Charts <br>\n",
    "&emsp; &emsp; &emsp; Feature/Target Relationships <br>\n",
    "&emsp; &emsp; &emsp; &emsp; Scatterplot Matrix <br>\n",
    "&emsp; &emsp; &emsp; &emsp; Correlation Matrix <br>"
   ]
  },
  {
   "cell_type": "markdown",
   "id": "92f8b5a8-c9bc-4773-af6c-788270ceb8c8",
   "metadata": {},
   "source": [
    "##### &emsp; Step 4: Data Preparation"
   ]
  },
  {
   "cell_type": "markdown",
   "id": "9754fe1a-fabf-4f7b-8bad-672c6f7ce862",
   "metadata": {},
   "source": [
    "&emsp; &emsp; &emsp; Outlier Removal <br>\n",
    "&emsp; &emsp; &emsp; Transformations<br>\n",
    "&emsp; &emsp; &emsp; Encoding<br>\n"
   ]
  },
  {
   "cell_type": "markdown",
   "id": "dacac6cb-55b3-489b-b5f9-c1f5c8776243",
   "metadata": {},
   "source": [
    "##### Step 5: Modeling"
   ]
  },
  {
   "cell_type": "markdown",
   "id": "0714745e-1bc3-4c76-94ea-2e4f1b4585ad",
   "metadata": {},
   "source": [
    "&emsp; &emsp; &emsp; Basic k-means Clustering Model<br>\n",
    "&emsp; &emsp; &emsp; Tuning, using Silhouette Score<br>\n",
    "&emsp; &emsp; &emsp; Final Model<br>"
   ]
  },
  {
   "cell_type": "markdown",
   "id": "f7f0af29-2063-4132-b070-c9ba28e680fc",
   "metadata": {},
   "source": [
    "##### Step 6: Analyzing the Clusters"
   ]
  },
  {
   "cell_type": "markdown",
   "id": "c73b11c5-e554-42ac-a9c2-7eabfa695706",
   "metadata": {},
   "source": [
    "&emsp; &emsp; &emsp; Box Plots<br>\n",
    "&emsp; &emsp; &emsp; Tables<br>"
   ]
  },
  {
   "cell_type": "markdown",
   "id": "f2eb89b0-11aa-4002-a47b-997e508df696",
   "metadata": {},
   "source": [
    " <br>"
   ]
  },
  {
   "cell_type": "markdown",
   "id": "e3767f59-5e15-4cc5-85f0-9c78d865a69a",
   "metadata": {},
   "source": [
    "### Setup"
   ]
  },
  {
   "cell_type": "code",
   "execution_count": 596,
   "id": "a5c8a6c3-88f0-4819-bcb3-f840d7d9a80b",
   "metadata": {},
   "outputs": [],
   "source": [
    "# Optional install. Uncomment and install if not already installed. Copy and run one line at a time.\n",
    "# pip install plotnine pandas\n",
    "# pip install plotly\n",
    "# pip install --upgrade scikit-learn # IMPORTANT: upgrade your scikit-learn package to 1.6.1 to get the same output"
   ]
  },
  {
   "cell_type": "code",
   "execution_count": 597,
   "id": "fbeef09e-2488-47ff-b92c-c826444c2102",
   "metadata": {},
   "outputs": [],
   "source": [
    "#Package imports\n",
    "\n",
    "import os\n",
    "\n",
    "# Data handling and graphing\n",
    "import matplotlib\n",
    "import pandas as pd\n",
    "import numpy as np\n",
    "import matplotlib.pyplot as plt\n",
    "import seaborn as sns\n",
    "import plotly.express as px\n",
    "from plotnine import ggplot, aes, geom_histogram, facet_wrap, geom_bar\n",
    "from plotnine.data import mpg\n",
    "\n",
    "# Modeling\n",
    "from sklearn.preprocessing import MinMaxScaler\n",
    "from sklearn.preprocessing import StandardScaler\n",
    "from sklearn.cluster import KMeans\n",
    "from sklearn.metrics.cluster import silhouette_score"
   ]
  },
  {
   "cell_type": "markdown",
   "id": "8443590d-8a61-4d7f-87ef-8a10a030ff65",
   "metadata": {},
   "source": [
    "### Step 1: Generating an Analytics Base Table (ABT)"
   ]
  },
  {
   "cell_type": "markdown",
   "id": "7660a5bd-1e1c-4a62-a5ae-b64795ede19e",
   "metadata": {},
   "source": [
    "This step puts our data into a dataframe and provides a first look at the data."
   ]
  },
  {
   "cell_type": "code",
   "execution_count": 600,
   "id": "16f9ccf4-2524-4b53-aac2-abe382927028",
   "metadata": {},
   "outputs": [],
   "source": [
    "df = pd.read_csv(r\"https://github.com/ArinB/MSBA-CA-Data/raw/main/CA06/Mall_Customers.csv\") # read in the data"
   ]
  },
  {
   "cell_type": "code",
   "execution_count": 601,
   "id": "ec99dc8a-623a-4bf3-b391-dc4dd5a3f0e7",
   "metadata": {},
   "outputs": [
    {
     "name": "stdout",
     "output_type": "stream",
     "text": [
      "(200, 5)\n"
     ]
    }
   ],
   "source": [
    "## print the DataFrame's shape, i.e., number of rows and columns\n",
    "print(df.shape)"
   ]
  },
  {
   "cell_type": "code",
   "execution_count": 602,
   "id": "f6a2cb32-a9b7-40e5-95f9-15b56d930b48",
   "metadata": {},
   "outputs": [
    {
     "data": {
      "text/html": [
       "<div>\n",
       "<style scoped>\n",
       "    .dataframe tbody tr th:only-of-type {\n",
       "        vertical-align: middle;\n",
       "    }\n",
       "\n",
       "    .dataframe tbody tr th {\n",
       "        vertical-align: top;\n",
       "    }\n",
       "\n",
       "    .dataframe thead th {\n",
       "        text-align: right;\n",
       "    }\n",
       "</style>\n",
       "<table border=\"1\" class=\"dataframe\">\n",
       "  <thead>\n",
       "    <tr style=\"text-align: right;\">\n",
       "      <th></th>\n",
       "      <th>CustomerID</th>\n",
       "      <th>Genre</th>\n",
       "      <th>Age</th>\n",
       "      <th>Annual Income (k$)</th>\n",
       "      <th>Spending Score (1-100)</th>\n",
       "    </tr>\n",
       "  </thead>\n",
       "  <tbody>\n",
       "    <tr>\n",
       "      <th>0</th>\n",
       "      <td>1</td>\n",
       "      <td>Male</td>\n",
       "      <td>19</td>\n",
       "      <td>15</td>\n",
       "      <td>39</td>\n",
       "    </tr>\n",
       "    <tr>\n",
       "      <th>1</th>\n",
       "      <td>2</td>\n",
       "      <td>Male</td>\n",
       "      <td>21</td>\n",
       "      <td>15</td>\n",
       "      <td>81</td>\n",
       "    </tr>\n",
       "    <tr>\n",
       "      <th>2</th>\n",
       "      <td>3</td>\n",
       "      <td>Female</td>\n",
       "      <td>20</td>\n",
       "      <td>16</td>\n",
       "      <td>6</td>\n",
       "    </tr>\n",
       "    <tr>\n",
       "      <th>3</th>\n",
       "      <td>4</td>\n",
       "      <td>Female</td>\n",
       "      <td>23</td>\n",
       "      <td>16</td>\n",
       "      <td>77</td>\n",
       "    </tr>\n",
       "    <tr>\n",
       "      <th>4</th>\n",
       "      <td>5</td>\n",
       "      <td>Female</td>\n",
       "      <td>31</td>\n",
       "      <td>17</td>\n",
       "      <td>40</td>\n",
       "    </tr>\n",
       "  </tbody>\n",
       "</table>\n",
       "</div>"
      ],
      "text/plain": [
       "   CustomerID   Genre  Age  Annual Income (k$)  Spending Score (1-100)\n",
       "0           1    Male   19                  15                      39\n",
       "1           2    Male   21                  15                      81\n",
       "2           3  Female   20                  16                       6\n",
       "3           4  Female   23                  16                      77\n",
       "4           5  Female   31                  17                      40"
      ]
     },
     "execution_count": 602,
     "metadata": {},
     "output_type": "execute_result"
    }
   ],
   "source": [
    "df.head() #preview the data"
   ]
  },
  {
   "cell_type": "code",
   "execution_count": 603,
   "id": "440eb8d5-47c6-49a6-a17b-008f24e42493",
   "metadata": {},
   "outputs": [
    {
     "data": {
      "text/html": [
       "<div>\n",
       "<style scoped>\n",
       "    .dataframe tbody tr th:only-of-type {\n",
       "        vertical-align: middle;\n",
       "    }\n",
       "\n",
       "    .dataframe tbody tr th {\n",
       "        vertical-align: top;\n",
       "    }\n",
       "\n",
       "    .dataframe thead th {\n",
       "        text-align: right;\n",
       "    }\n",
       "</style>\n",
       "<table border=\"1\" class=\"dataframe\">\n",
       "  <thead>\n",
       "    <tr style=\"text-align: right;\">\n",
       "      <th></th>\n",
       "      <th>CustomerID</th>\n",
       "      <th>Genre</th>\n",
       "      <th>Age</th>\n",
       "      <th>Annual Income (k$)</th>\n",
       "      <th>Spending Score (1-100)</th>\n",
       "    </tr>\n",
       "  </thead>\n",
       "  <tbody>\n",
       "    <tr>\n",
       "      <th>195</th>\n",
       "      <td>196</td>\n",
       "      <td>Female</td>\n",
       "      <td>35</td>\n",
       "      <td>120</td>\n",
       "      <td>79</td>\n",
       "    </tr>\n",
       "    <tr>\n",
       "      <th>196</th>\n",
       "      <td>197</td>\n",
       "      <td>Female</td>\n",
       "      <td>45</td>\n",
       "      <td>126</td>\n",
       "      <td>28</td>\n",
       "    </tr>\n",
       "    <tr>\n",
       "      <th>197</th>\n",
       "      <td>198</td>\n",
       "      <td>Male</td>\n",
       "      <td>32</td>\n",
       "      <td>126</td>\n",
       "      <td>74</td>\n",
       "    </tr>\n",
       "    <tr>\n",
       "      <th>198</th>\n",
       "      <td>199</td>\n",
       "      <td>Male</td>\n",
       "      <td>32</td>\n",
       "      <td>137</td>\n",
       "      <td>18</td>\n",
       "    </tr>\n",
       "    <tr>\n",
       "      <th>199</th>\n",
       "      <td>200</td>\n",
       "      <td>Male</td>\n",
       "      <td>30</td>\n",
       "      <td>137</td>\n",
       "      <td>83</td>\n",
       "    </tr>\n",
       "  </tbody>\n",
       "</table>\n",
       "</div>"
      ],
      "text/plain": [
       "     CustomerID   Genre  Age  Annual Income (k$)  Spending Score (1-100)\n",
       "195         196  Female   35                 120                      79\n",
       "196         197  Female   45                 126                      28\n",
       "197         198    Male   32                 126                      74\n",
       "198         199    Male   32                 137                      18\n",
       "199         200    Male   30                 137                      83"
      ]
     },
     "execution_count": 603,
     "metadata": {},
     "output_type": "execute_result"
    }
   ],
   "source": [
    "df.tail() #preview the data"
   ]
  },
  {
   "cell_type": "markdown",
   "id": "e09889d7-ee6a-4221-ab3d-cac7eaa3f92c",
   "metadata": {},
   "source": [
    "### Step 2: Assessing Data Quality"
   ]
  },
  {
   "cell_type": "markdown",
   "id": "74e5271b-6aee-4b0e-9ab3-1156432e475c",
   "metadata": {},
   "source": [
    "This step includes data quality reports which is used to assess data cleaning needs."
   ]
  },
  {
   "cell_type": "code",
   "execution_count": 606,
   "id": "a1bb00ec-d748-4b71-b551-8436e1694ea8",
   "metadata": {},
   "outputs": [],
   "source": [
    "# This function determines if the feature is categorial or numerical"
   ]
  },
  {
   "cell_type": "code",
   "execution_count": 607,
   "id": "225d670f-48a7-46a7-a242-e4cff3bb7cde",
   "metadata": {},
   "outputs": [
    {
     "data": {
      "text/plain": [
       "CustomerID                 int64\n",
       "Genre                     object\n",
       "Age                        int64\n",
       "Annual Income (k$)         int64\n",
       "Spending Score (1-100)     int64\n",
       "dtype: object"
      ]
     },
     "execution_count": 607,
     "metadata": {},
     "output_type": "execute_result"
    }
   ],
   "source": [
    "df.dtypes"
   ]
  },
  {
   "cell_type": "code",
   "execution_count": 608,
   "id": "a6dc9bb4-5050-44a2-9f4e-c32c6bf6d89e",
   "metadata": {},
   "outputs": [],
   "source": [
    "df = df.rename(columns={'Genre': 'Gender'})"
   ]
  },
  {
   "cell_type": "code",
   "execution_count": 609,
   "id": "0fa77bbc-69e0-4019-8fc5-f37923b9d259",
   "metadata": {},
   "outputs": [],
   "source": [
    "pd.set_option('display.max_columns', 100)\n",
    "pd.set_option('display.max_rows', 200)"
   ]
  },
  {
   "cell_type": "code",
   "execution_count": 610,
   "id": "250ed663-b474-4858-9056-7e4c08c70354",
   "metadata": {},
   "outputs": [],
   "source": [
    "pd.set_option('display.width', 1000)"
   ]
  },
  {
   "cell_type": "code",
   "execution_count": 611,
   "id": "8cde7cc6-95bd-451a-8269-53c0e91cbbe5",
   "metadata": {},
   "outputs": [],
   "source": [
    "# This function generates a Data Quality Report\n",
    "\n",
    "def data_quality_report(df, report_type):\n",
    "    continuous_rows = []\n",
    "    categorical_rows = []\n",
    "    \n",
    "    for col in df.columns:\n",
    "        if pd.api.types.is_numeric_dtype(df[col]): \n",
    "            count = df[col].count()\n",
    "            missing_percentage = df[col].isnull().mean() * 100\n",
    "            cardinality = df[col].nunique()\n",
    "            first_quartile = df[col].quantile(0.25)\n",
    "            mean = df[col].mean()\n",
    "            median = df[col].median()\n",
    "            third_quartile = df[col].quantile(0.75)\n",
    "            max_value = df[col].max()\n",
    "            std_dev = df[col].std()\n",
    "            \n",
    "            continuous_rows.append({\n",
    "                'Feature': col,\n",
    "                'Count': count,\n",
    "                '% Missing': missing_percentage,\n",
    "                'Card.': cardinality,\n",
    "                '1st Qrt.': first_quartile,\n",
    "                'Mean': mean,\n",
    "                'Median': median,\n",
    "                '3rd Qrt.': third_quartile,\n",
    "                'Max': max_value,\n",
    "                'Std. Dev.': std_dev\n",
    "            })\n",
    "\n",
    "        else:\n",
    "            count = df[col].count()\n",
    "            missing_percentage = df[col].isnull().mean() * 100\n",
    "            cardinality = df[col].nunique()\n",
    "            value_counts = df[col].value_counts()\n",
    "            mode = value_counts.index[0] if not value_counts.empty else 'NA'\n",
    "            mode_freq = value_counts.iloc[0] if not value_counts.empty else 0\n",
    "            mode_percentage = (mode_freq / count) * 100 if count > 0 else 0\n",
    "            second_mode = value_counts.index[1] if len(value_counts) > 1 else 'NA'\n",
    "            second_mode_freq = value_counts.iloc[1] if len(value_counts) > 1 else 0\n",
    "            second_mode_percentage = (second_mode_freq / count) * 100 if count > 0 else 0\n",
    "\n",
    "            categorical_rows.append({\n",
    "                'Feature': col,\n",
    "                'Count': count,\n",
    "                '% Missing': missing_percentage,\n",
    "                'Card.': cardinality,\n",
    "                'Mode': mode,\n",
    "                'Mode Freq.': mode_freq,\n",
    "                'Mode %': mode_percentage,\n",
    "                '2nd Mode': second_mode,\n",
    "                '2nd Mode Freq.': second_mode_freq,\n",
    "                '2nd Mode %': second_mode_percentage\n",
    "            })\n",
    "\n",
    "    continuous_report = pd.DataFrame(continuous_rows)\n",
    "    categorical_report = pd.DataFrame(categorical_rows)\n",
    "\n",
    "    if report_type == \"cont\":\n",
    "        return continuous_report\n",
    "\n",
    "    elif report_type == \"cat\":\n",
    "        return categorical_report\n",
    "        \n",
    "    else:\n",
    "        raise ValueError(\"Error: report type options are 'cat' or 'cont'\")"
   ]
  },
  {
   "cell_type": "code",
   "execution_count": 612,
   "id": "ab2370e0-7270-48ba-89a1-7ccf24546b9c",
   "metadata": {},
   "outputs": [],
   "source": [
    "dqr_cont = data_quality_report(df,\"cont\")"
   ]
  },
  {
   "cell_type": "code",
   "execution_count": 613,
   "id": "5f353ed6-c962-4f0e-8ac2-6dd2bcef347a",
   "metadata": {},
   "outputs": [],
   "source": [
    "dqr_cat = data_quality_report(df,\"cat\")"
   ]
  },
  {
   "cell_type": "markdown",
   "id": "d77d1ec5-97fa-4f0b-97bb-cafd320799eb",
   "metadata": {},
   "source": [
    "#### 2A. Data Quality Report: Continuous Features"
   ]
  },
  {
   "cell_type": "code",
   "execution_count": 615,
   "id": "86b29fe5-2e20-4043-a8e2-a0f530bab087",
   "metadata": {},
   "outputs": [
    {
     "data": {
      "text/html": [
       "<div>\n",
       "<style scoped>\n",
       "    .dataframe tbody tr th:only-of-type {\n",
       "        vertical-align: middle;\n",
       "    }\n",
       "\n",
       "    .dataframe tbody tr th {\n",
       "        vertical-align: top;\n",
       "    }\n",
       "\n",
       "    .dataframe thead th {\n",
       "        text-align: right;\n",
       "    }\n",
       "</style>\n",
       "<table border=\"1\" class=\"dataframe\">\n",
       "  <thead>\n",
       "    <tr style=\"text-align: right;\">\n",
       "      <th></th>\n",
       "      <th>Feature</th>\n",
       "      <th>Count</th>\n",
       "      <th>% Missing</th>\n",
       "      <th>Card.</th>\n",
       "      <th>1st Qrt.</th>\n",
       "      <th>Mean</th>\n",
       "      <th>Median</th>\n",
       "      <th>3rd Qrt.</th>\n",
       "      <th>Max</th>\n",
       "      <th>Std. Dev.</th>\n",
       "    </tr>\n",
       "  </thead>\n",
       "  <tbody>\n",
       "    <tr>\n",
       "      <th>0</th>\n",
       "      <td>CustomerID</td>\n",
       "      <td>200</td>\n",
       "      <td>0.0</td>\n",
       "      <td>200</td>\n",
       "      <td>50.75</td>\n",
       "      <td>100.50</td>\n",
       "      <td>100.5</td>\n",
       "      <td>150.25</td>\n",
       "      <td>200</td>\n",
       "      <td>57.879185</td>\n",
       "    </tr>\n",
       "    <tr>\n",
       "      <th>1</th>\n",
       "      <td>Age</td>\n",
       "      <td>200</td>\n",
       "      <td>0.0</td>\n",
       "      <td>51</td>\n",
       "      <td>28.75</td>\n",
       "      <td>38.85</td>\n",
       "      <td>36.0</td>\n",
       "      <td>49.00</td>\n",
       "      <td>70</td>\n",
       "      <td>13.969007</td>\n",
       "    </tr>\n",
       "    <tr>\n",
       "      <th>2</th>\n",
       "      <td>Annual Income (k$)</td>\n",
       "      <td>200</td>\n",
       "      <td>0.0</td>\n",
       "      <td>64</td>\n",
       "      <td>41.50</td>\n",
       "      <td>60.56</td>\n",
       "      <td>61.5</td>\n",
       "      <td>78.00</td>\n",
       "      <td>137</td>\n",
       "      <td>26.264721</td>\n",
       "    </tr>\n",
       "    <tr>\n",
       "      <th>3</th>\n",
       "      <td>Spending Score (1-100)</td>\n",
       "      <td>200</td>\n",
       "      <td>0.0</td>\n",
       "      <td>84</td>\n",
       "      <td>34.75</td>\n",
       "      <td>50.20</td>\n",
       "      <td>50.0</td>\n",
       "      <td>73.00</td>\n",
       "      <td>99</td>\n",
       "      <td>25.823522</td>\n",
       "    </tr>\n",
       "  </tbody>\n",
       "</table>\n",
       "</div>"
      ],
      "text/plain": [
       "                  Feature  Count  % Missing  Card.  1st Qrt.    Mean  Median  3rd Qrt.  Max  Std. Dev.\n",
       "0              CustomerID    200        0.0    200     50.75  100.50   100.5    150.25  200  57.879185\n",
       "1                     Age    200        0.0     51     28.75   38.85    36.0     49.00   70  13.969007\n",
       "2      Annual Income (k$)    200        0.0     64     41.50   60.56    61.5     78.00  137  26.264721\n",
       "3  Spending Score (1-100)    200        0.0     84     34.75   50.20    50.0     73.00   99  25.823522"
      ]
     },
     "execution_count": 615,
     "metadata": {},
     "output_type": "execute_result"
    }
   ],
   "source": [
    "dqr_cont"
   ]
  },
  {
   "cell_type": "code",
   "execution_count": 616,
   "id": "229b909b-00a1-4285-b7e1-19cfafe4b54f",
   "metadata": {},
   "outputs": [],
   "source": [
    "# No missing values. It looks like there will not be any major outliers, but we will still do an outlier check in a later step. Carinality looks good. Annual income is likely rounded."
   ]
  },
  {
   "cell_type": "markdown",
   "id": "5b2950f6-bc0d-48ec-8a8d-8c16a8aad574",
   "metadata": {},
   "source": [
    "#### 2B. Data Quality Report: Categorical Features"
   ]
  },
  {
   "cell_type": "code",
   "execution_count": 618,
   "id": "67eca8a4-ec77-4905-843c-8f42343d3a91",
   "metadata": {
    "scrolled": true
   },
   "outputs": [
    {
     "data": {
      "text/html": [
       "<div>\n",
       "<style scoped>\n",
       "    .dataframe tbody tr th:only-of-type {\n",
       "        vertical-align: middle;\n",
       "    }\n",
       "\n",
       "    .dataframe tbody tr th {\n",
       "        vertical-align: top;\n",
       "    }\n",
       "\n",
       "    .dataframe thead th {\n",
       "        text-align: right;\n",
       "    }\n",
       "</style>\n",
       "<table border=\"1\" class=\"dataframe\">\n",
       "  <thead>\n",
       "    <tr style=\"text-align: right;\">\n",
       "      <th></th>\n",
       "      <th>Feature</th>\n",
       "      <th>Count</th>\n",
       "      <th>% Missing</th>\n",
       "      <th>Card.</th>\n",
       "      <th>Mode</th>\n",
       "      <th>Mode Freq.</th>\n",
       "      <th>Mode %</th>\n",
       "      <th>2nd Mode</th>\n",
       "      <th>2nd Mode Freq.</th>\n",
       "      <th>2nd Mode %</th>\n",
       "    </tr>\n",
       "  </thead>\n",
       "  <tbody>\n",
       "    <tr>\n",
       "      <th>0</th>\n",
       "      <td>Gender</td>\n",
       "      <td>200</td>\n",
       "      <td>0.0</td>\n",
       "      <td>2</td>\n",
       "      <td>Female</td>\n",
       "      <td>112</td>\n",
       "      <td>56.0</td>\n",
       "      <td>Male</td>\n",
       "      <td>88</td>\n",
       "      <td>44.0</td>\n",
       "    </tr>\n",
       "  </tbody>\n",
       "</table>\n",
       "</div>"
      ],
      "text/plain": [
       "  Feature  Count  % Missing  Card.    Mode  Mode Freq.  Mode % 2nd Mode  2nd Mode Freq.  2nd Mode %\n",
       "0  Gender    200        0.0      2  Female         112    56.0     Male              88        44.0"
      ]
     },
     "execution_count": 618,
     "metadata": {},
     "output_type": "execute_result"
    }
   ],
   "source": [
    "dqr_cat"
   ]
  },
  {
   "cell_type": "code",
   "execution_count": 619,
   "id": "c2c1adfc-858e-4074-85bd-ded73c73d0e7",
   "metadata": {},
   "outputs": [],
   "source": [
    "# There are more females than males, but it's not a large class imbalance."
   ]
  },
  {
   "cell_type": "code",
   "execution_count": 620,
   "id": "25925072-3275-49c6-af53-6954041e453d",
   "metadata": {},
   "outputs": [],
   "source": [
    "abt = df.copy() # Now we make a copy. Any tranfromations will be done the abt, leaving the original df in its original state for reference."
   ]
  },
  {
   "cell_type": "markdown",
   "id": "89b189b1-141c-4716-8dca-46f91667ccbe",
   "metadata": {},
   "source": [
    "<br>"
   ]
  },
  {
   "cell_type": "markdown",
   "id": "d8b62eec-d3ed-4b16-aca4-5a2f4b366cb4",
   "metadata": {},
   "source": [
    "### Step 3: Data Exploration"
   ]
  },
  {
   "cell_type": "markdown",
   "id": "13300e58-d99b-4c3d-8234-abe49e46a2a5",
   "metadata": {},
   "source": [
    "This step provides insights on the data distribution and relationships between variables.<br>\n",
    "To start exploring, we divide the ABT dataframe into two feature sets: continuous features and categorical features."
   ]
  },
  {
   "cell_type": "code",
   "execution_count": 624,
   "id": "27e67e3e-ed03-4df0-b256-3c077bd3456a",
   "metadata": {},
   "outputs": [],
   "source": [
    "# Declare empty lists for the categorical columns and the continuous columns\n",
    "categorical_cols = []\n",
    "continuous_cols = []\n",
    "\n",
    "#Define continuous and categorial columns from the abt:\n",
    "for col in abt.columns:\n",
    "    if pd.api.types.is_numeric_dtype(abt[col]):\n",
    "        continuous_cols.append(col)\n",
    "    else:\n",
    "        categorical_cols.append(col)"
   ]
  },
  {
   "cell_type": "code",
   "execution_count": 625,
   "id": "746f3ac0-b714-4900-b122-71e97ec2e554",
   "metadata": {},
   "outputs": [],
   "source": [
    "continuous_cols.remove('CustomerID')"
   ]
  },
  {
   "cell_type": "markdown",
   "id": "72f17a4b-38c8-4c2b-9bc6-ec3a0cbf4793",
   "metadata": {},
   "source": [
    "#### 3A. Data Distribution"
   ]
  },
  {
   "cell_type": "markdown",
   "id": "5ed1b250-c821-42c3-afa1-2f894b3d95ea",
   "metadata": {},
   "source": [
    "Histograms"
   ]
  },
  {
   "cell_type": "code",
   "execution_count": 628,
   "id": "cf5a2100-de73-4622-a63d-48c638ee1615",
   "metadata": {},
   "outputs": [],
   "source": [
    "from plotnine import (\n",
    "    ggplot, aes, geom_bar, facet_wrap, theme_classic, theme, element_text, geom_histogram\n",
    ")\n",
    "\n",
    "# Melt categorical columns for visualization\n",
    "abt_cont_melted = abt[continuous_cols].melt(var_name='column', value_name='value')\n",
    "\n",
    "# Design bar plots \n",
    "cont_plot = (\n",
    "    ggplot(abt_cont_melted, aes(x='value')) +\n",
    "    geom_histogram(bins = 20, fill='deepskyblue', color='black', size=0.1) +  # Add thin line around bars\n",
    "    facet_wrap('~column', nrow=12, ncol=4, scales='free_x') +\n",
    "    theme_classic() +  # Apply classic theme\n",
    "    theme(\n",
    "        panel_spacing=0.01,  # Adjust space between panels\n",
    "        figure_size=(30, 10),  # Increase the figure size (width, height)\n",
    "        strip_text_x=element_text(size=24),  # Increase facet label size\n",
    "        axis_text=element_text(size=20),  # Increase axis text size\n",
    "        axis_title=element_text(size=20),  # Adjust axis title size\n",
    "        # plot_title=element_text(size=36)  # Uncomment for plot title size\n",
    "    )\n",
    ")"
   ]
  },
  {
   "cell_type": "code",
   "execution_count": 629,
   "id": "041e5203-5296-4032-9f47-440c81c5fe9a",
   "metadata": {
    "jupyter": {
     "source_hidden": true
    }
   },
   "outputs": [
    {
     "data": {
      "image/png": "[encoded data removed]",
      "text/plain": [
       "<Figure size 3000x1000 with 3 Axes>"
      ]
     },
     "execution_count": 629,
     "metadata": {},
     "output_type": "execute_result"
    }
   ],
   "source": [
    "cont_plot.draw()"
   ]
  },
  {
   "cell_type": "markdown",
   "id": "4d5cfab1-8a0f-4aee-9fe9-8d0d1b6a7258",
   "metadata": {},
   "source": [
    "Bar Plots"
   ]
  },
  {
   "cell_type": "code",
   "execution_count": 631,
   "id": "0e92f9d8-224d-4451-94e6-b36cd71b1cea",
   "metadata": {},
   "outputs": [],
   "source": [
    "from plotnine import (\n",
    "    ggplot, aes, geom_bar, facet_wrap, theme_classic, theme, element_text, ggsave\n",
    ")\n",
    "\n",
    "# Melt categorical columns for visualization\n",
    "abt_cat_melted = abt[categorical_cols].melt(var_name='column', value_name='value')\n",
    "\n",
    "# Design bar plots \n",
    "cat_plot = (\n",
    "    ggplot(abt_cat_melted, aes(x='value')) +\n",
    "    geom_bar(fill='deepskyblue', color='black', size=0.1) +  # Add thin line around bars\n",
    "    facet_wrap('~column', nrow=12, ncol=3, scales='free_x') +\n",
    "    theme_classic() +  # Apply classic theme\n",
    "    theme(\n",
    "        panel_spacing=0.005,  # Adjust space between panels\n",
    "        figure_size=(5, 5),  # Increase the figure size (width, height)\n",
    "        strip_text_x=element_text(size=8),  # Increase facet label size\n",
    "        axis_text_x=element_text(size=9, angle=20),\n",
    "        axis_text=element_text(size=8),  # Increase axis text size\n",
    "        axis_title=element_text(size=11),  # Adjust axis title size\n",
    "        # plot_title=element_text(size=36)  # Uncomment for plot title size\n",
    "    )\n",
    ")"
   ]
  },
  {
   "cell_type": "code",
   "execution_count": 632,
   "id": "959c8b9e-6d56-48fa-9276-95cc1b529249",
   "metadata": {
    "jupyter": {
     "source_hidden": true
    }
   },
   "outputs": [
    {
     "data": {
      "image/png": "[encoded data removed]",
      "text/plain": [
       "<Figure size 500x500 with 1 Axes>"
      ]
     },
     "execution_count": 632,
     "metadata": {},
     "output_type": "execute_result"
    }
   ],
   "source": [
    "cat_plot.draw()"
   ]
  },
  {
   "cell_type": "code",
   "execution_count": 633,
   "id": "cf9bac59-e33c-4965-a592-6c3d46adb1bb",
   "metadata": {},
   "outputs": [],
   "source": [
    "# Females outnumber males, but not drastically."
   ]
  },
  {
   "cell_type": "markdown",
   "id": "a77151ad-5756-4a76-872a-bc8b74540e24",
   "metadata": {},
   "source": [
    "#### 3B. Feature Relationships"
   ]
  },
  {
   "cell_type": "markdown",
   "id": "e03df026-07bc-4b9b-8d97-cea36bfc0b07",
   "metadata": {},
   "source": [
    "Scatter Plot Matrix"
   ]
  },
  {
   "cell_type": "code",
   "execution_count": 636,
   "id": "8675b7c9-9b2c-44ca-98c6-be92902ed076",
   "metadata": {},
   "outputs": [
    {
     "data": {
      "text/plain": [
       "<seaborn.axisgrid.PairGrid at 0x10939e17b10>"
      ]
     },
     "execution_count": 636,
     "metadata": {},
     "output_type": "execute_result"
    }
   ],
   "source": [
    "## create a pairplot to visualize the relationships between multiple numeric columns\n",
    "sns.pairplot(abt[continuous_cols])"
   ]
  },
  {
   "cell_type": "code",
   "execution_count": 637,
   "id": "ede7d338-419f-4b00-98a8-c08b46d6c7a7",
   "metadata": {
    "jupyter": {
     "source_hidden": true
    }
   },
   "outputs": [],
   "source": [
    "plt.savefig(r\"scatterplot_matrix.png\")"
   ]
  },
  {
   "cell_type": "code",
   "execution_count": 638,
   "id": "f0b62651-d4d1-4231-82dc-8c8099f8945f",
   "metadata": {},
   "outputs": [
    {
     "data": {
      "image/png": "[encoded data removed]",
      "text/plain": [
       "<Figure size 750x750 with 12 Axes>"
      ]
     },
     "metadata": {},
     "output_type": "display_data"
    }
   ],
   "source": [
    "plt.show()"
   ]
  },
  {
   "cell_type": "code",
   "execution_count": 639,
   "id": "a3fefb1a-20d1-426c-a430-e4bef83d7d0a",
   "metadata": {},
   "outputs": [],
   "source": [
    "# There is an interesting pattern between annual income and spending score. It seems to indicate that middle income folks spend around the same amount at the mall-- \n",
    "# in the mid-range, while both low income and high income individuals either spend a lot or spend very little."
   ]
  },
  {
   "cell_type": "markdown",
   "id": "09f88c83-c2dd-4ffc-85e5-09d06b1f2978",
   "metadata": {},
   "source": [
    "Correlation Matrix"
   ]
  },
  {
   "cell_type": "code",
   "execution_count": 641,
   "id": "3a4e740f-2314-4b85-bbe1-250444a87f34",
   "metadata": {},
   "outputs": [],
   "source": [
    "correlation_matrix = abt[continuous_cols].corr()"
   ]
  },
  {
   "cell_type": "code",
   "execution_count": 642,
   "id": "8e77cc48-7162-482d-9c2e-d0b8c7bc84c7",
   "metadata": {},
   "outputs": [
    {
     "data": {
      "image/png": "[encoded data removed]",
      "text/plain": [
       "<Figure size 1000x1000 with 2 Axes>"
      ]
     },
     "metadata": {},
     "output_type": "display_data"
    }
   ],
   "source": [
    "plt.figure(figsize=(10, 10))\n",
    "\n",
    "axis_corr = sns.heatmap(\n",
    "correlation_matrix,\n",
    "vmin=-1, vmax=1, center=0,\n",
    "cmap=sns.diverging_palette(10, 500, n=500),\n",
    "    square=True,\n",
    "    annot=True,  # Show correlation coefficients in each square\n",
    "    fmt=\".2f\", # Format the coefficients to 2 decimal places\n",
    "    annot_kws={\"size\": 12},  # Set font size for correlation coefficients\n",
    "    linewidths=.1,  # Add lines between squares for better visibility\n",
    "    cbar_kws={\"shrink\": .60, \"orientation\": \"horizontal\"}  # Adjust color bar (legend) size\n",
    ")\n",
    "\n",
    "# Sets the font size and rotation for the x and y axis labels\n",
    "plt.xticks(rotation=15, ha='right', fontsize=10)\n",
    "plt.yticks(rotation=0, fontsize=12)\n",
    "\n",
    "# Adjust the position of the color legend\n",
    "cbar = axis_corr.collections[0].colorbar\n",
    "cbar.ax.tick_params(labelsize=10)\n",
    "cbar.ax.set_position([0.2, 0.25, 0.6, 0.02])\n",
    "\n",
    "plt.show()"
   ]
  },
  {
   "cell_type": "code",
   "execution_count": 643,
   "id": "81c63c5e-0130-49ce-8527-8c74b1e72867",
   "metadata": {},
   "outputs": [],
   "source": [
    "# There is a slight negative correlation between age and spending score, suggesting that older shoppers spend less than younger shoppers."
   ]
  },
  {
   "cell_type": "markdown",
   "id": "e2236bb4-abb1-4dd3-9415-f5dd2cb063e7",
   "metadata": {},
   "source": [
    "Box Plots"
   ]
  },
  {
   "cell_type": "code",
   "execution_count": 645,
   "id": "973f97b1-c141-4e5f-8a96-3d945242f431",
   "metadata": {},
   "outputs": [
    {
     "data": {
      "image/png": "[encoded data removed]",
      "text/plain": [
       "<Figure size 640x480 with 1 Axes>"
      ]
     },
     "metadata": {},
     "output_type": "display_data"
    }
   ],
   "source": [
    "sns.boxplot(x='Gender', y='Spending Score (1-100)', data=abt)\n",
    "plt.show()"
   ]
  },
  {
   "cell_type": "code",
   "execution_count": 646,
   "id": "620b30ee-0b0e-4ed2-b081-01f5ed7c4d65",
   "metadata": {},
   "outputs": [
    {
     "data": {
      "image/png": "[encoded data removed]",
      "text/plain": [
       "<Figure size 640x480 with 1 Axes>"
      ]
     },
     "metadata": {},
     "output_type": "display_data"
    }
   ],
   "source": [
    "sns.boxplot(x='Gender', y='Annual Income (k$)', data=abt)\n",
    "plt.show()"
   ]
  },
  {
   "cell_type": "code",
   "execution_count": 647,
   "id": "93b3c5fb-6af9-480f-88ae-e245bf71e5fe",
   "metadata": {},
   "outputs": [],
   "source": [
    "# Women make less than men, based on the box plots. The range of spending score is also higher for women, although the median is similar to that of the men."
   ]
  },
  {
   "cell_type": "markdown",
   "id": "de4f5979-0717-4c6e-a498-952252e3b9f9",
   "metadata": {},
   "source": [
    "<br>"
   ]
  },
  {
   "cell_type": "markdown",
   "id": "a35da572-d0f7-475b-9c5f-574ecdad0ec7",
   "metadata": {},
   "source": [
    "## Step 4: Data Preparation"
   ]
  },
  {
   "cell_type": "markdown",
   "id": "46cbcc42-1e58-4b60-a8c4-e34ce8394b58",
   "metadata": {},
   "source": [
    "### Outlier Plan"
   ]
  },
  {
   "cell_type": "code",
   "execution_count": 651,
   "id": "be4f5b35-6e23-4fd2-aae8-0743b239a0e4",
   "metadata": {},
   "outputs": [],
   "source": [
    "pd.set_option('display.max_colwidth', None)"
   ]
  },
  {
   "cell_type": "code",
   "execution_count": 652,
   "id": "66224e93-502d-422b-a42d-d6955b2ddcdf",
   "metadata": {},
   "outputs": [],
   "source": [
    "outliers_df = pd.DataFrame(columns=['Feature', 'Outliers'])\n",
    "\n",
    "for col in abt[continuous_cols].columns:\n",
    "    outliers = []\n",
    "    Q1 = abt[col].quantile(0.25)\n",
    "    Q3 = abt[col].quantile(0.75)\n",
    "    IQR = Q3 - Q1\n",
    "    for value in abt[col].dropna():  # Ignore NaN values\n",
    "        if (value < (Q1 - (1.5 * IQR))) or (value > (Q3 + (1.5 * IQR))):\n",
    "            outliers.append(value)\n",
    "    outliers_df = pd.concat([outliers_df, pd.DataFrame({'Feature': [col], 'Outliers': [sorted(outliers)]})], ignore_index=True)"
   ]
  },
  {
   "cell_type": "code",
   "execution_count": 653,
   "id": "f6bab50a-e066-4782-901e-d75e8a943b18",
   "metadata": {
    "jupyter": {
     "source_hidden": true
    },
    "scrolled": true
   },
   "outputs": [
    {
     "data": {
      "text/html": [
       "<div>\n",
       "<style scoped>\n",
       "    .dataframe tbody tr th:only-of-type {\n",
       "        vertical-align: middle;\n",
       "    }\n",
       "\n",
       "    .dataframe tbody tr th {\n",
       "        vertical-align: top;\n",
       "    }\n",
       "\n",
       "    .dataframe thead th {\n",
       "        text-align: right;\n",
       "    }\n",
       "</style>\n",
       "<table border=\"1\" class=\"dataframe\">\n",
       "  <thead>\n",
       "    <tr style=\"text-align: right;\">\n",
       "      <th></th>\n",
       "      <th>Feature</th>\n",
       "      <th>Outliers</th>\n",
       "    </tr>\n",
       "  </thead>\n",
       "  <tbody>\n",
       "    <tr>\n",
       "      <th>0</th>\n",
       "      <td>Age</td>\n",
       "      <td>[]</td>\n",
       "    </tr>\n",
       "    <tr>\n",
       "      <th>1</th>\n",
       "      <td>Annual Income (k$)</td>\n",
       "      <td>[137, 137]</td>\n",
       "    </tr>\n",
       "    <tr>\n",
       "      <th>2</th>\n",
       "      <td>Spending Score (1-100)</td>\n",
       "      <td>[]</td>\n",
       "    </tr>\n",
       "  </tbody>\n",
       "</table>\n",
       "</div>"
      ],
      "text/plain": [
       "                  Feature    Outliers\n",
       "0                     Age          []\n",
       "1      Annual Income (k$)  [137, 137]\n",
       "2  Spending Score (1-100)          []"
      ]
     },
     "execution_count": 653,
     "metadata": {},
     "output_type": "execute_result"
    }
   ],
   "source": [
    "outliers_df"
   ]
  },
  {
   "cell_type": "markdown",
   "id": "68e2ee05-e06e-43b6-8904-efbf0d28eaa5",
   "metadata": {},
   "source": [
    "Outlier Plan:\n",
    "\n",
    "Annual income has two outliers at $137K. We will drop these.\n"
   ]
  },
  {
   "cell_type": "code",
   "execution_count": 655,
   "id": "c3adef50-b813-4a0a-875b-5d4acf3244dc",
   "metadata": {},
   "outputs": [],
   "source": [
    "abt = abt[abt['Annual Income (k$)']<(Q3 + (1.5 * IQR))]"
   ]
  },
  {
   "cell_type": "code",
   "execution_count": 656,
   "id": "99921546-8eef-462b-8c13-35f169189f81",
   "metadata": {},
   "outputs": [
    {
     "data": {
      "text/plain": [
       "198"
      ]
     },
     "execution_count": 656,
     "metadata": {},
     "output_type": "execute_result"
    }
   ],
   "source": [
    "len(abt['CustomerID'])"
   ]
  },
  {
   "cell_type": "code",
   "execution_count": 657,
   "id": "e69f4d09-a8dd-4f12-94da-75fa19f175a0",
   "metadata": {},
   "outputs": [],
   "source": [
    "# Count confirms two outliers were dropped."
   ]
  },
  {
   "cell_type": "markdown",
   "id": "dbc4c6e4-b254-47ea-b10a-fca62e6dfd82",
   "metadata": {},
   "source": [
    "<br>"
   ]
  },
  {
   "cell_type": "markdown",
   "id": "1e6db814-a1ab-4cf4-89e6-00a40e38357b",
   "metadata": {},
   "source": [
    "### Transformations"
   ]
  },
  {
   "cell_type": "markdown",
   "id": "428143ec-6295-4a2a-8906-1f9ea690431f",
   "metadata": {},
   "source": [
    "Income and age are not normally distributed in our sample, so we will use minmax scaler to scale the data between 0 and 1."
   ]
  },
  {
   "cell_type": "code",
   "execution_count": 661,
   "id": "ad4e0b59-6f6d-4dc5-8db6-b49023d7e7a8",
   "metadata": {},
   "outputs": [],
   "source": [
    "# Initialize the scaler\n",
    "agescaler = MinMaxScaler()\n",
    "\n",
    "# Scale the features\n",
    "abt['Age_Scaled'] = agescaler.fit_transform(abt[['Age']])"
   ]
  },
  {
   "cell_type": "code",
   "execution_count": 662,
   "id": "5b1f73da-a9e2-4971-bb8b-ea3617df9e79",
   "metadata": {},
   "outputs": [],
   "source": [
    "# Initialize the scaler\n",
    "mmscaler = MinMaxScaler()\n",
    "\n",
    "# Scale the features\n",
    "abt['Income_Scaled'] = mmscaler.fit_transform(abt[['Annual Income (k$)']])"
   ]
  },
  {
   "cell_type": "code",
   "execution_count": 663,
   "id": "7a543c82-a3f1-497f-acfb-f758558d5e5b",
   "metadata": {},
   "outputs": [],
   "source": [
    "scaler = StandardScaler()\n",
    "abt['Spend_Score_Scaled'] = scaler.fit_transform(abt[['Spending Score (1-100)']])"
   ]
  },
  {
   "cell_type": "code",
   "execution_count": 664,
   "id": "de5bdb6a-a633-4c99-88f8-541149eca44c",
   "metadata": {},
   "outputs": [
    {
     "data": {
      "text/html": [
       "<div>\n",
       "<style scoped>\n",
       "    .dataframe tbody tr th:only-of-type {\n",
       "        vertical-align: middle;\n",
       "    }\n",
       "\n",
       "    .dataframe tbody tr th {\n",
       "        vertical-align: top;\n",
       "    }\n",
       "\n",
       "    .dataframe thead th {\n",
       "        text-align: right;\n",
       "    }\n",
       "</style>\n",
       "<table border=\"1\" class=\"dataframe\">\n",
       "  <thead>\n",
       "    <tr style=\"text-align: right;\">\n",
       "      <th></th>\n",
       "      <th>CustomerID</th>\n",
       "      <th>Gender</th>\n",
       "      <th>Age</th>\n",
       "      <th>Annual Income (k$)</th>\n",
       "      <th>Spending Score (1-100)</th>\n",
       "      <th>Age_Scaled</th>\n",
       "      <th>Income_Scaled</th>\n",
       "      <th>Spend_Score_Scaled</th>\n",
       "    </tr>\n",
       "  </thead>\n",
       "  <tbody>\n",
       "    <tr>\n",
       "      <th>0</th>\n",
       "      <td>1</td>\n",
       "      <td>Male</td>\n",
       "      <td>19</td>\n",
       "      <td>15</td>\n",
       "      <td>39</td>\n",
       "      <td>0.019231</td>\n",
       "      <td>0.000000</td>\n",
       "      <td>-0.435989</td>\n",
       "    </tr>\n",
       "    <tr>\n",
       "      <th>1</th>\n",
       "      <td>2</td>\n",
       "      <td>Male</td>\n",
       "      <td>21</td>\n",
       "      <td>15</td>\n",
       "      <td>81</td>\n",
       "      <td>0.057692</td>\n",
       "      <td>0.000000</td>\n",
       "      <td>1.199413</td>\n",
       "    </tr>\n",
       "    <tr>\n",
       "      <th>2</th>\n",
       "      <td>3</td>\n",
       "      <td>Female</td>\n",
       "      <td>20</td>\n",
       "      <td>16</td>\n",
       "      <td>6</td>\n",
       "      <td>0.038462</td>\n",
       "      <td>0.009009</td>\n",
       "      <td>-1.720949</td>\n",
       "    </tr>\n",
       "    <tr>\n",
       "      <th>3</th>\n",
       "      <td>4</td>\n",
       "      <td>Female</td>\n",
       "      <td>23</td>\n",
       "      <td>16</td>\n",
       "      <td>77</td>\n",
       "      <td>0.096154</td>\n",
       "      <td>0.009009</td>\n",
       "      <td>1.043661</td>\n",
       "    </tr>\n",
       "    <tr>\n",
       "      <th>4</th>\n",
       "      <td>5</td>\n",
       "      <td>Female</td>\n",
       "      <td>31</td>\n",
       "      <td>17</td>\n",
       "      <td>40</td>\n",
       "      <td>0.250000</td>\n",
       "      <td>0.018018</td>\n",
       "      <td>-0.397051</td>\n",
       "    </tr>\n",
       "  </tbody>\n",
       "</table>\n",
       "</div>"
      ],
      "text/plain": [
       "   CustomerID  Gender  Age  Annual Income (k$)  Spending Score (1-100)  Age_Scaled  Income_Scaled  Spend_Score_Scaled\n",
       "0           1    Male   19                  15                      39    0.019231       0.000000           -0.435989\n",
       "1           2    Male   21                  15                      81    0.057692       0.000000            1.199413\n",
       "2           3  Female   20                  16                       6    0.038462       0.009009           -1.720949\n",
       "3           4  Female   23                  16                      77    0.096154       0.009009            1.043661\n",
       "4           5  Female   31                  17                      40    0.250000       0.018018           -0.397051"
      ]
     },
     "execution_count": 664,
     "metadata": {},
     "output_type": "execute_result"
    }
   ],
   "source": [
    "abt.head()"
   ]
  },
  {
   "cell_type": "markdown",
   "id": "b9799736-435f-4340-9815-d98ab40f1621",
   "metadata": {},
   "source": [
    "### Encoding"
   ]
  },
  {
   "cell_type": "markdown",
   "id": "4b183aca-7451-40bb-b2eb-223f209b88c6",
   "metadata": {},
   "source": [
    "Now we need to encode gender."
   ]
  },
  {
   "cell_type": "code",
   "execution_count": 667,
   "id": "de5934b2-2566-412f-abf5-03f7e85c1253",
   "metadata": {},
   "outputs": [],
   "source": [
    "# One-Hot Encoding for gender\n",
    "abt_encoded = pd.get_dummies(abt, columns=['Gender'])"
   ]
  },
  {
   "cell_type": "code",
   "execution_count": 668,
   "id": "fd6ef356-2b40-40d2-871f-4fb2882cfd35",
   "metadata": {},
   "outputs": [
    {
     "data": {
      "text/html": [
       "<div>\n",
       "<style scoped>\n",
       "    .dataframe tbody tr th:only-of-type {\n",
       "        vertical-align: middle;\n",
       "    }\n",
       "\n",
       "    .dataframe tbody tr th {\n",
       "        vertical-align: top;\n",
       "    }\n",
       "\n",
       "    .dataframe thead th {\n",
       "        text-align: right;\n",
       "    }\n",
       "</style>\n",
       "<table border=\"1\" class=\"dataframe\">\n",
       "  <thead>\n",
       "    <tr style=\"text-align: right;\">\n",
       "      <th></th>\n",
       "      <th>CustomerID</th>\n",
       "      <th>Age</th>\n",
       "      <th>Annual Income (k$)</th>\n",
       "      <th>Spending Score (1-100)</th>\n",
       "      <th>Age_Scaled</th>\n",
       "      <th>Income_Scaled</th>\n",
       "      <th>Spend_Score_Scaled</th>\n",
       "      <th>Gender_Female</th>\n",
       "      <th>Gender_Male</th>\n",
       "    </tr>\n",
       "  </thead>\n",
       "  <tbody>\n",
       "    <tr>\n",
       "      <th>0</th>\n",
       "      <td>1</td>\n",
       "      <td>19</td>\n",
       "      <td>15</td>\n",
       "      <td>39</td>\n",
       "      <td>0.019231</td>\n",
       "      <td>0.000000</td>\n",
       "      <td>-0.435989</td>\n",
       "      <td>0</td>\n",
       "      <td>1</td>\n",
       "    </tr>\n",
       "    <tr>\n",
       "      <th>1</th>\n",
       "      <td>2</td>\n",
       "      <td>21</td>\n",
       "      <td>15</td>\n",
       "      <td>81</td>\n",
       "      <td>0.057692</td>\n",
       "      <td>0.000000</td>\n",
       "      <td>1.199413</td>\n",
       "      <td>0</td>\n",
       "      <td>1</td>\n",
       "    </tr>\n",
       "    <tr>\n",
       "      <th>2</th>\n",
       "      <td>3</td>\n",
       "      <td>20</td>\n",
       "      <td>16</td>\n",
       "      <td>6</td>\n",
       "      <td>0.038462</td>\n",
       "      <td>0.009009</td>\n",
       "      <td>-1.720949</td>\n",
       "      <td>1</td>\n",
       "      <td>0</td>\n",
       "    </tr>\n",
       "    <tr>\n",
       "      <th>3</th>\n",
       "      <td>4</td>\n",
       "      <td>23</td>\n",
       "      <td>16</td>\n",
       "      <td>77</td>\n",
       "      <td>0.096154</td>\n",
       "      <td>0.009009</td>\n",
       "      <td>1.043661</td>\n",
       "      <td>1</td>\n",
       "      <td>0</td>\n",
       "    </tr>\n",
       "    <tr>\n",
       "      <th>4</th>\n",
       "      <td>5</td>\n",
       "      <td>31</td>\n",
       "      <td>17</td>\n",
       "      <td>40</td>\n",
       "      <td>0.250000</td>\n",
       "      <td>0.018018</td>\n",
       "      <td>-0.397051</td>\n",
       "      <td>1</td>\n",
       "      <td>0</td>\n",
       "    </tr>\n",
       "  </tbody>\n",
       "</table>\n",
       "</div>"
      ],
      "text/plain": [
       "   CustomerID  Age  Annual Income (k$)  Spending Score (1-100)  Age_Scaled  Income_Scaled  Spend_Score_Scaled  Gender_Female  Gender_Male\n",
       "0           1   19                  15                      39    0.019231       0.000000           -0.435989              0            1\n",
       "1           2   21                  15                      81    0.057692       0.000000            1.199413              0            1\n",
       "2           3   20                  16                       6    0.038462       0.009009           -1.720949              1            0\n",
       "3           4   23                  16                      77    0.096154       0.009009            1.043661              1            0\n",
       "4           5   31                  17                      40    0.250000       0.018018           -0.397051              1            0"
      ]
     },
     "execution_count": 668,
     "metadata": {},
     "output_type": "execute_result"
    }
   ],
   "source": [
    "abt_encoded.head()"
   ]
  },
  {
   "cell_type": "code",
   "execution_count": 669,
   "id": "643482ee-d94b-4ef8-9162-31bfebd4b9b8",
   "metadata": {
    "scrolled": true
   },
   "outputs": [],
   "source": [
    "# We will only use the scaled and encoded variables in the clustering model. Here, we redefine abt_encoded.\n",
    "abt_encoded = abt_encoded[['Age_Scaled', 'Income_Scaled','Spend_Score_Scaled', 'Gender_Female']]"
   ]
  },
  {
   "cell_type": "code",
   "execution_count": 670,
   "id": "13946a98-bf58-409b-942d-e3b587f8a795",
   "metadata": {},
   "outputs": [
    {
     "data": {
      "text/html": [
       "<div>\n",
       "<style scoped>\n",
       "    .dataframe tbody tr th:only-of-type {\n",
       "        vertical-align: middle;\n",
       "    }\n",
       "\n",
       "    .dataframe tbody tr th {\n",
       "        vertical-align: top;\n",
       "    }\n",
       "\n",
       "    .dataframe thead th {\n",
       "        text-align: right;\n",
       "    }\n",
       "</style>\n",
       "<table border=\"1\" class=\"dataframe\">\n",
       "  <thead>\n",
       "    <tr style=\"text-align: right;\">\n",
       "      <th></th>\n",
       "      <th>Age_Scaled</th>\n",
       "      <th>Income_Scaled</th>\n",
       "      <th>Spend_Score_Scaled</th>\n",
       "      <th>Gender_Female</th>\n",
       "    </tr>\n",
       "  </thead>\n",
       "  <tbody>\n",
       "    <tr>\n",
       "      <th>0</th>\n",
       "      <td>0.019231</td>\n",
       "      <td>0.000000</td>\n",
       "      <td>-0.435989</td>\n",
       "      <td>0</td>\n",
       "    </tr>\n",
       "    <tr>\n",
       "      <th>1</th>\n",
       "      <td>0.057692</td>\n",
       "      <td>0.000000</td>\n",
       "      <td>1.199413</td>\n",
       "      <td>0</td>\n",
       "    </tr>\n",
       "    <tr>\n",
       "      <th>2</th>\n",
       "      <td>0.038462</td>\n",
       "      <td>0.009009</td>\n",
       "      <td>-1.720949</td>\n",
       "      <td>1</td>\n",
       "    </tr>\n",
       "    <tr>\n",
       "      <th>3</th>\n",
       "      <td>0.096154</td>\n",
       "      <td>0.009009</td>\n",
       "      <td>1.043661</td>\n",
       "      <td>1</td>\n",
       "    </tr>\n",
       "    <tr>\n",
       "      <th>4</th>\n",
       "      <td>0.250000</td>\n",
       "      <td>0.018018</td>\n",
       "      <td>-0.397051</td>\n",
       "      <td>1</td>\n",
       "    </tr>\n",
       "  </tbody>\n",
       "</table>\n",
       "</div>"
      ],
      "text/plain": [
       "   Age_Scaled  Income_Scaled  Spend_Score_Scaled  Gender_Female\n",
       "0    0.019231       0.000000           -0.435989              0\n",
       "1    0.057692       0.000000            1.199413              0\n",
       "2    0.038462       0.009009           -1.720949              1\n",
       "3    0.096154       0.009009            1.043661              1\n",
       "4    0.250000       0.018018           -0.397051              1"
      ]
     },
     "execution_count": 670,
     "metadata": {},
     "output_type": "execute_result"
    }
   ],
   "source": [
    "abt_encoded.head()"
   ]
  },
  {
   "cell_type": "markdown",
   "id": "2974f42c-51ec-4102-b4b1-941ac3b6a78d",
   "metadata": {},
   "source": [
    "## Modeling"
   ]
  },
  {
   "cell_type": "code",
   "execution_count": 672,
   "id": "6dd0adbb-423c-442b-b64e-c6657e59bc88",
   "metadata": {},
   "outputs": [],
   "source": [
    "# We must assign the number of threads before initializing kmeans because there is a known memory leak problem with kmeans. You may receive a warning on the next step.\n",
    "os.environ[\"OMP_NUM_THREADS\"] = \"1\""
   ]
  },
  {
   "cell_type": "markdown",
   "id": "c5e6058a-d59d-4cd6-9017-07bf7abeff63",
   "metadata": {},
   "source": [
    "Let's start off with three clusters as a baseline model."
   ]
  },
  {
   "cell_type": "code",
   "execution_count": 674,
   "id": "5099a151-1936-4764-bc58-f1556103b59f",
   "metadata": {},
   "outputs": [
    {
     "name": "stderr",
     "output_type": "stream",
     "text": [
      "C:\\Users\\ttesn\\anaconda3\\Lib\\site-packages\\sklearn\\cluster\\_kmeans.py:1419: UserWarning:\n",
      "\n",
      "KMeans is known to have a memory leak on Windows with MKL, when there are less chunks than available threads. You can avoid it by setting the environment variable OMP_NUM_THREADS=1.\n",
      "\n"
     ]
    },
    {
     "data": {
      "text/html": [
       "<style>#sk-container-id-7 {\n",
       "  /* Definition of color scheme common for light and dark mode */\n",
       "  --sklearn-color-text: #000;\n",
       "  --sklearn-color-text-muted: #666;\n",
       "  --sklearn-color-line: gray;\n",
       "  /* Definition of color scheme for unfitted estimators */\n",
       "  --sklearn-color-unfitted-level-0: #fff5e6;\n",
       "  --sklearn-color-unfitted-level-1: #f6e4d2;\n",
       "  --sklearn-color-unfitted-level-2: #ffe0b3;\n",
       "  --sklearn-color-unfitted-level-3: chocolate;\n",
       "  /* Definition of color scheme for fitted estimators */\n",
       "  --sklearn-color-fitted-level-0: #f0f8ff;\n",
       "  --sklearn-color-fitted-level-1: #d4ebff;\n",
       "  --sklearn-color-fitted-level-2: #b3dbfd;\n",
       "  --sklearn-color-fitted-level-3: cornflowerblue;\n",
       "\n",
       "  /* Specific color for light theme */\n",
       "  --sklearn-color-text-on-default-background: var(--sg-text-color, var(--theme-code-foreground, var(--jp-content-font-color1, black)));\n",
       "  --sklearn-color-background: var(--sg-background-color, var(--theme-background, var(--jp-layout-color0, white)));\n",
       "  --sklearn-color-border-box: var(--sg-text-color, var(--theme-code-foreground, var(--jp-content-font-color1, black)));\n",
       "  --sklearn-color-icon: #696969;\n",
       "\n",
       "  @media (prefers-color-scheme: dark) {\n",
       "    /* Redefinition of color scheme for dark theme */\n",
       "    --sklearn-color-text-on-default-background: var(--sg-text-color, var(--theme-code-foreground, var(--jp-content-font-color1, white)));\n",
       "    --sklearn-color-background: var(--sg-background-color, var(--theme-background, var(--jp-layout-color0, #111)));\n",
       "    --sklearn-color-border-box: var(--sg-text-color, var(--theme-code-foreground, var(--jp-content-font-color1, white)));\n",
       "    --sklearn-color-icon: #878787;\n",
       "  }\n",
       "}\n",
       "\n",
       "#sk-container-id-7 {\n",
       "  color: var(--sklearn-color-text);\n",
       "}\n",
       "\n",
       "#sk-container-id-7 pre {\n",
       "  padding: 0;\n",
       "}\n",
       "\n",
       "#sk-container-id-7 input.sk-hidden--visually {\n",
       "  border: 0;\n",
       "  clip: rect(1px 1px 1px 1px);\n",
       "  clip: rect(1px, 1px, 1px, 1px);\n",
       "  height: 1px;\n",
       "  margin: -1px;\n",
       "  overflow: hidden;\n",
       "  padding: 0;\n",
       "  position: absolute;\n",
       "  width: 1px;\n",
       "}\n",
       "\n",
       "#sk-container-id-7 div.sk-dashed-wrapped {\n",
       "  border: 1px dashed var(--sklearn-color-line);\n",
       "  margin: 0 0.4em 0.5em 0.4em;\n",
       "  box-sizing: border-box;\n",
       "  padding-bottom: 0.4em;\n",
       "  background-color: var(--sklearn-color-background);\n",
       "}\n",
       "\n",
       "#sk-container-id-7 div.sk-container {\n",
       "  /* jupyter's `normalize.less` sets `[hidden] { display: none; }`\n",
       "     but bootstrap.min.css set `[hidden] { display: none !important; }`\n",
       "     so we also need the `!important` here to be able to override the\n",
       "     default hidden behavior on the sphinx rendered scikit-learn.org.\n",
       "     See: https://github.com/scikit-learn/scikit-learn/issues/21755 */\n",
       "  display: inline-block !important;\n",
       "  position: relative;\n",
       "}\n",
       "\n",
       "#sk-container-id-7 div.sk-text-repr-fallback {\n",
       "  display: none;\n",
       "}\n",
       "\n",
       "div.sk-parallel-item,\n",
       "div.sk-serial,\n",
       "div.sk-item {\n",
       "  /* draw centered vertical line to link estimators */\n",
       "  background-image: linear-gradient(var(--sklearn-color-text-on-default-background), var(--sklearn-color-text-on-default-background));\n",
       "  background-size: 2px 100%;\n",
       "  background-repeat: no-repeat;\n",
       "  background-position: center center;\n",
       "}\n",
       "\n",
       "/* Parallel-specific style estimator block */\n",
       "\n",
       "#sk-container-id-7 div.sk-parallel-item::after {\n",
       "  content: \"\";\n",
       "  width: 100%;\n",
       "  border-bottom: 2px solid var(--sklearn-color-text-on-default-background);\n",
       "  flex-grow: 1;\n",
       "}\n",
       "\n",
       "#sk-container-id-7 div.sk-parallel {\n",
       "  display: flex;\n",
       "  align-items: stretch;\n",
       "  justify-content: center;\n",
       "  background-color: var(--sklearn-color-background);\n",
       "  position: relative;\n",
       "}\n",
       "\n",
       "#sk-container-id-7 div.sk-parallel-item {\n",
       "  display: flex;\n",
       "  flex-direction: column;\n",
       "}\n",
       "\n",
       "#sk-container-id-7 div.sk-parallel-item:first-child::after {\n",
       "  align-self: flex-end;\n",
       "  width: 50%;\n",
       "}\n",
       "\n",
       "#sk-container-id-7 div.sk-parallel-item:last-child::after {\n",
       "  align-self: flex-start;\n",
       "  width: 50%;\n",
       "}\n",
       "\n",
       "#sk-container-id-7 div.sk-parallel-item:only-child::after {\n",
       "  width: 0;\n",
       "}\n",
       "\n",
       "/* Serial-specific style estimator block */\n",
       "\n",
       "#sk-container-id-7 div.sk-serial {\n",
       "  display: flex;\n",
       "  flex-direction: column;\n",
       "  align-items: center;\n",
       "  background-color: var(--sklearn-color-background);\n",
       "  padding-right: 1em;\n",
       "  padding-left: 1em;\n",
       "}\n",
       "\n",
       "\n",
       "/* Toggleable style: style used for estimator/Pipeline/ColumnTransformer box that is\n",
       "clickable and can be expanded/collapsed.\n",
       "- Pipeline and ColumnTransformer use this feature and define the default style\n",
       "- Estimators will overwrite some part of the style using the `sk-estimator` class\n",
       "*/\n",
       "\n",
       "/* Pipeline and ColumnTransformer style (default) */\n",
       "\n",
       "#sk-container-id-7 div.sk-toggleable {\n",
       "  /* Default theme specific background. It is overwritten whether we have a\n",
       "  specific estimator or a Pipeline/ColumnTransformer */\n",
       "  background-color: var(--sklearn-color-background);\n",
       "}\n",
       "\n",
       "/* Toggleable label */\n",
       "#sk-container-id-7 label.sk-toggleable__label {\n",
       "  cursor: pointer;\n",
       "  display: flex;\n",
       "  width: 100%;\n",
       "  margin-bottom: 0;\n",
       "  padding: 0.5em;\n",
       "  box-sizing: border-box;\n",
       "  text-align: center;\n",
       "  align-items: start;\n",
       "  justify-content: space-between;\n",
       "  gap: 0.5em;\n",
       "}\n",
       "\n",
       "#sk-container-id-7 label.sk-toggleable__label .caption {\n",
       "  font-size: 0.6rem;\n",
       "  font-weight: lighter;\n",
       "  color: var(--sklearn-color-text-muted);\n",
       "}\n",
       "\n",
       "#sk-container-id-7 label.sk-toggleable__label-arrow:before {\n",
       "  /* Arrow on the left of the label */\n",
       "  content: \"▸\";\n",
       "  float: left;\n",
       "  margin-right: 0.25em;\n",
       "  color: var(--sklearn-color-icon);\n",
       "}\n",
       "\n",
       "#sk-container-id-7 label.sk-toggleable__label-arrow:hover:before {\n",
       "  color: var(--sklearn-color-text);\n",
       "}\n",
       "\n",
       "/* Toggleable content - dropdown */\n",
       "\n",
       "#sk-container-id-7 div.sk-toggleable__content {\n",
       "  max-height: 0;\n",
       "  max-width: 0;\n",
       "  overflow: hidden;\n",
       "  text-align: left;\n",
       "  /* unfitted */\n",
       "  background-color: var(--sklearn-color-unfitted-level-0);\n",
       "}\n",
       "\n",
       "#sk-container-id-7 div.sk-toggleable__content.fitted {\n",
       "  /* fitted */\n",
       "  background-color: var(--sklearn-color-fitted-level-0);\n",
       "}\n",
       "\n",
       "#sk-container-id-7 div.sk-toggleable__content pre {\n",
       "  margin: 0.2em;\n",
       "  border-radius: 0.25em;\n",
       "  color: var(--sklearn-color-text);\n",
       "  /* unfitted */\n",
       "  background-color: var(--sklearn-color-unfitted-level-0);\n",
       "}\n",
       "\n",
       "#sk-container-id-7 div.sk-toggleable__content.fitted pre {\n",
       "  /* unfitted */\n",
       "  background-color: var(--sklearn-color-fitted-level-0);\n",
       "}\n",
       "\n",
       "#sk-container-id-7 input.sk-toggleable__control:checked~div.sk-toggleable__content {\n",
       "  /* Expand drop-down */\n",
       "  max-height: 200px;\n",
       "  max-width: 100%;\n",
       "  overflow: auto;\n",
       "}\n",
       "\n",
       "#sk-container-id-7 input.sk-toggleable__control:checked~label.sk-toggleable__label-arrow:before {\n",
       "  content: \"▾\";\n",
       "}\n",
       "\n",
       "/* Pipeline/ColumnTransformer-specific style */\n",
       "\n",
       "#sk-container-id-7 div.sk-label input.sk-toggleable__control:checked~label.sk-toggleable__label {\n",
       "  color: var(--sklearn-color-text);\n",
       "  background-color: var(--sklearn-color-unfitted-level-2);\n",
       "}\n",
       "\n",
       "#sk-container-id-7 div.sk-label.fitted input.sk-toggleable__control:checked~label.sk-toggleable__label {\n",
       "  background-color: var(--sklearn-color-fitted-level-2);\n",
       "}\n",
       "\n",
       "/* Estimator-specific style */\n",
       "\n",
       "/* Colorize estimator box */\n",
       "#sk-container-id-7 div.sk-estimator input.sk-toggleable__control:checked~label.sk-toggleable__label {\n",
       "  /* unfitted */\n",
       "  background-color: var(--sklearn-color-unfitted-level-2);\n",
       "}\n",
       "\n",
       "#sk-container-id-7 div.sk-estimator.fitted input.sk-toggleable__control:checked~label.sk-toggleable__label {\n",
       "  /* fitted */\n",
       "  background-color: var(--sklearn-color-fitted-level-2);\n",
       "}\n",
       "\n",
       "#sk-container-id-7 div.sk-label label.sk-toggleable__label,\n",
       "#sk-container-id-7 div.sk-label label {\n",
       "  /* The background is the default theme color */\n",
       "  color: var(--sklearn-color-text-on-default-background);\n",
       "}\n",
       "\n",
       "/* On hover, darken the color of the background */\n",
       "#sk-container-id-7 div.sk-label:hover label.sk-toggleable__label {\n",
       "  color: var(--sklearn-color-text);\n",
       "  background-color: var(--sklearn-color-unfitted-level-2);\n",
       "}\n",
       "\n",
       "/* Label box, darken color on hover, fitted */\n",
       "#sk-container-id-7 div.sk-label.fitted:hover label.sk-toggleable__label.fitted {\n",
       "  color: var(--sklearn-color-text);\n",
       "  background-color: var(--sklearn-color-fitted-level-2);\n",
       "}\n",
       "\n",
       "/* Estimator label */\n",
       "\n",
       "#sk-container-id-7 div.sk-label label {\n",
       "  font-family: monospace;\n",
       "  font-weight: bold;\n",
       "  display: inline-block;\n",
       "  line-height: 1.2em;\n",
       "}\n",
       "\n",
       "#sk-container-id-7 div.sk-label-container {\n",
       "  text-align: center;\n",
       "}\n",
       "\n",
       "/* Estimator-specific */\n",
       "#sk-container-id-7 div.sk-estimator {\n",
       "  font-family: monospace;\n",
       "  border: 1px dotted var(--sklearn-color-border-box);\n",
       "  border-radius: 0.25em;\n",
       "  box-sizing: border-box;\n",
       "  margin-bottom: 0.5em;\n",
       "  /* unfitted */\n",
       "  background-color: var(--sklearn-color-unfitted-level-0);\n",
       "}\n",
       "\n",
       "#sk-container-id-7 div.sk-estimator.fitted {\n",
       "  /* fitted */\n",
       "  background-color: var(--sklearn-color-fitted-level-0);\n",
       "}\n",
       "\n",
       "/* on hover */\n",
       "#sk-container-id-7 div.sk-estimator:hover {\n",
       "  /* unfitted */\n",
       "  background-color: var(--sklearn-color-unfitted-level-2);\n",
       "}\n",
       "\n",
       "#sk-container-id-7 div.sk-estimator.fitted:hover {\n",
       "  /* fitted */\n",
       "  background-color: var(--sklearn-color-fitted-level-2);\n",
       "}\n",
       "\n",
       "/* Specification for estimator info (e.g. \"i\" and \"?\") */\n",
       "\n",
       "/* Common style for \"i\" and \"?\" */\n",
       "\n",
       ".sk-estimator-doc-link,\n",
       "a:link.sk-estimator-doc-link,\n",
       "a:visited.sk-estimator-doc-link {\n",
       "  float: right;\n",
       "  font-size: smaller;\n",
       "  line-height: 1em;\n",
       "  font-family: monospace;\n",
       "  background-color: var(--sklearn-color-background);\n",
       "  border-radius: 1em;\n",
       "  height: 1em;\n",
       "  width: 1em;\n",
       "  text-decoration: none !important;\n",
       "  margin-left: 0.5em;\n",
       "  text-align: center;\n",
       "  /* unfitted */\n",
       "  border: var(--sklearn-color-unfitted-level-1) 1pt solid;\n",
       "  color: var(--sklearn-color-unfitted-level-1);\n",
       "}\n",
       "\n",
       ".sk-estimator-doc-link.fitted,\n",
       "a:link.sk-estimator-doc-link.fitted,\n",
       "a:visited.sk-estimator-doc-link.fitted {\n",
       "  /* fitted */\n",
       "  border: var(--sklearn-color-fitted-level-1) 1pt solid;\n",
       "  color: var(--sklearn-color-fitted-level-1);\n",
       "}\n",
       "\n",
       "/* On hover */\n",
       "div.sk-estimator:hover .sk-estimator-doc-link:hover,\n",
       ".sk-estimator-doc-link:hover,\n",
       "div.sk-label-container:hover .sk-estimator-doc-link:hover,\n",
       ".sk-estimator-doc-link:hover {\n",
       "  /* unfitted */\n",
       "  background-color: var(--sklearn-color-unfitted-level-3);\n",
       "  color: var(--sklearn-color-background);\n",
       "  text-decoration: none;\n",
       "}\n",
       "\n",
       "div.sk-estimator.fitted:hover .sk-estimator-doc-link.fitted:hover,\n",
       ".sk-estimator-doc-link.fitted:hover,\n",
       "div.sk-label-container:hover .sk-estimator-doc-link.fitted:hover,\n",
       ".sk-estimator-doc-link.fitted:hover {\n",
       "  /* fitted */\n",
       "  background-color: var(--sklearn-color-fitted-level-3);\n",
       "  color: var(--sklearn-color-background);\n",
       "  text-decoration: none;\n",
       "}\n",
       "\n",
       "/* Span, style for the box shown on hovering the info icon */\n",
       ".sk-estimator-doc-link span {\n",
       "  display: none;\n",
       "  z-index: 9999;\n",
       "  position: relative;\n",
       "  font-weight: normal;\n",
       "  right: .2ex;\n",
       "  padding: .5ex;\n",
       "  margin: .5ex;\n",
       "  width: min-content;\n",
       "  min-width: 20ex;\n",
       "  max-width: 50ex;\n",
       "  color: var(--sklearn-color-text);\n",
       "  box-shadow: 2pt 2pt 4pt #999;\n",
       "  /* unfitted */\n",
       "  background: var(--sklearn-color-unfitted-level-0);\n",
       "  border: .5pt solid var(--sklearn-color-unfitted-level-3);\n",
       "}\n",
       "\n",
       ".sk-estimator-doc-link.fitted span {\n",
       "  /* fitted */\n",
       "  background: var(--sklearn-color-fitted-level-0);\n",
       "  border: var(--sklearn-color-fitted-level-3);\n",
       "}\n",
       "\n",
       ".sk-estimator-doc-link:hover span {\n",
       "  display: block;\n",
       "}\n",
       "\n",
       "/* \"?\"-specific style due to the `<a>` HTML tag */\n",
       "\n",
       "#sk-container-id-7 a.estimator_doc_link {\n",
       "  float: right;\n",
       "  font-size: 1rem;\n",
       "  line-height: 1em;\n",
       "  font-family: monospace;\n",
       "  background-color: var(--sklearn-color-background);\n",
       "  border-radius: 1rem;\n",
       "  height: 1rem;\n",
       "  width: 1rem;\n",
       "  text-decoration: none;\n",
       "  /* unfitted */\n",
       "  color: var(--sklearn-color-unfitted-level-1);\n",
       "  border: var(--sklearn-color-unfitted-level-1) 1pt solid;\n",
       "}\n",
       "\n",
       "#sk-container-id-7 a.estimator_doc_link.fitted {\n",
       "  /* fitted */\n",
       "  border: var(--sklearn-color-fitted-level-1) 1pt solid;\n",
       "  color: var(--sklearn-color-fitted-level-1);\n",
       "}\n",
       "\n",
       "/* On hover */\n",
       "#sk-container-id-7 a.estimator_doc_link:hover {\n",
       "  /* unfitted */\n",
       "  background-color: var(--sklearn-color-unfitted-level-3);\n",
       "  color: var(--sklearn-color-background);\n",
       "  text-decoration: none;\n",
       "}\n",
       "\n",
       "#sk-container-id-7 a.estimator_doc_link.fitted:hover {\n",
       "  /* fitted */\n",
       "  background-color: var(--sklearn-color-fitted-level-3);\n",
       "}\n",
       "</style><div id=\"sk-container-id-7\" class=\"sk-top-container\"><div class=\"sk-text-repr-fallback\"><pre>KMeans(n_clusters=3, random_state=300)</pre><b>In a Jupyter environment, please rerun this cell to show the HTML representation or trust the notebook. <br />On GitHub, the HTML representation is unable to render, please try loading this page with nbviewer.org.</b></div><div class=\"sk-container\" hidden><div class=\"sk-item\"><div class=\"sk-estimator fitted sk-toggleable\"><input class=\"sk-toggleable__control sk-hidden--visually\" id=\"sk-estimator-id-7\" type=\"checkbox\" checked><label for=\"sk-estimator-id-7\" class=\"sk-toggleable__label fitted sk-toggleable__label-arrow\"><div><div>KMeans</div></div><div><a class=\"sk-estimator-doc-link fitted\" rel=\"noreferrer\" target=\"_blank\" href=\"https://scikit-learn.org/1.6/modules/generated/sklearn.cluster.KMeans.html\">?<span>Documentation for KMeans</span></a><span class=\"sk-estimator-doc-link fitted\">i<span>Fitted</span></span></div></label><div class=\"sk-toggleable__content fitted\"><pre>KMeans(n_clusters=3, random_state=300)</pre></div> </div></div></div></div>"
      ],
      "text/plain": [
       "KMeans(n_clusters=3, random_state=300)"
      ]
     },
     "execution_count": 674,
     "metadata": {},
     "output_type": "execute_result"
    }
   ],
   "source": [
    "k = 3\n",
    "kmeans = KMeans(init=\"k-means++\", n_clusters=k, random_state=300)\n",
    "kmeans.fit(abt_encoded)"
   ]
  },
  {
   "cell_type": "code",
   "execution_count": 675,
   "id": "8638e448-d58b-4673-b630-db8f9d75dc6c",
   "metadata": {},
   "outputs": [],
   "source": [
    "centroids = kmeans.cluster_centers_\n",
    "centroid_df = pd.DataFrame(centroids, columns=abt_encoded.columns)\n",
    "centroid_df['Cluster'] = centroid_df.index"
   ]
  },
  {
   "cell_type": "code",
   "execution_count": 676,
   "id": "db3794f3-42e4-4973-b4b8-27413f9f94c1",
   "metadata": {},
   "outputs": [
    {
     "data": {
      "text/html": [
       "<div>\n",
       "<style scoped>\n",
       "    .dataframe tbody tr th:only-of-type {\n",
       "        vertical-align: middle;\n",
       "    }\n",
       "\n",
       "    .dataframe tbody tr th {\n",
       "        vertical-align: top;\n",
       "    }\n",
       "\n",
       "    .dataframe thead th {\n",
       "        text-align: right;\n",
       "    }\n",
       "</style>\n",
       "<table border=\"1\" class=\"dataframe\">\n",
       "  <thead>\n",
       "    <tr style=\"text-align: right;\">\n",
       "      <th></th>\n",
       "      <th>Age_Scaled</th>\n",
       "      <th>Income_Scaled</th>\n",
       "      <th>Spend_Score_Scaled</th>\n",
       "      <th>Gender_Female</th>\n",
       "      <th>Cluster</th>\n",
       "    </tr>\n",
       "  </thead>\n",
       "  <tbody>\n",
       "    <tr>\n",
       "      <th>0</th>\n",
       "      <td>0.469028</td>\n",
       "      <td>0.353912</td>\n",
       "      <td>-0.085546</td>\n",
       "      <td>0.589474</td>\n",
       "      <td>0</td>\n",
       "    </tr>\n",
       "    <tr>\n",
       "      <th>1</th>\n",
       "      <td>0.228780</td>\n",
       "      <td>0.437869</td>\n",
       "      <td>1.228953</td>\n",
       "      <td>0.586207</td>\n",
       "      <td>1</td>\n",
       "    </tr>\n",
       "    <tr>\n",
       "      <th>2</th>\n",
       "      <td>0.485897</td>\n",
       "      <td>0.463864</td>\n",
       "      <td>-1.403386</td>\n",
       "      <td>0.488889</td>\n",
       "      <td>2</td>\n",
       "    </tr>\n",
       "  </tbody>\n",
       "</table>\n",
       "</div>"
      ],
      "text/plain": [
       "   Age_Scaled  Income_Scaled  Spend_Score_Scaled  Gender_Female  Cluster\n",
       "0    0.469028       0.353912           -0.085546       0.589474        0\n",
       "1    0.228780       0.437869            1.228953       0.586207        1\n",
       "2    0.485897       0.463864           -1.403386       0.488889        2"
      ]
     },
     "execution_count": 676,
     "metadata": {},
     "output_type": "execute_result"
    }
   ],
   "source": [
    "centroid_df"
   ]
  },
  {
   "cell_type": "markdown",
   "id": "f414533a-dd48-4c4e-8047-71e96637ec03",
   "metadata": {},
   "source": [
    "This model doesn't look very promising, as there is no differentiation between gender for any of the clustes, very little differentiation between income for two of the clusters and very little differentiation in age for two of the three clusters. A different number of clusters may perform better, so to find the optimal number of clusters, we will use the silhouette score and compare it across different values of k."
   ]
  },
  {
   "cell_type": "code",
   "execution_count": 678,
   "id": "e7dedbd4-8fe2-479a-b1d2-1745bad95d4e",
   "metadata": {},
   "outputs": [
    {
     "name": "stderr",
     "output_type": "stream",
     "text": [
      "C:\\Users\\ttesn\\anaconda3\\Lib\\site-packages\\sklearn\\cluster\\_kmeans.py:1419: UserWarning:\n",
      "\n",
      "KMeans is known to have a memory leak on Windows with MKL, when there are less chunks than available threads. You can avoid it by setting the environment variable OMP_NUM_THREADS=1.\n",
      "\n",
      "C:\\Users\\ttesn\\anaconda3\\Lib\\site-packages\\sklearn\\cluster\\_kmeans.py:1419: UserWarning:\n",
      "\n",
      "KMeans is known to have a memory leak on Windows with MKL, when there are less chunks than available threads. You can avoid it by setting the environment variable OMP_NUM_THREADS=1.\n",
      "\n",
      "C:\\Users\\ttesn\\anaconda3\\Lib\\site-packages\\sklearn\\cluster\\_kmeans.py:1419: UserWarning:\n",
      "\n",
      "KMeans is known to have a memory leak on Windows with MKL, when there are less chunks than available threads. You can avoid it by setting the environment variable OMP_NUM_THREADS=1.\n",
      "\n",
      "C:\\Users\\ttesn\\anaconda3\\Lib\\site-packages\\sklearn\\cluster\\_kmeans.py:1419: UserWarning:\n",
      "\n",
      "KMeans is known to have a memory leak on Windows with MKL, when there are less chunks than available threads. You can avoid it by setting the environment variable OMP_NUM_THREADS=1.\n",
      "\n",
      "C:\\Users\\ttesn\\anaconda3\\Lib\\site-packages\\sklearn\\cluster\\_kmeans.py:1419: UserWarning:\n",
      "\n",
      "KMeans is known to have a memory leak on Windows with MKL, when there are less chunks than available threads. You can avoid it by setting the environment variable OMP_NUM_THREADS=1.\n",
      "\n",
      "C:\\Users\\ttesn\\anaconda3\\Lib\\site-packages\\sklearn\\cluster\\_kmeans.py:1419: UserWarning:\n",
      "\n",
      "KMeans is known to have a memory leak on Windows with MKL, when there are less chunks than available threads. You can avoid it by setting the environment variable OMP_NUM_THREADS=1.\n",
      "\n"
     ]
    }
   ],
   "source": [
    "K = range(2, 8)\n",
    "fits = []\n",
    "score = []\n",
    "\n",
    "\n",
    "for k in K:\n",
    "    # train the model for current value of k on training data\n",
    "    model = KMeans(n_clusters = k, random_state = 300, init='k-means++').fit(abt_encoded)\n",
    "    \n",
    "    # append the model to fits\n",
    "    fits.append(model)\n",
    "    \n",
    "    # Append the silhouette score to scores\n",
    "    score.append(silhouette_score(abt_encoded, model.labels_, metric='euclidean'))"
   ]
  },
  {
   "cell_type": "code",
   "execution_count": 679,
   "id": "c4d5156c-c395-4766-8641-002edbf832df",
   "metadata": {},
   "outputs": [
    {
     "data": {
      "image/png": "[encoded data removed]",
      "text/plain": [
       "<Figure size 640x480 with 1 Axes>"
      ]
     },
     "metadata": {},
     "output_type": "display_data"
    }
   ],
   "source": [
    "sns.lineplot(x = K, y = score)\n",
    "plt.title('Silhoutte Score Graph')\n",
    "plt.xlabel('number of clusters (k)')\n",
    "plt.ylabel('silhouette score')\n",
    "plt.show()"
   ]
  },
  {
   "cell_type": "markdown",
   "id": "3c29572c-ec7f-4297-bef5-a5ddacc1551d",
   "metadata": {},
   "source": [
    "The sillhouette score peaks at 6, indicating there are 6 clusters when our model is optimized."
   ]
  },
  {
   "cell_type": "code",
   "execution_count": 681,
   "id": "af979834-096a-4bc6-a75b-414245719436",
   "metadata": {},
   "outputs": [
    {
     "name": "stderr",
     "output_type": "stream",
     "text": [
      "C:\\Users\\ttesn\\anaconda3\\Lib\\site-packages\\sklearn\\cluster\\_kmeans.py:1419: UserWarning:\n",
      "\n",
      "KMeans is known to have a memory leak on Windows with MKL, when there are less chunks than available threads. You can avoid it by setting the environment variable OMP_NUM_THREADS=1.\n",
      "\n"
     ]
    },
    {
     "data": {
      "text/html": [
       "<style>#sk-container-id-8 {\n",
       "  /* Definition of color scheme common for light and dark mode */\n",
       "  --sklearn-color-text: #000;\n",
       "  --sklearn-color-text-muted: #666;\n",
       "  --sklearn-color-line: gray;\n",
       "  /* Definition of color scheme for unfitted estimators */\n",
       "  --sklearn-color-unfitted-level-0: #fff5e6;\n",
       "  --sklearn-color-unfitted-level-1: #f6e4d2;\n",
       "  --sklearn-color-unfitted-level-2: #ffe0b3;\n",
       "  --sklearn-color-unfitted-level-3: chocolate;\n",
       "  /* Definition of color scheme for fitted estimators */\n",
       "  --sklearn-color-fitted-level-0: #f0f8ff;\n",
       "  --sklearn-color-fitted-level-1: #d4ebff;\n",
       "  --sklearn-color-fitted-level-2: #b3dbfd;\n",
       "  --sklearn-color-fitted-level-3: cornflowerblue;\n",
       "\n",
       "  /* Specific color for light theme */\n",
       "  --sklearn-color-text-on-default-background: var(--sg-text-color, var(--theme-code-foreground, var(--jp-content-font-color1, black)));\n",
       "  --sklearn-color-background: var(--sg-background-color, var(--theme-background, var(--jp-layout-color0, white)));\n",
       "  --sklearn-color-border-box: var(--sg-text-color, var(--theme-code-foreground, var(--jp-content-font-color1, black)));\n",
       "  --sklearn-color-icon: #696969;\n",
       "\n",
       "  @media (prefers-color-scheme: dark) {\n",
       "    /* Redefinition of color scheme for dark theme */\n",
       "    --sklearn-color-text-on-default-background: var(--sg-text-color, var(--theme-code-foreground, var(--jp-content-font-color1, white)));\n",
       "    --sklearn-color-background: var(--sg-background-color, var(--theme-background, var(--jp-layout-color0, #111)));\n",
       "    --sklearn-color-border-box: var(--sg-text-color, var(--theme-code-foreground, var(--jp-content-font-color1, white)));\n",
       "    --sklearn-color-icon: #878787;\n",
       "  }\n",
       "}\n",
       "\n",
       "#sk-container-id-8 {\n",
       "  color: var(--sklearn-color-text);\n",
       "}\n",
       "\n",
       "#sk-container-id-8 pre {\n",
       "  padding: 0;\n",
       "}\n",
       "\n",
       "#sk-container-id-8 input.sk-hidden--visually {\n",
       "  border: 0;\n",
       "  clip: rect(1px 1px 1px 1px);\n",
       "  clip: rect(1px, 1px, 1px, 1px);\n",
       "  height: 1px;\n",
       "  margin: -1px;\n",
       "  overflow: hidden;\n",
       "  padding: 0;\n",
       "  position: absolute;\n",
       "  width: 1px;\n",
       "}\n",
       "\n",
       "#sk-container-id-8 div.sk-dashed-wrapped {\n",
       "  border: 1px dashed var(--sklearn-color-line);\n",
       "  margin: 0 0.4em 0.5em 0.4em;\n",
       "  box-sizing: border-box;\n",
       "  padding-bottom: 0.4em;\n",
       "  background-color: var(--sklearn-color-background);\n",
       "}\n",
       "\n",
       "#sk-container-id-8 div.sk-container {\n",
       "  /* jupyter's `normalize.less` sets `[hidden] { display: none; }`\n",
       "     but bootstrap.min.css set `[hidden] { display: none !important; }`\n",
       "     so we also need the `!important` here to be able to override the\n",
       "     default hidden behavior on the sphinx rendered scikit-learn.org.\n",
       "     See: https://github.com/scikit-learn/scikit-learn/issues/21755 */\n",
       "  display: inline-block !important;\n",
       "  position: relative;\n",
       "}\n",
       "\n",
       "#sk-container-id-8 div.sk-text-repr-fallback {\n",
       "  display: none;\n",
       "}\n",
       "\n",
       "div.sk-parallel-item,\n",
       "div.sk-serial,\n",
       "div.sk-item {\n",
       "  /* draw centered vertical line to link estimators */\n",
       "  background-image: linear-gradient(var(--sklearn-color-text-on-default-background), var(--sklearn-color-text-on-default-background));\n",
       "  background-size: 2px 100%;\n",
       "  background-repeat: no-repeat;\n",
       "  background-position: center center;\n",
       "}\n",
       "\n",
       "/* Parallel-specific style estimator block */\n",
       "\n",
       "#sk-container-id-8 div.sk-parallel-item::after {\n",
       "  content: \"\";\n",
       "  width: 100%;\n",
       "  border-bottom: 2px solid var(--sklearn-color-text-on-default-background);\n",
       "  flex-grow: 1;\n",
       "}\n",
       "\n",
       "#sk-container-id-8 div.sk-parallel {\n",
       "  display: flex;\n",
       "  align-items: stretch;\n",
       "  justify-content: center;\n",
       "  background-color: var(--sklearn-color-background);\n",
       "  position: relative;\n",
       "}\n",
       "\n",
       "#sk-container-id-8 div.sk-parallel-item {\n",
       "  display: flex;\n",
       "  flex-direction: column;\n",
       "}\n",
       "\n",
       "#sk-container-id-8 div.sk-parallel-item:first-child::after {\n",
       "  align-self: flex-end;\n",
       "  width: 50%;\n",
       "}\n",
       "\n",
       "#sk-container-id-8 div.sk-parallel-item:last-child::after {\n",
       "  align-self: flex-start;\n",
       "  width: 50%;\n",
       "}\n",
       "\n",
       "#sk-container-id-8 div.sk-parallel-item:only-child::after {\n",
       "  width: 0;\n",
       "}\n",
       "\n",
       "/* Serial-specific style estimator block */\n",
       "\n",
       "#sk-container-id-8 div.sk-serial {\n",
       "  display: flex;\n",
       "  flex-direction: column;\n",
       "  align-items: center;\n",
       "  background-color: var(--sklearn-color-background);\n",
       "  padding-right: 1em;\n",
       "  padding-left: 1em;\n",
       "}\n",
       "\n",
       "\n",
       "/* Toggleable style: style used for estimator/Pipeline/ColumnTransformer box that is\n",
       "clickable and can be expanded/collapsed.\n",
       "- Pipeline and ColumnTransformer use this feature and define the default style\n",
       "- Estimators will overwrite some part of the style using the `sk-estimator` class\n",
       "*/\n",
       "\n",
       "/* Pipeline and ColumnTransformer style (default) */\n",
       "\n",
       "#sk-container-id-8 div.sk-toggleable {\n",
       "  /* Default theme specific background. It is overwritten whether we have a\n",
       "  specific estimator or a Pipeline/ColumnTransformer */\n",
       "  background-color: var(--sklearn-color-background);\n",
       "}\n",
       "\n",
       "/* Toggleable label */\n",
       "#sk-container-id-8 label.sk-toggleable__label {\n",
       "  cursor: pointer;\n",
       "  display: flex;\n",
       "  width: 100%;\n",
       "  margin-bottom: 0;\n",
       "  padding: 0.5em;\n",
       "  box-sizing: border-box;\n",
       "  text-align: center;\n",
       "  align-items: start;\n",
       "  justify-content: space-between;\n",
       "  gap: 0.5em;\n",
       "}\n",
       "\n",
       "#sk-container-id-8 label.sk-toggleable__label .caption {\n",
       "  font-size: 0.6rem;\n",
       "  font-weight: lighter;\n",
       "  color: var(--sklearn-color-text-muted);\n",
       "}\n",
       "\n",
       "#sk-container-id-8 label.sk-toggleable__label-arrow:before {\n",
       "  /* Arrow on the left of the label */\n",
       "  content: \"▸\";\n",
       "  float: left;\n",
       "  margin-right: 0.25em;\n",
       "  color: var(--sklearn-color-icon);\n",
       "}\n",
       "\n",
       "#sk-container-id-8 label.sk-toggleable__label-arrow:hover:before {\n",
       "  color: var(--sklearn-color-text);\n",
       "}\n",
       "\n",
       "/* Toggleable content - dropdown */\n",
       "\n",
       "#sk-container-id-8 div.sk-toggleable__content {\n",
       "  max-height: 0;\n",
       "  max-width: 0;\n",
       "  overflow: hidden;\n",
       "  text-align: left;\n",
       "  /* unfitted */\n",
       "  background-color: var(--sklearn-color-unfitted-level-0);\n",
       "}\n",
       "\n",
       "#sk-container-id-8 div.sk-toggleable__content.fitted {\n",
       "  /* fitted */\n",
       "  background-color: var(--sklearn-color-fitted-level-0);\n",
       "}\n",
       "\n",
       "#sk-container-id-8 div.sk-toggleable__content pre {\n",
       "  margin: 0.2em;\n",
       "  border-radius: 0.25em;\n",
       "  color: var(--sklearn-color-text);\n",
       "  /* unfitted */\n",
       "  background-color: var(--sklearn-color-unfitted-level-0);\n",
       "}\n",
       "\n",
       "#sk-container-id-8 div.sk-toggleable__content.fitted pre {\n",
       "  /* unfitted */\n",
       "  background-color: var(--sklearn-color-fitted-level-0);\n",
       "}\n",
       "\n",
       "#sk-container-id-8 input.sk-toggleable__control:checked~div.sk-toggleable__content {\n",
       "  /* Expand drop-down */\n",
       "  max-height: 200px;\n",
       "  max-width: 100%;\n",
       "  overflow: auto;\n",
       "}\n",
       "\n",
       "#sk-container-id-8 input.sk-toggleable__control:checked~label.sk-toggleable__label-arrow:before {\n",
       "  content: \"▾\";\n",
       "}\n",
       "\n",
       "/* Pipeline/ColumnTransformer-specific style */\n",
       "\n",
       "#sk-container-id-8 div.sk-label input.sk-toggleable__control:checked~label.sk-toggleable__label {\n",
       "  color: var(--sklearn-color-text);\n",
       "  background-color: var(--sklearn-color-unfitted-level-2);\n",
       "}\n",
       "\n",
       "#sk-container-id-8 div.sk-label.fitted input.sk-toggleable__control:checked~label.sk-toggleable__label {\n",
       "  background-color: var(--sklearn-color-fitted-level-2);\n",
       "}\n",
       "\n",
       "/* Estimator-specific style */\n",
       "\n",
       "/* Colorize estimator box */\n",
       "#sk-container-id-8 div.sk-estimator input.sk-toggleable__control:checked~label.sk-toggleable__label {\n",
       "  /* unfitted */\n",
       "  background-color: var(--sklearn-color-unfitted-level-2);\n",
       "}\n",
       "\n",
       "#sk-container-id-8 div.sk-estimator.fitted input.sk-toggleable__control:checked~label.sk-toggleable__label {\n",
       "  /* fitted */\n",
       "  background-color: var(--sklearn-color-fitted-level-2);\n",
       "}\n",
       "\n",
       "#sk-container-id-8 div.sk-label label.sk-toggleable__label,\n",
       "#sk-container-id-8 div.sk-label label {\n",
       "  /* The background is the default theme color */\n",
       "  color: var(--sklearn-color-text-on-default-background);\n",
       "}\n",
       "\n",
       "/* On hover, darken the color of the background */\n",
       "#sk-container-id-8 div.sk-label:hover label.sk-toggleable__label {\n",
       "  color: var(--sklearn-color-text);\n",
       "  background-color: var(--sklearn-color-unfitted-level-2);\n",
       "}\n",
       "\n",
       "/* Label box, darken color on hover, fitted */\n",
       "#sk-container-id-8 div.sk-label.fitted:hover label.sk-toggleable__label.fitted {\n",
       "  color: var(--sklearn-color-text);\n",
       "  background-color: var(--sklearn-color-fitted-level-2);\n",
       "}\n",
       "\n",
       "/* Estimator label */\n",
       "\n",
       "#sk-container-id-8 div.sk-label label {\n",
       "  font-family: monospace;\n",
       "  font-weight: bold;\n",
       "  display: inline-block;\n",
       "  line-height: 1.2em;\n",
       "}\n",
       "\n",
       "#sk-container-id-8 div.sk-label-container {\n",
       "  text-align: center;\n",
       "}\n",
       "\n",
       "/* Estimator-specific */\n",
       "#sk-container-id-8 div.sk-estimator {\n",
       "  font-family: monospace;\n",
       "  border: 1px dotted var(--sklearn-color-border-box);\n",
       "  border-radius: 0.25em;\n",
       "  box-sizing: border-box;\n",
       "  margin-bottom: 0.5em;\n",
       "  /* unfitted */\n",
       "  background-color: var(--sklearn-color-unfitted-level-0);\n",
       "}\n",
       "\n",
       "#sk-container-id-8 div.sk-estimator.fitted {\n",
       "  /* fitted */\n",
       "  background-color: var(--sklearn-color-fitted-level-0);\n",
       "}\n",
       "\n",
       "/* on hover */\n",
       "#sk-container-id-8 div.sk-estimator:hover {\n",
       "  /* unfitted */\n",
       "  background-color: var(--sklearn-color-unfitted-level-2);\n",
       "}\n",
       "\n",
       "#sk-container-id-8 div.sk-estimator.fitted:hover {\n",
       "  /* fitted */\n",
       "  background-color: var(--sklearn-color-fitted-level-2);\n",
       "}\n",
       "\n",
       "/* Specification for estimator info (e.g. \"i\" and \"?\") */\n",
       "\n",
       "/* Common style for \"i\" and \"?\" */\n",
       "\n",
       ".sk-estimator-doc-link,\n",
       "a:link.sk-estimator-doc-link,\n",
       "a:visited.sk-estimator-doc-link {\n",
       "  float: right;\n",
       "  font-size: smaller;\n",
       "  line-height: 1em;\n",
       "  font-family: monospace;\n",
       "  background-color: var(--sklearn-color-background);\n",
       "  border-radius: 1em;\n",
       "  height: 1em;\n",
       "  width: 1em;\n",
       "  text-decoration: none !important;\n",
       "  margin-left: 0.5em;\n",
       "  text-align: center;\n",
       "  /* unfitted */\n",
       "  border: var(--sklearn-color-unfitted-level-1) 1pt solid;\n",
       "  color: var(--sklearn-color-unfitted-level-1);\n",
       "}\n",
       "\n",
       ".sk-estimator-doc-link.fitted,\n",
       "a:link.sk-estimator-doc-link.fitted,\n",
       "a:visited.sk-estimator-doc-link.fitted {\n",
       "  /* fitted */\n",
       "  border: var(--sklearn-color-fitted-level-1) 1pt solid;\n",
       "  color: var(--sklearn-color-fitted-level-1);\n",
       "}\n",
       "\n",
       "/* On hover */\n",
       "div.sk-estimator:hover .sk-estimator-doc-link:hover,\n",
       ".sk-estimator-doc-link:hover,\n",
       "div.sk-label-container:hover .sk-estimator-doc-link:hover,\n",
       ".sk-estimator-doc-link:hover {\n",
       "  /* unfitted */\n",
       "  background-color: var(--sklearn-color-unfitted-level-3);\n",
       "  color: var(--sklearn-color-background);\n",
       "  text-decoration: none;\n",
       "}\n",
       "\n",
       "div.sk-estimator.fitted:hover .sk-estimator-doc-link.fitted:hover,\n",
       ".sk-estimator-doc-link.fitted:hover,\n",
       "div.sk-label-container:hover .sk-estimator-doc-link.fitted:hover,\n",
       ".sk-estimator-doc-link.fitted:hover {\n",
       "  /* fitted */\n",
       "  background-color: var(--sklearn-color-fitted-level-3);\n",
       "  color: var(--sklearn-color-background);\n",
       "  text-decoration: none;\n",
       "}\n",
       "\n",
       "/* Span, style for the box shown on hovering the info icon */\n",
       ".sk-estimator-doc-link span {\n",
       "  display: none;\n",
       "  z-index: 9999;\n",
       "  position: relative;\n",
       "  font-weight: normal;\n",
       "  right: .2ex;\n",
       "  padding: .5ex;\n",
       "  margin: .5ex;\n",
       "  width: min-content;\n",
       "  min-width: 20ex;\n",
       "  max-width: 50ex;\n",
       "  color: var(--sklearn-color-text);\n",
       "  box-shadow: 2pt 2pt 4pt #999;\n",
       "  /* unfitted */\n",
       "  background: var(--sklearn-color-unfitted-level-0);\n",
       "  border: .5pt solid var(--sklearn-color-unfitted-level-3);\n",
       "}\n",
       "\n",
       ".sk-estimator-doc-link.fitted span {\n",
       "  /* fitted */\n",
       "  background: var(--sklearn-color-fitted-level-0);\n",
       "  border: var(--sklearn-color-fitted-level-3);\n",
       "}\n",
       "\n",
       ".sk-estimator-doc-link:hover span {\n",
       "  display: block;\n",
       "}\n",
       "\n",
       "/* \"?\"-specific style due to the `<a>` HTML tag */\n",
       "\n",
       "#sk-container-id-8 a.estimator_doc_link {\n",
       "  float: right;\n",
       "  font-size: 1rem;\n",
       "  line-height: 1em;\n",
       "  font-family: monospace;\n",
       "  background-color: var(--sklearn-color-background);\n",
       "  border-radius: 1rem;\n",
       "  height: 1rem;\n",
       "  width: 1rem;\n",
       "  text-decoration: none;\n",
       "  /* unfitted */\n",
       "  color: var(--sklearn-color-unfitted-level-1);\n",
       "  border: var(--sklearn-color-unfitted-level-1) 1pt solid;\n",
       "}\n",
       "\n",
       "#sk-container-id-8 a.estimator_doc_link.fitted {\n",
       "  /* fitted */\n",
       "  border: var(--sklearn-color-fitted-level-1) 1pt solid;\n",
       "  color: var(--sklearn-color-fitted-level-1);\n",
       "}\n",
       "\n",
       "/* On hover */\n",
       "#sk-container-id-8 a.estimator_doc_link:hover {\n",
       "  /* unfitted */\n",
       "  background-color: var(--sklearn-color-unfitted-level-3);\n",
       "  color: var(--sklearn-color-background);\n",
       "  text-decoration: none;\n",
       "}\n",
       "\n",
       "#sk-container-id-8 a.estimator_doc_link.fitted:hover {\n",
       "  /* fitted */\n",
       "  background-color: var(--sklearn-color-fitted-level-3);\n",
       "}\n",
       "</style><div id=\"sk-container-id-8\" class=\"sk-top-container\"><div class=\"sk-text-repr-fallback\"><pre>KMeans(n_clusters=5, random_state=300)</pre><b>In a Jupyter environment, please rerun this cell to show the HTML representation or trust the notebook. <br />On GitHub, the HTML representation is unable to render, please try loading this page with nbviewer.org.</b></div><div class=\"sk-container\" hidden><div class=\"sk-item\"><div class=\"sk-estimator fitted sk-toggleable\"><input class=\"sk-toggleable__control sk-hidden--visually\" id=\"sk-estimator-id-8\" type=\"checkbox\" checked><label for=\"sk-estimator-id-8\" class=\"sk-toggleable__label fitted sk-toggleable__label-arrow\"><div><div>KMeans</div></div><div><a class=\"sk-estimator-doc-link fitted\" rel=\"noreferrer\" target=\"_blank\" href=\"https://scikit-learn.org/1.6/modules/generated/sklearn.cluster.KMeans.html\">?<span>Documentation for KMeans</span></a><span class=\"sk-estimator-doc-link fitted\">i<span>Fitted</span></span></div></label><div class=\"sk-toggleable__content fitted\"><pre>KMeans(n_clusters=5, random_state=300)</pre></div> </div></div></div></div>"
      ],
      "text/plain": [
       "KMeans(n_clusters=5, random_state=300)"
      ]
     },
     "execution_count": 681,
     "metadata": {},
     "output_type": "execute_result"
    }
   ],
   "source": [
    "k = 5\n",
    "kmeans = KMeans(init=\"k-means++\", n_clusters=k, random_state=300)\n",
    "kmeans.fit(abt_encoded)"
   ]
  },
  {
   "cell_type": "code",
   "execution_count": 682,
   "id": "6419175f-d944-4cd2-9a38-2039ed475aa4",
   "metadata": {},
   "outputs": [],
   "source": [
    "centroids = kmeans.cluster_centers_\n",
    "centroid_df = pd.DataFrame(centroids, columns=abt_encoded.columns)\n",
    "centroid_df['Cluster'] = centroid_df.index"
   ]
  },
  {
   "cell_type": "code",
   "execution_count": 683,
   "id": "2868055c-3620-48a5-8c17-b578ce11c089",
   "metadata": {},
   "outputs": [
    {
     "data": {
      "text/html": [
       "<div>\n",
       "<style scoped>\n",
       "    .dataframe tbody tr th:only-of-type {\n",
       "        vertical-align: middle;\n",
       "    }\n",
       "\n",
       "    .dataframe tbody tr th {\n",
       "        vertical-align: top;\n",
       "    }\n",
       "\n",
       "    .dataframe thead th {\n",
       "        text-align: right;\n",
       "    }\n",
       "</style>\n",
       "<table border=\"1\" class=\"dataframe\">\n",
       "  <thead>\n",
       "    <tr style=\"text-align: right;\">\n",
       "      <th></th>\n",
       "      <th>Age_Scaled</th>\n",
       "      <th>Income_Scaled</th>\n",
       "      <th>Spend_Score_Scaled</th>\n",
       "      <th>Gender_Female</th>\n",
       "      <th>Cluster</th>\n",
       "    </tr>\n",
       "  </thead>\n",
       "  <tbody>\n",
       "    <tr>\n",
       "      <th>0</th>\n",
       "      <td>0.442623</td>\n",
       "      <td>0.370551</td>\n",
       "      <td>-0.187041</td>\n",
       "      <td>1.000000e+00</td>\n",
       "      <td>0</td>\n",
       "    </tr>\n",
       "    <tr>\n",
       "      <th>1</th>\n",
       "      <td>0.223416</td>\n",
       "      <td>0.432167</td>\n",
       "      <td>1.208575</td>\n",
       "      <td>1.000000e+00</td>\n",
       "      <td>1</td>\n",
       "    </tr>\n",
       "    <tr>\n",
       "      <th>2</th>\n",
       "      <td>0.495069</td>\n",
       "      <td>0.467775</td>\n",
       "      <td>-1.485323</td>\n",
       "      <td>4.358974e-01</td>\n",
       "      <td>2</td>\n",
       "    </tr>\n",
       "    <tr>\n",
       "      <th>3</th>\n",
       "      <td>0.502885</td>\n",
       "      <td>0.341216</td>\n",
       "      <td>-0.048555</td>\n",
       "      <td>4.440892e-16</td>\n",
       "      <td>3</td>\n",
       "    </tr>\n",
       "    <tr>\n",
       "      <th>4</th>\n",
       "      <td>0.236378</td>\n",
       "      <td>0.445946</td>\n",
       "      <td>1.257821</td>\n",
       "      <td>0.000000e+00</td>\n",
       "      <td>4</td>\n",
       "    </tr>\n",
       "  </tbody>\n",
       "</table>\n",
       "</div>"
      ],
      "text/plain": [
       "   Age_Scaled  Income_Scaled  Spend_Score_Scaled  Gender_Female  Cluster\n",
       "0    0.442623       0.370551           -0.187041   1.000000e+00        0\n",
       "1    0.223416       0.432167            1.208575   1.000000e+00        1\n",
       "2    0.495069       0.467775           -1.485323   4.358974e-01        2\n",
       "3    0.502885       0.341216           -0.048555   4.440892e-16        3\n",
       "4    0.236378       0.445946            1.257821   0.000000e+00        4"
      ]
     },
     "execution_count": 683,
     "metadata": {},
     "output_type": "execute_result"
    }
   ],
   "source": [
    "centroid_df"
   ]
  },
  {
   "cell_type": "code",
   "execution_count": 684,
   "id": "6172a4c4-ed26-4218-905e-494b2af59014",
   "metadata": {},
   "outputs": [],
   "source": [
    "# The cluster centroids are very hard to interpret due to scaling, so we reverse the scaling in the next few steps for better interpretability."
   ]
  },
  {
   "cell_type": "code",
   "execution_count": 685,
   "id": "4e949c06-078e-4aa1-8efa-8ca07d03e9e6",
   "metadata": {},
   "outputs": [],
   "source": [
    "clusters_df = pd.DataFrame(centroid_df[['Cluster', 'Gender_Female']])"
   ]
  },
  {
   "cell_type": "code",
   "execution_count": 686,
   "id": "f4031b1c-1271-428a-b252-2b999f15278a",
   "metadata": {},
   "outputs": [],
   "source": [
    "clusters_df['Spend_Scrore'] = scaler.inverse_transform(centroid_df[['Spend_Score_Scaled']])"
   ]
  },
  {
   "cell_type": "code",
   "execution_count": 687,
   "id": "154d606d-3ff2-4f3b-88ee-ac3a7e58d7cf",
   "metadata": {},
   "outputs": [],
   "source": [
    "clusters_df['Annual Income ($K)'] = mmscaler.inverse_transform(centroid_df[['Income_Scaled']])"
   ]
  },
  {
   "cell_type": "code",
   "execution_count": 688,
   "id": "8d709d12-62d6-4d31-98cb-36625f669d11",
   "metadata": {},
   "outputs": [],
   "source": [
    "clusters_df['Age'] = agescaler.inverse_transform(centroid_df[['Age_Scaled']])"
   ]
  },
  {
   "cell_type": "code",
   "execution_count": 689,
   "id": "df8fb0c1-0008-489c-bccd-d1bc18955b17",
   "metadata": {},
   "outputs": [
    {
     "data": {
      "text/html": [
       "<div>\n",
       "<style scoped>\n",
       "    .dataframe tbody tr th:only-of-type {\n",
       "        vertical-align: middle;\n",
       "    }\n",
       "\n",
       "    .dataframe tbody tr th {\n",
       "        vertical-align: top;\n",
       "    }\n",
       "\n",
       "    .dataframe thead th {\n",
       "        text-align: right;\n",
       "    }\n",
       "</style>\n",
       "<table border=\"1\" class=\"dataframe\">\n",
       "  <thead>\n",
       "    <tr style=\"text-align: right;\">\n",
       "      <th></th>\n",
       "      <th>Cluster</th>\n",
       "      <th>Gender_Female</th>\n",
       "      <th>Spend_Scrore</th>\n",
       "      <th>Annual Income ($K)</th>\n",
       "      <th>Age</th>\n",
       "    </tr>\n",
       "  </thead>\n",
       "  <tbody>\n",
       "    <tr>\n",
       "      <th>0</th>\n",
       "      <td>0</td>\n",
       "      <td>1.000000e+00</td>\n",
       "      <td>45.393443</td>\n",
       "      <td>56.131148</td>\n",
       "      <td>41.016393</td>\n",
       "    </tr>\n",
       "    <tr>\n",
       "      <th>1</th>\n",
       "      <td>1</td>\n",
       "      <td>1.000000e+00</td>\n",
       "      <td>81.235294</td>\n",
       "      <td>62.970588</td>\n",
       "      <td>29.617647</td>\n",
       "    </tr>\n",
       "    <tr>\n",
       "      <th>2</th>\n",
       "      <td>2</td>\n",
       "      <td>4.358974e-01</td>\n",
       "      <td>12.051282</td>\n",
       "      <td>66.923077</td>\n",
       "      <td>43.743590</td>\n",
       "    </tr>\n",
       "    <tr>\n",
       "      <th>3</th>\n",
       "      <td>3</td>\n",
       "      <td>4.440892e-16</td>\n",
       "      <td>48.950000</td>\n",
       "      <td>52.875000</td>\n",
       "      <td>44.150000</td>\n",
       "    </tr>\n",
       "    <tr>\n",
       "      <th>4</th>\n",
       "      <td>4</td>\n",
       "      <td>0.000000e+00</td>\n",
       "      <td>82.500000</td>\n",
       "      <td>64.500000</td>\n",
       "      <td>30.291667</td>\n",
       "    </tr>\n",
       "  </tbody>\n",
       "</table>\n",
       "</div>"
      ],
      "text/plain": [
       "   Cluster  Gender_Female  Spend_Scrore  Annual Income ($K)        Age\n",
       "0        0   1.000000e+00     45.393443           56.131148  41.016393\n",
       "1        1   1.000000e+00     81.235294           62.970588  29.617647\n",
       "2        2   4.358974e-01     12.051282           66.923077  43.743590\n",
       "3        3   4.440892e-16     48.950000           52.875000  44.150000\n",
       "4        4   0.000000e+00     82.500000           64.500000  30.291667"
      ]
     },
     "execution_count": 689,
     "metadata": {},
     "output_type": "execute_result"
    }
   ],
   "source": [
    "clusters_df"
   ]
  },
  {
   "cell_type": "markdown",
   "id": "0477c358-652e-4499-9b77-28fab8ee9b36",
   "metadata": {},
   "source": [
    "Initial Interpretation of Clustering Results:<br>\n",
    "&emsp;Cluster 0 (Moderate Women)<br>\n",
    "&emsp;Cluster 1 (Extravagent Young Women)<br>\n",
    "&emsp;Cluster 2 (Frugal Folks)<br>\n",
    "&emsp;Cluster 3 (Moderate Men)<br>\n",
    "&emsp;Cluster 4 (Extravagent Young Men)<br>"
   ]
  },
  {
   "cell_type": "markdown",
   "id": "b1eee568-1457-4ba3-b885-b1c5eb87c9be",
   "metadata": {},
   "source": [
    "The centroids describe the center of the cluster, and while that's helpful, in this case, it may be that one or more of our clusters is actually comprised of an even spread of ages, so the center is somewhere around 40, but that doesn't mean the majority of the cluster is comprised of middle-aged people.<br> To understand the clusters better, we need to assign the clusters back to the customer dataframe and examine the makeup using descriptive analytics."
   ]
  },
  {
   "cell_type": "markdown",
   "id": "206afcd9-67e8-47cd-8469-fb906afb7e1d",
   "metadata": {},
   "source": [
    "### Cluster Analysis"
   ]
  },
  {
   "cell_type": "code",
   "execution_count": 693,
   "id": "7cb6efd9-2ae7-46af-b0c1-6c1a26d8c6c9",
   "metadata": {},
   "outputs": [],
   "source": [
    "customer_clusters = kmeans.predict(abt_encoded)"
   ]
  },
  {
   "cell_type": "code",
   "execution_count": 694,
   "id": "6ac3acaf-3742-4417-b753-a8585850a782",
   "metadata": {},
   "outputs": [],
   "source": [
    "abt['Cluster'] = customer_clusters"
   ]
  },
  {
   "cell_type": "code",
   "execution_count": 695,
   "id": "3875e2ee-3a9a-40ea-97af-b295ba15a51c",
   "metadata": {},
   "outputs": [
    {
     "data": {
      "text/html": [
       "<div>\n",
       "<style scoped>\n",
       "    .dataframe tbody tr th:only-of-type {\n",
       "        vertical-align: middle;\n",
       "    }\n",
       "\n",
       "    .dataframe tbody tr th {\n",
       "        vertical-align: top;\n",
       "    }\n",
       "\n",
       "    .dataframe thead th {\n",
       "        text-align: right;\n",
       "    }\n",
       "</style>\n",
       "<table border=\"1\" class=\"dataframe\">\n",
       "  <thead>\n",
       "    <tr style=\"text-align: right;\">\n",
       "      <th></th>\n",
       "      <th>CustomerID</th>\n",
       "      <th>Gender</th>\n",
       "      <th>Age</th>\n",
       "      <th>Annual Income (k$)</th>\n",
       "      <th>Spending Score (1-100)</th>\n",
       "      <th>Age_Scaled</th>\n",
       "      <th>Income_Scaled</th>\n",
       "      <th>Spend_Score_Scaled</th>\n",
       "      <th>Cluster</th>\n",
       "    </tr>\n",
       "  </thead>\n",
       "  <tbody>\n",
       "    <tr>\n",
       "      <th>0</th>\n",
       "      <td>1</td>\n",
       "      <td>Male</td>\n",
       "      <td>19</td>\n",
       "      <td>15</td>\n",
       "      <td>39</td>\n",
       "      <td>0.019231</td>\n",
       "      <td>0.000000</td>\n",
       "      <td>-0.435989</td>\n",
       "      <td>3</td>\n",
       "    </tr>\n",
       "    <tr>\n",
       "      <th>1</th>\n",
       "      <td>2</td>\n",
       "      <td>Male</td>\n",
       "      <td>21</td>\n",
       "      <td>15</td>\n",
       "      <td>81</td>\n",
       "      <td>0.057692</td>\n",
       "      <td>0.000000</td>\n",
       "      <td>1.199413</td>\n",
       "      <td>4</td>\n",
       "    </tr>\n",
       "    <tr>\n",
       "      <th>2</th>\n",
       "      <td>3</td>\n",
       "      <td>Female</td>\n",
       "      <td>20</td>\n",
       "      <td>16</td>\n",
       "      <td>6</td>\n",
       "      <td>0.038462</td>\n",
       "      <td>0.009009</td>\n",
       "      <td>-1.720949</td>\n",
       "      <td>2</td>\n",
       "    </tr>\n",
       "    <tr>\n",
       "      <th>3</th>\n",
       "      <td>4</td>\n",
       "      <td>Female</td>\n",
       "      <td>23</td>\n",
       "      <td>16</td>\n",
       "      <td>77</td>\n",
       "      <td>0.096154</td>\n",
       "      <td>0.009009</td>\n",
       "      <td>1.043661</td>\n",
       "      <td>1</td>\n",
       "    </tr>\n",
       "    <tr>\n",
       "      <th>4</th>\n",
       "      <td>5</td>\n",
       "      <td>Female</td>\n",
       "      <td>31</td>\n",
       "      <td>17</td>\n",
       "      <td>40</td>\n",
       "      <td>0.250000</td>\n",
       "      <td>0.018018</td>\n",
       "      <td>-0.397051</td>\n",
       "      <td>0</td>\n",
       "    </tr>\n",
       "  </tbody>\n",
       "</table>\n",
       "</div>"
      ],
      "text/plain": [
       "   CustomerID  Gender  Age  Annual Income (k$)  Spending Score (1-100)  Age_Scaled  Income_Scaled  Spend_Score_Scaled  Cluster\n",
       "0           1    Male   19                  15                      39    0.019231       0.000000           -0.435989        3\n",
       "1           2    Male   21                  15                      81    0.057692       0.000000            1.199413        4\n",
       "2           3  Female   20                  16                       6    0.038462       0.009009           -1.720949        2\n",
       "3           4  Female   23                  16                      77    0.096154       0.009009            1.043661        1\n",
       "4           5  Female   31                  17                      40    0.250000       0.018018           -0.397051        0"
      ]
     },
     "execution_count": 695,
     "metadata": {},
     "output_type": "execute_result"
    }
   ],
   "source": [
    "abt.head()"
   ]
  },
  {
   "cell_type": "markdown",
   "id": "b31ddc57-447f-4b33-9bcf-ecd901c5b2b5",
   "metadata": {},
   "source": [
    "##### Scatterplot"
   ]
  },
  {
   "cell_type": "markdown",
   "id": "915b4556-c32c-476a-a981-c5bca8d0876e",
   "metadata": {},
   "source": [
    "To help understand the clusters, we can visualize them in a dimensional space. While we can't directly visualize more than three dimensions, here, we will use a 3D scatter plot and vary the marker shape by the forth dimension, creating a pseudo 4-D space."
   ]
  },
  {
   "cell_type": "code",
   "execution_count": 698,
   "id": "f7fbc81b-08a7-4a1f-a1fd-e753f3c6fafb",
   "metadata": {},
   "outputs": [
    {
     "data": {
      "application/vnd.plotly.v1+json": {
       "config": {
        "plotlyServerURL": "https://plot.ly"
       },
       "data": [
        {
         "hovertemplate": "Cluster=3<br>Gender=Male<br>Age_Scaled=%{x}<br>Income_Scaled=%{y}<br>Spend_Score_Scaled=%{z}<extra></extra>",
         "legendgroup": "3, Male",
         "marker": {
          "color": "rgb(127, 60, 141)",
          "opacity": 0.7,
          "size": 5,
          "symbol": "circle"
         },
         "mode": "markers",
         "name": "3, Male",
         "scene": "scene",
         "showlegend": true,
         "type": "scatter3d",
         "x": [
          0.019230769230769273,
          0.6538461538461539,
          0.326923076923077,
          0.326923076923077,
          0.576923076923077,
          0.28846153846153855,
          0.7884615384615384,
          0.5576923076923077,
          0.980769230769231,
          0.6730769230769232,
          1,
          0.019230769230769273,
          0.8653846153846155,
          0,
          0.019230769230769273,
          1,
          0.7884615384615384,
          0.15384615384615385,
          0.42307692307692313,
          0.7500000000000001,
          0.3846153846153847,
          0.9423076923076924,
          0.576923076923077,
          0,
          0.576923076923077,
          0.11538461538461542,
          0.576923076923077,
          0.03846153846153849,
          0.9423076923076924,
          0.15384615384615385,
          0.5961538461538463,
          0.6923076923076924,
          0.9615384615384616,
          0.9230769230769232,
          0.9038461538461539,
          0.019230769230769273,
          0.17307692307692313,
          0.48076923076923084,
          0.576923076923077,
          0.2692307692307693
         ],
         "y": [
          0,
          0.07207207207207206,
          0.08108108108108109,
          0.11711711711711709,
          0.21621621621621623,
          0.24324324324324326,
          0.25225225225225223,
          0.25225225225225223,
          0.26126126126126126,
          0.27927927927927926,
          0.27927927927927926,
          0.27927927927927926,
          0.2972972972972973,
          0.2972972972972973,
          0.2972972972972973,
          0.3063063063063063,
          0.3513513513513513,
          0.3513513513513513,
          0.3513513513513513,
          0.3513513513513513,
          0.3513513513513513,
          0.3513513513513513,
          0.3513513513513513,
          0.3963963963963964,
          0.40540540540540543,
          0.40540540540540543,
          0.41441441441441446,
          0.41441441441441446,
          0.4234234234234234,
          0.4234234234234234,
          0.4234234234234234,
          0.4324324324324324,
          0.4324324324324324,
          0.4324324324324324,
          0.4324324324324324,
          0.44144144144144143,
          0.4684684684684684,
          0.5045045045045045,
          0.5585585585585586,
          0.6486486486486487
         ],
         "z": [
          -0.43598941461357726,
          -0.8253710298300333,
          -0.5917420607001597,
          0.4206501388626261,
          -0.552803899178514,
          0.38171197734098045,
          0.38171197734098045,
          -0.35811309157028604,
          -0.16342228396205802,
          -0.16342228396205802,
          0.22595933125439804,
          0.18702116973275243,
          0.03126852364617001,
          0.34277381581933486,
          0.34277381581933486,
          0.18702116973275243,
          -0.1244841224404124,
          0.14808300821110684,
          -0.0855459609187668,
          0.03126852364617001,
          0.18702116973275243,
          -0.35811309157028604,
          -0.16342228396205802,
          -0.35811309157028604,
          -0.046607799397121195,
          0.07020668516781563,
          -0.31917493004864045,
          -0.046607799397121195,
          0.34277381581933486,
          0.18702116973275243,
          0.22595933125439804,
          -0.16342228396205802,
          -0.28023676852699486,
          -0.0855459609187668,
          0.07020668516781563,
          -0.16342228396205802,
          0.22595933125439804,
          -0.5917420607001597,
          -0.552803899178514,
          0.4985264619059173
         ]
        },
        {
         "hovertemplate": "Cluster=4<br>Gender=Male<br>Age_Scaled=%{x}<br>Income_Scaled=%{y}<br>Spend_Score_Scaled=%{z}<extra></extra>",
         "legendgroup": "4, Male",
         "marker": {
          "color": "rgb(17, 165, 121)",
          "opacity": 0.7,
          "size": 5,
          "symbol": "circle"
         },
         "mode": "markers",
         "name": "4, Male",
         "scene": "scene",
         "showlegend": true,
         "type": "scatter3d",
         "x": [
          0.05769230769230771,
          0.07692307692307698,
          0.03846153846153849,
          0.13461538461538464,
          0.25,
          0.21153846153846156,
          0,
          0.11538461538461542,
          0.40384615384615385,
          0.42307692307692313,
          0.3846153846153847,
          0.40384615384615385,
          0.2692307692307693,
          0.2692307692307693,
          0.1923076923076924,
          0.3076923076923077,
          0.40384615384615385,
          0.1923076923076924,
          0.34615384615384615,
          0.17307692307692313,
          0.326923076923077,
          0.23076923076923084,
          0.1923076923076924,
          0.2692307692307693
         ],
         "y": [
          0,
          0.04504504504504503,
          0.05405405405405406,
          0.08108108108108109,
          0.09009009009009009,
          0.11711711711711709,
          0.16216216216216217,
          0.2072072072072072,
          0.48648648648648646,
          0.5045045045045045,
          0.5045045045045045,
          0.5045045045045045,
          0.5225225225225225,
          0.5405405405405406,
          0.5585585585585586,
          0.5675675675675675,
          0.5675675675675675,
          0.6486486486486487,
          0.6486486486486487,
          0.6576576576576576,
          0.7027027027027026,
          0.7567567567567568,
          0.7747747747747749,
          1
         ],
         "z": [
          1.1994133692955382,
          1.121537046252247,
          0.6153409464708541,
          0.8879080771223734,
          0.8879080771223734,
          1.2383515308171837,
          1.62773314603364,
          1.62773314603364,
          1.5887949845119942,
          1.7445476305985768,
          0.9657844001656646,
          0.9657844001656646,
          0.8879080771223734,
          1.6666713075552855,
          1.8224239536418678,
          1.5498568229903487,
          1.4719804999470574,
          0.9657844001656646,
          1.62773314603364,
          0.732155431035791,
          1.5498568229903487,
          1.8224239536418678,
          0.6932172695141453,
          0.9268462386440189
         ]
        },
        {
         "hovertemplate": "Cluster=2<br>Gender=Male<br>Age_Scaled=%{x}<br>Income_Scaled=%{y}<br>Spend_Score_Scaled=%{z}<extra></extra>",
         "legendgroup": "2, Male",
         "marker": {
          "color": "rgb(57, 105, 172)",
          "opacity": 0.7,
          "size": 5,
          "symbol": "circle"
         },
         "mode": "markers",
         "name": "2, Male",
         "scene": "scene",
         "showlegend": true,
         "type": "scatter3d",
         "x": [
          0.8846153846153847,
          0.9423076923076924,
          0.3653846153846154,
          0.8076923076923078,
          0.6730769230769232,
          0.7884615384615384,
          0.5576923076923077,
          0.03846153846153849,
          0.019230769230769273,
          0.13461538461538464,
          0.48076923076923084,
          0.3653846153846154,
          0.3076923076923077,
          0.019230769230769273,
          0.6153846153846154,
          0.46153846153846156,
          0.42307692307692313,
          0.34615384615384615,
          0.7692307692307693,
          0.7884615384615384,
          0.5384615384615385,
          0.28846153846153855
         ],
         "y": [
          0.03603603603603603,
          0.03603603603603603,
          0.04504504504504503,
          0.13513513513513514,
          0.16216216216216217,
          0.5045045045045045,
          0.5045045045045045,
          0.5225225225225225,
          0.5315315315315314,
          0.5585585585585586,
          0.5675675675675675,
          0.5675675675675675,
          0.5675675675675675,
          0.5945945945945945,
          0.6306306306306306,
          0.6396396396396395,
          0.6486486486486487,
          0.6486486486486487,
          0.6576576576576576,
          0.7027027027027026,
          0.7477477477477477,
          0.882882882882883
         ],
         "z": [
          -1.837763229392819,
          -1.4094434526547175,
          -1.448381614176363,
          -1.7988250678711735,
          -1.7988250678711735,
          -1.5262579372196543,
          -1.6041342602629454,
          -1.759886906349528,
          -1.5651960987412998,
          -1.4873197756980086,
          -1.2926289680897807,
          -1.9156395524361103,
          -1.9156395524361103,
          -1.759886906349528,
          -0.9421855143949701,
          -1.1758144835248439,
          -1.448381614176363,
          -1.5651960987412998,
          -1.3705052911330717,
          -1.4094434526547175,
          -1.3705052911330717,
          -1.6430724217845911
         ]
        },
        {
         "hovertemplate": "Cluster=2<br>Gender=Female<br>Age_Scaled=%{x}<br>Income_Scaled=%{y}<br>Spend_Score_Scaled=%{z}<extra></extra>",
         "legendgroup": "2, Female",
         "marker": {
          "color": "rgb(57, 105, 172)",
          "opacity": 0.7,
          "size": 5,
          "symbol": "diamond"
         },
         "mode": "markers",
         "name": "2, Female",
         "scene": "scene",
         "showlegend": true,
         "type": "scatter3d",
         "x": [
          0.03846153846153849,
          0.326923076923077,
          0.7692307692307693,
          0.5384615384615385,
          0.6923076923076924,
          0.5961538461538463,
          0.46153846153846156,
          0.5000000000000001,
          0.7500000000000001,
          0.3076923076923077,
          0.5000000000000001,
          0.5576923076923077,
          0.6538461538461539,
          0.6923076923076924,
          0.4423076923076924,
          0.3076923076923077,
          0.5576923076923077
         ],
         "y": [
          0.009009009009009,
          0.02702702702702703,
          0.04504504504504503,
          0.09009009009009009,
          0.11711711711711709,
          0.16216216216216217,
          0.17117117117117114,
          0.5225225225225225,
          0.5405405405405406,
          0.5675675675675675,
          0.5675675675675675,
          0.5675675675675675,
          0.6576576576576576,
          0.7747747747747749,
          0.7927927927927927,
          0.7927927927927927,
          0.945945945945946
         ],
         "z": [
          -1.7209487448278822,
          -1.7209487448278822,
          -1.3705052911330717,
          -1.759886906349528,
          -1.4094434526547175,
          -1.4094434526547175,
          -1.2926289680897807,
          -1.6820105833062367,
          -1.759886906349528,
          -1.0979381604815526,
          -1.1758144835248439,
          -1.3315671296114262,
          -1.448381614176363,
          -1.0200618374382613,
          -1.2926289680897807,
          -1.058999998959907,
          -1.3315671296114262
         ]
        },
        {
         "hovertemplate": "Cluster=1<br>Gender=Female<br>Age_Scaled=%{x}<br>Income_Scaled=%{y}<br>Spend_Score_Scaled=%{z}<extra></extra>",
         "legendgroup": "1, Female",
         "marker": {
          "color": "rgb(242, 183, 1)",
          "opacity": 0.7,
          "size": 5,
          "symbol": "diamond"
         },
         "mode": "markers",
         "name": "1, Female",
         "scene": "scene",
         "showlegend": true,
         "type": "scatter3d",
         "x": [
          0.0961538461538462,
          0.07692307692307698,
          0.0961538461538462,
          0.23076923076923084,
          0.326923076923077,
          0.11538461538461542,
          0.326923076923077,
          0.0961538461538462,
          0.05769230769230771,
          0.05769230769230771,
          0.23076923076923084,
          0.03846153846153849,
          0.11538461538461542,
          0.25,
          0.25,
          0.21153846153846156,
          0.326923076923077,
          0.2692307692307693,
          0.2692307692307693,
          0.3846153846153847,
          0.17307692307692313,
          0.23076923076923084,
          0.23076923076923084,
          0.21153846153846156,
          0.25,
          0.34615384615384615,
          0.28846153846153855,
          0.23076923076923084,
          0.2692307692307693,
          0.21153846153846156,
          0.34615384615384615,
          0.2692307692307693,
          0.3846153846153847,
          0.326923076923077
         ],
         "y": [
          0.009009009009009,
          0.018018018018018,
          0.02702702702702703,
          0.03603603603603603,
          0.03603603603603603,
          0.04504504504504503,
          0.07207207207207206,
          0.12612612612612611,
          0.13513513513513514,
          0.16216216216216217,
          0.17117117117117114,
          0.19819819819819817,
          0.21621621621621623,
          0.4954954954954955,
          0.5135135135135136,
          0.5225225225225225,
          0.5315315315315314,
          0.5495495495495495,
          0.5585585585585586,
          0.5675675675675675,
          0.5675675675675675,
          0.5675675675675675,
          0.5675675675675675,
          0.5765765765765765,
          0.5945945945945945,
          0.6306306306306306,
          0.6396396396396395,
          0.6576576576576576,
          0.7387387387387387,
          0.7477477477477477,
          0.7927927927927927,
          0.7927927927927927,
          0.882882882882883,
          0.945945945945946
         ],
         "z": [
          1.0436607232089559,
          1.0047225616873101,
          1.705609469076931,
          0.8489699156007278,
          1.900300276685159,
          1.0436607232089559,
          1.8613621151635136,
          1.4330423384254118,
          0.8879080771223734,
          1.1994133692955382,
          0.8879080771223734,
          0.9657844001656646,
          0.5764027849492085,
          1.0436607232089559,
          0.8100317540790821,
          1.4719804999470574,
          0.8489699156007278,
          1.4330423384254118,
          0.9268462386440189,
          1.0047225616873101,
          1.5109186614687031,
          1.0825988847306014,
          0.8879080771223734,
          1.2772896923388295,
          1.6666713075552855,
          0.9657844001656646,
          1.7445476305985768,
          1.3941041769037663,
          1.3941041769037663,
          1.4719804999470574,
          1.3551660153821206,
          0.732155431035791,
          1.5887949845119942,
          1.121537046252247
         ]
        },
        {
         "hovertemplate": "Cluster=0<br>Gender=Female<br>Age_Scaled=%{x}<br>Income_Scaled=%{y}<br>Spend_Score_Scaled=%{z}<extra></extra>",
         "legendgroup": "0, Female",
         "marker": {
          "color": "rgb(231, 63, 116)",
          "opacity": 0.7,
          "size": 5,
          "symbol": "diamond"
         },
         "mode": "markers",
         "name": "0, Female",
         "scene": "scene",
         "showlegend": true,
         "type": "scatter3d",
         "x": [
          0.25,
          0.326923076923077,
          0.5192307692307693,
          0.42307692307692313,
          0.34615384615384615,
          0.9038461538461539,
          0.25,
          0.5961538461538463,
          0.6153846153846154,
          0.17307692307692313,
          0.21153846153846156,
          0.25,
          0.5961538461538463,
          0.25,
          0.6153846153846154,
          0.6346153846153847,
          0.17307692307692313,
          0.9423076923076924,
          0.6923076923076924,
          0.48076923076923084,
          0.9615384615384616,
          0.2692307692307693,
          0.5576923076923077,
          0.8076923076923078,
          0.8076923076923078,
          0.5192307692307693,
          0.0961538461538462,
          0.5961538461538463,
          0.5384615384615385,
          0.05769230769230771,
          0.7115384615384616,
          0.07692307692307698,
          0.3076923076923077,
          0.6153846153846154,
          0.9615384615384616,
          0.42307692307692313,
          0.2692307692307693,
          0.5576923076923077,
          0.17307692307692313,
          0.0961538461538462,
          0.5961538461538463,
          0.05769230769230771,
          0.9230769230769232,
          0.019230769230769273,
          0.3846153846153847,
          0,
          0.019230769230769273,
          0.8653846153846155,
          0.5961538461538463,
          0.6346153846153847,
          0.6153846153846154,
          0.3846153846153847,
          0.42307692307692313,
          0.0961538461538462,
          0.13461538461538464,
          0.1923076923076924,
          0.730769230769231,
          0.34615384615384615,
          0.3653846153846154,
          0.4423076923076924,
          0.5192307692307693
         ],
         "y": [
          0.018018018018018,
          0.05405405405405406,
          0.11711711711711709,
          0.12612612612612611,
          0.19819819819819817,
          0.2072072072072072,
          0.21621621621621623,
          0.21621621621621623,
          0.2252252252252252,
          0.2252252252252252,
          0.2252252252252252,
          0.2252252252252252,
          0.24324324324324326,
          0.25225225225225223,
          0.25225225225225223,
          0.26126126126126126,
          0.27927927927927926,
          0.2882882882882883,
          0.2882882882882883,
          0.2972972972972973,
          0.2972972972972973,
          0.2972972972972973,
          0.3063063063063063,
          0.3153153153153153,
          0.3153153153153153,
          0.3513513513513513,
          0.3513513513513513,
          0.3513513513513513,
          0.3513513513513513,
          0.3513513513513513,
          0.37837837837837834,
          0.37837837837837834,
          0.38738738738738737,
          0.38738738738738737,
          0.3963963963963964,
          0.40540540540540543,
          0.40540540540540543,
          0.40540540540540543,
          0.40540540540540543,
          0.4234234234234234,
          0.4234234234234234,
          0.4234234234234234,
          0.4324324324324324,
          0.4324324324324324,
          0.44144144144144143,
          0.45045045045045046,
          0.45045045045045046,
          0.45045045045045046,
          0.45045045045045046,
          0.4684684684684684,
          0.4684684684684684,
          0.4684684684684684,
          0.48648648648648646,
          0.4954954954954955,
          0.5135135135135136,
          0.5495495495495495,
          0.5765765765765765,
          0.6486486486486487,
          0.7387387387387387,
          0.7567567567567568,
          1
         ],
         "z": [
          -0.3970512530919317,
          -0.5917420607001597,
          -0.7085565452650965,
          -0.7474947067867421,
          -0.9421855143949701,
          -0.5917420607001597,
          0.4206501388626261,
          -0.8643091913516789,
          0.18702116973275243,
          -0.1244841224404124,
          -0.31917493004864045,
          -0.31917493004864045,
          0.07020668516781563,
          0.14808300821110684,
          -0.20236044548370363,
          -0.007669637875475591,
          0.03126852364617001,
          0.07020668516781563,
          0.34277381581933486,
          -0.007669637875475591,
          -0.0855459609187668,
          -0.1244841224404124,
          -0.31917493004864045,
          -0.046607799397121195,
          0.22595933125439804,
          0.10914484668946123,
          0.07020668516781563,
          -0.31917493004864045,
          -0.24129860700534922,
          0.26489749277604363,
          0.3038356542976893,
          0.18702116973275243,
          0.38171197734098045,
          -0.16342228396205802,
          0.18702116973275243,
          -0.3970512530919317,
          -0.31917493004864045,
          -0.1244841224404124,
          -0.007669637875475591,
          -0.35811309157028604,
          -0.0855459609187668,
          -0.31917493004864045,
          -0.007669637875475591,
          0.14808300821110684,
          -0.31917493004864045,
          -0.0855459609187668,
          -0.007669637875475591,
          -0.28023676852699486,
          0.34277381581933486,
          -0.28023676852699486,
          0.26489749277604363,
          -0.3970512530919317,
          0.3038356542976893,
          -0.8253710298300333,
          -0.6306802222218053,
          -0.3970512530919317,
          -0.5917420607001597,
          -0.9032473528733246,
          -0.7085565452650965,
          -0.43598941461357726,
          -0.8643091913516789
         ]
        }
       ],
       "layout": {
        "height": 700,
        "legend": {
         "bgcolor": "rgba(255,255,255,0.6)",
         "bordercolor": "Black",
         "borderwidth": 1,
         "font": {
          "size": 12
         },
         "title": {
          "text": "Cluster, Gender"
         },
         "tracegroupgap": 0,
         "traceorder": "normal",
         "x": 0.8,
         "y": 0.95
        },
        "margin": {
         "t": 60
        },
        "scene": {
         "aspectmode": "auto",
         "aspectratio": {
          "x": 0.6399305258987775,
          "y": 0.6399305258987775,
          "z": 2.441936381647665
         },
         "camera": {
          "center": {
           "x": 0,
           "y": 0,
           "z": 0
          },
          "eye": {
           "x": 1.6298257830879053,
           "y": 2.3407158874908576,
           "z": 2.0624594506651786
          },
          "projection": {
           "type": "perspective"
          },
          "up": {
           "x": 0,
           "y": 0,
           "z": 1
          }
         },
         "domain": {
          "x": [
           0,
           1
          ],
          "y": [
           0,
           1
          ]
         },
         "xaxis": {
          "title": {
           "text": "Age_Scaled"
          },
          "type": "linear"
         },
         "yaxis": {
          "title": {
           "text": "Income_Scaled"
          },
          "type": "linear"
         },
         "zaxis": {
          "title": {
           "text": "Spend_Score_Scaled"
          },
          "type": "linear"
         }
        },
        "template": {
         "data": {
          "bar": [
           {
            "error_x": {
             "color": "#2a3f5f"
            },
            "error_y": {
             "color": "#2a3f5f"
            },
            "marker": {
             "line": {
              "color": "#E5ECF6",
              "width": 0.5
             },
             "pattern": {
              "fillmode": "overlay",
              "size": 10,
              "solidity": 0.2
             }
            },
            "type": "bar"
           }
          ],
          "barpolar": [
           {
            "marker": {
             "line": {
              "color": "#E5ECF6",
              "width": 0.5
             },
             "pattern": {
              "fillmode": "overlay",
              "size": 10,
              "solidity": 0.2
             }
            },
            "type": "barpolar"
           }
          ],
          "carpet": [
           {
            "aaxis": {
             "endlinecolor": "#2a3f5f",
             "gridcolor": "white",
             "linecolor": "white",
             "minorgridcolor": "white",
             "startlinecolor": "#2a3f5f"
            },
            "baxis": {
             "endlinecolor": "#2a3f5f",
             "gridcolor": "white",
             "linecolor": "white",
             "minorgridcolor": "white",
             "startlinecolor": "#2a3f5f"
            },
            "type": "carpet"
           }
          ],
          "choropleth": [
           {
            "colorbar": {
             "outlinewidth": 0,
             "ticks": ""
            },
            "type": "choropleth"
           }
          ],
          "contour": [
           {
            "colorbar": {
             "outlinewidth": 0,
             "ticks": ""
            },
            "colorscale": [
             [
              0,
              "#0d0887"
             ],
             [
              0.1111111111111111,
              "#46039f"
             ],
             [
              0.2222222222222222,
              "#7201a8"
             ],
             [
              0.3333333333333333,
              "#9c179e"
             ],
             [
              0.4444444444444444,
              "#bd3786"
             ],
             [
              0.5555555555555556,
              "#d8576b"
             ],
             [
              0.6666666666666666,
              "#ed7953"
             ],
             [
              0.7777777777777778,
              "#fb9f3a"
             ],
             [
              0.8888888888888888,
              "#fdca26"
             ],
             [
              1,
              "#f0f921"
             ]
            ],
            "type": "contour"
           }
          ],
          "contourcarpet": [
           {
            "colorbar": {
             "outlinewidth": 0,
             "ticks": ""
            },
            "type": "contourcarpet"
           }
          ],
          "heatmap": [
           {
            "colorbar": {
             "outlinewidth": 0,
             "ticks": ""
            },
            "colorscale": [
             [
              0,
              "#0d0887"
             ],
             [
              0.1111111111111111,
              "#46039f"
             ],
             [
              0.2222222222222222,
              "#7201a8"
             ],
             [
              0.3333333333333333,
              "#9c179e"
             ],
             [
              0.4444444444444444,
              "#bd3786"
             ],
             [
              0.5555555555555556,
              "#d8576b"
             ],
             [
              0.6666666666666666,
              "#ed7953"
             ],
             [
              0.7777777777777778,
              "#fb9f3a"
             ],
             [
              0.8888888888888888,
              "#fdca26"
             ],
             [
              1,
              "#f0f921"
             ]
            ],
            "type": "heatmap"
           }
          ],
          "heatmapgl": [
           {
            "colorbar": {
             "outlinewidth": 0,
             "ticks": ""
            },
            "colorscale": [
             [
              0,
              "#0d0887"
             ],
             [
              0.1111111111111111,
              "#46039f"
             ],
             [
              0.2222222222222222,
              "#7201a8"
             ],
             [
              0.3333333333333333,
              "#9c179e"
             ],
             [
              0.4444444444444444,
              "#bd3786"
             ],
             [
              0.5555555555555556,
              "#d8576b"
             ],
             [
              0.6666666666666666,
              "#ed7953"
             ],
             [
              0.7777777777777778,
              "#fb9f3a"
             ],
             [
              0.8888888888888888,
              "#fdca26"
             ],
             [
              1,
              "#f0f921"
             ]
            ],
            "type": "heatmapgl"
           }
          ],
          "histogram": [
           {
            "marker": {
             "pattern": {
              "fillmode": "overlay",
              "size": 10,
              "solidity": 0.2
             }
            },
            "type": "histogram"
           }
          ],
          "histogram2d": [
           {
            "colorbar": {
             "outlinewidth": 0,
             "ticks": ""
            },
            "colorscale": [
             [
              0,
              "#0d0887"
             ],
             [
              0.1111111111111111,
              "#46039f"
             ],
             [
              0.2222222222222222,
              "#7201a8"
             ],
             [
              0.3333333333333333,
              "#9c179e"
             ],
             [
              0.4444444444444444,
              "#bd3786"
             ],
             [
              0.5555555555555556,
              "#d8576b"
             ],
             [
              0.6666666666666666,
              "#ed7953"
             ],
             [
              0.7777777777777778,
              "#fb9f3a"
             ],
             [
              0.8888888888888888,
              "#fdca26"
             ],
             [
              1,
              "#f0f921"
             ]
            ],
            "type": "histogram2d"
           }
          ],
          "histogram2dcontour": [
           {
            "colorbar": {
             "outlinewidth": 0,
             "ticks": ""
            },
            "colorscale": [
             [
              0,
              "#0d0887"
             ],
             [
              0.1111111111111111,
              "#46039f"
             ],
             [
              0.2222222222222222,
              "#7201a8"
             ],
             [
              0.3333333333333333,
              "#9c179e"
             ],
             [
              0.4444444444444444,
              "#bd3786"
             ],
             [
              0.5555555555555556,
              "#d8576b"
             ],
             [
              0.6666666666666666,
              "#ed7953"
             ],
             [
              0.7777777777777778,
              "#fb9f3a"
             ],
             [
              0.8888888888888888,
              "#fdca26"
             ],
             [
              1,
              "#f0f921"
             ]
            ],
            "type": "histogram2dcontour"
           }
          ],
          "mesh3d": [
           {
            "colorbar": {
             "outlinewidth": 0,
             "ticks": ""
            },
            "type": "mesh3d"
           }
          ],
          "parcoords": [
           {
            "line": {
             "colorbar": {
              "outlinewidth": 0,
              "ticks": ""
             }
            },
            "type": "parcoords"
           }
          ],
          "pie": [
           {
            "automargin": true,
            "type": "pie"
           }
          ],
          "scatter": [
           {
            "fillpattern": {
             "fillmode": "overlay",
             "size": 10,
             "solidity": 0.2
            },
            "type": "scatter"
           }
          ],
          "scatter3d": [
           {
            "line": {
             "colorbar": {
              "outlinewidth": 0,
              "ticks": ""
             }
            },
            "marker": {
             "colorbar": {
              "outlinewidth": 0,
              "ticks": ""
             }
            },
            "type": "scatter3d"
           }
          ],
          "scattercarpet": [
           {
            "marker": {
             "colorbar": {
              "outlinewidth": 0,
              "ticks": ""
             }
            },
            "type": "scattercarpet"
           }
          ],
          "scattergeo": [
           {
            "marker": {
             "colorbar": {
              "outlinewidth": 0,
              "ticks": ""
             }
            },
            "type": "scattergeo"
           }
          ],
          "scattergl": [
           {
            "marker": {
             "colorbar": {
              "outlinewidth": 0,
              "ticks": ""
             }
            },
            "type": "scattergl"
           }
          ],
          "scattermapbox": [
           {
            "marker": {
             "colorbar": {
              "outlinewidth": 0,
              "ticks": ""
             }
            },
            "type": "scattermapbox"
           }
          ],
          "scatterpolar": [
           {
            "marker": {
             "colorbar": {
              "outlinewidth": 0,
              "ticks": ""
             }
            },
            "type": "scatterpolar"
           }
          ],
          "scatterpolargl": [
           {
            "marker": {
             "colorbar": {
              "outlinewidth": 0,
              "ticks": ""
             }
            },
            "type": "scatterpolargl"
           }
          ],
          "scatterternary": [
           {
            "marker": {
             "colorbar": {
              "outlinewidth": 0,
              "ticks": ""
             }
            },
            "type": "scatterternary"
           }
          ],
          "surface": [
           {
            "colorbar": {
             "outlinewidth": 0,
             "ticks": ""
            },
            "colorscale": [
             [
              0,
              "#0d0887"
             ],
             [
              0.1111111111111111,
              "#46039f"
             ],
             [
              0.2222222222222222,
              "#7201a8"
             ],
             [
              0.3333333333333333,
              "#9c179e"
             ],
             [
              0.4444444444444444,
              "#bd3786"
             ],
             [
              0.5555555555555556,
              "#d8576b"
             ],
             [
              0.6666666666666666,
              "#ed7953"
             ],
             [
              0.7777777777777778,
              "#fb9f3a"
             ],
             [
              0.8888888888888888,
              "#fdca26"
             ],
             [
              1,
              "#f0f921"
             ]
            ],
            "type": "surface"
           }
          ],
          "table": [
           {
            "cells": {
             "fill": {
              "color": "#EBF0F8"
             },
             "line": {
              "color": "white"
             }
            },
            "header": {
             "fill": {
              "color": "#C8D4E3"
             },
             "line": {
              "color": "white"
             }
            },
            "type": "table"
           }
          ]
         },
         "layout": {
          "annotationdefaults": {
           "arrowcolor": "#2a3f5f",
           "arrowhead": 0,
           "arrowwidth": 1
          },
          "autotypenumbers": "strict",
          "coloraxis": {
           "colorbar": {
            "outlinewidth": 0,
            "ticks": ""
           }
          },
          "colorscale": {
           "diverging": [
            [
             0,
             "#8e0152"
            ],
            [
             0.1,
             "#c51b7d"
            ],
            [
             0.2,
             "#de77ae"
            ],
            [
             0.3,
             "#f1b6da"
            ],
            [
             0.4,
             "#fde0ef"
            ],
            [
             0.5,
             "#f7f7f7"
            ],
            [
             0.6,
             "#e6f5d0"
            ],
            [
             0.7,
             "#b8e186"
            ],
            [
             0.8,
             "#7fbc41"
            ],
            [
             0.9,
             "#4d9221"
            ],
            [
             1,
             "#276419"
            ]
           ],
           "sequential": [
            [
             0,
             "#0d0887"
            ],
            [
             0.1111111111111111,
             "#46039f"
            ],
            [
             0.2222222222222222,
             "#7201a8"
            ],
            [
             0.3333333333333333,
             "#9c179e"
            ],
            [
             0.4444444444444444,
             "#bd3786"
            ],
            [
             0.5555555555555556,
             "#d8576b"
            ],
            [
             0.6666666666666666,
             "#ed7953"
            ],
            [
             0.7777777777777778,
             "#fb9f3a"
            ],
            [
             0.8888888888888888,
             "#fdca26"
            ],
            [
             1,
             "#f0f921"
            ]
           ],
           "sequentialminus": [
            [
             0,
             "#0d0887"
            ],
            [
             0.1111111111111111,
             "#46039f"
            ],
            [
             0.2222222222222222,
             "#7201a8"
            ],
            [
             0.3333333333333333,
             "#9c179e"
            ],
            [
             0.4444444444444444,
             "#bd3786"
            ],
            [
             0.5555555555555556,
             "#d8576b"
            ],
            [
             0.6666666666666666,
             "#ed7953"
            ],
            [
             0.7777777777777778,
             "#fb9f3a"
            ],
            [
             0.8888888888888888,
             "#fdca26"
            ],
            [
             1,
             "#f0f921"
            ]
           ]
          },
          "colorway": [
           "#636efa",
           "#EF553B",
           "#00cc96",
           "#ab63fa",
           "#FFA15A",
           "#19d3f3",
           "#FF6692",
           "#B6E880",
           "#FF97FF",
           "#FECB52"
          ],
          "font": {
           "color": "#2a3f5f"
          },
          "geo": {
           "bgcolor": "white",
           "lakecolor": "white",
           "landcolor": "#E5ECF6",
           "showlakes": true,
           "showland": true,
           "subunitcolor": "white"
          },
          "hoverlabel": {
           "align": "left"
          },
          "hovermode": "closest",
          "mapbox": {
           "style": "light"
          },
          "paper_bgcolor": "white",
          "plot_bgcolor": "#E5ECF6",
          "polar": {
           "angularaxis": {
            "gridcolor": "white",
            "linecolor": "white",
            "ticks": ""
           },
           "bgcolor": "#E5ECF6",
           "radialaxis": {
            "gridcolor": "white",
            "linecolor": "white",
            "ticks": ""
           }
          },
          "scene": {
           "xaxis": {
            "backgroundcolor": "#E5ECF6",
            "gridcolor": "white",
            "gridwidth": 2,
            "linecolor": "white",
            "showbackground": true,
            "ticks": "",
            "zerolinecolor": "white"
           },
           "yaxis": {
            "backgroundcolor": "#E5ECF6",
            "gridcolor": "white",
            "gridwidth": 2,
            "linecolor": "white",
            "showbackground": true,
            "ticks": "",
            "zerolinecolor": "white"
           },
           "zaxis": {
            "backgroundcolor": "#E5ECF6",
            "gridcolor": "white",
            "gridwidth": 2,
            "linecolor": "white",
            "showbackground": true,
            "ticks": "",
            "zerolinecolor": "white"
           }
          },
          "shapedefaults": {
           "line": {
            "color": "#2a3f5f"
           }
          },
          "ternary": {
           "aaxis": {
            "gridcolor": "white",
            "linecolor": "white",
            "ticks": ""
           },
           "baxis": {
            "gridcolor": "white",
            "linecolor": "white",
            "ticks": ""
           },
           "bgcolor": "#E5ECF6",
           "caxis": {
            "gridcolor": "white",
            "linecolor": "white",
            "ticks": ""
           }
          },
          "title": {
           "x": 0.05
          },
          "xaxis": {
           "automargin": true,
           "gridcolor": "white",
           "linecolor": "white",
           "ticks": "",
           "title": {
            "standoff": 15
           },
           "zerolinecolor": "white",
           "zerolinewidth": 2
          },
          "yaxis": {
           "automargin": true,
           "gridcolor": "white",
           "linecolor": "white",
           "ticks": "",
           "title": {
            "standoff": 15
           },
           "zerolinecolor": "white",
           "zerolinewidth": 2
          }
         }
        },
        "width": 800
       }
      },
      "text/html": [
       "<div>                            <div id=\"640847e2-e387-461d-879e-4b1d02238fd4\" class=\"plotly-graph-div\" style=\"height:700px; width:800px;\"></div>            <script type=\"text/javascript\">                require([\"plotly\"], function(Plotly) {                    window.PLOTLYENV=window.PLOTLYENV || {};                                    if (document.getElementById(\"640847e2-e387-461d-879e-4b1d02238fd4\")) {                    Plotly.newPlot(                        \"640847e2-e387-461d-879e-4b1d02238fd4\",                        [{\"hovertemplate\":\"Cluster=3<br>Gender=Male<br>Age_Scaled=%{x}<br>Income_Scaled=%{y}<br>Spend_Score_Scaled=%{z}<extra></extra>\",\"legendgroup\":\"3, Male\",\"marker\":{\"color\":\"rgb(127, 60, 141)\",\"opacity\":0.7,\"symbol\":\"circle\",\"size\":5},\"mode\":\"markers\",\"name\":\"3, Male\",\"scene\":\"scene\",\"showlegend\":true,\"x\":[0.019230769230769273,0.6538461538461539,0.326923076923077,0.326923076923077,0.576923076923077,0.28846153846153855,0.7884615384615384,0.5576923076923077,0.980769230769231,0.6730769230769232,1.0,0.019230769230769273,0.8653846153846155,0.0,0.019230769230769273,1.0,0.7884615384615384,0.15384615384615385,0.42307692307692313,0.7500000000000001,0.3846153846153847,0.9423076923076924,0.576923076923077,0.0,0.576923076923077,0.11538461538461542,0.576923076923077,0.03846153846153849,0.9423076923076924,0.15384615384615385,0.5961538461538463,0.6923076923076924,0.9615384615384616,0.9230769230769232,0.9038461538461539,0.019230769230769273,0.17307692307692313,0.48076923076923084,0.576923076923077,0.2692307692307693],\"y\":[0.0,0.07207207207207206,0.08108108108108109,0.11711711711711709,0.21621621621621623,0.24324324324324326,0.25225225225225223,0.25225225225225223,0.26126126126126126,0.27927927927927926,0.27927927927927926,0.27927927927927926,0.2972972972972973,0.2972972972972973,0.2972972972972973,0.3063063063063063,0.3513513513513513,0.3513513513513513,0.3513513513513513,0.3513513513513513,0.3513513513513513,0.3513513513513513,0.3513513513513513,0.3963963963963964,0.40540540540540543,0.40540540540540543,0.41441441441441446,0.41441441441441446,0.4234234234234234,0.4234234234234234,0.4234234234234234,0.4324324324324324,0.4324324324324324,0.4324324324324324,0.4324324324324324,0.44144144144144143,0.4684684684684684,0.5045045045045045,0.5585585585585586,0.6486486486486487],\"z\":[-0.43598941461357726,-0.8253710298300333,-0.5917420607001597,0.4206501388626261,-0.552803899178514,0.38171197734098045,0.38171197734098045,-0.35811309157028604,-0.16342228396205802,-0.16342228396205802,0.22595933125439804,0.18702116973275243,0.03126852364617001,0.34277381581933486,0.34277381581933486,0.18702116973275243,-0.1244841224404124,0.14808300821110684,-0.0855459609187668,0.03126852364617001,0.18702116973275243,-0.35811309157028604,-0.16342228396205802,-0.35811309157028604,-0.046607799397121195,0.07020668516781563,-0.31917493004864045,-0.046607799397121195,0.34277381581933486,0.18702116973275243,0.22595933125439804,-0.16342228396205802,-0.28023676852699486,-0.0855459609187668,0.07020668516781563,-0.16342228396205802,0.22595933125439804,-0.5917420607001597,-0.552803899178514,0.4985264619059173],\"type\":\"scatter3d\"},{\"hovertemplate\":\"Cluster=4<br>Gender=Male<br>Age_Scaled=%{x}<br>Income_Scaled=%{y}<br>Spend_Score_Scaled=%{z}<extra></extra>\",\"legendgroup\":\"4, Male\",\"marker\":{\"color\":\"rgb(17, 165, 121)\",\"opacity\":0.7,\"symbol\":\"circle\",\"size\":5},\"mode\":\"markers\",\"name\":\"4, Male\",\"scene\":\"scene\",\"showlegend\":true,\"x\":[0.05769230769230771,0.07692307692307698,0.03846153846153849,0.13461538461538464,0.25,0.21153846153846156,0.0,0.11538461538461542,0.40384615384615385,0.42307692307692313,0.3846153846153847,0.40384615384615385,0.2692307692307693,0.2692307692307693,0.1923076923076924,0.3076923076923077,0.40384615384615385,0.1923076923076924,0.34615384615384615,0.17307692307692313,0.326923076923077,0.23076923076923084,0.1923076923076924,0.2692307692307693],\"y\":[0.0,0.04504504504504503,0.05405405405405406,0.08108108108108109,0.09009009009009009,0.11711711711711709,0.16216216216216217,0.2072072072072072,0.48648648648648646,0.5045045045045045,0.5045045045045045,0.5045045045045045,0.5225225225225225,0.5405405405405406,0.5585585585585586,0.5675675675675675,0.5675675675675675,0.6486486486486487,0.6486486486486487,0.6576576576576576,0.7027027027027026,0.7567567567567568,0.7747747747747749,1.0],\"z\":[1.1994133692955382,1.121537046252247,0.6153409464708541,0.8879080771223734,0.8879080771223734,1.2383515308171837,1.62773314603364,1.62773314603364,1.5887949845119942,1.7445476305985768,0.9657844001656646,0.9657844001656646,0.8879080771223734,1.6666713075552855,1.8224239536418678,1.5498568229903487,1.4719804999470574,0.9657844001656646,1.62773314603364,0.732155431035791,1.5498568229903487,1.8224239536418678,0.6932172695141453,0.9268462386440189],\"type\":\"scatter3d\"},{\"hovertemplate\":\"Cluster=2<br>Gender=Male<br>Age_Scaled=%{x}<br>Income_Scaled=%{y}<br>Spend_Score_Scaled=%{z}<extra></extra>\",\"legendgroup\":\"2, Male\",\"marker\":{\"color\":\"rgb(57, 105, 172)\",\"opacity\":0.7,\"symbol\":\"circle\",\"size\":5},\"mode\":\"markers\",\"name\":\"2, Male\",\"scene\":\"scene\",\"showlegend\":true,\"x\":[0.8846153846153847,0.9423076923076924,0.3653846153846154,0.8076923076923078,0.6730769230769232,0.7884615384615384,0.5576923076923077,0.03846153846153849,0.019230769230769273,0.13461538461538464,0.48076923076923084,0.3653846153846154,0.3076923076923077,0.019230769230769273,0.6153846153846154,0.46153846153846156,0.42307692307692313,0.34615384615384615,0.7692307692307693,0.7884615384615384,0.5384615384615385,0.28846153846153855],\"y\":[0.03603603603603603,0.03603603603603603,0.04504504504504503,0.13513513513513514,0.16216216216216217,0.5045045045045045,0.5045045045045045,0.5225225225225225,0.5315315315315314,0.5585585585585586,0.5675675675675675,0.5675675675675675,0.5675675675675675,0.5945945945945945,0.6306306306306306,0.6396396396396395,0.6486486486486487,0.6486486486486487,0.6576576576576576,0.7027027027027026,0.7477477477477477,0.882882882882883],\"z\":[-1.837763229392819,-1.4094434526547175,-1.448381614176363,-1.7988250678711735,-1.7988250678711735,-1.5262579372196543,-1.6041342602629454,-1.759886906349528,-1.5651960987412998,-1.4873197756980086,-1.2926289680897807,-1.9156395524361103,-1.9156395524361103,-1.759886906349528,-0.9421855143949701,-1.1758144835248439,-1.448381614176363,-1.5651960987412998,-1.3705052911330717,-1.4094434526547175,-1.3705052911330717,-1.6430724217845911],\"type\":\"scatter3d\"},{\"hovertemplate\":\"Cluster=2<br>Gender=Female<br>Age_Scaled=%{x}<br>Income_Scaled=%{y}<br>Spend_Score_Scaled=%{z}<extra></extra>\",\"legendgroup\":\"2, Female\",\"marker\":{\"color\":\"rgb(57, 105, 172)\",\"opacity\":0.7,\"symbol\":\"diamond\",\"size\":5},\"mode\":\"markers\",\"name\":\"2, Female\",\"scene\":\"scene\",\"showlegend\":true,\"x\":[0.03846153846153849,0.326923076923077,0.7692307692307693,0.5384615384615385,0.6923076923076924,0.5961538461538463,0.46153846153846156,0.5000000000000001,0.7500000000000001,0.3076923076923077,0.5000000000000001,0.5576923076923077,0.6538461538461539,0.6923076923076924,0.4423076923076924,0.3076923076923077,0.5576923076923077],\"y\":[0.009009009009009,0.02702702702702703,0.04504504504504503,0.09009009009009009,0.11711711711711709,0.16216216216216217,0.17117117117117114,0.5225225225225225,0.5405405405405406,0.5675675675675675,0.5675675675675675,0.5675675675675675,0.6576576576576576,0.7747747747747749,0.7927927927927927,0.7927927927927927,0.945945945945946],\"z\":[-1.7209487448278822,-1.7209487448278822,-1.3705052911330717,-1.759886906349528,-1.4094434526547175,-1.4094434526547175,-1.2926289680897807,-1.6820105833062367,-1.759886906349528,-1.0979381604815526,-1.1758144835248439,-1.3315671296114262,-1.448381614176363,-1.0200618374382613,-1.2926289680897807,-1.058999998959907,-1.3315671296114262],\"type\":\"scatter3d\"},{\"hovertemplate\":\"Cluster=1<br>Gender=Female<br>Age_Scaled=%{x}<br>Income_Scaled=%{y}<br>Spend_Score_Scaled=%{z}<extra></extra>\",\"legendgroup\":\"1, Female\",\"marker\":{\"color\":\"rgb(242, 183, 1)\",\"opacity\":0.7,\"symbol\":\"diamond\",\"size\":5},\"mode\":\"markers\",\"name\":\"1, Female\",\"scene\":\"scene\",\"showlegend\":true,\"x\":[0.0961538461538462,0.07692307692307698,0.0961538461538462,0.23076923076923084,0.326923076923077,0.11538461538461542,0.326923076923077,0.0961538461538462,0.05769230769230771,0.05769230769230771,0.23076923076923084,0.03846153846153849,0.11538461538461542,0.25,0.25,0.21153846153846156,0.326923076923077,0.2692307692307693,0.2692307692307693,0.3846153846153847,0.17307692307692313,0.23076923076923084,0.23076923076923084,0.21153846153846156,0.25,0.34615384615384615,0.28846153846153855,0.23076923076923084,0.2692307692307693,0.21153846153846156,0.34615384615384615,0.2692307692307693,0.3846153846153847,0.326923076923077],\"y\":[0.009009009009009,0.018018018018018,0.02702702702702703,0.03603603603603603,0.03603603603603603,0.04504504504504503,0.07207207207207206,0.12612612612612611,0.13513513513513514,0.16216216216216217,0.17117117117117114,0.19819819819819817,0.21621621621621623,0.4954954954954955,0.5135135135135136,0.5225225225225225,0.5315315315315314,0.5495495495495495,0.5585585585585586,0.5675675675675675,0.5675675675675675,0.5675675675675675,0.5675675675675675,0.5765765765765765,0.5945945945945945,0.6306306306306306,0.6396396396396395,0.6576576576576576,0.7387387387387387,0.7477477477477477,0.7927927927927927,0.7927927927927927,0.882882882882883,0.945945945945946],\"z\":[1.0436607232089559,1.0047225616873101,1.705609469076931,0.8489699156007278,1.900300276685159,1.0436607232089559,1.8613621151635136,1.4330423384254118,0.8879080771223734,1.1994133692955382,0.8879080771223734,0.9657844001656646,0.5764027849492085,1.0436607232089559,0.8100317540790821,1.4719804999470574,0.8489699156007278,1.4330423384254118,0.9268462386440189,1.0047225616873101,1.5109186614687031,1.0825988847306014,0.8879080771223734,1.2772896923388295,1.6666713075552855,0.9657844001656646,1.7445476305985768,1.3941041769037663,1.3941041769037663,1.4719804999470574,1.3551660153821206,0.732155431035791,1.5887949845119942,1.121537046252247],\"type\":\"scatter3d\"},{\"hovertemplate\":\"Cluster=0<br>Gender=Female<br>Age_Scaled=%{x}<br>Income_Scaled=%{y}<br>Spend_Score_Scaled=%{z}<extra></extra>\",\"legendgroup\":\"0, Female\",\"marker\":{\"color\":\"rgb(231, 63, 116)\",\"opacity\":0.7,\"symbol\":\"diamond\",\"size\":5},\"mode\":\"markers\",\"name\":\"0, Female\",\"scene\":\"scene\",\"showlegend\":true,\"x\":[0.25,0.326923076923077,0.5192307692307693,0.42307692307692313,0.34615384615384615,0.9038461538461539,0.25,0.5961538461538463,0.6153846153846154,0.17307692307692313,0.21153846153846156,0.25,0.5961538461538463,0.25,0.6153846153846154,0.6346153846153847,0.17307692307692313,0.9423076923076924,0.6923076923076924,0.48076923076923084,0.9615384615384616,0.2692307692307693,0.5576923076923077,0.8076923076923078,0.8076923076923078,0.5192307692307693,0.0961538461538462,0.5961538461538463,0.5384615384615385,0.05769230769230771,0.7115384615384616,0.07692307692307698,0.3076923076923077,0.6153846153846154,0.9615384615384616,0.42307692307692313,0.2692307692307693,0.5576923076923077,0.17307692307692313,0.0961538461538462,0.5961538461538463,0.05769230769230771,0.9230769230769232,0.019230769230769273,0.3846153846153847,0.0,0.019230769230769273,0.8653846153846155,0.5961538461538463,0.6346153846153847,0.6153846153846154,0.3846153846153847,0.42307692307692313,0.0961538461538462,0.13461538461538464,0.1923076923076924,0.730769230769231,0.34615384615384615,0.3653846153846154,0.4423076923076924,0.5192307692307693],\"y\":[0.018018018018018,0.05405405405405406,0.11711711711711709,0.12612612612612611,0.19819819819819817,0.2072072072072072,0.21621621621621623,0.21621621621621623,0.2252252252252252,0.2252252252252252,0.2252252252252252,0.2252252252252252,0.24324324324324326,0.25225225225225223,0.25225225225225223,0.26126126126126126,0.27927927927927926,0.2882882882882883,0.2882882882882883,0.2972972972972973,0.2972972972972973,0.2972972972972973,0.3063063063063063,0.3153153153153153,0.3153153153153153,0.3513513513513513,0.3513513513513513,0.3513513513513513,0.3513513513513513,0.3513513513513513,0.37837837837837834,0.37837837837837834,0.38738738738738737,0.38738738738738737,0.3963963963963964,0.40540540540540543,0.40540540540540543,0.40540540540540543,0.40540540540540543,0.4234234234234234,0.4234234234234234,0.4234234234234234,0.4324324324324324,0.4324324324324324,0.44144144144144143,0.45045045045045046,0.45045045045045046,0.45045045045045046,0.45045045045045046,0.4684684684684684,0.4684684684684684,0.4684684684684684,0.48648648648648646,0.4954954954954955,0.5135135135135136,0.5495495495495495,0.5765765765765765,0.6486486486486487,0.7387387387387387,0.7567567567567568,1.0],\"z\":[-0.3970512530919317,-0.5917420607001597,-0.7085565452650965,-0.7474947067867421,-0.9421855143949701,-0.5917420607001597,0.4206501388626261,-0.8643091913516789,0.18702116973275243,-0.1244841224404124,-0.31917493004864045,-0.31917493004864045,0.07020668516781563,0.14808300821110684,-0.20236044548370363,-0.007669637875475591,0.03126852364617001,0.07020668516781563,0.34277381581933486,-0.007669637875475591,-0.0855459609187668,-0.1244841224404124,-0.31917493004864045,-0.046607799397121195,0.22595933125439804,0.10914484668946123,0.07020668516781563,-0.31917493004864045,-0.24129860700534922,0.26489749277604363,0.3038356542976893,0.18702116973275243,0.38171197734098045,-0.16342228396205802,0.18702116973275243,-0.3970512530919317,-0.31917493004864045,-0.1244841224404124,-0.007669637875475591,-0.35811309157028604,-0.0855459609187668,-0.31917493004864045,-0.007669637875475591,0.14808300821110684,-0.31917493004864045,-0.0855459609187668,-0.007669637875475591,-0.28023676852699486,0.34277381581933486,-0.28023676852699486,0.26489749277604363,-0.3970512530919317,0.3038356542976893,-0.8253710298300333,-0.6306802222218053,-0.3970512530919317,-0.5917420607001597,-0.9032473528733246,-0.7085565452650965,-0.43598941461357726,-0.8643091913516789],\"type\":\"scatter3d\"}],                        {\"template\":{\"data\":{\"histogram2dcontour\":[{\"type\":\"histogram2dcontour\",\"colorbar\":{\"outlinewidth\":0,\"ticks\":\"\"},\"colorscale\":[[0.0,\"#0d0887\"],[0.1111111111111111,\"#46039f\"],[0.2222222222222222,\"#7201a8\"],[0.3333333333333333,\"#9c179e\"],[0.4444444444444444,\"#bd3786\"],[0.5555555555555556,\"#d8576b\"],[0.6666666666666666,\"#ed7953\"],[0.7777777777777778,\"#fb9f3a\"],[0.8888888888888888,\"#fdca26\"],[1.0,\"#f0f921\"]]}],\"choropleth\":[{\"type\":\"choropleth\",\"colorbar\":{\"outlinewidth\":0,\"ticks\":\"\"}}],\"histogram2d\":[{\"type\":\"histogram2d\",\"colorbar\":{\"outlinewidth\":0,\"ticks\":\"\"},\"colorscale\":[[0.0,\"#0d0887\"],[0.1111111111111111,\"#46039f\"],[0.2222222222222222,\"#7201a8\"],[0.3333333333333333,\"#9c179e\"],[0.4444444444444444,\"#bd3786\"],[0.5555555555555556,\"#d8576b\"],[0.6666666666666666,\"#ed7953\"],[0.7777777777777778,\"#fb9f3a\"],[0.8888888888888888,\"#fdca26\"],[1.0,\"#f0f921\"]]}],\"heatmap\":[{\"type\":\"heatmap\",\"colorbar\":{\"outlinewidth\":0,\"ticks\":\"\"},\"colorscale\":[[0.0,\"#0d0887\"],[0.1111111111111111,\"#46039f\"],[0.2222222222222222,\"#7201a8\"],[0.3333333333333333,\"#9c179e\"],[0.4444444444444444,\"#bd3786\"],[0.5555555555555556,\"#d8576b\"],[0.6666666666666666,\"#ed7953\"],[0.7777777777777778,\"#fb9f3a\"],[0.8888888888888888,\"#fdca26\"],[1.0,\"#f0f921\"]]}],\"heatmapgl\":[{\"type\":\"heatmapgl\",\"colorbar\":{\"outlinewidth\":0,\"ticks\":\"\"},\"colorscale\":[[0.0,\"#0d0887\"],[0.1111111111111111,\"#46039f\"],[0.2222222222222222,\"#7201a8\"],[0.3333333333333333,\"#9c179e\"],[0.4444444444444444,\"#bd3786\"],[0.5555555555555556,\"#d8576b\"],[0.6666666666666666,\"#ed7953\"],[0.7777777777777778,\"#fb9f3a\"],[0.8888888888888888,\"#fdca26\"],[1.0,\"#f0f921\"]]}],\"contourcarpet\":[{\"type\":\"contourcarpet\",\"colorbar\":{\"outlinewidth\":0,\"ticks\":\"\"}}],\"contour\":[{\"type\":\"contour\",\"colorbar\":{\"outlinewidth\":0,\"ticks\":\"\"},\"colorscale\":[[0.0,\"#0d0887\"],[0.1111111111111111,\"#46039f\"],[0.2222222222222222,\"#7201a8\"],[0.3333333333333333,\"#9c179e\"],[0.4444444444444444,\"#bd3786\"],[0.5555555555555556,\"#d8576b\"],[0.6666666666666666,\"#ed7953\"],[0.7777777777777778,\"#fb9f3a\"],[0.8888888888888888,\"#fdca26\"],[1.0,\"#f0f921\"]]}],\"surface\":[{\"type\":\"surface\",\"colorbar\":{\"outlinewidth\":0,\"ticks\":\"\"},\"colorscale\":[[0.0,\"#0d0887\"],[0.1111111111111111,\"#46039f\"],[0.2222222222222222,\"#7201a8\"],[0.3333333333333333,\"#9c179e\"],[0.4444444444444444,\"#bd3786\"],[0.5555555555555556,\"#d8576b\"],[0.6666666666666666,\"#ed7953\"],[0.7777777777777778,\"#fb9f3a\"],[0.8888888888888888,\"#fdca26\"],[1.0,\"#f0f921\"]]}],\"mesh3d\":[{\"type\":\"mesh3d\",\"colorbar\":{\"outlinewidth\":0,\"ticks\":\"\"}}],\"scatter\":[{\"fillpattern\":{\"fillmode\":\"overlay\",\"size\":10,\"solidity\":0.2},\"type\":\"scatter\"}],\"parcoords\":[{\"type\":\"parcoords\",\"line\":{\"colorbar\":{\"outlinewidth\":0,\"ticks\":\"\"}}}],\"scatterpolargl\":[{\"type\":\"scatterpolargl\",\"marker\":{\"colorbar\":{\"outlinewidth\":0,\"ticks\":\"\"}}}],\"bar\":[{\"error_x\":{\"color\":\"#2a3f5f\"},\"error_y\":{\"color\":\"#2a3f5f\"},\"marker\":{\"line\":{\"color\":\"#E5ECF6\",\"width\":0.5},\"pattern\":{\"fillmode\":\"overlay\",\"size\":10,\"solidity\":0.2}},\"type\":\"bar\"}],\"scattergeo\":[{\"type\":\"scattergeo\",\"marker\":{\"colorbar\":{\"outlinewidth\":0,\"ticks\":\"\"}}}],\"scatterpolar\":[{\"type\":\"scatterpolar\",\"marker\":{\"colorbar\":{\"outlinewidth\":0,\"ticks\":\"\"}}}],\"histogram\":[{\"marker\":{\"pattern\":{\"fillmode\":\"overlay\",\"size\":10,\"solidity\":0.2}},\"type\":\"histogram\"}],\"scattergl\":[{\"type\":\"scattergl\",\"marker\":{\"colorbar\":{\"outlinewidth\":0,\"ticks\":\"\"}}}],\"scatter3d\":[{\"type\":\"scatter3d\",\"line\":{\"colorbar\":{\"outlinewidth\":0,\"ticks\":\"\"}},\"marker\":{\"colorbar\":{\"outlinewidth\":0,\"ticks\":\"\"}}}],\"scattermapbox\":[{\"type\":\"scattermapbox\",\"marker\":{\"colorbar\":{\"outlinewidth\":0,\"ticks\":\"\"}}}],\"scatterternary\":[{\"type\":\"scatterternary\",\"marker\":{\"colorbar\":{\"outlinewidth\":0,\"ticks\":\"\"}}}],\"scattercarpet\":[{\"type\":\"scattercarpet\",\"marker\":{\"colorbar\":{\"outlinewidth\":0,\"ticks\":\"\"}}}],\"carpet\":[{\"aaxis\":{\"endlinecolor\":\"#2a3f5f\",\"gridcolor\":\"white\",\"linecolor\":\"white\",\"minorgridcolor\":\"white\",\"startlinecolor\":\"#2a3f5f\"},\"baxis\":{\"endlinecolor\":\"#2a3f5f\",\"gridcolor\":\"white\",\"linecolor\":\"white\",\"minorgridcolor\":\"white\",\"startlinecolor\":\"#2a3f5f\"},\"type\":\"carpet\"}],\"table\":[{\"cells\":{\"fill\":{\"color\":\"#EBF0F8\"},\"line\":{\"color\":\"white\"}},\"header\":{\"fill\":{\"color\":\"#C8D4E3\"},\"line\":{\"color\":\"white\"}},\"type\":\"table\"}],\"barpolar\":[{\"marker\":{\"line\":{\"color\":\"#E5ECF6\",\"width\":0.5},\"pattern\":{\"fillmode\":\"overlay\",\"size\":10,\"solidity\":0.2}},\"type\":\"barpolar\"}],\"pie\":[{\"automargin\":true,\"type\":\"pie\"}]},\"layout\":{\"autotypenumbers\":\"strict\",\"colorway\":[\"#636efa\",\"#EF553B\",\"#00cc96\",\"#ab63fa\",\"#FFA15A\",\"#19d3f3\",\"#FF6692\",\"#B6E880\",\"#FF97FF\",\"#FECB52\"],\"font\":{\"color\":\"#2a3f5f\"},\"hovermode\":\"closest\",\"hoverlabel\":{\"align\":\"left\"},\"paper_bgcolor\":\"white\",\"plot_bgcolor\":\"#E5ECF6\",\"polar\":{\"bgcolor\":\"#E5ECF6\",\"angularaxis\":{\"gridcolor\":\"white\",\"linecolor\":\"white\",\"ticks\":\"\"},\"radialaxis\":{\"gridcolor\":\"white\",\"linecolor\":\"white\",\"ticks\":\"\"}},\"ternary\":{\"bgcolor\":\"#E5ECF6\",\"aaxis\":{\"gridcolor\":\"white\",\"linecolor\":\"white\",\"ticks\":\"\"},\"baxis\":{\"gridcolor\":\"white\",\"linecolor\":\"white\",\"ticks\":\"\"},\"caxis\":{\"gridcolor\":\"white\",\"linecolor\":\"white\",\"ticks\":\"\"}},\"coloraxis\":{\"colorbar\":{\"outlinewidth\":0,\"ticks\":\"\"}},\"colorscale\":{\"sequential\":[[0.0,\"#0d0887\"],[0.1111111111111111,\"#46039f\"],[0.2222222222222222,\"#7201a8\"],[0.3333333333333333,\"#9c179e\"],[0.4444444444444444,\"#bd3786\"],[0.5555555555555556,\"#d8576b\"],[0.6666666666666666,\"#ed7953\"],[0.7777777777777778,\"#fb9f3a\"],[0.8888888888888888,\"#fdca26\"],[1.0,\"#f0f921\"]],\"sequentialminus\":[[0.0,\"#0d0887\"],[0.1111111111111111,\"#46039f\"],[0.2222222222222222,\"#7201a8\"],[0.3333333333333333,\"#9c179e\"],[0.4444444444444444,\"#bd3786\"],[0.5555555555555556,\"#d8576b\"],[0.6666666666666666,\"#ed7953\"],[0.7777777777777778,\"#fb9f3a\"],[0.8888888888888888,\"#fdca26\"],[1.0,\"#f0f921\"]],\"diverging\":[[0,\"#8e0152\"],[0.1,\"#c51b7d\"],[0.2,\"#de77ae\"],[0.3,\"#f1b6da\"],[0.4,\"#fde0ef\"],[0.5,\"#f7f7f7\"],[0.6,\"#e6f5d0\"],[0.7,\"#b8e186\"],[0.8,\"#7fbc41\"],[0.9,\"#4d9221\"],[1,\"#276419\"]]},\"xaxis\":{\"gridcolor\":\"white\",\"linecolor\":\"white\",\"ticks\":\"\",\"title\":{\"standoff\":15},\"zerolinecolor\":\"white\",\"automargin\":true,\"zerolinewidth\":2},\"yaxis\":{\"gridcolor\":\"white\",\"linecolor\":\"white\",\"ticks\":\"\",\"title\":{\"standoff\":15},\"zerolinecolor\":\"white\",\"automargin\":true,\"zerolinewidth\":2},\"scene\":{\"xaxis\":{\"backgroundcolor\":\"#E5ECF6\",\"gridcolor\":\"white\",\"linecolor\":\"white\",\"showbackground\":true,\"ticks\":\"\",\"zerolinecolor\":\"white\",\"gridwidth\":2},\"yaxis\":{\"backgroundcolor\":\"#E5ECF6\",\"gridcolor\":\"white\",\"linecolor\":\"white\",\"showbackground\":true,\"ticks\":\"\",\"zerolinecolor\":\"white\",\"gridwidth\":2},\"zaxis\":{\"backgroundcolor\":\"#E5ECF6\",\"gridcolor\":\"white\",\"linecolor\":\"white\",\"showbackground\":true,\"ticks\":\"\",\"zerolinecolor\":\"white\",\"gridwidth\":2}},\"shapedefaults\":{\"line\":{\"color\":\"#2a3f5f\"}},\"annotationdefaults\":{\"arrowcolor\":\"#2a3f5f\",\"arrowhead\":0,\"arrowwidth\":1},\"geo\":{\"bgcolor\":\"white\",\"landcolor\":\"#E5ECF6\",\"subunitcolor\":\"white\",\"showland\":true,\"showlakes\":true,\"lakecolor\":\"white\"},\"title\":{\"x\":0.05},\"mapbox\":{\"style\":\"light\"}}},\"scene\":{\"domain\":{\"x\":[0.0,1.0],\"y\":[0.0,1.0]},\"xaxis\":{\"title\":{\"text\":\"Age_Scaled\"}},\"yaxis\":{\"title\":{\"text\":\"Income_Scaled\"}},\"zaxis\":{\"title\":{\"text\":\"Spend_Score_Scaled\"}}},\"legend\":{\"title\":{\"text\":\"Cluster, Gender\"},\"tracegroupgap\":0,\"font\":{\"size\":12},\"x\":0.8,\"y\":0.95,\"traceorder\":\"normal\",\"bgcolor\":\"rgba(255,255,255,0.6)\",\"bordercolor\":\"Black\",\"borderwidth\":1},\"margin\":{\"t\":60},\"width\":800,\"height\":700},                        {\"responsive\": true}                    ).then(function(){\n",
       "                            \n",
       "var gd = document.getElementById('640847e2-e387-461d-879e-4b1d02238fd4');\n",
       "var x = new MutationObserver(function (mutations, observer) {{\n",
       "        var display = window.getComputedStyle(gd).display;\n",
       "        if (!display || display === 'none') {{\n",
       "            console.log([gd, 'removed!']);\n",
       "            Plotly.purge(gd);\n",
       "            observer.disconnect();\n",
       "        }}\n",
       "}});\n",
       "\n",
       "// Listen for the removal of the full notebook cells\n",
       "var notebookContainer = gd.closest('#notebook-container');\n",
       "if (notebookContainer) {{\n",
       "    x.observe(notebookContainer, {childList: true});\n",
       "}}\n",
       "\n",
       "// Listen for the clearing of the current output cell\n",
       "var outputEl = gd.closest('.output');\n",
       "if (outputEl) {{\n",
       "    x.observe(outputEl, {childList: true});\n",
       "}}\n",
       "\n",
       "                        })                };                });            </script>        </div>"
      ]
     },
     "metadata": {},
     "output_type": "display_data"
    }
   ],
   "source": [
    "# If 'cluster' is numeric and being treated as continuous, force it to be categorical\n",
    "abt['Cluster'] = abt['Cluster'].astype(str)\n",
    "\n",
    "fig = px.scatter_3d(\n",
    "    abt,\n",
    "    x='Age_Scaled',\n",
    "    y='Income_Scaled',\n",
    "    z='Spend_Score_Scaled',\n",
    "    color='Cluster',\n",
    "    symbol='Gender',\n",
    "    opacity=0.7,  # Slight transparency\n",
    "    color_discrete_sequence=px.colors.qualitative.Bold  # Use discrete colors\n",
    ")\n",
    "\n",
    "# Make markers smaller\n",
    "fig.update_traces(marker=dict(size=5))\n",
    "\n",
    "# Increase figure size\n",
    "fig.update_layout(\n",
    "    width=800,\n",
    "    height=700,\n",
    "    legend=dict(\n",
    "        x=0.8,  # Move legend to the right\n",
    "        y=0.95,\n",
    "        traceorder='normal',\n",
    "        font=dict(size=12),\n",
    "        bgcolor='rgba(255,255,255,0.6)',  # Slightly transparent background\n",
    "        bordercolor='Black',\n",
    "        borderwidth=1\n",
    "    )\n",
    "\n",
    ")\n",
    "\n",
    "# Show the plot\n",
    "fig.show()"
   ]
  },
  {
   "cell_type": "markdown",
   "id": "319df364-cb87-40fb-810d-ab2cd7222dd4",
   "metadata": {},
   "source": [
    "##### This chart is interactive. Zoom out or rotate the graph for more detail."
   ]
  },
  {
   "cell_type": "markdown",
   "id": "b48bf7ef-ff3a-4c21-a560-8e01029422d1",
   "metadata": {},
   "source": [
    "From this, we can see that clusters 1 and 4 are younger, whereas the age is more evenly spread across the other clusters. Cluster 2 has the lowest spend score. Clusters 1 and 4 are very similar, except for gender. Cluster 0 and 3 are very similar, except for gender."
   ]
  },
  {
   "cell_type": "code",
   "execution_count": 701,
   "id": "bc3a666b-4729-424d-beeb-e2b0eecf20a6",
   "metadata": {},
   "outputs": [
    {
     "data": {
      "image/png": "[encoded data removed]",
      "text/plain": [
       "<Figure size 640x480 with 1 Axes>"
      ]
     },
     "metadata": {},
     "output_type": "display_data"
    }
   ],
   "source": [
    "sns.boxplot(x='Cluster', y='Age', data=abt)\n",
    "plt.show()"
   ]
  },
  {
   "cell_type": "code",
   "execution_count": 702,
   "id": "318c1cff-044d-4b9a-899c-b82892f163c0",
   "metadata": {},
   "outputs": [
    {
     "data": {
      "image/png": "[encoded data removed]",
      "text/plain": [
       "<Figure size 640x480 with 1 Axes>"
      ]
     },
     "metadata": {},
     "output_type": "display_data"
    }
   ],
   "source": [
    "sns.boxplot(x='Cluster', y='Spending Score (1-100)', data=abt)\n",
    "plt.show()"
   ]
  },
  {
   "cell_type": "code",
   "execution_count": 703,
   "id": "6c398c8e-6f67-4d8e-9cdf-547167840aca",
   "metadata": {},
   "outputs": [
    {
     "data": {
      "image/png": "[encoded data removed]",
      "text/plain": [
       "<Figure size 640x480 with 1 Axes>"
      ]
     },
     "metadata": {},
     "output_type": "display_data"
    }
   ],
   "source": [
    "sns.boxplot(x='Cluster', y='Annual Income (k$)', data=abt)\n",
    "plt.show()"
   ]
  },
  {
   "cell_type": "code",
   "execution_count": 704,
   "id": "6c344897-996d-4f0f-b87b-842a0882c9bd",
   "metadata": {},
   "outputs": [],
   "source": [
    "gender_by_cluster = pd.crosstab(abt['Cluster'], abt['Gender'])"
   ]
  },
  {
   "cell_type": "code",
   "execution_count": 705,
   "id": "08c1e4fb-113c-4637-ae14-12df7caa2d21",
   "metadata": {},
   "outputs": [
    {
     "data": {
      "text/html": [
       "<div>\n",
       "<style scoped>\n",
       "    .dataframe tbody tr th:only-of-type {\n",
       "        vertical-align: middle;\n",
       "    }\n",
       "\n",
       "    .dataframe tbody tr th {\n",
       "        vertical-align: top;\n",
       "    }\n",
       "\n",
       "    .dataframe thead th {\n",
       "        text-align: right;\n",
       "    }\n",
       "</style>\n",
       "<table border=\"1\" class=\"dataframe\">\n",
       "  <thead>\n",
       "    <tr style=\"text-align: right;\">\n",
       "      <th>Gender</th>\n",
       "      <th>Female</th>\n",
       "      <th>Male</th>\n",
       "    </tr>\n",
       "    <tr>\n",
       "      <th>Cluster</th>\n",
       "      <th></th>\n",
       "      <th></th>\n",
       "    </tr>\n",
       "  </thead>\n",
       "  <tbody>\n",
       "    <tr>\n",
       "      <th>0</th>\n",
       "      <td>61</td>\n",
       "      <td>0</td>\n",
       "    </tr>\n",
       "    <tr>\n",
       "      <th>1</th>\n",
       "      <td>34</td>\n",
       "      <td>0</td>\n",
       "    </tr>\n",
       "    <tr>\n",
       "      <th>2</th>\n",
       "      <td>17</td>\n",
       "      <td>22</td>\n",
       "    </tr>\n",
       "    <tr>\n",
       "      <th>3</th>\n",
       "      <td>0</td>\n",
       "      <td>40</td>\n",
       "    </tr>\n",
       "    <tr>\n",
       "      <th>4</th>\n",
       "      <td>0</td>\n",
       "      <td>24</td>\n",
       "    </tr>\n",
       "  </tbody>\n",
       "</table>\n",
       "</div>"
      ],
      "text/plain": [
       "Gender   Female  Male\n",
       "Cluster              \n",
       "0            61     0\n",
       "1            34     0\n",
       "2            17    22\n",
       "3             0    40\n",
       "4             0    24"
      ]
     },
     "execution_count": 705,
     "metadata": {},
     "output_type": "execute_result"
    }
   ],
   "source": [
    "gender_by_cluster"
   ]
  },
  {
   "cell_type": "code",
   "execution_count": 706,
   "id": "1b44daf5-bf04-4c4c-9097-1924af19ea33",
   "metadata": {},
   "outputs": [
    {
     "data": {
      "text/plain": [
       "39"
      ]
     },
     "execution_count": 706,
     "metadata": {},
     "output_type": "execute_result"
    }
   ],
   "source": [
    "17+22 # Cluster 2 total"
   ]
  },
  {
   "cell_type": "markdown",
   "id": "bdc7a425-25a5-4773-9e1b-9b78f8861ead",
   "metadata": {},
   "source": [
    "Cluster 0 is the largest. Cluster 4 is the smallest."
   ]
  },
  {
   "cell_type": "markdown",
   "id": "2e108530-c6b6-470b-b20f-0565ba48a948",
   "metadata": {},
   "source": [
    "Cluster 0 is the largest cluster, but they don't spend as much as cluster 1 and 4. One possible business strategy is to encourage cluster 0 to spend more, prehaps by encouraging more frequent trips to the mall, or with buy-one-get one type sales that encourage increased spending. <br>\n",
    "The mall should focus on retaining customers from segments 1 and 4, given their higher spending levels."
   ]
  },
  {
   "cell_type": "markdown",
   "id": "e5a79be7-d2da-4d7e-b287-eb37ebe7f556",
   "metadata": {},
   "source": [
    "-- End of Program --"
   ]
  }
 ],
 "metadata": {
  "kernelspec": {
   "display_name": "Python [conda env:base] *",
   "language": "python",
   "name": "conda-base-py"
  },
  "language_info": {
   "codemirror_mode": {
    "name": "ipython",
    "version": 3
   },
   "file_extension": ".py",
   "mimetype": "text/x-python",
   "name": "python",
   "nbconvert_exporter": "python",
   "pygments_lexer": "ipython3",
   "version": "3.11.4"
  }
 },
 "nbformat": 4,
 "nbformat_minor": 5
}
