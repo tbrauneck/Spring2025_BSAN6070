{
 "cells": [
  {
   "cell_type": "markdown",
   "id": "10edc6a1-150e-4642-910b-3d9ad4631ca5",
   "metadata": {},
   "source": [
    "# KNN Classifier: Movie Recommender\n",
    "#### BSAN6070 CA-05 <br> Tina Brauneck<br>3/29/2025"
   ]
  },
  {
   "cell_type": "markdown",
   "id": "9db3abf0-f60c-4cc4-85bc-cf4c4ee42ab4",
   "metadata": {},
   "source": [
    "<br> Description: This program is a simple movie recommender model that uses the KNN algorithm to choose the most closely related movie based on genre. Preceding the model is a data quality report and a brief data exploration for the a dataset.<br><br>"
   ]
  },
  {
   "cell_type": "markdown",
   "id": "c217e735-2c1b-4906-85cd-1baa3f462510",
   "metadata": {},
   "source": [
    "#### Table of Contents\n",
    "##### &emsp; Step 1: Setup and Loading"
   ]
  },
  {
   "cell_type": "markdown",
   "id": "c2dfc7e4-4f0f-45df-8b3e-e1d7c8162ddd",
   "metadata": {},
   "source": [
    "##### &emsp; Step 2: Assessing Data Quality"
   ]
  },
  {
   "cell_type": "markdown",
   "id": "82f34fd7-da23-4e65-851a-6e0304b30b43",
   "metadata": {},
   "source": [
    "&emsp; &emsp; &emsp; Data Quality Report: Continuous Features <br>\n",
    "&emsp; &emsp; &emsp; Data Quality Report: Categorical Features <br>\n",
    "&emsp; &emsp; &emsp; Duplicate Check <br>"
   ]
  },
  {
   "cell_type": "markdown",
   "id": "b412be95-e5de-484b-b3f5-53c1b060e384",
   "metadata": {},
   "source": [
    "##### &emsp; Step 3: Data Exploration"
   ]
  },
  {
   "cell_type": "markdown",
   "id": "46d18935-2351-4d7a-8c1d-3493f9927e79",
   "metadata": {},
   "source": [
    "&emsp; &emsp; &emsp; Data Distribution <br>\n",
    "&emsp; &emsp; &emsp; &emsp; Histograms <br>\n",
    "&emsp; &emsp; &emsp; &emsp; Bar Charts <br>"
   ]
  },
  {
   "cell_type": "markdown",
   "id": "92f8b5a8-c9bc-4773-af6c-788270ceb8c8",
   "metadata": {},
   "source": [
    "##### &emsp; Step 4: Modeling"
   ]
  },
  {
   "cell_type": "markdown",
   "id": "f2eb89b0-11aa-4002-a47b-997e508df696",
   "metadata": {},
   "source": [
    " <br>"
   ]
  },
  {
   "cell_type": "markdown",
   "id": "e3767f59-5e15-4cc5-85f0-9c78d865a69a",
   "metadata": {},
   "source": [
    "## Step 1: Setup and Loading"
   ]
  },
  {
   "cell_type": "code",
   "execution_count": 11,
   "id": "d968214f-9bec-4707-b1cc-3813c78b6d67",
   "metadata": {},
   "outputs": [],
   "source": [
    "# This step loads neccessary packages, loads our data into a dataframe, and provides a first look at the data."
   ]
  },
  {
   "cell_type": "code",
   "execution_count": 12,
   "id": "fbeef09e-2488-47ff-b92c-c826444c2102",
   "metadata": {},
   "outputs": [],
   "source": [
    "#Package imports\n",
    "\n",
    "#Basic & visualization packages: \n",
    "import math\n",
    "import matplotlib\n",
    "import pandas as pd\n",
    "import numpy as np\n",
    "import matplotlib.pyplot as plt\n",
    "from plotnine import ggplot, aes, geom_histogram, facet_wrap, geom_bar\n",
    "#from plotnine.data import mpg\n",
    "\n",
    "# Modeling:\n",
    "from sklearn.neighbors import NearestNeighbors"
   ]
  },
  {
   "cell_type": "code",
   "execution_count": 13,
   "id": "16f9ccf4-2524-4b53-aac2-abe382927028",
   "metadata": {},
   "outputs": [],
   "source": [
    "df = pd.read_csv(r\"https://github.com/ArinB/MSBA-CA-Data/raw/main/CA05/movies_recommendation_data.csv\") # read in the data"
   ]
  },
  {
   "cell_type": "code",
   "execution_count": 14,
   "id": "ec99dc8a-623a-4bf3-b391-dc4dd5a3f0e7",
   "metadata": {},
   "outputs": [
    {
     "name": "stdout",
     "output_type": "stream",
     "text": [
      "(30, 11)\n"
     ]
    }
   ],
   "source": [
    "## print the DataFrame's shape, i.e., number of rows and columns\n",
    "print(df.shape)"
   ]
  },
  {
   "cell_type": "code",
   "execution_count": 15,
   "id": "f6a2cb32-a9b7-40e5-95f9-15b56d930b48",
   "metadata": {},
   "outputs": [
    {
     "data": {
      "text/html": [
       "<div>\n",
       "<style scoped>\n",
       "    .dataframe tbody tr th:only-of-type {\n",
       "        vertical-align: middle;\n",
       "    }\n",
       "\n",
       "    .dataframe tbody tr th {\n",
       "        vertical-align: top;\n",
       "    }\n",
       "\n",
       "    .dataframe thead th {\n",
       "        text-align: right;\n",
       "    }\n",
       "</style>\n",
       "<table border=\"1\" class=\"dataframe\">\n",
       "  <thead>\n",
       "    <tr style=\"text-align: right;\">\n",
       "      <th></th>\n",
       "      <th>Movie ID</th>\n",
       "      <th>Movie Name</th>\n",
       "      <th>IMDB Rating</th>\n",
       "      <th>Biography</th>\n",
       "      <th>Drama</th>\n",
       "      <th>Thriller</th>\n",
       "      <th>Comedy</th>\n",
       "      <th>Crime</th>\n",
       "      <th>Mystery</th>\n",
       "      <th>History</th>\n",
       "      <th>Label</th>\n",
       "    </tr>\n",
       "  </thead>\n",
       "  <tbody>\n",
       "    <tr>\n",
       "      <th>0</th>\n",
       "      <td>58</td>\n",
       "      <td>The Imitation Game</td>\n",
       "      <td>8.0</td>\n",
       "      <td>1</td>\n",
       "      <td>1</td>\n",
       "      <td>1</td>\n",
       "      <td>0</td>\n",
       "      <td>0</td>\n",
       "      <td>0</td>\n",
       "      <td>0</td>\n",
       "      <td>0</td>\n",
       "    </tr>\n",
       "    <tr>\n",
       "      <th>1</th>\n",
       "      <td>8</td>\n",
       "      <td>Ex Machina</td>\n",
       "      <td>7.7</td>\n",
       "      <td>0</td>\n",
       "      <td>1</td>\n",
       "      <td>0</td>\n",
       "      <td>0</td>\n",
       "      <td>0</td>\n",
       "      <td>1</td>\n",
       "      <td>0</td>\n",
       "      <td>0</td>\n",
       "    </tr>\n",
       "    <tr>\n",
       "      <th>2</th>\n",
       "      <td>46</td>\n",
       "      <td>A Beautiful Mind</td>\n",
       "      <td>8.2</td>\n",
       "      <td>1</td>\n",
       "      <td>1</td>\n",
       "      <td>0</td>\n",
       "      <td>0</td>\n",
       "      <td>0</td>\n",
       "      <td>0</td>\n",
       "      <td>0</td>\n",
       "      <td>0</td>\n",
       "    </tr>\n",
       "    <tr>\n",
       "      <th>3</th>\n",
       "      <td>62</td>\n",
       "      <td>Good Will Hunting</td>\n",
       "      <td>8.3</td>\n",
       "      <td>0</td>\n",
       "      <td>1</td>\n",
       "      <td>0</td>\n",
       "      <td>0</td>\n",
       "      <td>0</td>\n",
       "      <td>0</td>\n",
       "      <td>0</td>\n",
       "      <td>0</td>\n",
       "    </tr>\n",
       "    <tr>\n",
       "      <th>4</th>\n",
       "      <td>97</td>\n",
       "      <td>Forrest Gump</td>\n",
       "      <td>8.8</td>\n",
       "      <td>0</td>\n",
       "      <td>1</td>\n",
       "      <td>0</td>\n",
       "      <td>0</td>\n",
       "      <td>0</td>\n",
       "      <td>0</td>\n",
       "      <td>0</td>\n",
       "      <td>0</td>\n",
       "    </tr>\n",
       "  </tbody>\n",
       "</table>\n",
       "</div>"
      ],
      "text/plain": [
       "   Movie ID          Movie Name  IMDB Rating  Biography  Drama  Thriller  \\\n",
       "0        58  The Imitation Game          8.0          1      1         1   \n",
       "1         8          Ex Machina          7.7          0      1         0   \n",
       "2        46    A Beautiful Mind          8.2          1      1         0   \n",
       "3        62   Good Will Hunting          8.3          0      1         0   \n",
       "4        97        Forrest Gump          8.8          0      1         0   \n",
       "\n",
       "   Comedy  Crime  Mystery  History  Label  \n",
       "0       0      0        0        0      0  \n",
       "1       0      0        1        0      0  \n",
       "2       0      0        0        0      0  \n",
       "3       0      0        0        0      0  \n",
       "4       0      0        0        0      0  "
      ]
     },
     "execution_count": 15,
     "metadata": {},
     "output_type": "execute_result"
    }
   ],
   "source": [
    "df.head() #preview the data"
   ]
  },
  {
   "cell_type": "markdown",
   "id": "ceac7039-6b78-4099-a501-101f268c4560",
   "metadata": {},
   "source": [
    "<br>"
   ]
  },
  {
   "cell_type": "code",
   "execution_count": 17,
   "id": "0fa77bbc-69e0-4019-8fc5-f37923b9d259",
   "metadata": {},
   "outputs": [],
   "source": [
    "# set diplay options for \"pretty\" data quality reporting\n",
    "pd.set_option('display.max_columns', 100)\n",
    "pd.set_option('display.max_rows', 200)"
   ]
  },
  {
   "cell_type": "code",
   "execution_count": 18,
   "id": "250ed663-b474-4858-9056-7e4c08c70354",
   "metadata": {},
   "outputs": [],
   "source": [
    "pd.set_option('display.width', 1000)"
   ]
  },
  {
   "cell_type": "markdown",
   "id": "e09889d7-ee6a-4221-ab3d-cac7eaa3f92c",
   "metadata": {},
   "source": [
    "## Step 2: Assessing Data Quality"
   ]
  },
  {
   "cell_type": "markdown",
   "id": "fa3cf5f5-f911-46cf-9729-56649fb3d7d7",
   "metadata": {},
   "source": [
    "This section includes a data quality report, cardinality checks, and cleaning."
   ]
  },
  {
   "cell_type": "code",
   "execution_count": 21,
   "id": "225d670f-48a7-46a7-a242-e4cff3bb7cde",
   "metadata": {},
   "outputs": [
    {
     "data": {
      "text/plain": [
       "Movie ID         int64\n",
       "Movie Name      object\n",
       "IMDB Rating    float64\n",
       "Biography        int64\n",
       "Drama            int64\n",
       "Thriller         int64\n",
       "Comedy           int64\n",
       "Crime            int64\n",
       "Mystery          int64\n",
       "History          int64\n",
       "Label            int64\n",
       "dtype: object"
      ]
     },
     "execution_count": 21,
     "metadata": {},
     "output_type": "execute_result"
    }
   ],
   "source": [
    "df.dtypes # This function determines if the feature is categorial or numerical"
   ]
  },
  {
   "cell_type": "code",
   "execution_count": 22,
   "id": "cce4f4df-2fce-48be-8b23-be1b5b032f2c",
   "metadata": {},
   "outputs": [],
   "source": [
    "# All of the categorical data is already encoded as integers."
   ]
  },
  {
   "cell_type": "markdown",
   "id": "d186a68c-2c71-43ee-b86b-d2539c3c3cdb",
   "metadata": {},
   "source": [
    "We will generate different quality reports for continuous variables than categorical variables. The first step is to split the data into these two groups."
   ]
  },
  {
   "cell_type": "code",
   "execution_count": 55,
   "id": "27e67e3e-ed03-4df0-b256-3c077bd3456a",
   "metadata": {},
   "outputs": [],
   "source": [
    "# Custom function to split a dataframe by feature type (categorical vs continuous)\n",
    "def split_cat_cont(df, cont_convert = []):\n",
    "\n",
    "    # Declare empty lists for the categorical columns and the continuous columns\n",
    "    categorical_cols = []\n",
    "    continuous_cols = []\n",
    "\n",
    "    #Define continuous and categorial columns from the abt:\n",
    "    for col in df.columns:\n",
    "        if pd.api.types.is_numeric_dtype(df[col]):\n",
    "            continuous_cols.append(col)\n",
    "        else:\n",
    "            categorical_cols.append(col)\n",
    "\n",
    "    # Transfer any continous columns that were identified as encoded categorical columns in the cardinality checks.\n",
    "\n",
    "    for col in cont_convert: # This list will hold any columns we want to convert from continuous to categorical.\n",
    "        if col in continuous_cols:\n",
    "            continuous_cols.remove(col)\n",
    "            categorical_cols.append(col)\n",
    "    return continuous_cols, categorical_cols"
   ]
  },
  {
   "cell_type": "code",
   "execution_count": 57,
   "id": "9707f32e-2dd0-4068-8232-f651a68f62c1",
   "metadata": {},
   "outputs": [],
   "source": [
    "continuous_cols, categorical_cols = split_cat_cont(df, cont_convert = []) # Call custom function"
   ]
  },
  {
   "cell_type": "code",
   "execution_count": 59,
   "id": "a010554f-86f2-489a-ac24-cca1dad224c1",
   "metadata": {},
   "outputs": [],
   "source": [
    "# Custom function to generate a data quality report\n",
    "\n",
    "def data_quality_report(df, report_type):\n",
    "\n",
    "    # Categorical data and continuous data will be stored in separate lists\n",
    "    continuous_rows = []\n",
    "    categorical_rows = []\n",
    "    \n",
    "    for col in df[continuous_cols].columns:\n",
    "        count = df[col].count()\n",
    "        missing_percentage = df[col].isnull().mean() * 100\n",
    "        cardinality = df[col].nunique()\n",
    "        first_quartile = df[col].quantile(0.25)\n",
    "        mean = df[col].mean()\n",
    "        median = df[col].median()\n",
    "        third_quartile = df[col].quantile(0.75)\n",
    "        max_value = df[col].max()\n",
    "        std_dev = df[col].std()\n",
    "            \n",
    "        continuous_rows.append({\n",
    "            'Feature': col,\n",
    "            'Count': count,\n",
    "            '% Missing': missing_percentage,\n",
    "            'Card.': cardinality,\n",
    "            '1st Qrt.': first_quartile,\n",
    "            'Mean': mean,\n",
    "            'Median': median,\n",
    "            '3rd Qrt.': third_quartile,\n",
    "            'Max': max_value,\n",
    "            'Std. Dev.': std_dev\n",
    "        })\n",
    "\n",
    "    for col in df[categorical_cols]:\n",
    "        count = df[col].count()\n",
    "        missing_percentage = df[col].isnull().mean() * 100\n",
    "        cardinality = df[col].nunique()\n",
    "        value_counts = df[col].value_counts()\n",
    "        mode = value_counts.index[0] if not value_counts.empty else 'NA'\n",
    "        mode_freq = value_counts.iloc[0] if not value_counts.empty else 0\n",
    "        mode_percentage = (mode_freq / count) * 100 if count > 0 else 0\n",
    "        second_mode = value_counts.index[1] if len(value_counts) > 1 else 'NA'\n",
    "        second_mode_freq = value_counts.iloc[1] if len(value_counts) > 1 else 0\n",
    "        second_mode_percentage = (second_mode_freq / count) * 100 if count > 0 else 0\n",
    "\n",
    "        categorical_rows.append({\n",
    "            'Feature': col,\n",
    "            'Count': count,\n",
    "            '% Missing': missing_percentage,\n",
    "            'Card.': cardinality,\n",
    "            'Mode': mode,\n",
    "            'Mode Freq.': mode_freq,\n",
    "            'Mode %': mode_percentage,\n",
    "            '2nd Mode': second_mode,\n",
    "            '2nd Mode Freq.': second_mode_freq,\n",
    "            '2nd Mode %': second_mode_percentage\n",
    "        })\n",
    "\n",
    "    continuous_report = pd.DataFrame(continuous_rows)\n",
    "    categorical_report = pd.DataFrame(categorical_rows)\n",
    "\n",
    "    if report_type == \"cont\":\n",
    "        return continuous_report\n",
    "\n",
    "    elif report_type == \"cat\":\n",
    "        return categorical_report\n",
    "        \n",
    "    else:\n",
    "        raise ValueError(\"Error: report type options are 'cat' or 'cont'\")"
   ]
  },
  {
   "cell_type": "code",
   "execution_count": 61,
   "id": "ab2370e0-7270-48ba-89a1-7ccf24546b9c",
   "metadata": {},
   "outputs": [],
   "source": [
    "dqr_cont = data_quality_report(df,\"cont\")"
   ]
  },
  {
   "cell_type": "code",
   "execution_count": 63,
   "id": "5f353ed6-c962-4f0e-8ac2-6dd2bcef347a",
   "metadata": {},
   "outputs": [],
   "source": [
    "dqr_cat = data_quality_report(df,\"cat\")"
   ]
  },
  {
   "cell_type": "markdown",
   "id": "d77d1ec5-97fa-4f0b-97bb-cafd320799eb",
   "metadata": {},
   "source": [
    "#### Data Quality Report: Continuous Features"
   ]
  },
  {
   "cell_type": "code",
   "execution_count": 66,
   "id": "86b29fe5-2e20-4043-a8e2-a0f530bab087",
   "metadata": {},
   "outputs": [
    {
     "data": {
      "text/html": [
       "<div>\n",
       "<style scoped>\n",
       "    .dataframe tbody tr th:only-of-type {\n",
       "        vertical-align: middle;\n",
       "    }\n",
       "\n",
       "    .dataframe tbody tr th {\n",
       "        vertical-align: top;\n",
       "    }\n",
       "\n",
       "    .dataframe thead th {\n",
       "        text-align: right;\n",
       "    }\n",
       "</style>\n",
       "<table border=\"1\" class=\"dataframe\">\n",
       "  <thead>\n",
       "    <tr style=\"text-align: right;\">\n",
       "      <th></th>\n",
       "      <th>Feature</th>\n",
       "      <th>Count</th>\n",
       "      <th>% Missing</th>\n",
       "      <th>Card.</th>\n",
       "      <th>1st Qrt.</th>\n",
       "      <th>Mean</th>\n",
       "      <th>Median</th>\n",
       "      <th>3rd Qrt.</th>\n",
       "      <th>Max</th>\n",
       "      <th>Std. Dev.</th>\n",
       "    </tr>\n",
       "  </thead>\n",
       "  <tbody>\n",
       "    <tr>\n",
       "      <th>0</th>\n",
       "      <td>Movie ID</td>\n",
       "      <td>30</td>\n",
       "      <td>0.0</td>\n",
       "      <td>27</td>\n",
       "      <td>27.75</td>\n",
       "      <td>48.133333</td>\n",
       "      <td>48.50</td>\n",
       "      <td>64.250</td>\n",
       "      <td>98.0</td>\n",
       "      <td>29.288969</td>\n",
       "    </tr>\n",
       "    <tr>\n",
       "      <th>1</th>\n",
       "      <td>IMDB Rating</td>\n",
       "      <td>30</td>\n",
       "      <td>0.0</td>\n",
       "      <td>17</td>\n",
       "      <td>7.30</td>\n",
       "      <td>7.696667</td>\n",
       "      <td>7.75</td>\n",
       "      <td>8.175</td>\n",
       "      <td>8.8</td>\n",
       "      <td>0.666169</td>\n",
       "    </tr>\n",
       "    <tr>\n",
       "      <th>2</th>\n",
       "      <td>Biography</td>\n",
       "      <td>30</td>\n",
       "      <td>0.0</td>\n",
       "      <td>2</td>\n",
       "      <td>0.00</td>\n",
       "      <td>0.233333</td>\n",
       "      <td>0.00</td>\n",
       "      <td>0.000</td>\n",
       "      <td>1.0</td>\n",
       "      <td>0.430183</td>\n",
       "    </tr>\n",
       "    <tr>\n",
       "      <th>3</th>\n",
       "      <td>Drama</td>\n",
       "      <td>30</td>\n",
       "      <td>0.0</td>\n",
       "      <td>2</td>\n",
       "      <td>0.00</td>\n",
       "      <td>0.600000</td>\n",
       "      <td>1.00</td>\n",
       "      <td>1.000</td>\n",
       "      <td>1.0</td>\n",
       "      <td>0.498273</td>\n",
       "    </tr>\n",
       "    <tr>\n",
       "      <th>4</th>\n",
       "      <td>Thriller</td>\n",
       "      <td>30</td>\n",
       "      <td>0.0</td>\n",
       "      <td>2</td>\n",
       "      <td>0.00</td>\n",
       "      <td>0.100000</td>\n",
       "      <td>0.00</td>\n",
       "      <td>0.000</td>\n",
       "      <td>1.0</td>\n",
       "      <td>0.305129</td>\n",
       "    </tr>\n",
       "    <tr>\n",
       "      <th>5</th>\n",
       "      <td>Comedy</td>\n",
       "      <td>30</td>\n",
       "      <td>0.0</td>\n",
       "      <td>2</td>\n",
       "      <td>0.00</td>\n",
       "      <td>0.100000</td>\n",
       "      <td>0.00</td>\n",
       "      <td>0.000</td>\n",
       "      <td>1.0</td>\n",
       "      <td>0.305129</td>\n",
       "    </tr>\n",
       "    <tr>\n",
       "      <th>6</th>\n",
       "      <td>Crime</td>\n",
       "      <td>30</td>\n",
       "      <td>0.0</td>\n",
       "      <td>2</td>\n",
       "      <td>0.00</td>\n",
       "      <td>0.133333</td>\n",
       "      <td>0.00</td>\n",
       "      <td>0.000</td>\n",
       "      <td>1.0</td>\n",
       "      <td>0.345746</td>\n",
       "    </tr>\n",
       "    <tr>\n",
       "      <th>7</th>\n",
       "      <td>Mystery</td>\n",
       "      <td>30</td>\n",
       "      <td>0.0</td>\n",
       "      <td>2</td>\n",
       "      <td>0.00</td>\n",
       "      <td>0.100000</td>\n",
       "      <td>0.00</td>\n",
       "      <td>0.000</td>\n",
       "      <td>1.0</td>\n",
       "      <td>0.305129</td>\n",
       "    </tr>\n",
       "    <tr>\n",
       "      <th>8</th>\n",
       "      <td>History</td>\n",
       "      <td>30</td>\n",
       "      <td>0.0</td>\n",
       "      <td>2</td>\n",
       "      <td>0.00</td>\n",
       "      <td>0.100000</td>\n",
       "      <td>0.00</td>\n",
       "      <td>0.000</td>\n",
       "      <td>1.0</td>\n",
       "      <td>0.305129</td>\n",
       "    </tr>\n",
       "    <tr>\n",
       "      <th>9</th>\n",
       "      <td>Label</td>\n",
       "      <td>30</td>\n",
       "      <td>0.0</td>\n",
       "      <td>1</td>\n",
       "      <td>0.00</td>\n",
       "      <td>0.000000</td>\n",
       "      <td>0.00</td>\n",
       "      <td>0.000</td>\n",
       "      <td>0.0</td>\n",
       "      <td>0.000000</td>\n",
       "    </tr>\n",
       "  </tbody>\n",
       "</table>\n",
       "</div>"
      ],
      "text/plain": [
       "       Feature  Count  % Missing  Card.  1st Qrt.       Mean  Median  3rd Qrt.   Max  Std. Dev.\n",
       "0     Movie ID     30        0.0     27     27.75  48.133333   48.50    64.250  98.0  29.288969\n",
       "1  IMDB Rating     30        0.0     17      7.30   7.696667    7.75     8.175   8.8   0.666169\n",
       "2    Biography     30        0.0      2      0.00   0.233333    0.00     0.000   1.0   0.430183\n",
       "3        Drama     30        0.0      2      0.00   0.600000    1.00     1.000   1.0   0.498273\n",
       "4     Thriller     30        0.0      2      0.00   0.100000    0.00     0.000   1.0   0.305129\n",
       "5       Comedy     30        0.0      2      0.00   0.100000    0.00     0.000   1.0   0.305129\n",
       "6        Crime     30        0.0      2      0.00   0.133333    0.00     0.000   1.0   0.345746\n",
       "7      Mystery     30        0.0      2      0.00   0.100000    0.00     0.000   1.0   0.305129\n",
       "8      History     30        0.0      2      0.00   0.100000    0.00     0.000   1.0   0.305129\n",
       "9        Label     30        0.0      1      0.00   0.000000    0.00     0.000   0.0   0.000000"
      ]
     },
     "execution_count": 66,
     "metadata": {},
     "output_type": "execute_result"
    }
   ],
   "source": [
    "dqr_cont"
   ]
  },
  {
   "cell_type": "markdown",
   "id": "5b2950f6-bc0d-48ec-8a8d-8c16a8aad574",
   "metadata": {},
   "source": [
    "#### Data Quality Report: Categorical Features"
   ]
  },
  {
   "cell_type": "code",
   "execution_count": 69,
   "id": "67eca8a4-ec77-4905-843c-8f42343d3a91",
   "metadata": {
    "scrolled": true
   },
   "outputs": [
    {
     "data": {
      "text/html": [
       "<div>\n",
       "<style scoped>\n",
       "    .dataframe tbody tr th:only-of-type {\n",
       "        vertical-align: middle;\n",
       "    }\n",
       "\n",
       "    .dataframe tbody tr th {\n",
       "        vertical-align: top;\n",
       "    }\n",
       "\n",
       "    .dataframe thead th {\n",
       "        text-align: right;\n",
       "    }\n",
       "</style>\n",
       "<table border=\"1\" class=\"dataframe\">\n",
       "  <thead>\n",
       "    <tr style=\"text-align: right;\">\n",
       "      <th></th>\n",
       "      <th>Feature</th>\n",
       "      <th>Count</th>\n",
       "      <th>% Missing</th>\n",
       "      <th>Card.</th>\n",
       "      <th>Mode</th>\n",
       "      <th>Mode Freq.</th>\n",
       "      <th>Mode %</th>\n",
       "      <th>2nd Mode</th>\n",
       "      <th>2nd Mode Freq.</th>\n",
       "      <th>2nd Mode %</th>\n",
       "    </tr>\n",
       "  </thead>\n",
       "  <tbody>\n",
       "    <tr>\n",
       "      <th>0</th>\n",
       "      <td>Movie Name</td>\n",
       "      <td>30</td>\n",
       "      <td>0.0</td>\n",
       "      <td>30</td>\n",
       "      <td>The Imitation Game</td>\n",
       "      <td>1</td>\n",
       "      <td>3.333333</td>\n",
       "      <td>Ex Machina</td>\n",
       "      <td>1</td>\n",
       "      <td>3.333333</td>\n",
       "    </tr>\n",
       "  </tbody>\n",
       "</table>\n",
       "</div>"
      ],
      "text/plain": [
       "      Feature  Count  % Missing  Card.                Mode  Mode Freq.    Mode %    2nd Mode  2nd Mode Freq.  2nd Mode %\n",
       "0  Movie Name     30        0.0     30  The Imitation Game           1  3.333333  Ex Machina               1    3.333333"
      ]
     },
     "execution_count": 69,
     "metadata": {},
     "output_type": "execute_result"
    }
   ],
   "source": [
    "dqr_cat"
   ]
  },
  {
   "cell_type": "markdown",
   "id": "ee31c0b3-6aab-482f-9ee6-b1f329e16cfa",
   "metadata": {},
   "source": [
    "There are no features with missing data. However, from the cardinality, it looks like we have some duplicate movie IDs."
   ]
  },
  {
   "cell_type": "markdown",
   "id": "63ed5566-63c9-4a03-b5f8-1b5d0b5f2bbb",
   "metadata": {},
   "source": [
    "#### Duplicate Check"
   ]
  },
  {
   "cell_type": "code",
   "execution_count": 73,
   "id": "1b949e1d-a42b-4d92-862c-f0e865f12083",
   "metadata": {},
   "outputs": [
    {
     "data": {
      "text/html": [
       "<div>\n",
       "<style scoped>\n",
       "    .dataframe tbody tr th:only-of-type {\n",
       "        vertical-align: middle;\n",
       "    }\n",
       "\n",
       "    .dataframe tbody tr th {\n",
       "        vertical-align: top;\n",
       "    }\n",
       "\n",
       "    .dataframe thead th {\n",
       "        text-align: right;\n",
       "    }\n",
       "</style>\n",
       "<table border=\"1\" class=\"dataframe\">\n",
       "  <thead>\n",
       "    <tr style=\"text-align: right;\">\n",
       "      <th></th>\n",
       "      <th>Movie ID</th>\n",
       "      <th>Movie Name</th>\n",
       "      <th>IMDB Rating</th>\n",
       "      <th>Biography</th>\n",
       "      <th>Drama</th>\n",
       "      <th>Thriller</th>\n",
       "      <th>Comedy</th>\n",
       "      <th>Crime</th>\n",
       "      <th>Mystery</th>\n",
       "      <th>History</th>\n",
       "      <th>Label</th>\n",
       "    </tr>\n",
       "  </thead>\n",
       "  <tbody>\n",
       "    <tr>\n",
       "      <th>2</th>\n",
       "      <td>46</td>\n",
       "      <td>A Beautiful Mind</td>\n",
       "      <td>8.2</td>\n",
       "      <td>1</td>\n",
       "      <td>1</td>\n",
       "      <td>0</td>\n",
       "      <td>0</td>\n",
       "      <td>0</td>\n",
       "      <td>0</td>\n",
       "      <td>0</td>\n",
       "      <td>0</td>\n",
       "    </tr>\n",
       "    <tr>\n",
       "      <th>5</th>\n",
       "      <td>98</td>\n",
       "      <td>21</td>\n",
       "      <td>6.8</td>\n",
       "      <td>0</td>\n",
       "      <td>1</td>\n",
       "      <td>0</td>\n",
       "      <td>0</td>\n",
       "      <td>1</td>\n",
       "      <td>0</td>\n",
       "      <td>1</td>\n",
       "      <td>0</td>\n",
       "    </tr>\n",
       "    <tr>\n",
       "      <th>20</th>\n",
       "      <td>57</td>\n",
       "      <td>The DaVinci Code</td>\n",
       "      <td>6.6</td>\n",
       "      <td>0</td>\n",
       "      <td>0</td>\n",
       "      <td>1</td>\n",
       "      <td>0</td>\n",
       "      <td>0</td>\n",
       "      <td>1</td>\n",
       "      <td>0</td>\n",
       "      <td>0</td>\n",
       "    </tr>\n",
       "    <tr>\n",
       "      <th>21</th>\n",
       "      <td>57</td>\n",
       "      <td>Stand and Deliver</td>\n",
       "      <td>7.3</td>\n",
       "      <td>0</td>\n",
       "      <td>1</td>\n",
       "      <td>0</td>\n",
       "      <td>0</td>\n",
       "      <td>0</td>\n",
       "      <td>0</td>\n",
       "      <td>0</td>\n",
       "      <td>0</td>\n",
       "    </tr>\n",
       "    <tr>\n",
       "      <th>24</th>\n",
       "      <td>98</td>\n",
       "      <td>The Avengers</td>\n",
       "      <td>8.1</td>\n",
       "      <td>0</td>\n",
       "      <td>0</td>\n",
       "      <td>0</td>\n",
       "      <td>0</td>\n",
       "      <td>0</td>\n",
       "      <td>0</td>\n",
       "      <td>0</td>\n",
       "      <td>0</td>\n",
       "    </tr>\n",
       "    <tr>\n",
       "      <th>29</th>\n",
       "      <td>46</td>\n",
       "      <td>Queen of Katwe</td>\n",
       "      <td>7.4</td>\n",
       "      <td>1</td>\n",
       "      <td>1</td>\n",
       "      <td>0</td>\n",
       "      <td>0</td>\n",
       "      <td>0</td>\n",
       "      <td>0</td>\n",
       "      <td>0</td>\n",
       "      <td>0</td>\n",
       "    </tr>\n",
       "  </tbody>\n",
       "</table>\n",
       "</div>"
      ],
      "text/plain": [
       "    Movie ID         Movie Name  IMDB Rating  Biography  Drama  Thriller  Comedy  Crime  Mystery  History  Label\n",
       "2         46   A Beautiful Mind          8.2          1      1         0       0      0        0        0      0\n",
       "5         98                 21          6.8          0      1         0       0      1        0        1      0\n",
       "20        57   The DaVinci Code          6.6          0      0         1       0      0        1        0      0\n",
       "21        57  Stand and Deliver          7.3          0      1         0       0      0        0        0      0\n",
       "24        98       The Avengers          8.1          0      0         0       0      0        0        0      0\n",
       "29        46     Queen of Katwe          7.4          1      1         0       0      0        0        0      0"
      ]
     },
     "execution_count": 73,
     "metadata": {},
     "output_type": "execute_result"
    }
   ],
   "source": [
    "df[df.duplicated('Movie ID', keep = False)]"
   ]
  },
  {
   "cell_type": "markdown",
   "id": "ac6296d6-c681-4373-b9f6-35555f3627e5",
   "metadata": {},
   "source": [
    "These are clearly unique movies, so Movie ID is useless. We will drop Movie ID and Label, since all the values for Label are the same."
   ]
  },
  {
   "cell_type": "code",
   "execution_count": 76,
   "id": "d83f5d2e-93fb-43e4-a79c-3d4f18270f28",
   "metadata": {},
   "outputs": [],
   "source": [
    "# Make a copy of the dataframe and assign it as our analytics base table (abt). The original df will remain unaltered.\n",
    "abt=df.copy()"
   ]
  },
  {
   "cell_type": "code",
   "execution_count": 78,
   "id": "14efd952-fe0d-4caa-89ef-92ec19a26166",
   "metadata": {},
   "outputs": [],
   "source": [
    "abt = abt.drop(columns = ['Movie ID', 'Label'])"
   ]
  },
  {
   "cell_type": "markdown",
   "id": "a6559a0b-9e15-48a2-a2f1-208446605094",
   "metadata": {},
   "source": [
    "We also need to check for duplicate movies by name:"
   ]
  },
  {
   "cell_type": "code",
   "execution_count": 81,
   "id": "cac2191c-f67e-4c85-8b8d-ab526bdf8f40",
   "metadata": {},
   "outputs": [
    {
     "data": {
      "text/html": [
       "<div>\n",
       "<style scoped>\n",
       "    .dataframe tbody tr th:only-of-type {\n",
       "        vertical-align: middle;\n",
       "    }\n",
       "\n",
       "    .dataframe tbody tr th {\n",
       "        vertical-align: top;\n",
       "    }\n",
       "\n",
       "    .dataframe thead th {\n",
       "        text-align: right;\n",
       "    }\n",
       "</style>\n",
       "<table border=\"1\" class=\"dataframe\">\n",
       "  <thead>\n",
       "    <tr style=\"text-align: right;\">\n",
       "      <th></th>\n",
       "      <th>Movie ID</th>\n",
       "      <th>Movie Name</th>\n",
       "      <th>IMDB Rating</th>\n",
       "      <th>Biography</th>\n",
       "      <th>Drama</th>\n",
       "      <th>Thriller</th>\n",
       "      <th>Comedy</th>\n",
       "      <th>Crime</th>\n",
       "      <th>Mystery</th>\n",
       "      <th>History</th>\n",
       "      <th>Label</th>\n",
       "    </tr>\n",
       "  </thead>\n",
       "  <tbody>\n",
       "  </tbody>\n",
       "</table>\n",
       "</div>"
      ],
      "text/plain": [
       "Empty DataFrame\n",
       "Columns: [Movie ID, Movie Name, IMDB Rating, Biography, Drama, Thriller, Comedy, Crime, Mystery, History, Label]\n",
       "Index: []"
      ]
     },
     "execution_count": 81,
     "metadata": {},
     "output_type": "execute_result"
    }
   ],
   "source": [
    "df[df.duplicated('Movie Name', keep = False)]"
   ]
  },
  {
   "cell_type": "markdown",
   "id": "66b31f5a-9233-4141-bc9b-1e5f9846b348",
   "metadata": {},
   "source": [
    "There are no duplicates. Let's visualize some of the data before starting on our model..."
   ]
  },
  {
   "cell_type": "markdown",
   "id": "5afc3448-2e09-4340-b6d7-4984fe5e57ea",
   "metadata": {},
   "source": [
    "<br>"
   ]
  },
  {
   "cell_type": "markdown",
   "id": "d8b62eec-d3ed-4b16-aca4-5a2f4b366cb4",
   "metadata": {},
   "source": [
    "### Step 3: Data Exploration"
   ]
  },
  {
   "cell_type": "markdown",
   "id": "13300e58-d99b-4c3d-8234-abe49e46a2a5",
   "metadata": {},
   "source": [
    "Before visualizing, we divide the ABT dataframe into two feature sets: continuous features and categorical features. We will treat any encoded features as categorical for visualization purposes."
   ]
  },
  {
   "cell_type": "code",
   "execution_count": 87,
   "id": "3ed734bb-3abc-4411-a4aa-d927b676773d",
   "metadata": {},
   "outputs": [
    {
     "data": {
      "text/plain": [
       "['Biography', 'Drama', 'Thriller', 'Comedy', 'Crime', 'Mystery', 'History']"
      ]
     },
     "execution_count": 87,
     "metadata": {},
     "output_type": "execute_result"
    }
   ],
   "source": [
    "# Assign any encoded categorical columns to cont_convert. In the next step, they will be grouped with the categorical columns, \n",
    "# so they are graphed as if they are categorical.\n",
    "cont_convert = abt.iloc[:,2:].columns.tolist()\n",
    "cont_convert"
   ]
  },
  {
   "cell_type": "code",
   "execution_count": 89,
   "id": "33dd6e1c-8e13-4c6b-afd9-c9b8989f22db",
   "metadata": {},
   "outputs": [
    {
     "name": "stdout",
     "output_type": "stream",
     "text": [
      "['Biography', 'Drama', 'Thriller', 'Comedy', 'Crime', 'Mystery', 'History']\n"
     ]
    }
   ],
   "source": [
    "print(cont_convert)\n",
    "continuous_cols, categorical_cols = split_cat_cont(abt, cont_convert=cont_convert) # Calling custom function to divide the data"
   ]
  },
  {
   "cell_type": "code",
   "execution_count": 91,
   "id": "75e2aa07-95d0-49ea-b35f-de0b501807d5",
   "metadata": {},
   "outputs": [
    {
     "data": {
      "text/html": [
       "<div>\n",
       "<style scoped>\n",
       "    .dataframe tbody tr th:only-of-type {\n",
       "        vertical-align: middle;\n",
       "    }\n",
       "\n",
       "    .dataframe tbody tr th {\n",
       "        vertical-align: top;\n",
       "    }\n",
       "\n",
       "    .dataframe thead th {\n",
       "        text-align: right;\n",
       "    }\n",
       "</style>\n",
       "<table border=\"1\" class=\"dataframe\">\n",
       "  <thead>\n",
       "    <tr style=\"text-align: right;\">\n",
       "      <th></th>\n",
       "      <th>Movie Name</th>\n",
       "      <th>Biography</th>\n",
       "      <th>Drama</th>\n",
       "      <th>Thriller</th>\n",
       "      <th>Comedy</th>\n",
       "      <th>Crime</th>\n",
       "      <th>Mystery</th>\n",
       "      <th>History</th>\n",
       "    </tr>\n",
       "  </thead>\n",
       "  <tbody>\n",
       "    <tr>\n",
       "      <th>0</th>\n",
       "      <td>The Imitation Game</td>\n",
       "      <td>1</td>\n",
       "      <td>1</td>\n",
       "      <td>1</td>\n",
       "      <td>0</td>\n",
       "      <td>0</td>\n",
       "      <td>0</td>\n",
       "      <td>0</td>\n",
       "    </tr>\n",
       "    <tr>\n",
       "      <th>1</th>\n",
       "      <td>Ex Machina</td>\n",
       "      <td>0</td>\n",
       "      <td>1</td>\n",
       "      <td>0</td>\n",
       "      <td>0</td>\n",
       "      <td>0</td>\n",
       "      <td>1</td>\n",
       "      <td>0</td>\n",
       "    </tr>\n",
       "    <tr>\n",
       "      <th>2</th>\n",
       "      <td>A Beautiful Mind</td>\n",
       "      <td>1</td>\n",
       "      <td>1</td>\n",
       "      <td>0</td>\n",
       "      <td>0</td>\n",
       "      <td>0</td>\n",
       "      <td>0</td>\n",
       "      <td>0</td>\n",
       "    </tr>\n",
       "    <tr>\n",
       "      <th>3</th>\n",
       "      <td>Good Will Hunting</td>\n",
       "      <td>0</td>\n",
       "      <td>1</td>\n",
       "      <td>0</td>\n",
       "      <td>0</td>\n",
       "      <td>0</td>\n",
       "      <td>0</td>\n",
       "      <td>0</td>\n",
       "    </tr>\n",
       "    <tr>\n",
       "      <th>4</th>\n",
       "      <td>Forrest Gump</td>\n",
       "      <td>0</td>\n",
       "      <td>1</td>\n",
       "      <td>0</td>\n",
       "      <td>0</td>\n",
       "      <td>0</td>\n",
       "      <td>0</td>\n",
       "      <td>0</td>\n",
       "    </tr>\n",
       "  </tbody>\n",
       "</table>\n",
       "</div>"
      ],
      "text/plain": [
       "           Movie Name  Biography  Drama  Thriller  Comedy  Crime  Mystery  History\n",
       "0  The Imitation Game          1      1         1       0      0        0        0\n",
       "1          Ex Machina          0      1         0       0      0        1        0\n",
       "2    A Beautiful Mind          1      1         0       0      0        0        0\n",
       "3   Good Will Hunting          0      1         0       0      0        0        0\n",
       "4        Forrest Gump          0      1         0       0      0        0        0"
      ]
     },
     "execution_count": 91,
     "metadata": {},
     "output_type": "execute_result"
    }
   ],
   "source": [
    "# Check the output\n",
    "abt[categorical_cols].head()"
   ]
  },
  {
   "cell_type": "code",
   "execution_count": 93,
   "id": "010c0ff9-bcc1-4ee8-9fa5-bab02054cfa4",
   "metadata": {},
   "outputs": [],
   "source": [
    "# Movie Name is just an identifier, so there is no need to visualize it or keep it in the features we'll use in the model.\n",
    "categorical_cols.remove('Movie Name')"
   ]
  },
  {
   "cell_type": "code",
   "execution_count": 95,
   "id": "3d1cdc5d-2560-4a88-b1cf-2c41c40a49ec",
   "metadata": {},
   "outputs": [
    {
     "data": {
      "text/html": [
       "<div>\n",
       "<style scoped>\n",
       "    .dataframe tbody tr th:only-of-type {\n",
       "        vertical-align: middle;\n",
       "    }\n",
       "\n",
       "    .dataframe tbody tr th {\n",
       "        vertical-align: top;\n",
       "    }\n",
       "\n",
       "    .dataframe thead th {\n",
       "        text-align: right;\n",
       "    }\n",
       "</style>\n",
       "<table border=\"1\" class=\"dataframe\">\n",
       "  <thead>\n",
       "    <tr style=\"text-align: right;\">\n",
       "      <th></th>\n",
       "      <th>IMDB Rating</th>\n",
       "    </tr>\n",
       "  </thead>\n",
       "  <tbody>\n",
       "    <tr>\n",
       "      <th>0</th>\n",
       "      <td>8.0</td>\n",
       "    </tr>\n",
       "    <tr>\n",
       "      <th>1</th>\n",
       "      <td>7.7</td>\n",
       "    </tr>\n",
       "    <tr>\n",
       "      <th>2</th>\n",
       "      <td>8.2</td>\n",
       "    </tr>\n",
       "    <tr>\n",
       "      <th>3</th>\n",
       "      <td>8.3</td>\n",
       "    </tr>\n",
       "    <tr>\n",
       "      <th>4</th>\n",
       "      <td>8.8</td>\n",
       "    </tr>\n",
       "  </tbody>\n",
       "</table>\n",
       "</div>"
      ],
      "text/plain": [
       "   IMDB Rating\n",
       "0          8.0\n",
       "1          7.7\n",
       "2          8.2\n",
       "3          8.3\n",
       "4          8.8"
      ]
     },
     "execution_count": 95,
     "metadata": {},
     "output_type": "execute_result"
    }
   ],
   "source": [
    "# Check the output\n",
    "abt[continuous_cols].head()"
   ]
  },
  {
   "cell_type": "markdown",
   "id": "72f17a4b-38c8-4c2b-9bc6-ec3a0cbf4793",
   "metadata": {},
   "source": [
    "### Data Distribution"
   ]
  },
  {
   "cell_type": "markdown",
   "id": "5ed1b250-c821-42c3-afa1-2f894b3d95ea",
   "metadata": {},
   "source": [
    "Histograms"
   ]
  },
  {
   "cell_type": "code",
   "execution_count": 99,
   "id": "3e2ac4fd-9bdc-481c-bb21-063e16a7cf3d",
   "metadata": {},
   "outputs": [],
   "source": [
    "# In this case, we have only one continuous column but still generate a facet wrapped figure that can be \n",
    "# re-used with a more complex dataset containing multiple continuous features."
   ]
  },
  {
   "cell_type": "code",
   "execution_count": 101,
   "id": "88395be5-9a6b-4eba-bc36-6178235ccfde",
   "metadata": {},
   "outputs": [],
   "source": [
    "from plotnine import ggplot, aes, geom_histogram, facet_wrap, theme, element_text, theme_classic, scale_y_continuous\n",
    "\n",
    "# Melt the DataFrame to long format\n",
    "abt_cont_melted = abt[continuous_cols].melt(var_name='column', value_name='value')\n",
    "\n",
    "# Calculate the number of rows and columns for the facet grid\n",
    "n_cols = 4\n",
    "n_rows = math.ceil(len(continuous_cols) / n_cols)\n",
    "\n",
    "# Create the plot\n",
    "cont_plot = (ggplot(abt_cont_melted, aes(x='value')) +\n",
    "    geom_histogram(bins=20, fill='deepskyblue', color='black', size=0.1) +  # Add thin line around bars\n",
    "    facet_wrap('~column', nrow=n_rows, ncol=n_cols, scales='free_x') +\n",
    "    theme_classic() +  # Apply classic theme\n",
    "    theme(panel_spacing=0.03,  # Adjust the spacing between panels\n",
    "        figure_size=(12/n_cols, n_rows * 3),  # Dynamically set figure size based on number of columns and rows\n",
    "        strip_text_x=element_text(size=10),\n",
    "        axis_text=element_text(size=8)  # Adjust axis text size for a tighter layout\n",
    "        #axis_title=element_text(size=10),  # Option to increase axis title size\n",
    "        #plot_title=element_text(size=12)  # Option to increase plot title size\n",
    "                 ) +\n",
    "    scale_y_continuous(expand=(0, 0))  # Force the y-axis to start at zero\n",
    ")"
   ]
  },
  {
   "cell_type": "code",
   "execution_count": 103,
   "id": "041e5203-5296-4032-9f47-440c81c5fe9a",
   "metadata": {},
   "outputs": [
    {
     "data": {
      "image/png": "[encoded data removed]",
      "text/plain": [
       "<Figure size 300x300 with 1 Axes>"
      ]
     },
     "execution_count": 103,
     "metadata": {},
     "output_type": "execute_result"
    }
   ],
   "source": [
    "cont_plot.draw()"
   ]
  },
  {
   "cell_type": "markdown",
   "id": "4d5cfab1-8a0f-4aee-9fe9-8d0d1b6a7258",
   "metadata": {},
   "source": [
    "Bar Plots"
   ]
  },
  {
   "cell_type": "code",
   "execution_count": 106,
   "id": "5fc85f94-a48d-4d15-85e7-85eb0cdc2ced",
   "metadata": {},
   "outputs": [],
   "source": [
    "from plotnine import (\n",
    "    ggplot, aes, geom_bar, facet_wrap, theme_classic, theme, element_text\n",
    ")\n",
    "\n",
    "# Melt categorical columns for visualization\n",
    "abt_cat_melted = abt[categorical_cols].melt(var_name='column', value_name='value')\n",
    "\n",
    "# Design bar plots \n",
    "cat_plot = (\n",
    "    ggplot(abt_cat_melted, aes(x='value')) +\n",
    "    geom_bar(fill='deepskyblue', color='black', size=0.1) +  # Add thin line around bars\n",
    "    facet_wrap('~column', nrow=12, ncol=4, scales='free_x') +\n",
    "    theme_classic() +  # Apply classic theme\n",
    "    theme(\n",
    "        panel_spacing=0.03,  # Adjust space between panels\n",
    "        figure_size=(10, 6),  # Increase the figure size (width, height)\n",
    "        strip_text_x=element_text(size=12),  # Increase facet label size\n",
    "        axis_text=element_text(size=12),  # Increase axis text size\n",
    "        axis_title=element_text(size=16),  # Adjust axis title size\n",
    "        # plot_title=element_text(size=36)  # Uncomment for plot title size\n",
    "    )\n",
    ")"
   ]
  },
  {
   "cell_type": "code",
   "execution_count": 108,
   "id": "959c8b9e-6d56-48fa-9276-95cc1b529249",
   "metadata": {},
   "outputs": [
    {
     "data": {
      "image/png": "[encoded data removed]",
      "text/plain": [
       "<Figure size 1000x600 with 7 Axes>"
      ]
     },
     "execution_count": 108,
     "metadata": {},
     "output_type": "execute_result"
    }
   ],
   "source": [
    "cat_plot.draw()"
   ]
  },
  {
   "cell_type": "markdown",
   "id": "4ed6a034-e084-496c-838a-983599bca114",
   "metadata": {},
   "source": [
    "Note that we have a very low number of comedies, history films, mysteries, and thrillers. KNN will choose movies outside of the same genre if k is too high."
   ]
  },
  {
   "cell_type": "markdown",
   "id": "4d73bd33-b08e-4891-8343-ddd08eab98a8",
   "metadata": {},
   "source": [
    "<br>"
   ]
  },
  {
   "cell_type": "markdown",
   "id": "a35da572-d0f7-475b-9c5f-574ecdad0ec7",
   "metadata": {},
   "source": [
    "### Step 4: Modeling"
   ]
  },
  {
   "cell_type": "code",
   "execution_count": 113,
   "id": "635a4269-2f16-47e4-a669-bd27d0da95e3",
   "metadata": {},
   "outputs": [],
   "source": [
    "model_data = abt.copy()"
   ]
  },
  {
   "cell_type": "code",
   "execution_count": 115,
   "id": "b86ee5e8-f412-44de-83f5-fae6c4c1e658",
   "metadata": {},
   "outputs": [],
   "source": [
    "model_data = model_data.sort_values(by='IMDB Rating', ascending=False)"
   ]
  },
  {
   "cell_type": "code",
   "execution_count": 117,
   "id": "99d82b14-ee23-4d2b-9c99-fa6c8f12ded7",
   "metadata": {},
   "outputs": [],
   "source": [
    "y = model_data.pop('Movie Name')"
   ]
  },
  {
   "cell_type": "code",
   "execution_count": 119,
   "id": "b242a7f5-a739-47a8-920c-84ee182083d1",
   "metadata": {},
   "outputs": [],
   "source": [
    "features = model_data[categorical_cols]"
   ]
  },
  {
   "cell_type": "markdown",
   "id": "9a9e996f-316a-48bb-a8e8-377b589b9922",
   "metadata": {},
   "source": [
    "We exclude the IMDb rating because it speaks to quality and not necessarily similarity. For example, if a user watches a movie with a low IMDb rating, we don't want to recommend a poorly rated movie just because it is closest in our vector space. Instead we will use the IMDb rating to sort the data before it goes into the KNN algorithm. If two neighbors are equidistant, the model will rely on the sorting order to make a recommendation, i.e., it will recommend the most highly rated movie first of those with similar distances. Our user is more likely to enjoy highly rated movies. If we were working with a larger number of observations, we could use a higher value of k and then filter the results for the top 3 rated movies. However, because we have such a small number of movies, we will just order the data; we don't want to pick up results that are too disimilar from the movie our user watched."
   ]
  },
  {
   "cell_type": "code",
   "execution_count": 122,
   "id": "d389e81d-958b-4bd5-8088-0093779b9abe",
   "metadata": {},
   "outputs": [],
   "source": [
    "k=3"
   ]
  },
  {
   "cell_type": "code",
   "execution_count": 124,
   "id": "905635e8-45aa-4a07-818c-0dcaf1a7109e",
   "metadata": {},
   "outputs": [
    {
     "data": {
      "text/html": [
       "<style>#sk-container-id-1 {color: black;}#sk-container-id-1 pre{padding: 0;}#sk-container-id-1 div.sk-toggleable {background-color: white;}#sk-container-id-1 label.sk-toggleable__label {cursor: pointer;display: block;width: 100%;margin-bottom: 0;padding: 0.3em;box-sizing: border-box;text-align: center;}#sk-container-id-1 label.sk-toggleable__label-arrow:before {content: \"▸\";float: left;margin-right: 0.25em;color: #696969;}#sk-container-id-1 label.sk-toggleable__label-arrow:hover:before {color: black;}#sk-container-id-1 div.sk-estimator:hover label.sk-toggleable__label-arrow:before {color: black;}#sk-container-id-1 div.sk-toggleable__content {max-height: 0;max-width: 0;overflow: hidden;text-align: left;background-color: #f0f8ff;}#sk-container-id-1 div.sk-toggleable__content pre {margin: 0.2em;color: black;border-radius: 0.25em;background-color: #f0f8ff;}#sk-container-id-1 input.sk-toggleable__control:checked~div.sk-toggleable__content {max-height: 200px;max-width: 100%;overflow: auto;}#sk-container-id-1 input.sk-toggleable__control:checked~label.sk-toggleable__label-arrow:before {content: \"▾\";}#sk-container-id-1 div.sk-estimator input.sk-toggleable__control:checked~label.sk-toggleable__label {background-color: #d4ebff;}#sk-container-id-1 div.sk-label input.sk-toggleable__control:checked~label.sk-toggleable__label {background-color: #d4ebff;}#sk-container-id-1 input.sk-hidden--visually {border: 0;clip: rect(1px 1px 1px 1px);clip: rect(1px, 1px, 1px, 1px);height: 1px;margin: -1px;overflow: hidden;padding: 0;position: absolute;width: 1px;}#sk-container-id-1 div.sk-estimator {font-family: monospace;background-color: #f0f8ff;border: 1px dotted black;border-radius: 0.25em;box-sizing: border-box;margin-bottom: 0.5em;}#sk-container-id-1 div.sk-estimator:hover {background-color: #d4ebff;}#sk-container-id-1 div.sk-parallel-item::after {content: \"\";width: 100%;border-bottom: 1px solid gray;flex-grow: 1;}#sk-container-id-1 div.sk-label:hover label.sk-toggleable__label {background-color: #d4ebff;}#sk-container-id-1 div.sk-serial::before {content: \"\";position: absolute;border-left: 1px solid gray;box-sizing: border-box;top: 0;bottom: 0;left: 50%;z-index: 0;}#sk-container-id-1 div.sk-serial {display: flex;flex-direction: column;align-items: center;background-color: white;padding-right: 0.2em;padding-left: 0.2em;position: relative;}#sk-container-id-1 div.sk-item {position: relative;z-index: 1;}#sk-container-id-1 div.sk-parallel {display: flex;align-items: stretch;justify-content: center;background-color: white;position: relative;}#sk-container-id-1 div.sk-item::before, #sk-container-id-1 div.sk-parallel-item::before {content: \"\";position: absolute;border-left: 1px solid gray;box-sizing: border-box;top: 0;bottom: 0;left: 50%;z-index: -1;}#sk-container-id-1 div.sk-parallel-item {display: flex;flex-direction: column;z-index: 1;position: relative;background-color: white;}#sk-container-id-1 div.sk-parallel-item:first-child::after {align-self: flex-end;width: 50%;}#sk-container-id-1 div.sk-parallel-item:last-child::after {align-self: flex-start;width: 50%;}#sk-container-id-1 div.sk-parallel-item:only-child::after {width: 0;}#sk-container-id-1 div.sk-dashed-wrapped {border: 1px dashed gray;margin: 0 0.4em 0.5em 0.4em;box-sizing: border-box;padding-bottom: 0.4em;background-color: white;}#sk-container-id-1 div.sk-label label {font-family: monospace;font-weight: bold;display: inline-block;line-height: 1.2em;}#sk-container-id-1 div.sk-label-container {text-align: center;}#sk-container-id-1 div.sk-container {/* jupyter's `normalize.less` sets `[hidden] { display: none; }` but bootstrap.min.css set `[hidden] { display: none !important; }` so we also need the `!important` here to be able to override the default hidden behavior on the sphinx rendered scikit-learn.org. See: https://github.com/scikit-learn/scikit-learn/issues/21755 */display: inline-block !important;position: relative;}#sk-container-id-1 div.sk-text-repr-fallback {display: none;}</style><div id=\"sk-container-id-1\" class=\"sk-top-container\"><div class=\"sk-text-repr-fallback\"><pre>NearestNeighbors(n_neighbors=3)</pre><b>In a Jupyter environment, please rerun this cell to show the HTML representation or trust the notebook. <br />On GitHub, the HTML representation is unable to render, please try loading this page with nbviewer.org.</b></div><div class=\"sk-container\" hidden><div class=\"sk-item\"><div class=\"sk-estimator sk-toggleable\"><input class=\"sk-toggleable__control sk-hidden--visually\" id=\"sk-estimator-id-1\" type=\"checkbox\" checked><label for=\"sk-estimator-id-1\" class=\"sk-toggleable__label sk-toggleable__label-arrow\">NearestNeighbors</label><div class=\"sk-toggleable__content\"><pre>NearestNeighbors(n_neighbors=3)</pre></div></div></div></div></div>"
      ],
      "text/plain": [
       "NearestNeighbors(n_neighbors=3)"
      ]
     },
     "execution_count": 124,
     "metadata": {},
     "output_type": "execute_result"
    }
   ],
   "source": [
    "knn = NearestNeighbors(n_neighbors=k)\n",
    "knn.fit(features)"
   ]
  },
  {
   "cell_type": "markdown",
   "id": "39307690-2d4e-41f8-bf3e-10b3611514d0",
   "metadata": {},
   "source": [
    "##### Recommendations"
   ]
  },
  {
   "cell_type": "code",
   "execution_count": 126,
   "id": "1dd8e05a-25ee-48e8-a7e2-1e2f310b7f20",
   "metadata": {},
   "outputs": [],
   "source": [
    "# Enter the genre information for the movie from which we are building the prediction\n",
    "watched_movie_data = pd.DataFrame({\n",
    "     'Biography': [1],\n",
    "     'Drama': [1],\n",
    "     'Thriller': [0],\n",
    "     'Comedy': [0],\n",
    "     'Crime': [0],\n",
    "     'Mystery': [0],\n",
    "     'History': [1]\n",
    "})"
   ]
  },
  {
   "cell_type": "code",
   "execution_count": 128,
   "id": "8790d752-5503-4bac-a298-30ae99645637",
   "metadata": {},
   "outputs": [],
   "source": [
    "# Custom function to return the recommended movies based on the KNN model\n",
    "\n",
    "def recommend_movies(watched_movie_data, n_recommendations=k):\n",
    "    \n",
    "    # Find nearest neighbors for the new movie\n",
    "    distances, indices = knn.kneighbors(watched_movie_data, n_neighbors=k)\n",
    "    \n",
    "    # Get recommendations with their IMDb ratings\n",
    "    recommendations = []\n",
    "    for i in range(len(distances.flatten())): # loop for each recommendation, i.e., k times\n",
    "        movie_index = indices.flatten()[i] # Get the index of the movie\n",
    "        movie_title = y.iloc[movie_index] # Find the index in the y dataframe to get the movie title\n",
    "        imdb_rating = model_data.iloc[movie_index]['IMDB Rating']\n",
    "        recommendations.append((movie_title, imdb_rating))\n",
    "    \n",
    "    # Sort recommendations by IMDb rating in descending order; we will show the most highly rated movies first\n",
    "    recommendations.sort(key=lambda x: x[1], reverse=True)\n",
    "    \n",
    "    # Convert output into a formatted dataframe\n",
    "    recommendations_df = pd.DataFrame(recommendations, columns=['Movie Title', 'IMDb Rating'])\n",
    "    \n",
    "    return recommendations_df"
   ]
  },
  {
   "cell_type": "code",
   "execution_count": 130,
   "id": "bc2b5d7f-5114-437f-819d-ceace58b2cac",
   "metadata": {},
   "outputs": [
    {
     "data": {
      "text/html": [
       "<style type=\"text/css\">\n",
       "</style>\n",
       "<table id=\"T_f7d64\">\n",
       "  <thead>\n",
       "    <tr>\n",
       "      <th id=\"T_f7d64_level0_col0\" class=\"col_heading level0 col0\" >Movie Title</th>\n",
       "      <th id=\"T_f7d64_level0_col1\" class=\"col_heading level0 col1\" >IMDb Rating</th>\n",
       "    </tr>\n",
       "  </thead>\n",
       "  <tbody>\n",
       "    <tr>\n",
       "      <td id=\"T_f7d64_row0_col0\" class=\"data row0 col0\" >Hacksaw Ridge</td>\n",
       "      <td id=\"T_f7d64_row0_col1\" class=\"data row0 col1\" >8.200000</td>\n",
       "    </tr>\n",
       "    <tr>\n",
       "      <td id=\"T_f7d64_row1_col0\" class=\"data row1 col0\" >A Beautiful Mind</td>\n",
       "      <td id=\"T_f7d64_row1_col1\" class=\"data row1 col1\" >8.200000</td>\n",
       "    </tr>\n",
       "    <tr>\n",
       "      <td id=\"T_f7d64_row2_col0\" class=\"data row2 col0\" >12 Years a Slave</td>\n",
       "      <td id=\"T_f7d64_row2_col1\" class=\"data row2 col1\" >8.100000</td>\n",
       "    </tr>\n",
       "  </tbody>\n",
       "</table>\n"
      ],
      "text/plain": [
       "<pandas.io.formats.style.Styler at 0x25b7f8c8810>"
      ]
     },
     "metadata": {},
     "output_type": "display_data"
    }
   ],
   "source": [
    "display(recommend_movies(watched_movie_data,k).style.hide(axis=\"index\"))"
   ]
  }
 ],
 "metadata": {
  "kernelspec": {
   "display_name": "Python [conda env:base] *",
   "language": "python",
   "name": "conda-base-py"
  },
  "language_info": {
   "codemirror_mode": {
    "name": "ipython",
    "version": 3
   },
   "file_extension": ".py",
   "mimetype": "text/x-python",
   "name": "python",
   "nbconvert_exporter": "python",
   "pygments_lexer": "ipython3",
   "version": "3.11.4"
  }
 },
 "nbformat": 4,
 "nbformat_minor": 5
}
