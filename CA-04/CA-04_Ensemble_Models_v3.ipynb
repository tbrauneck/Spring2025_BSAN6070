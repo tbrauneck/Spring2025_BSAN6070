{
 "cells": [
  {
   "cell_type": "markdown",
   "id": "10edc6a1-150e-4642-910b-3d9ad4631ca5",
   "metadata": {},
   "source": [
    "# Ensemble Models\n",
    "#### BSAN6070 CA-04 <br> Tina Brauneck<br>3/22/2025"
   ]
  },
  {
   "cell_type": "markdown",
   "id": "9db3abf0-f60c-4cc4-85bc-cf4c4ee42ab4",
   "metadata": {},
   "source": [
    "<br>Description: <br>This program uses ensemble models, including Random Forest, AdaBoost, Gradient Boost, and XGB to predict a target class (>50K or <=50K). The process begins with data exploration and pre-processing. It includes examples of hyperparameter tuning, using graphs to find the optimal value, as well as an example of k-fold cross validation and GridSearchCV to find best combinations of values. The program compares the performance of the four different ensemble models, using the optimal n_estimators value for each. All other hyperparameters are kept at default in the comparison. <br><br>"
   ]
  },
  {
   "cell_type": "markdown",
   "id": "c217e735-2c1b-4906-85cd-1baa3f462510",
   "metadata": {},
   "source": [
    "### Table of Contents\n",
    "##### &emsp; Step 1: Data Exploration and Pre-processing"
   ]
  },
  {
   "cell_type": "markdown",
   "id": "82f34fd7-da23-4e65-851a-6e0304b30b43",
   "metadata": {},
   "source": [
    "&emsp; &emsp; &emsp; Setup <br>\n",
    "&emsp; &emsp; &emsp; Data Quality Report <br>\n",
    "&emsp; &emsp; &emsp; Missing Data Checks <br>\n",
    "&emsp; &emsp; &emsp; Cardinality Checks <br>\n",
    "&emsp; &emsp; &emsp; Bar Charts <br>\n",
    "&emsp; &emsp; &emsp; Correlation <br>\n",
    "&emsp; &emsp; &emsp; Pre-processing <br>"
   ]
  },
  {
   "cell_type": "markdown",
   "id": "b412be95-e5de-484b-b3f5-53c1b060e384",
   "metadata": {},
   "source": [
    "##### &emsp; Step 2: Modeling"
   ]
  },
  {
   "cell_type": "markdown",
   "id": "46d18935-2351-4d7a-8c1d-3493f9927e79",
   "metadata": {},
   "source": [
    "&emsp; &emsp; &emsp; Model Setup <br>\n",
    "&emsp; &emsp; &emsp; Random Forest <br>\n",
    "&emsp; &emsp; &emsp; Hyperparameter Tuning <br>\n",
    "&emsp; &emsp; &emsp; AdaBoost <br>\n",
    "&emsp; &emsp; &emsp; Gradient Boost <br>\n",
    "&emsp; &emsp; &emsp; XGB <br>\n",
    "&emsp; &emsp; &emsp; Choosing the Model <br>"
   ]
  },
  {
   "cell_type": "markdown",
   "id": "92f8b5a8-c9bc-4773-af6c-788270ceb8c8",
   "metadata": {},
   "source": [
    "##### &emsp; Step 3: Predictor"
   ]
  },
  {
   "cell_type": "markdown",
   "id": "9754fe1a-fabf-4f7b-8bad-672c6f7ce862",
   "metadata": {},
   "source": [
    "&emsp; &emsp; &emsp; User Input <br>\n",
    "&emsp; &emsp; &emsp; Prediction"
   ]
  },
  {
   "cell_type": "markdown",
   "id": "f2eb89b0-11aa-4002-a47b-997e508df696",
   "metadata": {},
   "source": [
    " <br><br>"
   ]
  },
  {
   "cell_type": "markdown",
   "id": "e3767f59-5e15-4cc5-85f0-9c78d865a69a",
   "metadata": {},
   "source": [
    "## Step 1: Data Exploration & Pre-processing"
   ]
  },
  {
   "cell_type": "markdown",
   "id": "06f88408-6b5b-4759-94ba-3bf0b4199ccf",
   "metadata": {},
   "source": [
    "### Setup"
   ]
  },
  {
   "cell_type": "markdown",
   "id": "6db4d32d-ec38-4722-be82-558300ab2f94",
   "metadata": {},
   "source": [
    "Environment setup and package imports:"
   ]
  },
  {
   "cell_type": "code",
   "execution_count": 14,
   "id": "a5c8a6c3-88f0-4819-bcb3-f840d7d9a80b",
   "metadata": {},
   "outputs": [],
   "source": [
    "# Optional installations. Uncomment and install if not already installed. It is recommended that you run one line at a time.\n",
    "# pip install plotnine pandas\n",
    "## pip install plotly\n",
    "# pip install girth\n",
    "# pip install --upgrade bottleneck\n",
    "# pip install semopy\n",
    "# conda install python-graphviz\n",
    "# pip install xgboost"
   ]
  },
  {
   "cell_type": "code",
   "execution_count": 15,
   "id": "fbeef09e-2488-47ff-b92c-c826444c2102",
   "metadata": {},
   "outputs": [],
   "source": [
    "#Package imports:\n",
    "\n",
    "# Basic visualization and data handling\n",
    "import matplotlib\n",
    "import pandas as pd\n",
    "import numpy as np\n",
    "import matplotlib.pyplot as plt\n",
    "import seaborn as sns\n",
    "from plotnine import ggplot, aes, geom_histogram, facet_wrap, geom_bar\n",
    "from IPython.display import display\n",
    "from sklearn.preprocessing import OneHotEncoder\n",
    "\n",
    "# Modeling\n",
    "from sklearn import tree, metrics\n",
    "from sklearn.ensemble import RandomForestClassifier, AdaBoostClassifier, GradientBoostingClassifier\n",
    "from xgboost import XGBClassifier\n",
    "from sklearn.metrics import accuracy_score, confusion_matrix, precision_score, f1_score, recall_score, ConfusionMatrixDisplay, roc_curve, auc\n",
    "from sklearn.model_selection import RandomizedSearchCV, train_test_split\n",
    "from scipy.stats import randint\n",
    "\n",
    "#Performance Visualization\n",
    "from matplotlib.legend_handler import HandlerLine2D"
   ]
  },
  {
   "cell_type": "markdown",
   "id": "8eaa84ff-cdf7-4eb5-a39c-5b6cd02748ad",
   "metadata": {},
   "source": [
    " "
   ]
  },
  {
   "cell_type": "markdown",
   "id": "43497c25-2d86-480e-81f4-dcf21a0f7a7b",
   "metadata": {},
   "source": [
    "These next few steps put our data into a dataframe and provide a first look at the data."
   ]
  },
  {
   "cell_type": "code",
   "execution_count": 18,
   "id": "16f9ccf4-2524-4b53-aac2-abe382927028",
   "metadata": {},
   "outputs": [],
   "source": [
    "df = pd.read_csv(r\"https://github.com/ArinB/MSBA-CA-03-Decision-Trees/blob/master/census_data.csv?raw=true\") # read in the data"
   ]
  },
  {
   "cell_type": "code",
   "execution_count": 19,
   "id": "ec99dc8a-623a-4bf3-b391-dc4dd5a3f0e7",
   "metadata": {},
   "outputs": [
    {
     "name": "stdout",
     "output_type": "stream",
     "text": [
      "(48842, 11)\n"
     ]
    }
   ],
   "source": [
    "## print the DataFrame's shape, i.e., number of rows and columns\n",
    "print(df.shape)"
   ]
  },
  {
   "cell_type": "code",
   "execution_count": 20,
   "id": "f6a2cb32-a9b7-40e5-95f9-15b56d930b48",
   "metadata": {},
   "outputs": [
    {
     "data": {
      "text/html": [
       "<div>\n",
       "<style scoped>\n",
       "    .dataframe tbody tr th:only-of-type {\n",
       "        vertical-align: middle;\n",
       "    }\n",
       "\n",
       "    .dataframe tbody tr th {\n",
       "        vertical-align: top;\n",
       "    }\n",
       "\n",
       "    .dataframe thead th {\n",
       "        text-align: right;\n",
       "    }\n",
       "</style>\n",
       "<table border=\"1\" class=\"dataframe\">\n",
       "  <thead>\n",
       "    <tr style=\"text-align: right;\">\n",
       "      <th></th>\n",
       "      <th>hours_per_week_bin</th>\n",
       "      <th>occupation_bin</th>\n",
       "      <th>msr_bin</th>\n",
       "      <th>capital_gl_bin</th>\n",
       "      <th>race_sex_bin</th>\n",
       "      <th>education_num_bin</th>\n",
       "      <th>education_bin</th>\n",
       "      <th>workclass_bin</th>\n",
       "      <th>age_bin</th>\n",
       "      <th>flag</th>\n",
       "      <th>y</th>\n",
       "    </tr>\n",
       "  </thead>\n",
       "  <tbody>\n",
       "    <tr>\n",
       "      <th>0</th>\n",
       "      <td>b. 31-40</td>\n",
       "      <td>b. Mid - Low</td>\n",
       "      <td>b. Mid</td>\n",
       "      <td>c. &gt; 0</td>\n",
       "      <td>c. High</td>\n",
       "      <td>c. 13</td>\n",
       "      <td>c. Bachelors</td>\n",
       "      <td>b. income</td>\n",
       "      <td>d. 36-40 &amp; 56-60</td>\n",
       "      <td>train</td>\n",
       "      <td>0</td>\n",
       "    </tr>\n",
       "    <tr>\n",
       "      <th>1</th>\n",
       "      <td>a. 0-30</td>\n",
       "      <td>e. High</td>\n",
       "      <td>c. High</td>\n",
       "      <td>a. = 0</td>\n",
       "      <td>c. High</td>\n",
       "      <td>c. 13</td>\n",
       "      <td>c. Bachelors</td>\n",
       "      <td>b. income</td>\n",
       "      <td>e. 40-55</td>\n",
       "      <td>train</td>\n",
       "      <td>0</td>\n",
       "    </tr>\n",
       "    <tr>\n",
       "      <th>2</th>\n",
       "      <td>b. 31-40</td>\n",
       "      <td>a. Low</td>\n",
       "      <td>b. Mid</td>\n",
       "      <td>a. = 0</td>\n",
       "      <td>c. High</td>\n",
       "      <td>b. 9-12</td>\n",
       "      <td>b. Mid</td>\n",
       "      <td>b. income</td>\n",
       "      <td>d. 36-40 &amp; 56-60</td>\n",
       "      <td>train</td>\n",
       "      <td>0</td>\n",
       "    </tr>\n",
       "    <tr>\n",
       "      <th>3</th>\n",
       "      <td>b. 31-40</td>\n",
       "      <td>a. Low</td>\n",
       "      <td>c. High</td>\n",
       "      <td>a. = 0</td>\n",
       "      <td>b. Mid</td>\n",
       "      <td>a. 0-8</td>\n",
       "      <td>a. Low</td>\n",
       "      <td>b. income</td>\n",
       "      <td>e. 40-55</td>\n",
       "      <td>train</td>\n",
       "      <td>0</td>\n",
       "    </tr>\n",
       "    <tr>\n",
       "      <th>4</th>\n",
       "      <td>b. 31-40</td>\n",
       "      <td>e. High</td>\n",
       "      <td>c. High</td>\n",
       "      <td>a. = 0</td>\n",
       "      <td>a. Low</td>\n",
       "      <td>c. 13</td>\n",
       "      <td>c. Bachelors</td>\n",
       "      <td>b. income</td>\n",
       "      <td>b. 26-30 &amp; 71-100</td>\n",
       "      <td>train</td>\n",
       "      <td>0</td>\n",
       "    </tr>\n",
       "  </tbody>\n",
       "</table>\n",
       "</div>"
      ],
      "text/plain": [
       "  hours_per_week_bin occupation_bin  msr_bin capital_gl_bin race_sex_bin  \\\n",
       "0           b. 31-40   b. Mid - Low   b. Mid         c. > 0      c. High   \n",
       "1            a. 0-30        e. High  c. High         a. = 0      c. High   \n",
       "2           b. 31-40         a. Low   b. Mid         a. = 0      c. High   \n",
       "3           b. 31-40         a. Low  c. High         a. = 0       b. Mid   \n",
       "4           b. 31-40        e. High  c. High         a. = 0       a. Low   \n",
       "\n",
       "  education_num_bin education_bin workclass_bin            age_bin   flag  y  \n",
       "0             c. 13  c. Bachelors     b. income   d. 36-40 & 56-60  train  0  \n",
       "1             c. 13  c. Bachelors     b. income           e. 40-55  train  0  \n",
       "2           b. 9-12        b. Mid     b. income   d. 36-40 & 56-60  train  0  \n",
       "3            a. 0-8        a. Low     b. income           e. 40-55  train  0  \n",
       "4             c. 13  c. Bachelors     b. income  b. 26-30 & 71-100  train  0  "
      ]
     },
     "execution_count": 20,
     "metadata": {},
     "output_type": "execute_result"
    }
   ],
   "source": [
    "df.head() #preview the data"
   ]
  },
  {
   "cell_type": "code",
   "execution_count": 21,
   "id": "440eb8d5-47c6-49a6-a17b-008f24e42493",
   "metadata": {},
   "outputs": [
    {
     "data": {
      "text/html": [
       "<div>\n",
       "<style scoped>\n",
       "    .dataframe tbody tr th:only-of-type {\n",
       "        vertical-align: middle;\n",
       "    }\n",
       "\n",
       "    .dataframe tbody tr th {\n",
       "        vertical-align: top;\n",
       "    }\n",
       "\n",
       "    .dataframe thead th {\n",
       "        text-align: right;\n",
       "    }\n",
       "</style>\n",
       "<table border=\"1\" class=\"dataframe\">\n",
       "  <thead>\n",
       "    <tr style=\"text-align: right;\">\n",
       "      <th></th>\n",
       "      <th>hours_per_week_bin</th>\n",
       "      <th>occupation_bin</th>\n",
       "      <th>msr_bin</th>\n",
       "      <th>capital_gl_bin</th>\n",
       "      <th>race_sex_bin</th>\n",
       "      <th>education_num_bin</th>\n",
       "      <th>education_bin</th>\n",
       "      <th>workclass_bin</th>\n",
       "      <th>age_bin</th>\n",
       "      <th>flag</th>\n",
       "      <th>y</th>\n",
       "    </tr>\n",
       "  </thead>\n",
       "  <tbody>\n",
       "    <tr>\n",
       "      <th>48837</th>\n",
       "      <td>b. 31-40</td>\n",
       "      <td>e. High</td>\n",
       "      <td>b. Mid</td>\n",
       "      <td>a. = 0</td>\n",
       "      <td>b. Mid</td>\n",
       "      <td>c. 13</td>\n",
       "      <td>c. Bachelors</td>\n",
       "      <td>b. income</td>\n",
       "      <td>d. 36-40 &amp; 56-60</td>\n",
       "      <td>test</td>\n",
       "      <td>0</td>\n",
       "    </tr>\n",
       "    <tr>\n",
       "      <th>48838</th>\n",
       "      <td>b. 31-40</td>\n",
       "      <td>b. Mid - Low</td>\n",
       "      <td>a. Low</td>\n",
       "      <td>a. = 0</td>\n",
       "      <td>b. Mid</td>\n",
       "      <td>b. 9-12</td>\n",
       "      <td>b. Mid</td>\n",
       "      <td>a. no income</td>\n",
       "      <td>c. 31-35 &amp; 61-70</td>\n",
       "      <td>test</td>\n",
       "      <td>0</td>\n",
       "    </tr>\n",
       "    <tr>\n",
       "      <th>48839</th>\n",
       "      <td>d. 41-50 &amp; 61-70</td>\n",
       "      <td>e. High</td>\n",
       "      <td>c. High</td>\n",
       "      <td>a. = 0</td>\n",
       "      <td>c. High</td>\n",
       "      <td>c. 13</td>\n",
       "      <td>c. Bachelors</td>\n",
       "      <td>b. income</td>\n",
       "      <td>d. 36-40 &amp; 56-60</td>\n",
       "      <td>test</td>\n",
       "      <td>0</td>\n",
       "    </tr>\n",
       "    <tr>\n",
       "      <th>48840</th>\n",
       "      <td>b. 31-40</td>\n",
       "      <td>b. Mid - Low</td>\n",
       "      <td>a. Low</td>\n",
       "      <td>c. &gt; 0</td>\n",
       "      <td>c. High</td>\n",
       "      <td>c. 13</td>\n",
       "      <td>c. Bachelors</td>\n",
       "      <td>b. income</td>\n",
       "      <td>e. 40-55</td>\n",
       "      <td>test</td>\n",
       "      <td>0</td>\n",
       "    </tr>\n",
       "    <tr>\n",
       "      <th>48841</th>\n",
       "      <td>e. 51-60</td>\n",
       "      <td>e. High</td>\n",
       "      <td>c. High</td>\n",
       "      <td>a. = 0</td>\n",
       "      <td>c. High</td>\n",
       "      <td>c. 13</td>\n",
       "      <td>c. Bachelors</td>\n",
       "      <td>b. income</td>\n",
       "      <td>c. 31-35 &amp; 61-70</td>\n",
       "      <td>test</td>\n",
       "      <td>1</td>\n",
       "    </tr>\n",
       "  </tbody>\n",
       "</table>\n",
       "</div>"
      ],
      "text/plain": [
       "      hours_per_week_bin occupation_bin  msr_bin capital_gl_bin race_sex_bin  \\\n",
       "48837           b. 31-40        e. High   b. Mid         a. = 0       b. Mid   \n",
       "48838           b. 31-40   b. Mid - Low   a. Low         a. = 0       b. Mid   \n",
       "48839   d. 41-50 & 61-70        e. High  c. High         a. = 0      c. High   \n",
       "48840           b. 31-40   b. Mid - Low   a. Low         c. > 0      c. High   \n",
       "48841           e. 51-60        e. High  c. High         a. = 0      c. High   \n",
       "\n",
       "      education_num_bin education_bin workclass_bin           age_bin  flag  y  \n",
       "48837             c. 13  c. Bachelors     b. income  d. 36-40 & 56-60  test  0  \n",
       "48838           b. 9-12        b. Mid  a. no income  c. 31-35 & 61-70  test  0  \n",
       "48839             c. 13  c. Bachelors     b. income  d. 36-40 & 56-60  test  0  \n",
       "48840             c. 13  c. Bachelors     b. income          e. 40-55  test  0  \n",
       "48841             c. 13  c. Bachelors     b. income  c. 31-35 & 61-70  test  1  "
      ]
     },
     "execution_count": 21,
     "metadata": {},
     "output_type": "execute_result"
    }
   ],
   "source": [
    "df.tail() #preview the data"
   ]
  },
  {
   "cell_type": "code",
   "execution_count": 22,
   "id": "225d670f-48a7-46a7-a242-e4cff3bb7cde",
   "metadata": {},
   "outputs": [
    {
     "data": {
      "text/plain": [
       "hours_per_week_bin    object\n",
       "occupation_bin        object\n",
       "msr_bin               object\n",
       "capital_gl_bin        object\n",
       "race_sex_bin          object\n",
       "education_num_bin     object\n",
       "education_bin         object\n",
       "workclass_bin         object\n",
       "age_bin               object\n",
       "flag                  object\n",
       "y                      int64\n",
       "dtype: object"
      ]
     },
     "execution_count": 22,
     "metadata": {},
     "output_type": "execute_result"
    }
   ],
   "source": [
    "df.dtypes # This function determines if the feature is categorial or numerical"
   ]
  },
  {
   "cell_type": "markdown",
   "id": "578055b4-df90-4a49-94a9-cf49383cfa1c",
   "metadata": {},
   "source": [
    " "
   ]
  },
  {
   "cell_type": "markdown",
   "id": "e09889d7-ee6a-4221-ab3d-cac7eaa3f92c",
   "metadata": {},
   "source": [
    "### Data Quality Report"
   ]
  },
  {
   "cell_type": "code",
   "execution_count": 25,
   "id": "0fa77bbc-69e0-4019-8fc5-f37923b9d259",
   "metadata": {},
   "outputs": [],
   "source": [
    "# Setting display options so that the report will be readable\n",
    "pd.set_option('display.max_columns', 100)\n",
    "pd.set_option('display.max_rows', 200)"
   ]
  },
  {
   "cell_type": "code",
   "execution_count": 26,
   "id": "250ed663-b474-4858-9056-7e4c08c70354",
   "metadata": {},
   "outputs": [],
   "source": [
    "pd.set_option('display.width', 1000)"
   ]
  },
  {
   "cell_type": "code",
   "execution_count": 27,
   "id": "a010554f-86f2-489a-ac24-cca1dad224c1",
   "metadata": {},
   "outputs": [],
   "source": [
    "# Custom function for creating a data quality report\n",
    "\n",
    "def data_quality_report(df, report_type):\n",
    "    continuous_rows = []\n",
    "    categorical_rows = []\n",
    "    \n",
    "    for col in df.columns:\n",
    "        if pd.api.types.is_numeric_dtype(df[col]): \n",
    "            count = df[col].count()\n",
    "            missing_percentage = df[col].isnull().mean() * 100\n",
    "            cardinality = df[col].nunique()\n",
    "            first_quartile = df[col].quantile(0.25)\n",
    "            mean = df[col].mean()\n",
    "            median = df[col].median()\n",
    "            third_quartile = df[col].quantile(0.75)\n",
    "            max_value = df[col].max()\n",
    "            std_dev = df[col].std()\n",
    "            \n",
    "            continuous_rows.append({\n",
    "                'Feature': col,\n",
    "                'Count': count,\n",
    "                '% Missing': missing_percentage,\n",
    "                'Card.': cardinality,\n",
    "                '1st Qrt.': first_quartile,\n",
    "                'Mean': mean,\n",
    "                'Median': median,\n",
    "                '3rd Qrt.': third_quartile,\n",
    "                'Max': max_value,\n",
    "                'Std. Dev.': std_dev\n",
    "            })\n",
    "\n",
    "        else:\n",
    "            count = df[col].count()\n",
    "            missing_percentage = df[col].isnull().mean() * 100\n",
    "            cardinality = df[col].nunique()\n",
    "            value_counts = df[col].value_counts()\n",
    "            mode = value_counts.index[0] if not value_counts.empty else 'NA'\n",
    "            mode_freq = value_counts.iloc[0] if not value_counts.empty else 0\n",
    "            mode_percentage = (mode_freq / count) * 100 if count > 0 else 0\n",
    "            second_mode = value_counts.index[1] if len(value_counts) > 1 else 'NA'\n",
    "            second_mode_freq = value_counts.iloc[1] if len(value_counts) > 1 else 0\n",
    "            second_mode_percentage = (second_mode_freq / count) * 100 if count > 0 else 0\n",
    "\n",
    "            categorical_rows.append({\n",
    "                'Feature': col,\n",
    "                'Count': count,\n",
    "                '% Missing': missing_percentage,\n",
    "                'Card.': cardinality,\n",
    "                'Mode': mode,\n",
    "                'Mode Freq.': mode_freq,\n",
    "                'Mode %': mode_percentage,\n",
    "                '2nd Mode': second_mode,\n",
    "                '2nd Mode Freq.': second_mode_freq,\n",
    "                '2nd Mode %': second_mode_percentage\n",
    "            })\n",
    "\n",
    "    continuous_report = pd.DataFrame(continuous_rows)\n",
    "    categorical_report = pd.DataFrame(categorical_rows)\n",
    "\n",
    "    if report_type == \"cont\":\n",
    "        return continuous_report\n",
    "\n",
    "    elif report_type == \"cat\":\n",
    "        return categorical_report\n",
    "        \n",
    "    else:\n",
    "        raise ValueError(\"Error: report type options are 'cat' or 'cont'\")"
   ]
  },
  {
   "cell_type": "code",
   "execution_count": 28,
   "id": "ab2370e0-7270-48ba-89a1-7ccf24546b9c",
   "metadata": {},
   "outputs": [],
   "source": [
    "dqr_cont = data_quality_report(df,\"cont\")"
   ]
  },
  {
   "cell_type": "code",
   "execution_count": 29,
   "id": "5f353ed6-c962-4f0e-8ac2-6dd2bcef347a",
   "metadata": {},
   "outputs": [],
   "source": [
    "dqr_cat = data_quality_report(df,\"cat\")"
   ]
  },
  {
   "cell_type": "markdown",
   "id": "d77d1ec5-97fa-4f0b-97bb-cafd320799eb",
   "metadata": {},
   "source": [
    "#### Data Quality Report: Continuous Features"
   ]
  },
  {
   "cell_type": "code",
   "execution_count": 31,
   "id": "86b29fe5-2e20-4043-a8e2-a0f530bab087",
   "metadata": {},
   "outputs": [
    {
     "data": {
      "text/html": [
       "<div>\n",
       "<style scoped>\n",
       "    .dataframe tbody tr th:only-of-type {\n",
       "        vertical-align: middle;\n",
       "    }\n",
       "\n",
       "    .dataframe tbody tr th {\n",
       "        vertical-align: top;\n",
       "    }\n",
       "\n",
       "    .dataframe thead th {\n",
       "        text-align: right;\n",
       "    }\n",
       "</style>\n",
       "<table border=\"1\" class=\"dataframe\">\n",
       "  <thead>\n",
       "    <tr style=\"text-align: right;\">\n",
       "      <th></th>\n",
       "      <th>Feature</th>\n",
       "      <th>Count</th>\n",
       "      <th>% Missing</th>\n",
       "      <th>Card.</th>\n",
       "      <th>1st Qrt.</th>\n",
       "      <th>Mean</th>\n",
       "      <th>Median</th>\n",
       "      <th>3rd Qrt.</th>\n",
       "      <th>Max</th>\n",
       "      <th>Std. Dev.</th>\n",
       "    </tr>\n",
       "  </thead>\n",
       "  <tbody>\n",
       "    <tr>\n",
       "      <th>0</th>\n",
       "      <td>y</td>\n",
       "      <td>48842</td>\n",
       "      <td>0.0</td>\n",
       "      <td>2</td>\n",
       "      <td>0.0</td>\n",
       "      <td>0.239282</td>\n",
       "      <td>0.0</td>\n",
       "      <td>0.0</td>\n",
       "      <td>1</td>\n",
       "      <td>0.426649</td>\n",
       "    </tr>\n",
       "  </tbody>\n",
       "</table>\n",
       "</div>"
      ],
      "text/plain": [
       "  Feature  Count  % Missing  Card.  1st Qrt.      Mean  Median  3rd Qrt.  Max  Std. Dev.\n",
       "0       y  48842        0.0      2       0.0  0.239282     0.0       0.0    1   0.426649"
      ]
     },
     "execution_count": 31,
     "metadata": {},
     "output_type": "execute_result"
    }
   ],
   "source": [
    "dqr_cont"
   ]
  },
  {
   "cell_type": "markdown",
   "id": "de4ff123-e2a3-4be7-b11d-0b3b4e742767",
   "metadata": {},
   "source": [
    "This is our target feature."
   ]
  },
  {
   "cell_type": "markdown",
   "id": "5b2950f6-bc0d-48ec-8a8d-8c16a8aad574",
   "metadata": {},
   "source": [
    "#### Data Quality Report: Categorical Features"
   ]
  },
  {
   "cell_type": "code",
   "execution_count": 34,
   "id": "67eca8a4-ec77-4905-843c-8f42343d3a91",
   "metadata": {
    "scrolled": true
   },
   "outputs": [
    {
     "data": {
      "text/html": [
       "<div>\n",
       "<style scoped>\n",
       "    .dataframe tbody tr th:only-of-type {\n",
       "        vertical-align: middle;\n",
       "    }\n",
       "\n",
       "    .dataframe tbody tr th {\n",
       "        vertical-align: top;\n",
       "    }\n",
       "\n",
       "    .dataframe thead th {\n",
       "        text-align: right;\n",
       "    }\n",
       "</style>\n",
       "<table border=\"1\" class=\"dataframe\">\n",
       "  <thead>\n",
       "    <tr style=\"text-align: right;\">\n",
       "      <th></th>\n",
       "      <th>Feature</th>\n",
       "      <th>Count</th>\n",
       "      <th>% Missing</th>\n",
       "      <th>Card.</th>\n",
       "      <th>Mode</th>\n",
       "      <th>Mode Freq.</th>\n",
       "      <th>Mode %</th>\n",
       "      <th>2nd Mode</th>\n",
       "      <th>2nd Mode Freq.</th>\n",
       "      <th>2nd Mode %</th>\n",
       "    </tr>\n",
       "  </thead>\n",
       "  <tbody>\n",
       "    <tr>\n",
       "      <th>0</th>\n",
       "      <td>hours_per_week_bin</td>\n",
       "      <td>48842</td>\n",
       "      <td>0.0</td>\n",
       "      <td>5</td>\n",
       "      <td>b. 31-40</td>\n",
       "      <td>26639</td>\n",
       "      <td>54.541174</td>\n",
       "      <td>d. 41-50 &amp; 61-70</td>\n",
       "      <td>9819</td>\n",
       "      <td>20.103599</td>\n",
       "    </tr>\n",
       "    <tr>\n",
       "      <th>1</th>\n",
       "      <td>occupation_bin</td>\n",
       "      <td>48842</td>\n",
       "      <td>0.0</td>\n",
       "      <td>5</td>\n",
       "      <td>c. Mid - Mid</td>\n",
       "      <td>13971</td>\n",
       "      <td>28.604480</td>\n",
       "      <td>b. Mid - Low</td>\n",
       "      <td>12947</td>\n",
       "      <td>26.507924</td>\n",
       "    </tr>\n",
       "    <tr>\n",
       "      <th>2</th>\n",
       "      <td>msr_bin</td>\n",
       "      <td>48842</td>\n",
       "      <td>0.0</td>\n",
       "      <td>3</td>\n",
       "      <td>c. High</td>\n",
       "      <td>22047</td>\n",
       "      <td>45.139429</td>\n",
       "      <td>b. Mid</td>\n",
       "      <td>15868</td>\n",
       "      <td>32.488432</td>\n",
       "    </tr>\n",
       "    <tr>\n",
       "      <th>3</th>\n",
       "      <td>capital_gl_bin</td>\n",
       "      <td>48842</td>\n",
       "      <td>0.0</td>\n",
       "      <td>3</td>\n",
       "      <td>a. = 0</td>\n",
       "      <td>42525</td>\n",
       "      <td>87.066459</td>\n",
       "      <td>c. &gt; 0</td>\n",
       "      <td>4035</td>\n",
       "      <td>8.261332</td>\n",
       "    </tr>\n",
       "    <tr>\n",
       "      <th>4</th>\n",
       "      <td>race_sex_bin</td>\n",
       "      <td>48842</td>\n",
       "      <td>0.0</td>\n",
       "      <td>3</td>\n",
       "      <td>c. High</td>\n",
       "      <td>29737</td>\n",
       "      <td>60.884075</td>\n",
       "      <td>b. Mid</td>\n",
       "      <td>16457</td>\n",
       "      <td>33.694361</td>\n",
       "    </tr>\n",
       "    <tr>\n",
       "      <th>5</th>\n",
       "      <td>education_num_bin</td>\n",
       "      <td>48842</td>\n",
       "      <td>0.0</td>\n",
       "      <td>5</td>\n",
       "      <td>b. 9-12</td>\n",
       "      <td>30324</td>\n",
       "      <td>62.085910</td>\n",
       "      <td>c. 13</td>\n",
       "      <td>8025</td>\n",
       "      <td>16.430531</td>\n",
       "    </tr>\n",
       "    <tr>\n",
       "      <th>6</th>\n",
       "      <td>education_bin</td>\n",
       "      <td>48842</td>\n",
       "      <td>0.0</td>\n",
       "      <td>5</td>\n",
       "      <td>b. Mid</td>\n",
       "      <td>30324</td>\n",
       "      <td>62.085910</td>\n",
       "      <td>c. Bachelors</td>\n",
       "      <td>8025</td>\n",
       "      <td>16.430531</td>\n",
       "    </tr>\n",
       "    <tr>\n",
       "      <th>7</th>\n",
       "      <td>workclass_bin</td>\n",
       "      <td>48842</td>\n",
       "      <td>0.0</td>\n",
       "      <td>2</td>\n",
       "      <td>b. income</td>\n",
       "      <td>46012</td>\n",
       "      <td>94.205806</td>\n",
       "      <td>a. no income</td>\n",
       "      <td>2830</td>\n",
       "      <td>5.794194</td>\n",
       "    </tr>\n",
       "    <tr>\n",
       "      <th>8</th>\n",
       "      <td>age_bin</td>\n",
       "      <td>48842</td>\n",
       "      <td>0.0</td>\n",
       "      <td>5</td>\n",
       "      <td>e. 40-55</td>\n",
       "      <td>13963</td>\n",
       "      <td>28.588100</td>\n",
       "      <td>a. 0-25</td>\n",
       "      <td>9627</td>\n",
       "      <td>19.710495</td>\n",
       "    </tr>\n",
       "    <tr>\n",
       "      <th>9</th>\n",
       "      <td>flag</td>\n",
       "      <td>48842</td>\n",
       "      <td>0.0</td>\n",
       "      <td>2</td>\n",
       "      <td>train</td>\n",
       "      <td>32561</td>\n",
       "      <td>66.665984</td>\n",
       "      <td>test</td>\n",
       "      <td>16281</td>\n",
       "      <td>33.334016</td>\n",
       "    </tr>\n",
       "  </tbody>\n",
       "</table>\n",
       "</div>"
      ],
      "text/plain": [
       "              Feature  Count  % Missing  Card.          Mode  Mode Freq.     Mode %          2nd Mode  2nd Mode Freq.  2nd Mode %\n",
       "0  hours_per_week_bin  48842        0.0      5      b. 31-40       26639  54.541174  d. 41-50 & 61-70            9819   20.103599\n",
       "1      occupation_bin  48842        0.0      5  c. Mid - Mid       13971  28.604480      b. Mid - Low           12947   26.507924\n",
       "2             msr_bin  48842        0.0      3       c. High       22047  45.139429            b. Mid           15868   32.488432\n",
       "3      capital_gl_bin  48842        0.0      3        a. = 0       42525  87.066459            c. > 0            4035    8.261332\n",
       "4        race_sex_bin  48842        0.0      3       c. High       29737  60.884075            b. Mid           16457   33.694361\n",
       "5   education_num_bin  48842        0.0      5       b. 9-12       30324  62.085910             c. 13            8025   16.430531\n",
       "6       education_bin  48842        0.0      5        b. Mid       30324  62.085910      c. Bachelors            8025   16.430531\n",
       "7       workclass_bin  48842        0.0      2     b. income       46012  94.205806      a. no income            2830    5.794194\n",
       "8             age_bin  48842        0.0      5      e. 40-55       13963  28.588100           a. 0-25            9627   19.710495\n",
       "9                flag  48842        0.0      2         train       32561  66.665984              test           16281   33.334016"
      ]
     },
     "execution_count": 34,
     "metadata": {},
     "output_type": "execute_result"
    }
   ],
   "source": [
    "dqr_cat"
   ]
  },
  {
   "cell_type": "markdown",
   "id": "ddfecc48-70ba-441c-8c1f-674648b7d6a1",
   "metadata": {},
   "source": [
    "#### Missing Data Checks"
   ]
  },
  {
   "cell_type": "markdown",
   "id": "e531fac1-d5de-4d0c-9812-ae2058ca5969",
   "metadata": {},
   "source": [
    "Show features with more than 60% of observations missing data."
   ]
  },
  {
   "cell_type": "code",
   "execution_count": 37,
   "id": "406c9a87-2f35-4a3c-83cc-5b09f88176a1",
   "metadata": {},
   "outputs": [
    {
     "data": {
      "text/html": [
       "<div>\n",
       "<style scoped>\n",
       "    .dataframe tbody tr th:only-of-type {\n",
       "        vertical-align: middle;\n",
       "    }\n",
       "\n",
       "    .dataframe tbody tr th {\n",
       "        vertical-align: top;\n",
       "    }\n",
       "\n",
       "    .dataframe thead th {\n",
       "        text-align: right;\n",
       "    }\n",
       "</style>\n",
       "<table border=\"1\" class=\"dataframe\">\n",
       "  <thead>\n",
       "    <tr style=\"text-align: right;\">\n",
       "      <th></th>\n",
       "      <th>Feature</th>\n",
       "      <th>Count</th>\n",
       "      <th>% Missing</th>\n",
       "      <th>Card.</th>\n",
       "      <th>Mode</th>\n",
       "      <th>Mode Freq.</th>\n",
       "      <th>Mode %</th>\n",
       "      <th>2nd Mode</th>\n",
       "      <th>2nd Mode Freq.</th>\n",
       "      <th>2nd Mode %</th>\n",
       "    </tr>\n",
       "  </thead>\n",
       "  <tbody>\n",
       "  </tbody>\n",
       "</table>\n",
       "</div>"
      ],
      "text/plain": [
       "Empty DataFrame\n",
       "Columns: [Feature, Count, % Missing, Card., Mode, Mode Freq., Mode %, 2nd Mode, 2nd Mode Freq., 2nd Mode %]\n",
       "Index: []"
      ]
     },
     "execution_count": 37,
     "metadata": {},
     "output_type": "execute_result"
    }
   ],
   "source": [
    "dqr_cat[dqr_cat['% Missing'] > 60]"
   ]
  },
  {
   "cell_type": "code",
   "execution_count": 38,
   "id": "183b8621-7aec-4139-abc6-1318516f6b35",
   "metadata": {},
   "outputs": [
    {
     "data": {
      "text/html": [
       "<div>\n",
       "<style scoped>\n",
       "    .dataframe tbody tr th:only-of-type {\n",
       "        vertical-align: middle;\n",
       "    }\n",
       "\n",
       "    .dataframe tbody tr th {\n",
       "        vertical-align: top;\n",
       "    }\n",
       "\n",
       "    .dataframe thead th {\n",
       "        text-align: right;\n",
       "    }\n",
       "</style>\n",
       "<table border=\"1\" class=\"dataframe\">\n",
       "  <thead>\n",
       "    <tr style=\"text-align: right;\">\n",
       "      <th></th>\n",
       "      <th>Feature</th>\n",
       "      <th>Count</th>\n",
       "      <th>% Missing</th>\n",
       "      <th>Card.</th>\n",
       "      <th>1st Qrt.</th>\n",
       "      <th>Mean</th>\n",
       "      <th>Median</th>\n",
       "      <th>3rd Qrt.</th>\n",
       "      <th>Max</th>\n",
       "      <th>Std. Dev.</th>\n",
       "    </tr>\n",
       "  </thead>\n",
       "  <tbody>\n",
       "  </tbody>\n",
       "</table>\n",
       "</div>"
      ],
      "text/plain": [
       "Empty DataFrame\n",
       "Columns: [Feature, Count, % Missing, Card., 1st Qrt., Mean, Median, 3rd Qrt., Max, Std. Dev.]\n",
       "Index: []"
      ]
     },
     "execution_count": 38,
     "metadata": {},
     "output_type": "execute_result"
    }
   ],
   "source": [
    "dqr_cont[dqr_cont['% Missing'] > 60]"
   ]
  },
  {
   "cell_type": "markdown",
   "id": "c11a71ba-cd46-4e7f-9a01-32b8377e2ea1",
   "metadata": {},
   "source": [
    "There is no missing data in this dataset."
   ]
  },
  {
   "cell_type": "markdown",
   "id": "34bd99a7-195a-4222-8f28-c02d3680c799",
   "metadata": {},
   "source": [
    "#### Cardinality Checks"
   ]
  },
  {
   "cell_type": "markdown",
   "id": "97de63c7-7af5-482a-b4c3-736efe8cdb57",
   "metadata": {},
   "source": [
    "Next, we check for unusually high or low cardinality."
   ]
  },
  {
   "cell_type": "code",
   "execution_count": 42,
   "id": "5955a04a-5f8e-45d6-b2e5-7d98dda443c5",
   "metadata": {},
   "outputs": [
    {
     "data": {
      "text/html": [
       "<div>\n",
       "<style scoped>\n",
       "    .dataframe tbody tr th:only-of-type {\n",
       "        vertical-align: middle;\n",
       "    }\n",
       "\n",
       "    .dataframe tbody tr th {\n",
       "        vertical-align: top;\n",
       "    }\n",
       "\n",
       "    .dataframe thead th {\n",
       "        text-align: right;\n",
       "    }\n",
       "</style>\n",
       "<table border=\"1\" class=\"dataframe\">\n",
       "  <thead>\n",
       "    <tr style=\"text-align: right;\">\n",
       "      <th></th>\n",
       "      <th>Feature</th>\n",
       "      <th>Count</th>\n",
       "      <th>% Missing</th>\n",
       "      <th>Card.</th>\n",
       "      <th>Mode</th>\n",
       "      <th>Mode Freq.</th>\n",
       "      <th>Mode %</th>\n",
       "      <th>2nd Mode</th>\n",
       "      <th>2nd Mode Freq.</th>\n",
       "      <th>2nd Mode %</th>\n",
       "    </tr>\n",
       "  </thead>\n",
       "  <tbody>\n",
       "  </tbody>\n",
       "</table>\n",
       "</div>"
      ],
      "text/plain": [
       "Empty DataFrame\n",
       "Columns: [Feature, Count, % Missing, Card., Mode, Mode Freq., Mode %, 2nd Mode, 2nd Mode Freq., 2nd Mode %]\n",
       "Index: []"
      ]
     },
     "execution_count": 42,
     "metadata": {},
     "output_type": "execute_result"
    }
   ],
   "source": [
    "# Checking for features with a cardinality of 1. \n",
    "# If a feature has cardinality of 1, we drop it, because it has no use; all the values are the same.\n",
    "dqr_cat[dqr_cat['Card.'] == 1]"
   ]
  },
  {
   "cell_type": "code",
   "execution_count": 43,
   "id": "c7bd1b9b-534a-4a87-aee4-c554c9b54473",
   "metadata": {},
   "outputs": [
    {
     "data": {
      "text/html": [
       "<div>\n",
       "<style scoped>\n",
       "    .dataframe tbody tr th:only-of-type {\n",
       "        vertical-align: middle;\n",
       "    }\n",
       "\n",
       "    .dataframe tbody tr th {\n",
       "        vertical-align: top;\n",
       "    }\n",
       "\n",
       "    .dataframe thead th {\n",
       "        text-align: right;\n",
       "    }\n",
       "</style>\n",
       "<table border=\"1\" class=\"dataframe\">\n",
       "  <thead>\n",
       "    <tr style=\"text-align: right;\">\n",
       "      <th></th>\n",
       "      <th>Feature</th>\n",
       "      <th>Count</th>\n",
       "      <th>% Missing</th>\n",
       "      <th>Card.</th>\n",
       "      <th>1st Qrt.</th>\n",
       "      <th>Mean</th>\n",
       "      <th>Median</th>\n",
       "      <th>3rd Qrt.</th>\n",
       "      <th>Max</th>\n",
       "      <th>Std. Dev.</th>\n",
       "    </tr>\n",
       "  </thead>\n",
       "  <tbody>\n",
       "  </tbody>\n",
       "</table>\n",
       "</div>"
      ],
      "text/plain": [
       "Empty DataFrame\n",
       "Columns: [Feature, Count, % Missing, Card., 1st Qrt., Mean, Median, 3rd Qrt., Max, Std. Dev.]\n",
       "Index: []"
      ]
     },
     "execution_count": 43,
     "metadata": {},
     "output_type": "execute_result"
    }
   ],
   "source": [
    "# Same check for the continuous features\n",
    "dqr_cont[dqr_cont['Card.'] == 1]"
   ]
  },
  {
   "cell_type": "code",
   "execution_count": 44,
   "id": "db59e8ca-2c81-4f2d-895b-51531a567370",
   "metadata": {},
   "outputs": [
    {
     "data": {
      "text/html": [
       "<div>\n",
       "<style scoped>\n",
       "    .dataframe tbody tr th:only-of-type {\n",
       "        vertical-align: middle;\n",
       "    }\n",
       "\n",
       "    .dataframe tbody tr th {\n",
       "        vertical-align: top;\n",
       "    }\n",
       "\n",
       "    .dataframe thead th {\n",
       "        text-align: right;\n",
       "    }\n",
       "</style>\n",
       "<table border=\"1\" class=\"dataframe\">\n",
       "  <thead>\n",
       "    <tr style=\"text-align: right;\">\n",
       "      <th></th>\n",
       "      <th>Feature</th>\n",
       "      <th>Count</th>\n",
       "      <th>% Missing</th>\n",
       "      <th>Card.</th>\n",
       "      <th>1st Qrt.</th>\n",
       "      <th>Mean</th>\n",
       "      <th>Median</th>\n",
       "      <th>3rd Qrt.</th>\n",
       "      <th>Max</th>\n",
       "      <th>Std. Dev.</th>\n",
       "    </tr>\n",
       "  </thead>\n",
       "  <tbody>\n",
       "    <tr>\n",
       "      <th>0</th>\n",
       "      <td>y</td>\n",
       "      <td>48842</td>\n",
       "      <td>0.0</td>\n",
       "      <td>2</td>\n",
       "      <td>0.0</td>\n",
       "      <td>0.239282</td>\n",
       "      <td>0.0</td>\n",
       "      <td>0.0</td>\n",
       "      <td>1</td>\n",
       "      <td>0.426649</td>\n",
       "    </tr>\n",
       "  </tbody>\n",
       "</table>\n",
       "</div>"
      ],
      "text/plain": [
       "  Feature  Count  % Missing  Card.  1st Qrt.      Mean  Median  3rd Qrt.  Max  Std. Dev.\n",
       "0       y  48842        0.0      2       0.0  0.239282     0.0       0.0    1   0.426649"
      ]
     },
     "execution_count": 44,
     "metadata": {},
     "output_type": "execute_result"
    }
   ],
   "source": [
    "# Checking for continuous features that have too low a cardinality. These may actually be encoded categorical features.\n",
    "dqr_cont[dqr_cont['Card.'] < 30]"
   ]
  },
  {
   "cell_type": "markdown",
   "id": "6bb8610b-5eb4-459a-bd33-0a8d10a5de46",
   "metadata": {},
   "source": [
    "This is our target column and it has a binary encoding of 0 and 1."
   ]
  },
  {
   "cell_type": "code",
   "execution_count": 46,
   "id": "96a75321-8347-4ea5-ac51-1352a753bdd2",
   "metadata": {},
   "outputs": [],
   "source": [
    "# Assign any encoded categorical columns to cont_convert so they are graphed as if they are categorical.\n",
    "cont_convert = 'y'"
   ]
  },
  {
   "cell_type": "code",
   "execution_count": 47,
   "id": "93110bf5-d6d1-4867-b4f5-9755c5a41890",
   "metadata": {},
   "outputs": [
    {
     "data": {
      "text/html": [
       "<div>\n",
       "<style scoped>\n",
       "    .dataframe tbody tr th:only-of-type {\n",
       "        vertical-align: middle;\n",
       "    }\n",
       "\n",
       "    .dataframe tbody tr th {\n",
       "        vertical-align: top;\n",
       "    }\n",
       "\n",
       "    .dataframe thead th {\n",
       "        text-align: right;\n",
       "    }\n",
       "</style>\n",
       "<table border=\"1\" class=\"dataframe\">\n",
       "  <thead>\n",
       "    <tr style=\"text-align: right;\">\n",
       "      <th></th>\n",
       "      <th>Feature</th>\n",
       "      <th>Count</th>\n",
       "      <th>% Missing</th>\n",
       "      <th>Card.</th>\n",
       "      <th>Mode</th>\n",
       "      <th>Mode Freq.</th>\n",
       "      <th>Mode %</th>\n",
       "      <th>2nd Mode</th>\n",
       "      <th>2nd Mode Freq.</th>\n",
       "      <th>2nd Mode %</th>\n",
       "    </tr>\n",
       "  </thead>\n",
       "  <tbody>\n",
       "  </tbody>\n",
       "</table>\n",
       "</div>"
      ],
      "text/plain": [
       "Empty DataFrame\n",
       "Columns: [Feature, Count, % Missing, Card., Mode, Mode Freq., Mode %, 2nd Mode, 2nd Mode Freq., 2nd Mode %]\n",
       "Index: []"
      ]
     },
     "execution_count": 47,
     "metadata": {},
     "output_type": "execute_result"
    }
   ],
   "source": [
    "# Checking for categorical features that have too high a cardinality. These may just be unique identifiers and can be dropped.\n",
    "dqr_cat[dqr_cat['Card.'] > 50]"
   ]
  },
  {
   "cell_type": "markdown",
   "id": "55a54287-2734-41b4-b1d0-0fe12a2b0a94",
   "metadata": {},
   "source": [
    "Our features are binned, so, as expected, they all have relatively low cadinality."
   ]
  },
  {
   "cell_type": "code",
   "execution_count": 49,
   "id": "d83f5d2e-93fb-43e4-a79c-3d4f18270f28",
   "metadata": {},
   "outputs": [],
   "source": [
    "# Make a copy of the dataframe and assign it as our analytics base table (abt). The original df will remain unaltered.\n",
    "abt=df.copy()"
   ]
  },
  {
   "cell_type": "markdown",
   "id": "d8b62eec-d3ed-4b16-aca4-5a2f4b366cb4",
   "metadata": {},
   "source": [
    "### Data Exploration"
   ]
  },
  {
   "cell_type": "markdown",
   "id": "13300e58-d99b-4c3d-8234-abe49e46a2a5",
   "metadata": {},
   "source": [
    "To start exploring, we divide the ABT dataframe into two feature sets: continuous features and categorical features."
   ]
  },
  {
   "cell_type": "code",
   "execution_count": 52,
   "id": "27e67e3e-ed03-4df0-b256-3c077bd3456a",
   "metadata": {},
   "outputs": [],
   "source": [
    "# Declare empty lists for the categorical columns and the continuous columns\n",
    "categorical_cols = []\n",
    "continuous_cols = []\n",
    "\n",
    "#Define continuous and categorial columns from the abt:\n",
    "for col in abt.columns:\n",
    "    if pd.api.types.is_numeric_dtype(abt[col]):\n",
    "        continuous_cols.append(col)\n",
    "    else:\n",
    "        categorical_cols.append(col)\n",
    "\n",
    "# Transfer any continous columns that were identified as encoded categorical columns in the cardinality checks.\n",
    "continuous_cols.remove(cont_convert)\n",
    "categorical_cols.append(cont_convert)"
   ]
  },
  {
   "cell_type": "code",
   "execution_count": 53,
   "id": "75e2aa07-95d0-49ea-b35f-de0b501807d5",
   "metadata": {},
   "outputs": [
    {
     "data": {
      "text/html": [
       "<div>\n",
       "<style scoped>\n",
       "    .dataframe tbody tr th:only-of-type {\n",
       "        vertical-align: middle;\n",
       "    }\n",
       "\n",
       "    .dataframe tbody tr th {\n",
       "        vertical-align: top;\n",
       "    }\n",
       "\n",
       "    .dataframe thead th {\n",
       "        text-align: right;\n",
       "    }\n",
       "</style>\n",
       "<table border=\"1\" class=\"dataframe\">\n",
       "  <thead>\n",
       "    <tr style=\"text-align: right;\">\n",
       "      <th></th>\n",
       "      <th>hours_per_week_bin</th>\n",
       "      <th>occupation_bin</th>\n",
       "      <th>msr_bin</th>\n",
       "      <th>capital_gl_bin</th>\n",
       "      <th>race_sex_bin</th>\n",
       "      <th>education_num_bin</th>\n",
       "      <th>education_bin</th>\n",
       "      <th>workclass_bin</th>\n",
       "      <th>age_bin</th>\n",
       "      <th>flag</th>\n",
       "      <th>y</th>\n",
       "    </tr>\n",
       "  </thead>\n",
       "  <tbody>\n",
       "    <tr>\n",
       "      <th>0</th>\n",
       "      <td>b. 31-40</td>\n",
       "      <td>b. Mid - Low</td>\n",
       "      <td>b. Mid</td>\n",
       "      <td>c. &gt; 0</td>\n",
       "      <td>c. High</td>\n",
       "      <td>c. 13</td>\n",
       "      <td>c. Bachelors</td>\n",
       "      <td>b. income</td>\n",
       "      <td>d. 36-40 &amp; 56-60</td>\n",
       "      <td>train</td>\n",
       "      <td>0</td>\n",
       "    </tr>\n",
       "    <tr>\n",
       "      <th>1</th>\n",
       "      <td>a. 0-30</td>\n",
       "      <td>e. High</td>\n",
       "      <td>c. High</td>\n",
       "      <td>a. = 0</td>\n",
       "      <td>c. High</td>\n",
       "      <td>c. 13</td>\n",
       "      <td>c. Bachelors</td>\n",
       "      <td>b. income</td>\n",
       "      <td>e. 40-55</td>\n",
       "      <td>train</td>\n",
       "      <td>0</td>\n",
       "    </tr>\n",
       "    <tr>\n",
       "      <th>2</th>\n",
       "      <td>b. 31-40</td>\n",
       "      <td>a. Low</td>\n",
       "      <td>b. Mid</td>\n",
       "      <td>a. = 0</td>\n",
       "      <td>c. High</td>\n",
       "      <td>b. 9-12</td>\n",
       "      <td>b. Mid</td>\n",
       "      <td>b. income</td>\n",
       "      <td>d. 36-40 &amp; 56-60</td>\n",
       "      <td>train</td>\n",
       "      <td>0</td>\n",
       "    </tr>\n",
       "    <tr>\n",
       "      <th>3</th>\n",
       "      <td>b. 31-40</td>\n",
       "      <td>a. Low</td>\n",
       "      <td>c. High</td>\n",
       "      <td>a. = 0</td>\n",
       "      <td>b. Mid</td>\n",
       "      <td>a. 0-8</td>\n",
       "      <td>a. Low</td>\n",
       "      <td>b. income</td>\n",
       "      <td>e. 40-55</td>\n",
       "      <td>train</td>\n",
       "      <td>0</td>\n",
       "    </tr>\n",
       "    <tr>\n",
       "      <th>4</th>\n",
       "      <td>b. 31-40</td>\n",
       "      <td>e. High</td>\n",
       "      <td>c. High</td>\n",
       "      <td>a. = 0</td>\n",
       "      <td>a. Low</td>\n",
       "      <td>c. 13</td>\n",
       "      <td>c. Bachelors</td>\n",
       "      <td>b. income</td>\n",
       "      <td>b. 26-30 &amp; 71-100</td>\n",
       "      <td>train</td>\n",
       "      <td>0</td>\n",
       "    </tr>\n",
       "  </tbody>\n",
       "</table>\n",
       "</div>"
      ],
      "text/plain": [
       "  hours_per_week_bin occupation_bin  msr_bin capital_gl_bin race_sex_bin education_num_bin education_bin workclass_bin            age_bin   flag  y\n",
       "0           b. 31-40   b. Mid - Low   b. Mid         c. > 0      c. High             c. 13  c. Bachelors     b. income   d. 36-40 & 56-60  train  0\n",
       "1            a. 0-30        e. High  c. High         a. = 0      c. High             c. 13  c. Bachelors     b. income           e. 40-55  train  0\n",
       "2           b. 31-40         a. Low   b. Mid         a. = 0      c. High           b. 9-12        b. Mid     b. income   d. 36-40 & 56-60  train  0\n",
       "3           b. 31-40         a. Low  c. High         a. = 0       b. Mid            a. 0-8        a. Low     b. income           e. 40-55  train  0\n",
       "4           b. 31-40        e. High  c. High         a. = 0       a. Low             c. 13  c. Bachelors     b. income  b. 26-30 & 71-100  train  0"
      ]
     },
     "execution_count": 53,
     "metadata": {},
     "output_type": "execute_result"
    }
   ],
   "source": [
    "# Check the output\n",
    "abt[categorical_cols].head()"
   ]
  },
  {
   "cell_type": "code",
   "execution_count": 54,
   "id": "3d1cdc5d-2560-4a88-b1cf-2c41c40a49ec",
   "metadata": {},
   "outputs": [
    {
     "data": {
      "text/html": [
       "<div>\n",
       "<style scoped>\n",
       "    .dataframe tbody tr th:only-of-type {\n",
       "        vertical-align: middle;\n",
       "    }\n",
       "\n",
       "    .dataframe tbody tr th {\n",
       "        vertical-align: top;\n",
       "    }\n",
       "\n",
       "    .dataframe thead th {\n",
       "        text-align: right;\n",
       "    }\n",
       "</style>\n",
       "<table border=\"1\" class=\"dataframe\">\n",
       "  <thead>\n",
       "    <tr style=\"text-align: right;\">\n",
       "      <th></th>\n",
       "    </tr>\n",
       "  </thead>\n",
       "  <tbody>\n",
       "    <tr>\n",
       "      <th>0</th>\n",
       "    </tr>\n",
       "    <tr>\n",
       "      <th>1</th>\n",
       "    </tr>\n",
       "    <tr>\n",
       "      <th>2</th>\n",
       "    </tr>\n",
       "    <tr>\n",
       "      <th>3</th>\n",
       "    </tr>\n",
       "    <tr>\n",
       "      <th>4</th>\n",
       "    </tr>\n",
       "  </tbody>\n",
       "</table>\n",
       "</div>"
      ],
      "text/plain": [
       "Empty DataFrame\n",
       "Columns: []\n",
       "Index: [0, 1, 2, 3, 4]"
      ]
     },
     "execution_count": 54,
     "metadata": {},
     "output_type": "execute_result"
    }
   ],
   "source": [
    "# Check the output\n",
    "abt[continuous_cols].head()"
   ]
  },
  {
   "cell_type": "markdown",
   "id": "0913a014-562d-4c3f-81b9-021c56e71e40",
   "metadata": {},
   "source": [
    "Since all our data is binned or encoded, we have no continuous columns."
   ]
  },
  {
   "cell_type": "markdown",
   "id": "4d5cfab1-8a0f-4aee-9fe9-8d0d1b6a7258",
   "metadata": {},
   "source": [
    "#### Bar Plots"
   ]
  },
  {
   "cell_type": "markdown",
   "id": "5ed1b250-c821-42c3-afa1-2f894b3d95ea",
   "metadata": {},
   "source": [
    "All of our data can be graphed using bar charts, since it came binned."
   ]
  },
  {
   "cell_type": "code",
   "execution_count": 58,
   "id": "5fc85f94-a48d-4d15-85e7-85eb0cdc2ced",
   "metadata": {},
   "outputs": [],
   "source": [
    "from plotnine import (\n",
    "    ggplot, aes, geom_bar, facet_wrap, theme_classic, theme, element_text, ggsave)\n",
    "\n",
    "# Melt categorical columns for visualization\n",
    "abt_cat_melted = abt[categorical_cols].melt(var_name='column', value_name='value')\n",
    "\n",
    "# Design bar plots \n",
    "cat_plot = (\n",
    "    ggplot(abt_cat_melted, aes(x='value')) +\n",
    "    geom_bar(fill='deepskyblue', color='black', size=0.1) +  # Add thin line around bars\n",
    "    facet_wrap('~column', nrow=12, ncol=3, scales='free_x') +\n",
    "    theme_classic() +  # Apply classic theme\n",
    "    theme(\n",
    "        panel_spacing=0.005,  # Adjust space between panels\n",
    "        figure_size=(10, 12),  # Increase the figure size (width, height)\n",
    "        strip_text_x=element_text(size=8),  # Increase facet label size\n",
    "        axis_text_x=element_text(size=9, angle=20),\n",
    "        axis_text=element_text(size=8),  # Increase axis text size\n",
    "        axis_title=element_text(size=11),  # Adjust axis title size\n",
    "        # plot_title=element_text(size=36)  # Uncomment for plot title size\n",
    "    )\n",
    ")"
   ]
  },
  {
   "cell_type": "code",
   "execution_count": 59,
   "id": "959c8b9e-6d56-48fa-9276-95cc1b529249",
   "metadata": {},
   "outputs": [
    {
     "data": {
      "image/png": "[encoded data removed]",
      "text/plain": [
       "<Figure size 1000x1200 with 11 Axes>"
      ]
     },
     "execution_count": 59,
     "metadata": {},
     "output_type": "execute_result"
    }
   ],
   "source": [
    "cat_plot.draw()"
   ]
  },
  {
   "cell_type": "markdown",
   "id": "8a272ca8-0fa3-45d6-a67c-05b1d0969fde",
   "metadata": {},
   "source": [
    "##### Bar Plots By Class and Feature"
   ]
  },
  {
   "cell_type": "markdown",
   "id": "7eb5c0fd-7a9f-4e08-8453-3ce6efd4ffa7",
   "metadata": {},
   "source": [
    "Next, we explore relationships in our data by comparing the fequency of out target class (>$50K) to the fequency of those outside that class, across different features."
   ]
  },
  {
   "cell_type": "code",
   "execution_count": 62,
   "id": "8f3437a7-8dbb-44a2-9a4f-95f5e65b51ec",
   "metadata": {},
   "outputs": [],
   "source": [
    "# Melt categorical columns for visualization\n",
    "abt_cat_melted = abt.melt(id_vars=['y'], value_vars=categorical_cols, var_name='column', value_name='value')\n",
    "\n",
    "# Design bar plots \n",
    "y_plot = (\n",
    "    ggplot(abt_cat_melted, aes(x='value', fill='factor(y)')) +\n",
    "    geom_bar(position='dodge', color='black', size=0.1) +  # Add thin line around bars\n",
    "    facet_wrap('~column', nrow=12, ncol=3, scales='free_x') +\n",
    "    theme_classic() +  # Apply classic theme\n",
    "    theme(\n",
    "        panel_spacing=0.005,  # Adjust space between panels\n",
    "        figure_size=(10, 12),  # Increase the figure size (width, height)\n",
    "        strip_text_x=element_text(size=8),  # Increase facet label size\n",
    "        axis_text_x=element_text(size=9, angle=20),\n",
    "        axis_text=element_text(size=8),  # Increase axis text size\n",
    "        axis_title=element_text(size=11),  # Adjust axis title size\n",
    "    )\n",
    ")"
   ]
  },
  {
   "cell_type": "code",
   "execution_count": 63,
   "id": "1ff6e5aa-a4b4-42b9-94f7-533637380868",
   "metadata": {},
   "outputs": [
    {
     "data": {
      "image/png": "[encoded data removed]",
      "text/plain": [
       "<Figure size 1000x1200 with 10 Axes>"
      ]
     },
     "execution_count": 63,
     "metadata": {},
     "output_type": "execute_result"
    }
   ],
   "source": [
    "y_plot.draw()"
   ]
  },
  {
   "cell_type": "markdown",
   "id": "e2ebb249-51fe-4413-be95-c86bf731c269",
   "metadata": {},
   "source": [
    "From this visualization, it looks like our target class of >50K ('1') is associated with the 'income' workclass, 'high' race_sex, 'high' msr, and education level of a bachelors degree and above. Note that the relative frequency of the target class '1' is higher for these features than the others; the aqua bars are closer in size to the adjacent red bar in these features. The highest relative frequency of our target class '1' is associated with the 40-55 age group. "
   ]
  },
  {
   "cell_type": "markdown",
   "id": "d9a697f6-078e-406a-a1eb-85d9cf42059a",
   "metadata": {},
   "source": [
    "<br>"
   ]
  },
  {
   "cell_type": "markdown",
   "id": "3e39b4b0-7040-451e-b630-7b5a978ef524",
   "metadata": {},
   "source": [
    "### Cramer's V Correlation Matrix"
   ]
  },
  {
   "cell_type": "markdown",
   "id": "48501a2f-9323-4d77-9e90-41b1dc2ded52",
   "metadata": {},
   "source": [
    "In order to understand the relationship between features, we will use a correlation matrix. Cramer's matrix is suitable for categorical variables and ranges from 0 (no association) to 1 (high association)."
   ]
  },
  {
   "cell_type": "code",
   "execution_count": 68,
   "id": "217ddc8d-e0db-444b-833d-ff638a754a2d",
   "metadata": {},
   "outputs": [],
   "source": [
    "abt_e = abt.drop(['flag'], axis = 1, inplace=False)"
   ]
  },
  {
   "cell_type": "code",
   "execution_count": 69,
   "id": "c33d2838-726b-4ae0-896f-3a809e9315b7",
   "metadata": {},
   "outputs": [],
   "source": [
    "from scipy.stats import chi2_contingency\n",
    "\n",
    "def cramers_V(var1,var2) :\n",
    "  crosstab =np.array(pd.crosstab(var1,var2, rownames=None, colnames=None)) # Cross table building\n",
    "  stat = chi2_contingency(crosstab)[0] # Keeping of the test statistic of the Chi2 test\n",
    "  obs = np.sum(crosstab) # Number of observations\n",
    "  mini = min(crosstab.shape)-1 # Take the minimum value between the columns and the rows of the cross table\n",
    "  return np.sqrt(stat/(obs*mini))"
   ]
  },
  {
   "cell_type": "code",
   "execution_count": 70,
   "id": "49f83621-9a46-48e2-896c-9535170529f4",
   "metadata": {},
   "outputs": [],
   "source": [
    "rows= []\n",
    "\n",
    "for var1 in abt_e:\n",
    "  col = []\n",
    "  for var2 in abt_e :\n",
    "    cramers =cramers_V(abt_e[var1], abt_e[var2]) # Cramer's V test\n",
    "    col.append(round(cramers,2)) # Keeping of the rounded value of the Cramer's V  \n",
    "  rows.append(col)\n",
    "  \n",
    "cramers_results = np.array(rows)\n",
    "matrix = pd.DataFrame(cramers_results, columns = abt_e.columns, index =abt_e.columns)"
   ]
  },
  {
   "cell_type": "code",
   "execution_count": 71,
   "id": "88d7740b-51d8-4ced-b468-8a1c60ae42af",
   "metadata": {},
   "outputs": [
    {
     "data": {
      "image/png": "[encoded data removed]",
      "text/plain": [
       "<Figure size 1700x1700 with 2 Axes>"
      ]
     },
     "metadata": {},
     "output_type": "display_data"
    }
   ],
   "source": [
    "plt.figure(figsize=(17, 17))\n",
    "\n",
    "axis_corr = sns.heatmap(\n",
    "matrix,\n",
    "vmin=0, vmax=1, center=0.5,\n",
    "cmap=sns.diverging_palette(30, 500, n=500),\n",
    "    square=True,\n",
    "    annot=True,  # Show correlation coefficients in each square\n",
    "    fmt=\".2f\", # Format the coefficients to 2 decimal places\n",
    "    annot_kws={\"size\": 6},  # Set font size for correlation coefficients\n",
    "    linewidths=.1,  # Add lines between squares for better visibility\n",
    "    cbar_kws={\"shrink\": .60, \"orientation\": \"horizontal\"}  # Adjust color bar (legend) size\n",
    ")\n",
    "\n",
    "# Sets the font size and rotation for the x and y axis labels\n",
    "plt.xticks(rotation=45, ha='right', fontsize=8)\n",
    "plt.yticks(rotation=0, fontsize=8)\n",
    "\n",
    "# Adjust the position of the color legend\n",
    "cbar = axis_corr.collections[0].colorbar\n",
    "cbar.ax.tick_params(labelsize=8)\n",
    "cbar.ax.set_position([0.2, 0.27, 0.6, 0.02])\n",
    "\n",
    "#for text in axis_corr.texts:\n",
    "    #text.set_visible(True)\n",
    "\n",
    "plt.show()"
   ]
  },
  {
   "cell_type": "markdown",
   "id": "42de3ec3-f85e-4a1d-8ed4-86208f701885",
   "metadata": {},
   "source": [
    "This matrix shows us that the number of years of education bin is perfectly correlated with the education level bin. We can eliminate one of these features to improve our model. <br>\n",
    "There are no other correlations strong enough to warrant feature removal."
   ]
  },
  {
   "cell_type": "code",
   "execution_count": 73,
   "id": "91e8f139-685c-4d61-8a6d-72b20264f533",
   "metadata": {},
   "outputs": [],
   "source": [
    "abt.drop('education_bin', axis = 1, inplace = True)"
   ]
  },
  {
   "cell_type": "markdown",
   "id": "a35da572-d0f7-475b-9c5f-574ecdad0ec7",
   "metadata": {},
   "source": [
    "### Pre-Processing"
   ]
  },
  {
   "cell_type": "markdown",
   "id": "0ef68703-06f5-4929-ac8c-9b8baea1309b",
   "metadata": {},
   "source": [
    "#### Imputation and Calculations"
   ]
  },
  {
   "cell_type": "code",
   "execution_count": 76,
   "id": "7cd03546-e166-497d-8b74-8e59b953bfcd",
   "metadata": {},
   "outputs": [
    {
     "data": {
      "text/html": [
       "<div>\n",
       "<style scoped>\n",
       "    .dataframe tbody tr th:only-of-type {\n",
       "        vertical-align: middle;\n",
       "    }\n",
       "\n",
       "    .dataframe tbody tr th {\n",
       "        vertical-align: top;\n",
       "    }\n",
       "\n",
       "    .dataframe thead th {\n",
       "        text-align: right;\n",
       "    }\n",
       "</style>\n",
       "<table border=\"1\" class=\"dataframe\">\n",
       "  <thead>\n",
       "    <tr style=\"text-align: right;\">\n",
       "      <th></th>\n",
       "      <th>Feature</th>\n",
       "      <th>Count</th>\n",
       "      <th>% Missing</th>\n",
       "      <th>Card.</th>\n",
       "      <th>Mode</th>\n",
       "      <th>Mode Freq.</th>\n",
       "      <th>Mode %</th>\n",
       "      <th>2nd Mode</th>\n",
       "      <th>2nd Mode Freq.</th>\n",
       "      <th>2nd Mode %</th>\n",
       "    </tr>\n",
       "  </thead>\n",
       "  <tbody>\n",
       "  </tbody>\n",
       "</table>\n",
       "</div>"
      ],
      "text/plain": [
       "Empty DataFrame\n",
       "Columns: [Feature, Count, % Missing, Card., Mode, Mode Freq., Mode %, 2nd Mode, 2nd Mode Freq., 2nd Mode %]\n",
       "Index: []"
      ]
     },
     "execution_count": 76,
     "metadata": {},
     "output_type": "execute_result"
    }
   ],
   "source": [
    "dqr_cat[dqr_cat['% Missing'] > 0]"
   ]
  },
  {
   "cell_type": "markdown",
   "id": "e4314fa5-fe39-492e-8d35-bc2784a8f605",
   "metadata": {},
   "source": [
    "There are no missing values, so we do not need to omit or impute data."
   ]
  },
  {
   "cell_type": "markdown",
   "id": "46cbcc42-1e58-4b60-a8c4-e34ce8394b58",
   "metadata": {},
   "source": [
    "#### Outlier Handling"
   ]
  },
  {
   "cell_type": "markdown",
   "id": "c72652ce-dc63-4db1-b589-d2f26be24073",
   "metadata": {},
   "source": [
    "Given that our data has been binned already, there are no outliers to remove. Removing bins would create null predictions, so we will keep even the smallest bins."
   ]
  },
  {
   "cell_type": "markdown",
   "id": "1e6db814-a1ab-4cf4-89e6-00a40e38357b",
   "metadata": {},
   "source": [
    "#### Encoding"
   ]
  },
  {
   "cell_type": "markdown",
   "id": "9c5ede97-1e1d-467c-8778-484377f672d8",
   "metadata": {},
   "source": [
    "We will encode oridinal features using label encoding. The data is already in ranking order, with a letter prefix, so we can use that prefix to maintain the order for the encoding."
   ]
  },
  {
   "cell_type": "code",
   "execution_count": 82,
   "id": "e08acdb1-123a-444e-82f8-8c7e293ae05e",
   "metadata": {},
   "outputs": [],
   "source": [
    "# Function to encode a column based on its prefix.\n",
    "# All the binned data starts with a letter, which we will use to map the label encoding.\n",
    "def encode_column(column):\n",
    "    column = column.astype(str)\n",
    "    # Extract prefixes and suffixes\n",
    "    prefixes = column.str[0]\n",
    "    suffixes = column.str[1:]\n",
    "    \n",
    "    # Get unique prefixes and sort them\n",
    "    unique_prefixes = sorted(prefixes.unique())\n",
    "    prefix_mapping = {prefix: idx + 1 for idx, prefix in enumerate(unique_prefixes)}\n",
    "    \n",
    "    # Encode prefixes\n",
    "    encoded_prefixes = prefixes.map(prefix_mapping)\n",
    "    \n",
    "    # Combine encoded prefixes with suffixes\n",
    "    encoded_column = encoded_prefixes.astype(int)\n",
    "    \n",
    "    return encoded_column"
   ]
  },
  {
   "cell_type": "code",
   "execution_count": 83,
   "id": "5786b149-732b-4590-a25e-390bb37e565e",
   "metadata": {},
   "outputs": [],
   "source": [
    "# Make a copy of the abt. This will be encoded.\n",
    "abt_encoded = abt.copy()\n",
    "\n",
    "# Apply encoding to each column\n",
    "for col in ['occupation_bin', 'msr_bin', 'race_sex_bin', 'education_num_bin']:\n",
    "    abt_encoded[col + '_Encoded'] = encode_column(abt_encoded[col])"
   ]
  },
  {
   "cell_type": "code",
   "execution_count": 84,
   "id": "5d8c0432-85e3-4e5c-8a49-22b735ad4387",
   "metadata": {},
   "outputs": [
    {
     "data": {
      "text/html": [
       "<div>\n",
       "<style scoped>\n",
       "    .dataframe tbody tr th:only-of-type {\n",
       "        vertical-align: middle;\n",
       "    }\n",
       "\n",
       "    .dataframe tbody tr th {\n",
       "        vertical-align: top;\n",
       "    }\n",
       "\n",
       "    .dataframe thead th {\n",
       "        text-align: right;\n",
       "    }\n",
       "</style>\n",
       "<table border=\"1\" class=\"dataframe\">\n",
       "  <thead>\n",
       "    <tr style=\"text-align: right;\">\n",
       "      <th></th>\n",
       "      <th>hours_per_week_bin</th>\n",
       "      <th>occupation_bin</th>\n",
       "      <th>msr_bin</th>\n",
       "      <th>capital_gl_bin</th>\n",
       "      <th>race_sex_bin</th>\n",
       "      <th>education_num_bin</th>\n",
       "      <th>workclass_bin</th>\n",
       "      <th>age_bin</th>\n",
       "      <th>flag</th>\n",
       "      <th>y</th>\n",
       "      <th>occupation_bin_Encoded</th>\n",
       "      <th>msr_bin_Encoded</th>\n",
       "      <th>race_sex_bin_Encoded</th>\n",
       "      <th>education_num_bin_Encoded</th>\n",
       "    </tr>\n",
       "  </thead>\n",
       "  <tbody>\n",
       "    <tr>\n",
       "      <th>0</th>\n",
       "      <td>b. 31-40</td>\n",
       "      <td>b. Mid - Low</td>\n",
       "      <td>b. Mid</td>\n",
       "      <td>c. &gt; 0</td>\n",
       "      <td>c. High</td>\n",
       "      <td>c. 13</td>\n",
       "      <td>b. income</td>\n",
       "      <td>d. 36-40 &amp; 56-60</td>\n",
       "      <td>train</td>\n",
       "      <td>0</td>\n",
       "      <td>2</td>\n",
       "      <td>2</td>\n",
       "      <td>3</td>\n",
       "      <td>3</td>\n",
       "    </tr>\n",
       "    <tr>\n",
       "      <th>1</th>\n",
       "      <td>a. 0-30</td>\n",
       "      <td>e. High</td>\n",
       "      <td>c. High</td>\n",
       "      <td>a. = 0</td>\n",
       "      <td>c. High</td>\n",
       "      <td>c. 13</td>\n",
       "      <td>b. income</td>\n",
       "      <td>e. 40-55</td>\n",
       "      <td>train</td>\n",
       "      <td>0</td>\n",
       "      <td>5</td>\n",
       "      <td>3</td>\n",
       "      <td>3</td>\n",
       "      <td>3</td>\n",
       "    </tr>\n",
       "    <tr>\n",
       "      <th>2</th>\n",
       "      <td>b. 31-40</td>\n",
       "      <td>a. Low</td>\n",
       "      <td>b. Mid</td>\n",
       "      <td>a. = 0</td>\n",
       "      <td>c. High</td>\n",
       "      <td>b. 9-12</td>\n",
       "      <td>b. income</td>\n",
       "      <td>d. 36-40 &amp; 56-60</td>\n",
       "      <td>train</td>\n",
       "      <td>0</td>\n",
       "      <td>1</td>\n",
       "      <td>2</td>\n",
       "      <td>3</td>\n",
       "      <td>2</td>\n",
       "    </tr>\n",
       "    <tr>\n",
       "      <th>3</th>\n",
       "      <td>b. 31-40</td>\n",
       "      <td>a. Low</td>\n",
       "      <td>c. High</td>\n",
       "      <td>a. = 0</td>\n",
       "      <td>b. Mid</td>\n",
       "      <td>a. 0-8</td>\n",
       "      <td>b. income</td>\n",
       "      <td>e. 40-55</td>\n",
       "      <td>train</td>\n",
       "      <td>0</td>\n",
       "      <td>1</td>\n",
       "      <td>3</td>\n",
       "      <td>2</td>\n",
       "      <td>1</td>\n",
       "    </tr>\n",
       "    <tr>\n",
       "      <th>4</th>\n",
       "      <td>b. 31-40</td>\n",
       "      <td>e. High</td>\n",
       "      <td>c. High</td>\n",
       "      <td>a. = 0</td>\n",
       "      <td>a. Low</td>\n",
       "      <td>c. 13</td>\n",
       "      <td>b. income</td>\n",
       "      <td>b. 26-30 &amp; 71-100</td>\n",
       "      <td>train</td>\n",
       "      <td>0</td>\n",
       "      <td>5</td>\n",
       "      <td>3</td>\n",
       "      <td>1</td>\n",
       "      <td>3</td>\n",
       "    </tr>\n",
       "  </tbody>\n",
       "</table>\n",
       "</div>"
      ],
      "text/plain": [
       "  hours_per_week_bin occupation_bin  msr_bin capital_gl_bin race_sex_bin education_num_bin workclass_bin            age_bin   flag  y  occupation_bin_Encoded  msr_bin_Encoded  race_sex_bin_Encoded  education_num_bin_Encoded\n",
       "0           b. 31-40   b. Mid - Low   b. Mid         c. > 0      c. High             c. 13     b. income   d. 36-40 & 56-60  train  0                       2                2                     3                          3\n",
       "1            a. 0-30        e. High  c. High         a. = 0      c. High             c. 13     b. income           e. 40-55  train  0                       5                3                     3                          3\n",
       "2           b. 31-40         a. Low   b. Mid         a. = 0      c. High           b. 9-12     b. income   d. 36-40 & 56-60  train  0                       1                2                     3                          2\n",
       "3           b. 31-40         a. Low  c. High         a. = 0       b. Mid            a. 0-8     b. income           e. 40-55  train  0                       1                3                     2                          1\n",
       "4           b. 31-40        e. High  c. High         a. = 0       a. Low             c. 13     b. income  b. 26-30 & 71-100  train  0                       5                3                     1                          3"
      ]
     },
     "execution_count": 84,
     "metadata": {},
     "output_type": "execute_result"
    }
   ],
   "source": [
    "abt_encoded.head()"
   ]
  },
  {
   "cell_type": "markdown",
   "id": "3829ee04-5c44-46b4-ac0d-6062b92ec581",
   "metadata": {},
   "source": [
    "Now we must encode the nominal features."
   ]
  },
  {
   "cell_type": "code",
   "execution_count": 86,
   "id": "5762b8be-d256-486b-a05b-5de839e3a1bb",
   "metadata": {},
   "outputs": [],
   "source": [
    "# One-Hot Encoding for nominal columns\n",
    "nominal_columns = ['age_bin', 'capital_gl_bin', 'hours_per_week_bin', 'workclass_bin']\n",
    "abt_encoded = pd.get_dummies(abt_encoded, columns=nominal_columns)"
   ]
  },
  {
   "cell_type": "code",
   "execution_count": 87,
   "id": "98d7ce86-34d3-4eaf-8d22-a178985d88cf",
   "metadata": {},
   "outputs": [
    {
     "data": {
      "text/html": [
       "<div>\n",
       "<style scoped>\n",
       "    .dataframe tbody tr th:only-of-type {\n",
       "        vertical-align: middle;\n",
       "    }\n",
       "\n",
       "    .dataframe tbody tr th {\n",
       "        vertical-align: top;\n",
       "    }\n",
       "\n",
       "    .dataframe thead th {\n",
       "        text-align: right;\n",
       "    }\n",
       "</style>\n",
       "<table border=\"1\" class=\"dataframe\">\n",
       "  <thead>\n",
       "    <tr style=\"text-align: right;\">\n",
       "      <th></th>\n",
       "      <th>occupation_bin</th>\n",
       "      <th>msr_bin</th>\n",
       "      <th>race_sex_bin</th>\n",
       "      <th>education_num_bin</th>\n",
       "      <th>flag</th>\n",
       "      <th>y</th>\n",
       "      <th>occupation_bin_Encoded</th>\n",
       "      <th>msr_bin_Encoded</th>\n",
       "      <th>race_sex_bin_Encoded</th>\n",
       "      <th>education_num_bin_Encoded</th>\n",
       "      <th>age_bin_a. 0-25</th>\n",
       "      <th>age_bin_b. 26-30 &amp; 71-100</th>\n",
       "      <th>age_bin_c. 31-35 &amp; 61-70</th>\n",
       "      <th>age_bin_d. 36-40 &amp; 56-60</th>\n",
       "      <th>age_bin_e. 40-55</th>\n",
       "      <th>capital_gl_bin_a. = 0</th>\n",
       "      <th>capital_gl_bin_b. &lt; 0</th>\n",
       "      <th>capital_gl_bin_c. &gt; 0</th>\n",
       "      <th>hours_per_week_bin_a. 0-30</th>\n",
       "      <th>hours_per_week_bin_b. 31-40</th>\n",
       "      <th>hours_per_week_bin_c. 71-100</th>\n",
       "      <th>hours_per_week_bin_d. 41-50 &amp; 61-70</th>\n",
       "      <th>hours_per_week_bin_e. 51-60</th>\n",
       "      <th>workclass_bin_a. no income</th>\n",
       "      <th>workclass_bin_b. income</th>\n",
       "    </tr>\n",
       "  </thead>\n",
       "  <tbody>\n",
       "    <tr>\n",
       "      <th>0</th>\n",
       "      <td>b. Mid - Low</td>\n",
       "      <td>b. Mid</td>\n",
       "      <td>c. High</td>\n",
       "      <td>c. 13</td>\n",
       "      <td>train</td>\n",
       "      <td>0</td>\n",
       "      <td>2</td>\n",
       "      <td>2</td>\n",
       "      <td>3</td>\n",
       "      <td>3</td>\n",
       "      <td>0</td>\n",
       "      <td>0</td>\n",
       "      <td>0</td>\n",
       "      <td>1</td>\n",
       "      <td>0</td>\n",
       "      <td>0</td>\n",
       "      <td>0</td>\n",
       "      <td>1</td>\n",
       "      <td>0</td>\n",
       "      <td>1</td>\n",
       "      <td>0</td>\n",
       "      <td>0</td>\n",
       "      <td>0</td>\n",
       "      <td>0</td>\n",
       "      <td>1</td>\n",
       "    </tr>\n",
       "    <tr>\n",
       "      <th>1</th>\n",
       "      <td>e. High</td>\n",
       "      <td>c. High</td>\n",
       "      <td>c. High</td>\n",
       "      <td>c. 13</td>\n",
       "      <td>train</td>\n",
       "      <td>0</td>\n",
       "      <td>5</td>\n",
       "      <td>3</td>\n",
       "      <td>3</td>\n",
       "      <td>3</td>\n",
       "      <td>0</td>\n",
       "      <td>0</td>\n",
       "      <td>0</td>\n",
       "      <td>0</td>\n",
       "      <td>1</td>\n",
       "      <td>1</td>\n",
       "      <td>0</td>\n",
       "      <td>0</td>\n",
       "      <td>1</td>\n",
       "      <td>0</td>\n",
       "      <td>0</td>\n",
       "      <td>0</td>\n",
       "      <td>0</td>\n",
       "      <td>0</td>\n",
       "      <td>1</td>\n",
       "    </tr>\n",
       "    <tr>\n",
       "      <th>2</th>\n",
       "      <td>a. Low</td>\n",
       "      <td>b. Mid</td>\n",
       "      <td>c. High</td>\n",
       "      <td>b. 9-12</td>\n",
       "      <td>train</td>\n",
       "      <td>0</td>\n",
       "      <td>1</td>\n",
       "      <td>2</td>\n",
       "      <td>3</td>\n",
       "      <td>2</td>\n",
       "      <td>0</td>\n",
       "      <td>0</td>\n",
       "      <td>0</td>\n",
       "      <td>1</td>\n",
       "      <td>0</td>\n",
       "      <td>1</td>\n",
       "      <td>0</td>\n",
       "      <td>0</td>\n",
       "      <td>0</td>\n",
       "      <td>1</td>\n",
       "      <td>0</td>\n",
       "      <td>0</td>\n",
       "      <td>0</td>\n",
       "      <td>0</td>\n",
       "      <td>1</td>\n",
       "    </tr>\n",
       "    <tr>\n",
       "      <th>3</th>\n",
       "      <td>a. Low</td>\n",
       "      <td>c. High</td>\n",
       "      <td>b. Mid</td>\n",
       "      <td>a. 0-8</td>\n",
       "      <td>train</td>\n",
       "      <td>0</td>\n",
       "      <td>1</td>\n",
       "      <td>3</td>\n",
       "      <td>2</td>\n",
       "      <td>1</td>\n",
       "      <td>0</td>\n",
       "      <td>0</td>\n",
       "      <td>0</td>\n",
       "      <td>0</td>\n",
       "      <td>1</td>\n",
       "      <td>1</td>\n",
       "      <td>0</td>\n",
       "      <td>0</td>\n",
       "      <td>0</td>\n",
       "      <td>1</td>\n",
       "      <td>0</td>\n",
       "      <td>0</td>\n",
       "      <td>0</td>\n",
       "      <td>0</td>\n",
       "      <td>1</td>\n",
       "    </tr>\n",
       "    <tr>\n",
       "      <th>4</th>\n",
       "      <td>e. High</td>\n",
       "      <td>c. High</td>\n",
       "      <td>a. Low</td>\n",
       "      <td>c. 13</td>\n",
       "      <td>train</td>\n",
       "      <td>0</td>\n",
       "      <td>5</td>\n",
       "      <td>3</td>\n",
       "      <td>1</td>\n",
       "      <td>3</td>\n",
       "      <td>0</td>\n",
       "      <td>1</td>\n",
       "      <td>0</td>\n",
       "      <td>0</td>\n",
       "      <td>0</td>\n",
       "      <td>1</td>\n",
       "      <td>0</td>\n",
       "      <td>0</td>\n",
       "      <td>0</td>\n",
       "      <td>1</td>\n",
       "      <td>0</td>\n",
       "      <td>0</td>\n",
       "      <td>0</td>\n",
       "      <td>0</td>\n",
       "      <td>1</td>\n",
       "    </tr>\n",
       "  </tbody>\n",
       "</table>\n",
       "</div>"
      ],
      "text/plain": [
       "  occupation_bin  msr_bin race_sex_bin education_num_bin   flag  y  occupation_bin_Encoded  msr_bin_Encoded  race_sex_bin_Encoded  education_num_bin_Encoded  age_bin_a. 0-25  age_bin_b. 26-30 & 71-100  age_bin_c. 31-35 & 61-70  age_bin_d. 36-40 & 56-60  age_bin_e. 40-55  capital_gl_bin_a. = 0  capital_gl_bin_b. < 0  capital_gl_bin_c. > 0  hours_per_week_bin_a. 0-30  hours_per_week_bin_b. 31-40  hours_per_week_bin_c. 71-100  hours_per_week_bin_d. 41-50 & 61-70  hours_per_week_bin_e. 51-60  workclass_bin_a. no income  workclass_bin_b. income\n",
       "0   b. Mid - Low   b. Mid      c. High             c. 13  train  0                       2                2                     3                          3                0                          0                         0                         1                 0                      0                      0                      1                           0                            1                             0                                    0                            0                           0                        1\n",
       "1        e. High  c. High      c. High             c. 13  train  0                       5                3                     3                          3                0                          0                         0                         0                 1                      1                      0                      0                           1                            0                             0                                    0                            0                           0                        1\n",
       "2         a. Low   b. Mid      c. High           b. 9-12  train  0                       1                2                     3                          2                0                          0                         0                         1                 0                      1                      0                      0                           0                            1                             0                                    0                            0                           0                        1\n",
       "3         a. Low  c. High       b. Mid            a. 0-8  train  0                       1                3                     2                          1                0                          0                         0                         0                 1                      1                      0                      0                           0                            1                             0                                    0                            0                           0                        1\n",
       "4        e. High  c. High       a. Low             c. 13  train  0                       5                3                     1                          3                0                          1                         0                         0                 0                      1                      0                      0                           0                            1                             0                                    0                            0                           0                        1"
      ]
     },
     "execution_count": 87,
     "metadata": {},
     "output_type": "execute_result"
    }
   ],
   "source": [
    "abt_encoded.head()"
   ]
  },
  {
   "cell_type": "code",
   "execution_count": 88,
   "id": "178a5f74-7932-42a6-ba4e-944e44b22492",
   "metadata": {},
   "outputs": [
    {
     "data": {
      "text/html": [
       "<div>\n",
       "<style scoped>\n",
       "    .dataframe tbody tr th:only-of-type {\n",
       "        vertical-align: middle;\n",
       "    }\n",
       "\n",
       "    .dataframe tbody tr th {\n",
       "        vertical-align: top;\n",
       "    }\n",
       "\n",
       "    .dataframe thead th {\n",
       "        text-align: right;\n",
       "    }\n",
       "</style>\n",
       "<table border=\"1\" class=\"dataframe\">\n",
       "  <thead>\n",
       "    <tr style=\"text-align: right;\">\n",
       "      <th></th>\n",
       "      <th>flag</th>\n",
       "      <th>y</th>\n",
       "      <th>occupation_bin_Encoded</th>\n",
       "      <th>msr_bin_Encoded</th>\n",
       "      <th>race_sex_bin_Encoded</th>\n",
       "      <th>education_num_bin_Encoded</th>\n",
       "      <th>age_bin_a. 0-25</th>\n",
       "      <th>age_bin_b. 26-30 &amp; 71-100</th>\n",
       "      <th>age_bin_c. 31-35 &amp; 61-70</th>\n",
       "      <th>age_bin_d. 36-40 &amp; 56-60</th>\n",
       "      <th>age_bin_e. 40-55</th>\n",
       "      <th>capital_gl_bin_a. = 0</th>\n",
       "      <th>capital_gl_bin_b. &lt; 0</th>\n",
       "      <th>capital_gl_bin_c. &gt; 0</th>\n",
       "      <th>hours_per_week_bin_a. 0-30</th>\n",
       "      <th>hours_per_week_bin_b. 31-40</th>\n",
       "      <th>hours_per_week_bin_c. 71-100</th>\n",
       "      <th>hours_per_week_bin_d. 41-50 &amp; 61-70</th>\n",
       "      <th>hours_per_week_bin_e. 51-60</th>\n",
       "      <th>workclass_bin_a. no income</th>\n",
       "      <th>workclass_bin_b. income</th>\n",
       "    </tr>\n",
       "  </thead>\n",
       "  <tbody>\n",
       "    <tr>\n",
       "      <th>0</th>\n",
       "      <td>train</td>\n",
       "      <td>0</td>\n",
       "      <td>2</td>\n",
       "      <td>2</td>\n",
       "      <td>3</td>\n",
       "      <td>3</td>\n",
       "      <td>0</td>\n",
       "      <td>0</td>\n",
       "      <td>0</td>\n",
       "      <td>1</td>\n",
       "      <td>0</td>\n",
       "      <td>0</td>\n",
       "      <td>0</td>\n",
       "      <td>1</td>\n",
       "      <td>0</td>\n",
       "      <td>1</td>\n",
       "      <td>0</td>\n",
       "      <td>0</td>\n",
       "      <td>0</td>\n",
       "      <td>0</td>\n",
       "      <td>1</td>\n",
       "    </tr>\n",
       "    <tr>\n",
       "      <th>1</th>\n",
       "      <td>train</td>\n",
       "      <td>0</td>\n",
       "      <td>5</td>\n",
       "      <td>3</td>\n",
       "      <td>3</td>\n",
       "      <td>3</td>\n",
       "      <td>0</td>\n",
       "      <td>0</td>\n",
       "      <td>0</td>\n",
       "      <td>0</td>\n",
       "      <td>1</td>\n",
       "      <td>1</td>\n",
       "      <td>0</td>\n",
       "      <td>0</td>\n",
       "      <td>1</td>\n",
       "      <td>0</td>\n",
       "      <td>0</td>\n",
       "      <td>0</td>\n",
       "      <td>0</td>\n",
       "      <td>0</td>\n",
       "      <td>1</td>\n",
       "    </tr>\n",
       "    <tr>\n",
       "      <th>2</th>\n",
       "      <td>train</td>\n",
       "      <td>0</td>\n",
       "      <td>1</td>\n",
       "      <td>2</td>\n",
       "      <td>3</td>\n",
       "      <td>2</td>\n",
       "      <td>0</td>\n",
       "      <td>0</td>\n",
       "      <td>0</td>\n",
       "      <td>1</td>\n",
       "      <td>0</td>\n",
       "      <td>1</td>\n",
       "      <td>0</td>\n",
       "      <td>0</td>\n",
       "      <td>0</td>\n",
       "      <td>1</td>\n",
       "      <td>0</td>\n",
       "      <td>0</td>\n",
       "      <td>0</td>\n",
       "      <td>0</td>\n",
       "      <td>1</td>\n",
       "    </tr>\n",
       "    <tr>\n",
       "      <th>3</th>\n",
       "      <td>train</td>\n",
       "      <td>0</td>\n",
       "      <td>1</td>\n",
       "      <td>3</td>\n",
       "      <td>2</td>\n",
       "      <td>1</td>\n",
       "      <td>0</td>\n",
       "      <td>0</td>\n",
       "      <td>0</td>\n",
       "      <td>0</td>\n",
       "      <td>1</td>\n",
       "      <td>1</td>\n",
       "      <td>0</td>\n",
       "      <td>0</td>\n",
       "      <td>0</td>\n",
       "      <td>1</td>\n",
       "      <td>0</td>\n",
       "      <td>0</td>\n",
       "      <td>0</td>\n",
       "      <td>0</td>\n",
       "      <td>1</td>\n",
       "    </tr>\n",
       "    <tr>\n",
       "      <th>4</th>\n",
       "      <td>train</td>\n",
       "      <td>0</td>\n",
       "      <td>5</td>\n",
       "      <td>3</td>\n",
       "      <td>1</td>\n",
       "      <td>3</td>\n",
       "      <td>0</td>\n",
       "      <td>1</td>\n",
       "      <td>0</td>\n",
       "      <td>0</td>\n",
       "      <td>0</td>\n",
       "      <td>1</td>\n",
       "      <td>0</td>\n",
       "      <td>0</td>\n",
       "      <td>0</td>\n",
       "      <td>1</td>\n",
       "      <td>0</td>\n",
       "      <td>0</td>\n",
       "      <td>0</td>\n",
       "      <td>0</td>\n",
       "      <td>1</td>\n",
       "    </tr>\n",
       "  </tbody>\n",
       "</table>\n",
       "</div>"
      ],
      "text/plain": [
       "    flag  y  occupation_bin_Encoded  msr_bin_Encoded  race_sex_bin_Encoded  education_num_bin_Encoded  age_bin_a. 0-25  age_bin_b. 26-30 & 71-100  age_bin_c. 31-35 & 61-70  age_bin_d. 36-40 & 56-60  age_bin_e. 40-55  capital_gl_bin_a. = 0  capital_gl_bin_b. < 0  capital_gl_bin_c. > 0  hours_per_week_bin_a. 0-30  hours_per_week_bin_b. 31-40  hours_per_week_bin_c. 71-100  hours_per_week_bin_d. 41-50 & 61-70  hours_per_week_bin_e. 51-60  workclass_bin_a. no income  workclass_bin_b. income\n",
       "0  train  0                       2                2                     3                          3                0                          0                         0                         1                 0                      0                      0                      1                           0                            1                             0                                    0                            0                           0                        1\n",
       "1  train  0                       5                3                     3                          3                0                          0                         0                         0                 1                      1                      0                      0                           1                            0                             0                                    0                            0                           0                        1\n",
       "2  train  0                       1                2                     3                          2                0                          0                         0                         1                 0                      1                      0                      0                           0                            1                             0                                    0                            0                           0                        1\n",
       "3  train  0                       1                3                     2                          1                0                          0                         0                         0                 1                      1                      0                      0                           0                            1                             0                                    0                            0                           0                        1\n",
       "4  train  0                       5                3                     1                          3                0                          1                         0                         0                 0                      1                      0                      0                           0                            1                             0                                    0                            0                           0                        1"
      ]
     },
     "execution_count": 88,
     "metadata": {},
     "output_type": "execute_result"
    }
   ],
   "source": [
    "# Drop the old columns, keeping only the encoded columns\n",
    "abt_encoded = abt_encoded.iloc[:,4:]   \n",
    "abt_encoded.head()"
   ]
  },
  {
   "cell_type": "code",
   "execution_count": 89,
   "id": "737f7e47-1110-40be-8c3a-1a0ae6cb454d",
   "metadata": {},
   "outputs": [],
   "source": [
    "abt_prepped = abt_encoded.copy()"
   ]
  },
  {
   "cell_type": "code",
   "execution_count": 90,
   "id": "5dc62f5b-faa4-4755-8214-e3fb7dbfe899",
   "metadata": {},
   "outputs": [],
   "source": [
    "# Some models cannot accept special characters in the column name, so we must rename them.\n",
    "# Define a mapping for renaming columns\n",
    "rename_mapping = {\n",
    "    'flag': 'flag',\n",
    "    'y':'y',\n",
    "    'age_bin_a. 0-25': 'age_bin_0_25',\n",
    "    'age_bin_b. 26-30 & 71-100': 'age_bin_26_30_71_100',\n",
    "    'age_bin_c. 31-35 & 61-70': 'age_bin_31_35_61_70',\n",
    "    'age_bin_d. 36-40 & 56-60': 'age_bin_36_40_56_60',\n",
    "    'age_bin_e. 40-55': 'age_bin_40_55',\n",
    "    'capital_gl_bin_a. = 0': 'capital_gl_0',\n",
    "    'capital_gl_bin_b. < 0': 'capital_gl_less_thn_0',\n",
    "    'capital_gl_bin_c. > 0': 'capital_gl_greater_thn_0',\n",
    "    'hours_per_week_bin_a. 0-30': 'hours_per_week_0_30',\n",
    "    'hours_per_week_bin_b. 31-40': 'hours_per_week_31_40',\n",
    "    'hours_per_week_bin_c. 71-100': 'hours_per_week_71_100',\n",
    "    'hours_per_week_bin_d. 41-50 & 61-70': 'hours_per_week_41_50_61_70',\n",
    "    'hours_per_week_bin_e. 51-60': 'hours_per_week_51_60',\n",
    "    'workclass_bin_a. no income': 'workclass_no_income',\n",
    "    'workclass_bin_b. income': 'workclass_income'\n",
    "}\n",
    "\n",
    "# Rename columns\n",
    "abt_prepped.rename(columns=rename_mapping, inplace=True)"
   ]
  },
  {
   "cell_type": "markdown",
   "id": "233acd35-5a46-4f80-a67d-3e1225a30ac3",
   "metadata": {},
   "source": [
    "<br>"
   ]
  },
  {
   "cell_type": "markdown",
   "id": "bb704155-c3ad-4f8e-9963-86b5e27944a5",
   "metadata": {},
   "source": [
    "## Step 2: Modeling"
   ]
  },
  {
   "cell_type": "markdown",
   "id": "3c0307bb-473a-43b7-92a1-0b5b136fe6bd",
   "metadata": {},
   "source": [
    "### Model Setup"
   ]
  },
  {
   "cell_type": "markdown",
   "id": "ed7f2939-9bd8-4198-88ba-479cbc5439ff",
   "metadata": {},
   "source": [
    "In this section, we prepare for modeling by setting a random seed (for consistency) and split the data into training and testing sets."
   ]
  },
  {
   "cell_type": "code",
   "execution_count": 95,
   "id": "4f18a852-2118-43b1-921e-92ba03b1e009",
   "metadata": {},
   "outputs": [],
   "source": [
    "np.random.seed(890) \n",
    "#By setting a random seed, we can leave comments about performance that will still be accurate when the code is reviewed.\n",
    "#This can be commented out to restore a truly random output, but note that all comments on performance were made with random seed set to 890."
   ]
  },
  {
   "cell_type": "code",
   "execution_count": 96,
   "id": "8907b47e-679f-43b7-a5ad-7a755af32cd1",
   "metadata": {},
   "outputs": [],
   "source": [
    "# Split the abt into two sets, one for training and one for validation.\n",
    "train = abt_prepped[abt_prepped['flag'] == 'train']\n",
    "test = abt_prepped[abt_prepped['flag'] == 'test']"
   ]
  },
  {
   "cell_type": "code",
   "execution_count": 97,
   "id": "67d1c4eb-4e2a-4975-a8ff-fe23404de510",
   "metadata": {},
   "outputs": [],
   "source": [
    "# Split both the training an test sets into x (attributes) and y (taret features)\n",
    "x_train = train.drop(['y','flag'], axis=1, inplace = False)\n",
    "y_train = train['y']\n",
    "\n",
    "x_test = test.drop(['y','flag'], axis=1, inplace = False)\n",
    "y_test = test['y']"
   ]
  },
  {
   "cell_type": "code",
   "execution_count": 98,
   "id": "38df49c6-05c1-4137-a59b-bd3e235b8b77",
   "metadata": {},
   "outputs": [
    {
     "data": {
      "text/html": [
       "<div>\n",
       "<style scoped>\n",
       "    .dataframe tbody tr th:only-of-type {\n",
       "        vertical-align: middle;\n",
       "    }\n",
       "\n",
       "    .dataframe tbody tr th {\n",
       "        vertical-align: top;\n",
       "    }\n",
       "\n",
       "    .dataframe thead th {\n",
       "        text-align: right;\n",
       "    }\n",
       "</style>\n",
       "<table border=\"1\" class=\"dataframe\">\n",
       "  <thead>\n",
       "    <tr style=\"text-align: right;\">\n",
       "      <th></th>\n",
       "      <th>occupation_bin_Encoded</th>\n",
       "      <th>msr_bin_Encoded</th>\n",
       "      <th>race_sex_bin_Encoded</th>\n",
       "      <th>education_num_bin_Encoded</th>\n",
       "      <th>age_bin_0_25</th>\n",
       "      <th>age_bin_26_30_71_100</th>\n",
       "      <th>age_bin_31_35_61_70</th>\n",
       "      <th>age_bin_36_40_56_60</th>\n",
       "      <th>age_bin_40_55</th>\n",
       "      <th>capital_gl_0</th>\n",
       "      <th>capital_gl_less_thn_0</th>\n",
       "      <th>capital_gl_greater_thn_0</th>\n",
       "      <th>hours_per_week_0_30</th>\n",
       "      <th>hours_per_week_31_40</th>\n",
       "      <th>hours_per_week_71_100</th>\n",
       "      <th>hours_per_week_41_50_61_70</th>\n",
       "      <th>hours_per_week_51_60</th>\n",
       "      <th>workclass_no_income</th>\n",
       "      <th>workclass_income</th>\n",
       "    </tr>\n",
       "  </thead>\n",
       "  <tbody>\n",
       "    <tr>\n",
       "      <th>0</th>\n",
       "      <td>2</td>\n",
       "      <td>2</td>\n",
       "      <td>3</td>\n",
       "      <td>3</td>\n",
       "      <td>0</td>\n",
       "      <td>0</td>\n",
       "      <td>0</td>\n",
       "      <td>1</td>\n",
       "      <td>0</td>\n",
       "      <td>0</td>\n",
       "      <td>0</td>\n",
       "      <td>1</td>\n",
       "      <td>0</td>\n",
       "      <td>1</td>\n",
       "      <td>0</td>\n",
       "      <td>0</td>\n",
       "      <td>0</td>\n",
       "      <td>0</td>\n",
       "      <td>1</td>\n",
       "    </tr>\n",
       "    <tr>\n",
       "      <th>1</th>\n",
       "      <td>5</td>\n",
       "      <td>3</td>\n",
       "      <td>3</td>\n",
       "      <td>3</td>\n",
       "      <td>0</td>\n",
       "      <td>0</td>\n",
       "      <td>0</td>\n",
       "      <td>0</td>\n",
       "      <td>1</td>\n",
       "      <td>1</td>\n",
       "      <td>0</td>\n",
       "      <td>0</td>\n",
       "      <td>1</td>\n",
       "      <td>0</td>\n",
       "      <td>0</td>\n",
       "      <td>0</td>\n",
       "      <td>0</td>\n",
       "      <td>0</td>\n",
       "      <td>1</td>\n",
       "    </tr>\n",
       "    <tr>\n",
       "      <th>2</th>\n",
       "      <td>1</td>\n",
       "      <td>2</td>\n",
       "      <td>3</td>\n",
       "      <td>2</td>\n",
       "      <td>0</td>\n",
       "      <td>0</td>\n",
       "      <td>0</td>\n",
       "      <td>1</td>\n",
       "      <td>0</td>\n",
       "      <td>1</td>\n",
       "      <td>0</td>\n",
       "      <td>0</td>\n",
       "      <td>0</td>\n",
       "      <td>1</td>\n",
       "      <td>0</td>\n",
       "      <td>0</td>\n",
       "      <td>0</td>\n",
       "      <td>0</td>\n",
       "      <td>1</td>\n",
       "    </tr>\n",
       "    <tr>\n",
       "      <th>3</th>\n",
       "      <td>1</td>\n",
       "      <td>3</td>\n",
       "      <td>2</td>\n",
       "      <td>1</td>\n",
       "      <td>0</td>\n",
       "      <td>0</td>\n",
       "      <td>0</td>\n",
       "      <td>0</td>\n",
       "      <td>1</td>\n",
       "      <td>1</td>\n",
       "      <td>0</td>\n",
       "      <td>0</td>\n",
       "      <td>0</td>\n",
       "      <td>1</td>\n",
       "      <td>0</td>\n",
       "      <td>0</td>\n",
       "      <td>0</td>\n",
       "      <td>0</td>\n",
       "      <td>1</td>\n",
       "    </tr>\n",
       "    <tr>\n",
       "      <th>4</th>\n",
       "      <td>5</td>\n",
       "      <td>3</td>\n",
       "      <td>1</td>\n",
       "      <td>3</td>\n",
       "      <td>0</td>\n",
       "      <td>1</td>\n",
       "      <td>0</td>\n",
       "      <td>0</td>\n",
       "      <td>0</td>\n",
       "      <td>1</td>\n",
       "      <td>0</td>\n",
       "      <td>0</td>\n",
       "      <td>0</td>\n",
       "      <td>1</td>\n",
       "      <td>0</td>\n",
       "      <td>0</td>\n",
       "      <td>0</td>\n",
       "      <td>0</td>\n",
       "      <td>1</td>\n",
       "    </tr>\n",
       "  </tbody>\n",
       "</table>\n",
       "</div>"
      ],
      "text/plain": [
       "   occupation_bin_Encoded  msr_bin_Encoded  race_sex_bin_Encoded  education_num_bin_Encoded  age_bin_0_25  age_bin_26_30_71_100  age_bin_31_35_61_70  age_bin_36_40_56_60  age_bin_40_55  capital_gl_0  capital_gl_less_thn_0  capital_gl_greater_thn_0  hours_per_week_0_30  hours_per_week_31_40  hours_per_week_71_100  hours_per_week_41_50_61_70  hours_per_week_51_60  workclass_no_income  workclass_income\n",
       "0                       2                2                     3                          3             0                     0                    0                    1              0             0                      0                         1                    0                     1                      0                           0                     0                    0                 1\n",
       "1                       5                3                     3                          3             0                     0                    0                    0              1             1                      0                         0                    1                     0                      0                           0                     0                    0                 1\n",
       "2                       1                2                     3                          2             0                     0                    0                    1              0             1                      0                         0                    0                     1                      0                           0                     0                    0                 1\n",
       "3                       1                3                     2                          1             0                     0                    0                    0              1             1                      0                         0                    0                     1                      0                           0                     0                    0                 1\n",
       "4                       5                3                     1                          3             0                     1                    0                    0              0             1                      0                         0                    0                     1                      0                           0                     0                    0                 1"
      ]
     },
     "execution_count": 98,
     "metadata": {},
     "output_type": "execute_result"
    }
   ],
   "source": [
    "x_train.head()"
   ]
  },
  {
   "cell_type": "markdown",
   "id": "851017d2-f4df-40f3-b478-27018f6d03a4",
   "metadata": {},
   "source": [
    "### Random Forest Model"
   ]
  },
  {
   "cell_type": "markdown",
   "id": "c30323ee-531a-478b-8d2b-f511d6cf8160",
   "metadata": {},
   "source": [
    "Now it's time to build the first model. We start with a basic Random Forest model, using only default hyperparameters."
   ]
  },
  {
   "cell_type": "code",
   "execution_count": 101,
   "id": "419bca38-9a35-48d1-83f3-fedbfe802c61",
   "metadata": {},
   "outputs": [
    {
     "data": {
      "text/html": [
       "<style>#sk-container-id-1 {color: black;}#sk-container-id-1 pre{padding: 0;}#sk-container-id-1 div.sk-toggleable {background-color: white;}#sk-container-id-1 label.sk-toggleable__label {cursor: pointer;display: block;width: 100%;margin-bottom: 0;padding: 0.3em;box-sizing: border-box;text-align: center;}#sk-container-id-1 label.sk-toggleable__label-arrow:before {content: \"▸\";float: left;margin-right: 0.25em;color: #696969;}#sk-container-id-1 label.sk-toggleable__label-arrow:hover:before {color: black;}#sk-container-id-1 div.sk-estimator:hover label.sk-toggleable__label-arrow:before {color: black;}#sk-container-id-1 div.sk-toggleable__content {max-height: 0;max-width: 0;overflow: hidden;text-align: left;background-color: #f0f8ff;}#sk-container-id-1 div.sk-toggleable__content pre {margin: 0.2em;color: black;border-radius: 0.25em;background-color: #f0f8ff;}#sk-container-id-1 input.sk-toggleable__control:checked~div.sk-toggleable__content {max-height: 200px;max-width: 100%;overflow: auto;}#sk-container-id-1 input.sk-toggleable__control:checked~label.sk-toggleable__label-arrow:before {content: \"▾\";}#sk-container-id-1 div.sk-estimator input.sk-toggleable__control:checked~label.sk-toggleable__label {background-color: #d4ebff;}#sk-container-id-1 div.sk-label input.sk-toggleable__control:checked~label.sk-toggleable__label {background-color: #d4ebff;}#sk-container-id-1 input.sk-hidden--visually {border: 0;clip: rect(1px 1px 1px 1px);clip: rect(1px, 1px, 1px, 1px);height: 1px;margin: -1px;overflow: hidden;padding: 0;position: absolute;width: 1px;}#sk-container-id-1 div.sk-estimator {font-family: monospace;background-color: #f0f8ff;border: 1px dotted black;border-radius: 0.25em;box-sizing: border-box;margin-bottom: 0.5em;}#sk-container-id-1 div.sk-estimator:hover {background-color: #d4ebff;}#sk-container-id-1 div.sk-parallel-item::after {content: \"\";width: 100%;border-bottom: 1px solid gray;flex-grow: 1;}#sk-container-id-1 div.sk-label:hover label.sk-toggleable__label {background-color: #d4ebff;}#sk-container-id-1 div.sk-serial::before {content: \"\";position: absolute;border-left: 1px solid gray;box-sizing: border-box;top: 0;bottom: 0;left: 50%;z-index: 0;}#sk-container-id-1 div.sk-serial {display: flex;flex-direction: column;align-items: center;background-color: white;padding-right: 0.2em;padding-left: 0.2em;position: relative;}#sk-container-id-1 div.sk-item {position: relative;z-index: 1;}#sk-container-id-1 div.sk-parallel {display: flex;align-items: stretch;justify-content: center;background-color: white;position: relative;}#sk-container-id-1 div.sk-item::before, #sk-container-id-1 div.sk-parallel-item::before {content: \"\";position: absolute;border-left: 1px solid gray;box-sizing: border-box;top: 0;bottom: 0;left: 50%;z-index: -1;}#sk-container-id-1 div.sk-parallel-item {display: flex;flex-direction: column;z-index: 1;position: relative;background-color: white;}#sk-container-id-1 div.sk-parallel-item:first-child::after {align-self: flex-end;width: 50%;}#sk-container-id-1 div.sk-parallel-item:last-child::after {align-self: flex-start;width: 50%;}#sk-container-id-1 div.sk-parallel-item:only-child::after {width: 0;}#sk-container-id-1 div.sk-dashed-wrapped {border: 1px dashed gray;margin: 0 0.4em 0.5em 0.4em;box-sizing: border-box;padding-bottom: 0.4em;background-color: white;}#sk-container-id-1 div.sk-label label {font-family: monospace;font-weight: bold;display: inline-block;line-height: 1.2em;}#sk-container-id-1 div.sk-label-container {text-align: center;}#sk-container-id-1 div.sk-container {/* jupyter's `normalize.less` sets `[hidden] { display: none; }` but bootstrap.min.css set `[hidden] { display: none !important; }` so we also need the `!important` here to be able to override the default hidden behavior on the sphinx rendered scikit-learn.org. See: https://github.com/scikit-learn/scikit-learn/issues/21755 */display: inline-block !important;position: relative;}#sk-container-id-1 div.sk-text-repr-fallback {display: none;}</style><div id=\"sk-container-id-1\" class=\"sk-top-container\"><div class=\"sk-text-repr-fallback\"><pre>RandomForestClassifier(random_state=890)</pre><b>In a Jupyter environment, please rerun this cell to show the HTML representation or trust the notebook. <br />On GitHub, the HTML representation is unable to render, please try loading this page with nbviewer.org.</b></div><div class=\"sk-container\" hidden><div class=\"sk-item\"><div class=\"sk-estimator sk-toggleable\"><input class=\"sk-toggleable__control sk-hidden--visually\" id=\"sk-estimator-id-1\" type=\"checkbox\" checked><label for=\"sk-estimator-id-1\" class=\"sk-toggleable__label sk-toggleable__label-arrow\">RandomForestClassifier</label><div class=\"sk-toggleable__content\"><pre>RandomForestClassifier(random_state=890)</pre></div></div></div></div></div>"
      ],
      "text/plain": [
       "RandomForestClassifier(random_state=890)"
      ]
     },
     "execution_count": 101,
     "metadata": {},
     "output_type": "execute_result"
    }
   ],
   "source": [
    "rf = RandomForestClassifier(random_state=890) # Define the model type and its hyperparameters\n",
    "rf.fit(x_train, y_train) # train the model"
   ]
  },
  {
   "cell_type": "code",
   "execution_count": 102,
   "id": "7d0be53a-8084-41f7-b46d-17199ec100a3",
   "metadata": {},
   "outputs": [],
   "source": [
    "y_pred=rf.predict(x_test)"
   ]
  },
  {
   "cell_type": "markdown",
   "id": "1a015dcb-95ed-45a9-94c9-674b79731bf4",
   "metadata": {},
   "source": [
    "#### Performance Check"
   ]
  },
  {
   "cell_type": "markdown",
   "id": "fc4fe7bd-1ca6-4d72-bfc5-33a0143c4438",
   "metadata": {},
   "source": [
    "Next, we compare the model predictions to the actuals. A confusion matrix shows us how many predictions of the target class '1' were actually in the target class '1' (true positive or 1:1) as well as how many predictions in the target class '1' actually were not in the target class '1' (false positive or 0:1)."
   ]
  },
  {
   "cell_type": "code",
   "execution_count": 105,
   "id": "9c6b0c58-5c27-4646-8cf8-b8627c77c920",
   "metadata": {},
   "outputs": [
    {
     "data": {
      "image/png": "[encoded data removed]",
      "text/plain": [
       "<Figure size 640x480 with 2 Axes>"
      ]
     },
     "metadata": {},
     "output_type": "display_data"
    }
   ],
   "source": [
    "confusion_matrix = metrics.confusion_matrix(y_test, y_pred)\n",
    "\n",
    "cm_display = metrics.ConfusionMatrixDisplay(confusion_matrix = confusion_matrix, display_labels = [0, 1])\n",
    "\n",
    "cm_display.plot()\n",
    "plt.show()"
   ]
  },
  {
   "cell_type": "markdown",
   "id": "6d1238f3-b3ef-46e8-9fce-653a403c888a",
   "metadata": {},
   "source": [
    "Here, we see our model had 2,214 true positives, 11,428 true negatives, 1007 false positives, and 1,632 false negatives. Observe that the target feature has less positive observations than the remainder of the dataset, so our true negatives will be substatially higher than our true positives."
   ]
  },
  {
   "cell_type": "markdown",
   "id": "8fdf925a-ad00-4b93-8aea-f07206835de1",
   "metadata": {},
   "source": [
    "Let's review all of the important performance metics. To do this, we define a custom function we can call after training each model variant."
   ]
  },
  {
   "cell_type": "code",
   "execution_count": 108,
   "id": "59fbb23e-6e5b-4f45-bce9-3d0b16ae9776",
   "metadata": {},
   "outputs": [],
   "source": [
    "# Creating a function for reporting performance parameters\n",
    "\n",
    "def perf(y_test, y_pred):\n",
    "    accuracy = accuracy_score(y_test, y_pred)\n",
    "    recall = recall_score(y_test, y_pred, average='macro')\n",
    "    precision = precision_score(y_test, y_pred, average='macro')\n",
    "    f1 = f1_score(y_test, y_pred, average='macro')\n",
    "    false_positive_rate, true_positive_rate, thresholds = roc_curve(y_test, y_pred)\n",
    "    roc_auc = auc(false_positive_rate, true_positive_rate)\n",
    "    \n",
    "    perf_results = pd.DataFrame({'Accuracy': [accuracy], 'Recall':[recall], 'Precision':[precision], 'F1 Score':[f1], 'AUC': [roc_auc]})\n",
    "\n",
    "    return display(perf_results.style.hide(axis=\"index\")) #displays a dataframe of all the performance metrics"
   ]
  },
  {
   "cell_type": "code",
   "execution_count": 109,
   "id": "153b4bc6-063b-4c38-8f8a-cd992d024200",
   "metadata": {},
   "outputs": [
    {
     "data": {
      "text/html": [
       "<style type=\"text/css\">\n",
       "</style>\n",
       "<table id=\"T_1083d\">\n",
       "  <thead>\n",
       "    <tr>\n",
       "      <th id=\"T_1083d_level0_col0\" class=\"col_heading level0 col0\" >Accuracy</th>\n",
       "      <th id=\"T_1083d_level0_col1\" class=\"col_heading level0 col1\" >Recall</th>\n",
       "      <th id=\"T_1083d_level0_col2\" class=\"col_heading level0 col2\" >Precision</th>\n",
       "      <th id=\"T_1083d_level0_col3\" class=\"col_heading level0 col3\" >F1 Score</th>\n",
       "      <th id=\"T_1083d_level0_col4\" class=\"col_heading level0 col4\" >AUC</th>\n",
       "    </tr>\n",
       "  </thead>\n",
       "  <tbody>\n",
       "    <tr>\n",
       "      <td id=\"T_1083d_row0_col0\" class=\"data row0 col0\" >0.837909</td>\n",
       "      <td id=\"T_1083d_row0_col1\" class=\"data row0 col1\" >0.747341</td>\n",
       "      <td id=\"T_1083d_row0_col2\" class=\"data row0 col2\" >0.781201</td>\n",
       "      <td id=\"T_1083d_row0_col3\" class=\"data row0 col3\" >0.761532</td>\n",
       "      <td id=\"T_1083d_row0_col4\" class=\"data row0 col4\" >0.747341</td>\n",
       "    </tr>\n",
       "  </tbody>\n",
       "</table>\n"
      ],
      "text/plain": [
       "<pandas.io.formats.style.Styler at 0x1e781954090>"
      ]
     },
     "metadata": {},
     "output_type": "display_data"
    }
   ],
   "source": [
    "perf(y_test, y_pred) # output performance metrics"
   ]
  },
  {
   "cell_type": "markdown",
   "id": "5d9bab8b-a80a-4fba-a155-c5cc681e206e",
   "metadata": {},
   "source": [
    "The model has an 84% accuracy using the default hyperparameters. The F1 score is only 76%, suggesting there may be some bias. \n",
    "Next, we will tune the model using different hyperparameters to improve the performance.\n",
    "<br><br>"
   ]
  },
  {
   "cell_type": "markdown",
   "id": "2416248a-ff5e-46fe-a51c-69aa49d82356",
   "metadata": {},
   "source": [
    "#### Random Forest Hyperparameter Tuning"
   ]
  },
  {
   "cell_type": "markdown",
   "id": "0cd53bc8-fb36-46b7-be9a-b7b02869685d",
   "metadata": {},
   "source": [
    "##### Max_depth"
   ]
  },
  {
   "cell_type": "markdown",
   "id": "b978fcd6-2f13-4695-84a2-2747f3bde6da",
   "metadata": {},
   "source": [
    "First, we'll try varying maximum depth to better understand hyperparameter tuning."
   ]
  },
  {
   "cell_type": "code",
   "execution_count": 114,
   "id": "fad24cf2-03dc-4569-82e2-46bec1e8979f",
   "metadata": {},
   "outputs": [],
   "source": [
    "max_depths = range(1, 20) # defines a list of values to try for max_depth\n",
    "train_auc = []\n",
    "test_auc = []\n",
    "train_accuracy = []\n",
    "test_accuracy = []\n",
    "\n",
    "# loop through various values of max_depth and store the results\n",
    "for max_depth in max_depths:\n",
    "    # train with hyperparameter\n",
    "    rf = RandomForestClassifier(max_depth=max_depth, random_state=890)\n",
    "    rf.fit(x_train, y_train)\n",
    "\n",
    "    #Predict results for training set and log metrics AUC and accuracy\n",
    "    train_y_pred = rf.predict(x_train)\n",
    "    false_positive_rate, true_positive_rate, thresholds = roc_curve(y_train, train_y_pred)\n",
    "    roc_auc = auc(false_positive_rate, true_positive_rate)\n",
    "    train_acc = np.mean(y_train==train_y_pred)\n",
    "    train_auc.append(roc_auc)\n",
    "    train_accuracy.append(train_acc)\n",
    "\n",
    "    #Predict results for test set and log metrics AUC and accuracy\n",
    "    y_pred = rf.predict(x_test)\n",
    "    false_positive_rate, true_positive_rate, thresholds = roc_curve(y_test, y_pred)\n",
    "    roc_auc = auc(false_positive_rate, true_positive_rate)\n",
    "    test_acc = np.mean(y_test==y_pred)\n",
    "    test_auc.append(roc_auc)\n",
    "    test_accuracy.append(test_acc)"
   ]
  },
  {
   "cell_type": "markdown",
   "id": "27fac451-5798-4db6-8530-591692c04c01",
   "metadata": {},
   "source": [
    "Visualize the change in max_depth"
   ]
  },
  {
   "cell_type": "code",
   "execution_count": 116,
   "id": "1ae59f6f-b1b8-4777-a32e-917d497327b6",
   "metadata": {},
   "outputs": [
    {
     "data": {
      "image/png": "[encoded data removed]",
      "text/plain": [
       "<Figure size 640x480 with 1 Axes>"
      ]
     },
     "metadata": {},
     "output_type": "display_data"
    }
   ],
   "source": [
    "# generates a line graph of the training AUC and testing AUC for comparison\n",
    "line1, = plt.plot(max_depths, train_auc, 'b', label=\"Train AUC\")\n",
    "line2, = plt.plot(max_depths, test_auc, 'r', label=\"Test AUC\")\n",
    "plt.legend(handler_map={line1: HandlerLine2D(numpoints=2)})\n",
    "plt.ylabel('AUC score')\n",
    "plt.xlabel('Tree depth')\n",
    "plt.show()"
   ]
  },
  {
   "cell_type": "code",
   "execution_count": 117,
   "id": "a6afa579-e166-41fd-8a31-facb9f7318bf",
   "metadata": {},
   "outputs": [
    {
     "data": {
      "text/html": [
       "<style type=\"text/css\">\n",
       "</style>\n",
       "<table id=\"T_c231b\">\n",
       "  <thead>\n",
       "    <tr>\n",
       "      <th id=\"T_c231b_level0_col0\" class=\"col_heading level0 col0\" >max_depth</th>\n",
       "      <th id=\"T_c231b_level0_col1\" class=\"col_heading level0 col1\" >AUC</th>\n",
       "    </tr>\n",
       "  </thead>\n",
       "  <tbody>\n",
       "    <tr>\n",
       "      <td id=\"T_c231b_row0_col0\" class=\"data row0 col0\" >6</td>\n",
       "      <td id=\"T_c231b_row0_col1\" class=\"data row0 col1\" >0.715827</td>\n",
       "    </tr>\n",
       "    <tr>\n",
       "      <td id=\"T_c231b_row1_col0\" class=\"data row1 col0\" >7</td>\n",
       "      <td id=\"T_c231b_row1_col1\" class=\"data row1 col1\" >0.724046</td>\n",
       "    </tr>\n",
       "    <tr>\n",
       "      <td id=\"T_c231b_row2_col0\" class=\"data row2 col0\" >8</td>\n",
       "      <td id=\"T_c231b_row2_col1\" class=\"data row2 col1\" >0.730786</td>\n",
       "    </tr>\n",
       "    <tr>\n",
       "      <td id=\"T_c231b_row3_col0\" class=\"data row3 col0\" >9</td>\n",
       "      <td id=\"T_c231b_row3_col1\" class=\"data row3 col1\" >0.741865</td>\n",
       "    </tr>\n",
       "    <tr>\n",
       "      <td id=\"T_c231b_row4_col0\" class=\"data row4 col0\" >10</td>\n",
       "      <td id=\"T_c231b_row4_col1\" class=\"data row4 col1\" >0.745682</td>\n",
       "    </tr>\n",
       "    <tr>\n",
       "      <td id=\"T_c231b_row5_col0\" class=\"data row5 col0\" >11</td>\n",
       "      <td id=\"T_c231b_row5_col1\" class=\"data row5 col1\" >0.747911</td>\n",
       "    </tr>\n",
       "    <tr>\n",
       "      <td id=\"T_c231b_row6_col0\" class=\"data row6 col0\" >12</td>\n",
       "      <td id=\"T_c231b_row6_col1\" class=\"data row6 col1\" >0.747120</td>\n",
       "    </tr>\n",
       "    <tr>\n",
       "      <td id=\"T_c231b_row7_col0\" class=\"data row7 col0\" >13</td>\n",
       "      <td id=\"T_c231b_row7_col1\" class=\"data row7 col1\" >0.748691</td>\n",
       "    </tr>\n",
       "    <tr>\n",
       "      <td id=\"T_c231b_row8_col0\" class=\"data row8 col0\" >14</td>\n",
       "      <td id=\"T_c231b_row8_col1\" class=\"data row8 col1\" >0.745485</td>\n",
       "    </tr>\n",
       "    <tr>\n",
       "      <td id=\"T_c231b_row9_col0\" class=\"data row9 col0\" >15</td>\n",
       "      <td id=\"T_c231b_row9_col1\" class=\"data row9 col1\" >0.746550</td>\n",
       "    </tr>\n",
       "  </tbody>\n",
       "</table>\n"
      ],
      "text/plain": [
       "<pandas.io.formats.style.Styler at 0x1e780506f10>"
      ]
     },
     "metadata": {},
     "output_type": "display_data"
    }
   ],
   "source": [
    "# outputs a table of the AUC results\n",
    "max_depth_auc_results = pd.DataFrame({'max_depth': max_depths, 'AUC': test_auc})\n",
    "max_depth_auc_results.reset_index(drop=True, inplace=True)\n",
    "display(max_depth_auc_results[5:15].style.hide(axis=\"index\"))"
   ]
  },
  {
   "cell_type": "markdown",
   "id": "e9f25a5c-5ac2-4cc3-abf1-3c376b97cf6e",
   "metadata": {},
   "source": [
    "Based on the graph, the optimum depth is 11. After 11, the AUC declines for the test dataset, indicating higher max depths result in overfitting."
   ]
  },
  {
   "cell_type": "code",
   "execution_count": 119,
   "id": "f1433eac-9e3a-492c-815c-f788b223531e",
   "metadata": {},
   "outputs": [
    {
     "data": {
      "image/png": "[encoded data removed]",
      "text/plain": [
       "<Figure size 640x480 with 1 Axes>"
      ]
     },
     "metadata": {},
     "output_type": "display_data"
    }
   ],
   "source": [
    "# generates a line graph of the training accuracy and testing accuracy for comparison\n",
    "line1, = plt.plot(max_depths, train_accuracy, 'b', label=\"Train Accuracy\")\n",
    "line2, = plt.plot(max_depths, test_accuracy, 'r', label=\"Test Accuracy\")\n",
    "plt.legend(handler_map={line1: HandlerLine2D(numpoints=2)})\n",
    "plt.ylabel('Accuracy score')\n",
    "plt.xlabel('Tree depth')\n",
    "plt.show()"
   ]
  },
  {
   "cell_type": "code",
   "execution_count": 120,
   "id": "bb74f4ee-18d1-47a5-814a-a1cbc1f38a06",
   "metadata": {},
   "outputs": [
    {
     "data": {
      "text/html": [
       "<style type=\"text/css\">\n",
       "</style>\n",
       "<table id=\"T_8d70b\">\n",
       "  <thead>\n",
       "    <tr>\n",
       "      <th id=\"T_8d70b_level0_col0\" class=\"col_heading level0 col0\" >max_depth</th>\n",
       "      <th id=\"T_8d70b_level0_col1\" class=\"col_heading level0 col1\" >Accuracy</th>\n",
       "    </tr>\n",
       "  </thead>\n",
       "  <tbody>\n",
       "    <tr>\n",
       "      <td id=\"T_8d70b_row0_col0\" class=\"data row0 col0\" >6</td>\n",
       "      <td id=\"T_8d70b_row0_col1\" class=\"data row0 col1\" >0.840796</td>\n",
       "    </tr>\n",
       "    <tr>\n",
       "      <td id=\"T_8d70b_row1_col0\" class=\"data row1 col0\" >7</td>\n",
       "      <td id=\"T_8d70b_row1_col1\" class=\"data row1 col1\" >0.842516</td>\n",
       "    </tr>\n",
       "    <tr>\n",
       "      <td id=\"T_8d70b_row2_col0\" class=\"data row2 col0\" >8</td>\n",
       "      <td id=\"T_8d70b_row2_col1\" class=\"data row2 col1\" >0.843621</td>\n",
       "    </tr>\n",
       "    <tr>\n",
       "      <td id=\"T_8d70b_row3_col0\" class=\"data row3 col0\" >9</td>\n",
       "      <td id=\"T_8d70b_row3_col1\" class=\"data row3 col1\" >0.844358</td>\n",
       "    </tr>\n",
       "    <tr>\n",
       "      <td id=\"T_8d70b_row4_col0\" class=\"data row4 col0\" >10</td>\n",
       "      <td id=\"T_8d70b_row4_col1\" class=\"data row4 col1\" >0.845525</td>\n",
       "    </tr>\n",
       "    <tr>\n",
       "      <td id=\"T_8d70b_row5_col0\" class=\"data row5 col0\" >11</td>\n",
       "      <td id=\"T_8d70b_row5_col1\" class=\"data row5 col1\" >0.846324</td>\n",
       "    </tr>\n",
       "    <tr>\n",
       "      <td id=\"T_8d70b_row6_col0\" class=\"data row6 col0\" >12</td>\n",
       "      <td id=\"T_8d70b_row6_col1\" class=\"data row6 col1\" >0.843744</td>\n",
       "    </tr>\n",
       "    <tr>\n",
       "      <td id=\"T_8d70b_row7_col0\" class=\"data row7 col0\" >13</td>\n",
       "      <td id=\"T_8d70b_row7_col1\" class=\"data row7 col1\" >0.842577</td>\n",
       "    </tr>\n",
       "    <tr>\n",
       "      <td id=\"T_8d70b_row8_col0\" class=\"data row8 col0\" >14</td>\n",
       "      <td id=\"T_8d70b_row8_col1\" class=\"data row8 col1\" >0.839875</td>\n",
       "    </tr>\n",
       "    <tr>\n",
       "      <td id=\"T_8d70b_row9_col0\" class=\"data row9 col0\" >15</td>\n",
       "      <td id=\"T_8d70b_row9_col1\" class=\"data row9 col1\" >0.839445</td>\n",
       "    </tr>\n",
       "  </tbody>\n",
       "</table>\n"
      ],
      "text/plain": [
       "<pandas.io.formats.style.Styler at 0x1e784b69050>"
      ]
     },
     "metadata": {},
     "output_type": "display_data"
    }
   ],
   "source": [
    "# outputs a table of the accuracy results\n",
    "max_depth_acc_results = pd.DataFrame({'max_depth': max_depths, 'Accuracy': test_accuracy})\n",
    "max_depth_acc_results.reset_index(drop=True, inplace=True)\n",
    "display(max_depth_acc_results[5:15].style.hide(axis=\"index\"))"
   ]
  },
  {
   "cell_type": "markdown",
   "id": "f7ce8db6-746d-433b-a715-69801e1f4bdb",
   "metadata": {},
   "source": [
    "Accuracy peaks at 11. AUC also increases until a max_depth of 11, then begins a decline. 11 is the optimum maximum tree depth."
   ]
  },
  {
   "cell_type": "markdown",
   "id": "ca753e93-5dbd-4677-9677-f2d54db83ebc",
   "metadata": {},
   "source": [
    "#### N_Estimators"
   ]
  },
  {
   "cell_type": "markdown",
   "id": "5c1da0d1-da8f-4f1b-8084-12e3efc10f19",
   "metadata": {},
   "source": [
    "Next, let's test different values of n_estimators to find the optimal value for this hyperparameter. N_estimators represents the number of decision trees used to generate the predicted classification. "
   ]
  },
  {
   "cell_type": "code",
   "execution_count": 124,
   "id": "5f804e57-c90e-4aba-9448-c9a39ba605ae",
   "metadata": {},
   "outputs": [],
   "source": [
    "n_estimator_lst = range(50, 550,50) # defines a list of values to try for n_estimators\n",
    "train_auc = []\n",
    "test_auc = []\n",
    "train_accuracy = []\n",
    "test_accuracy = []\n",
    "\n",
    "for n_estimators in n_estimator_lst:\n",
    "    # train with hyperparameter\n",
    "    rf = RandomForestClassifier(n_estimators=n_estimators, random_state=890)\n",
    "    rf.fit(x_train, y_train)\n",
    "\n",
    "    #Predict results for training set and log metrics AUC and accuracy\n",
    "    train_y_pred = rf.predict(x_train)\n",
    "    false_positive_rate, true_positive_rate, thresholds = roc_curve(y_train, train_y_pred)\n",
    "    roc_auc = auc(false_positive_rate, true_positive_rate)\n",
    "    train_acc = np.mean(y_train==train_y_pred)\n",
    "    train_auc.append(roc_auc)\n",
    "    train_accuracy.append(train_acc)\n",
    "\n",
    "    #Predict results for test set and log metrics AUC and accuracy\n",
    "    y_pred = rf.predict(x_test)\n",
    "    false_positive_rate, true_positive_rate, thresholds = roc_curve(y_test, y_pred)\n",
    "    roc_auc = auc(false_positive_rate, true_positive_rate)\n",
    "    test_acc = np.mean(y_test==y_pred)\n",
    "    test_auc.append(roc_auc)\n",
    "    test_accuracy.append(test_acc)"
   ]
  },
  {
   "cell_type": "markdown",
   "id": "3eba96c9-db95-4de2-94a6-6ad33f41cf1d",
   "metadata": {},
   "source": [
    "Visualize the change in n_estimators"
   ]
  },
  {
   "cell_type": "code",
   "execution_count": 126,
   "id": "07b70251-9bf8-4a7b-a54a-184b02d1e45b",
   "metadata": {},
   "outputs": [
    {
     "data": {
      "image/png": "[encoded data removed]",
      "text/plain": [
       "<Figure size 640x480 with 1 Axes>"
      ]
     },
     "metadata": {},
     "output_type": "display_data"
    }
   ],
   "source": [
    "# generates a line graph of the training AUC and testing AUC for comparison\n",
    "line1, = plt.plot(n_estimator_lst, train_auc, 'b', label=\"Train AUC\")\n",
    "line2, = plt.plot(n_estimator_lst, test_auc, 'r', label=\"Test AUC\")\n",
    "plt.legend(handler_map={line1: HandlerLine2D(numpoints=2)})\n",
    "plt.ylabel('AUC score')\n",
    "plt.xlabel('n_estimators')\n",
    "plt.show()"
   ]
  },
  {
   "cell_type": "markdown",
   "id": "c581d1d2-18e2-4ef8-97b9-54b29a9ad010",
   "metadata": {},
   "source": [
    "At 350, the AUC peaks for the test dataset, suggesting this is the optimal number of estimators."
   ]
  },
  {
   "cell_type": "code",
   "execution_count": 128,
   "id": "0b2e3977-54ad-40b5-925e-ed64d57c4664",
   "metadata": {},
   "outputs": [
    {
     "data": {
      "image/png": "[encoded data removed]",
      "text/plain": [
       "<Figure size 640x480 with 1 Axes>"
      ]
     },
     "metadata": {},
     "output_type": "display_data"
    }
   ],
   "source": [
    "# generates a line graph of the training accuracy and testing accuracy for comparison\n",
    "line1, = plt.plot(n_estimator_lst, train_accuracy, 'b', label=\"Train Accuracy\")\n",
    "line2, = plt.plot(n_estimator_lst, test_accuracy, 'r', label=\"Test Accuracy\")\n",
    "plt.legend(handler_map={line1: HandlerLine2D(numpoints=2)})\n",
    "plt.ylabel('Accuracy score')\n",
    "plt.xlabel('n_estimators')\n",
    "plt.show()"
   ]
  },
  {
   "cell_type": "code",
   "execution_count": 129,
   "id": "857af369-ebfc-405c-90e7-2900787f0de5",
   "metadata": {},
   "outputs": [
    {
     "data": {
      "text/html": [
       "<style type=\"text/css\">\n",
       "</style>\n",
       "<table id=\"T_d2b06\">\n",
       "  <thead>\n",
       "    <tr>\n",
       "      <th id=\"T_d2b06_level0_col0\" class=\"col_heading level0 col0\" >Estimators</th>\n",
       "      <th id=\"T_d2b06_level0_col1\" class=\"col_heading level0 col1\" >Accuracy</th>\n",
       "    </tr>\n",
       "  </thead>\n",
       "  <tbody>\n",
       "    <tr>\n",
       "      <td id=\"T_d2b06_row0_col0\" class=\"data row0 col0\" >200</td>\n",
       "      <td id=\"T_d2b06_row0_col1\" class=\"data row0 col1\" >0.837172</td>\n",
       "    </tr>\n",
       "    <tr>\n",
       "      <td id=\"T_d2b06_row1_col0\" class=\"data row1 col0\" >250</td>\n",
       "      <td id=\"T_d2b06_row1_col1\" class=\"data row1 col1\" >0.838401</td>\n",
       "    </tr>\n",
       "    <tr>\n",
       "      <td id=\"T_d2b06_row2_col0\" class=\"data row2 col0\" >300</td>\n",
       "      <td id=\"T_d2b06_row2_col1\" class=\"data row2 col1\" >0.838093</td>\n",
       "    </tr>\n",
       "    <tr>\n",
       "      <td id=\"T_d2b06_row3_col0\" class=\"data row3 col0\" >350</td>\n",
       "      <td id=\"T_d2b06_row3_col1\" class=\"data row3 col1\" >0.838216</td>\n",
       "    </tr>\n",
       "    <tr>\n",
       "      <td id=\"T_d2b06_row4_col0\" class=\"data row4 col0\" >400</td>\n",
       "      <td id=\"T_d2b06_row4_col1\" class=\"data row4 col1\" >0.836988</td>\n",
       "    </tr>\n",
       "    <tr>\n",
       "      <td id=\"T_d2b06_row5_col0\" class=\"data row5 col0\" >450</td>\n",
       "      <td id=\"T_d2b06_row5_col1\" class=\"data row5 col1\" >0.837909</td>\n",
       "    </tr>\n",
       "    <tr>\n",
       "      <td id=\"T_d2b06_row6_col0\" class=\"data row6 col0\" >500</td>\n",
       "      <td id=\"T_d2b06_row6_col1\" class=\"data row6 col1\" >0.837664</td>\n",
       "    </tr>\n",
       "  </tbody>\n",
       "</table>\n"
      ],
      "text/plain": [
       "<pandas.io.formats.style.Styler at 0x1e781b96f10>"
      ]
     },
     "metadata": {},
     "output_type": "display_data"
    }
   ],
   "source": [
    "n_est_acc_results = pd.DataFrame({'Estimators': n_estimator_lst, 'Accuracy': test_accuracy})\n",
    "n_est_acc_results.reset_index(drop=True, inplace=True)\n",
    "display(n_est_acc_results[3:10].style.hide(axis=\"index\"))"
   ]
  },
  {
   "cell_type": "markdown",
   "id": "a0a13535-6b21-4459-b788-6837457a4f6c",
   "metadata": {},
   "source": [
    "The accuracy graph shows random variation in the accuracy of the test data's predictions, with a local maximum of 350, similar to the AUC graph. While the accuracy at 250 is marginally higher, the difference is very slight. Accuracy, overall, varied less than .2%, so the AUC is more helpful in pinpointing the optimal value in this case.  The AUC curve shows a distinct pattern of increasing AUC as n_estimators increase, up to 350.  350 is the optimal value for n_estimators."
   ]
  },
  {
   "cell_type": "markdown",
   "id": "048233fc-a1aa-4625-b607-5ab41c88f9e8",
   "metadata": {},
   "source": [
    "### K-Fold Cross Validation"
   ]
  },
  {
   "cell_type": "markdown",
   "id": "57f0aae1-92d2-4a73-87f8-5bd273c61e73",
   "metadata": {},
   "source": [
    "Ultimately, our goal is to compare the different ensemble models and to do so, we will vary only n_estimators during tuning, leaving all other hyperparameters at default. Below is an example of k-fold cross validation. This section is purely demonstational and can be skipped without impact to the final comparison. <br> <br> This section demonstrates how k-fold cross validation can be used in tandem with GridSearchCV to find the optimal hyperparameter values for multiple hyperparameters simultantously."
   ]
  },
  {
   "cell_type": "code",
   "execution_count": 133,
   "id": "0b77b3fd-1537-4e2f-a6cb-688affc68c9c",
   "metadata": {},
   "outputs": [],
   "source": [
    "# Note that K-fold cross validation is processor-intensive. It may take some time to run. \n",
    "# This section can be skipped."
   ]
  },
  {
   "cell_type": "code",
   "execution_count": 134,
   "id": "f7647fa7-9e14-49b9-800a-0d6792d21c27",
   "metadata": {},
   "outputs": [
    {
     "name": "stdout",
     "output_type": "stream",
     "text": [
      "{'max_depth': 9, 'n_estimators': 450}\n",
      "0.8971555113716834\n"
     ]
    }
   ],
   "source": [
    "from sklearn.model_selection import GridSearchCV, StratifiedKFold\n",
    "\n",
    "model = RandomForestClassifier(random_state=890)\n",
    "\n",
    "stratified_kfold = StratifiedKFold(n_splits=5, shuffle=True, random_state=890) # Classes are imbalanced; we have more 'y' than 'n' in the target feature, so \n",
    "#stratified folds are recommended.\n",
    "\n",
    "gs = GridSearchCV(model,\n",
    "                  param_grid = {'max_depth': range(7, 12), # using only a narrow band of depths, based on the best values in the graph above\n",
    "                                'n_estimators': range(200, 600, 50)}, # starting at 200; the above graph suggests less will not be as effective\n",
    "                  cv=stratified_kfold, # number of folds (k); we are using a stratified 5-fold model\n",
    "                  n_jobs=-1, # setting n_jobs to -1 uses all available cores for processing, speeding up the processing time for GridSearchCV\n",
    "                  scoring='roc_auc') # since our dataset has class imbalance, AUC may be a better metric than accuracy\n",
    "\n",
    "gs.fit(x_train, y_train)\n",
    "\n",
    "print(gs.best_params_)\n",
    "print(gs.best_score_)"
   ]
  },
  {
   "cell_type": "markdown",
   "id": "c58a5c17-6e9b-4e04-99b5-7152e17167de",
   "metadata": {},
   "source": [
    "Based on the cross-validation results, the best hyperparameters to use are max_depth = 9 and n_estimators = 450."
   ]
  },
  {
   "cell_type": "code",
   "execution_count": 136,
   "id": "e2435239-0031-4574-9782-a39d686d118f",
   "metadata": {},
   "outputs": [
    {
     "data": {
      "text/html": [
       "<style>#sk-container-id-2 {color: black;}#sk-container-id-2 pre{padding: 0;}#sk-container-id-2 div.sk-toggleable {background-color: white;}#sk-container-id-2 label.sk-toggleable__label {cursor: pointer;display: block;width: 100%;margin-bottom: 0;padding: 0.3em;box-sizing: border-box;text-align: center;}#sk-container-id-2 label.sk-toggleable__label-arrow:before {content: \"▸\";float: left;margin-right: 0.25em;color: #696969;}#sk-container-id-2 label.sk-toggleable__label-arrow:hover:before {color: black;}#sk-container-id-2 div.sk-estimator:hover label.sk-toggleable__label-arrow:before {color: black;}#sk-container-id-2 div.sk-toggleable__content {max-height: 0;max-width: 0;overflow: hidden;text-align: left;background-color: #f0f8ff;}#sk-container-id-2 div.sk-toggleable__content pre {margin: 0.2em;color: black;border-radius: 0.25em;background-color: #f0f8ff;}#sk-container-id-2 input.sk-toggleable__control:checked~div.sk-toggleable__content {max-height: 200px;max-width: 100%;overflow: auto;}#sk-container-id-2 input.sk-toggleable__control:checked~label.sk-toggleable__label-arrow:before {content: \"▾\";}#sk-container-id-2 div.sk-estimator input.sk-toggleable__control:checked~label.sk-toggleable__label {background-color: #d4ebff;}#sk-container-id-2 div.sk-label input.sk-toggleable__control:checked~label.sk-toggleable__label {background-color: #d4ebff;}#sk-container-id-2 input.sk-hidden--visually {border: 0;clip: rect(1px 1px 1px 1px);clip: rect(1px, 1px, 1px, 1px);height: 1px;margin: -1px;overflow: hidden;padding: 0;position: absolute;width: 1px;}#sk-container-id-2 div.sk-estimator {font-family: monospace;background-color: #f0f8ff;border: 1px dotted black;border-radius: 0.25em;box-sizing: border-box;margin-bottom: 0.5em;}#sk-container-id-2 div.sk-estimator:hover {background-color: #d4ebff;}#sk-container-id-2 div.sk-parallel-item::after {content: \"\";width: 100%;border-bottom: 1px solid gray;flex-grow: 1;}#sk-container-id-2 div.sk-label:hover label.sk-toggleable__label {background-color: #d4ebff;}#sk-container-id-2 div.sk-serial::before {content: \"\";position: absolute;border-left: 1px solid gray;box-sizing: border-box;top: 0;bottom: 0;left: 50%;z-index: 0;}#sk-container-id-2 div.sk-serial {display: flex;flex-direction: column;align-items: center;background-color: white;padding-right: 0.2em;padding-left: 0.2em;position: relative;}#sk-container-id-2 div.sk-item {position: relative;z-index: 1;}#sk-container-id-2 div.sk-parallel {display: flex;align-items: stretch;justify-content: center;background-color: white;position: relative;}#sk-container-id-2 div.sk-item::before, #sk-container-id-2 div.sk-parallel-item::before {content: \"\";position: absolute;border-left: 1px solid gray;box-sizing: border-box;top: 0;bottom: 0;left: 50%;z-index: -1;}#sk-container-id-2 div.sk-parallel-item {display: flex;flex-direction: column;z-index: 1;position: relative;background-color: white;}#sk-container-id-2 div.sk-parallel-item:first-child::after {align-self: flex-end;width: 50%;}#sk-container-id-2 div.sk-parallel-item:last-child::after {align-self: flex-start;width: 50%;}#sk-container-id-2 div.sk-parallel-item:only-child::after {width: 0;}#sk-container-id-2 div.sk-dashed-wrapped {border: 1px dashed gray;margin: 0 0.4em 0.5em 0.4em;box-sizing: border-box;padding-bottom: 0.4em;background-color: white;}#sk-container-id-2 div.sk-label label {font-family: monospace;font-weight: bold;display: inline-block;line-height: 1.2em;}#sk-container-id-2 div.sk-label-container {text-align: center;}#sk-container-id-2 div.sk-container {/* jupyter's `normalize.less` sets `[hidden] { display: none; }` but bootstrap.min.css set `[hidden] { display: none !important; }` so we also need the `!important` here to be able to override the default hidden behavior on the sphinx rendered scikit-learn.org. See: https://github.com/scikit-learn/scikit-learn/issues/21755 */display: inline-block !important;position: relative;}#sk-container-id-2 div.sk-text-repr-fallback {display: none;}</style><div id=\"sk-container-id-2\" class=\"sk-top-container\"><div class=\"sk-text-repr-fallback\"><pre>RandomForestClassifier(max_depth=9, n_estimators=450, random_state=890)</pre><b>In a Jupyter environment, please rerun this cell to show the HTML representation or trust the notebook. <br />On GitHub, the HTML representation is unable to render, please try loading this page with nbviewer.org.</b></div><div class=\"sk-container\" hidden><div class=\"sk-item\"><div class=\"sk-estimator sk-toggleable\"><input class=\"sk-toggleable__control sk-hidden--visually\" id=\"sk-estimator-id-2\" type=\"checkbox\" checked><label for=\"sk-estimator-id-2\" class=\"sk-toggleable__label sk-toggleable__label-arrow\">RandomForestClassifier</label><div class=\"sk-toggleable__content\"><pre>RandomForestClassifier(max_depth=9, n_estimators=450, random_state=890)</pre></div></div></div></div></div>"
      ],
      "text/plain": [
       "RandomForestClassifier(max_depth=9, n_estimators=450, random_state=890)"
      ]
     },
     "execution_count": 136,
     "metadata": {},
     "output_type": "execute_result"
    }
   ],
   "source": [
    "rf = RandomForestClassifier(n_estimators=450, max_depth=9, random_state=890)\n",
    "rf.fit(x_train, y_train)"
   ]
  },
  {
   "cell_type": "code",
   "execution_count": 137,
   "id": "1e411eff-9a14-4730-baa4-f9b4c076b242",
   "metadata": {},
   "outputs": [],
   "source": [
    "y_pred=rf.predict(x_test)"
   ]
  },
  {
   "cell_type": "code",
   "execution_count": 138,
   "id": "46415baf-d824-432a-b0f3-83576ca212cf",
   "metadata": {},
   "outputs": [
    {
     "data": {
      "text/html": [
       "<style type=\"text/css\">\n",
       "</style>\n",
       "<table id=\"T_dc275\">\n",
       "  <thead>\n",
       "    <tr>\n",
       "      <th id=\"T_dc275_level0_col0\" class=\"col_heading level0 col0\" >Accuracy</th>\n",
       "      <th id=\"T_dc275_level0_col1\" class=\"col_heading level0 col1\" >Recall</th>\n",
       "      <th id=\"T_dc275_level0_col2\" class=\"col_heading level0 col2\" >Precision</th>\n",
       "      <th id=\"T_dc275_level0_col3\" class=\"col_heading level0 col3\" >F1 Score</th>\n",
       "      <th id=\"T_dc275_level0_col4\" class=\"col_heading level0 col4\" >AUC</th>\n",
       "    </tr>\n",
       "  </thead>\n",
       "  <tbody>\n",
       "    <tr>\n",
       "      <td id=\"T_dc275_row0_col0\" class=\"data row0 col0\" >0.845280</td>\n",
       "      <td id=\"T_dc275_row0_col1\" class=\"data row0 col1\" >0.744084</td>\n",
       "      <td id=\"T_dc275_row0_col2\" class=\"data row0 col2\" >0.799128</td>\n",
       "      <td id=\"T_dc275_row0_col3\" class=\"data row0 col3\" >0.765049</td>\n",
       "      <td id=\"T_dc275_row0_col4\" class=\"data row0 col4\" >0.744084</td>\n",
       "    </tr>\n",
       "  </tbody>\n",
       "</table>\n"
      ],
      "text/plain": [
       "<pandas.io.formats.style.Styler at 0x1e784cb12d0>"
      ]
     },
     "metadata": {},
     "output_type": "display_data"
    }
   ],
   "source": [
    "perf(y_test, y_pred) # output performance metrics"
   ]
  },
  {
   "cell_type": "markdown",
   "id": "d2e78b17-f4b4-4a6a-b0a8-74e1d24cd368",
   "metadata": {},
   "source": [
    "This accuracy score is better than using max_depth = 11 and n_estimators = 350, though the f1 score is not as high. Note that these hyperparameter values resulted in a lower AUC than in the 5-fold cross validated tuning. This may suggest a fundamental difference between our test dataset and our training dataset."
   ]
  },
  {
   "cell_type": "code",
   "execution_count": 140,
   "id": "f78503cc-6c22-433d-98dd-935a1223716c",
   "metadata": {},
   "outputs": [
    {
     "data": {
      "text/plain": [
       "0.23622627602727106"
      ]
     },
     "execution_count": 140,
     "metadata": {},
     "output_type": "execute_result"
    }
   ],
   "source": [
    "# Proportion of target class '1' in the test dataset\n",
    "len(y_test[y_test==1])/len(y_test)"
   ]
  },
  {
   "cell_type": "code",
   "execution_count": 141,
   "id": "dc03bc7f-df87-47d2-a816-ac6dee4f8b3c",
   "metadata": {},
   "outputs": [
    {
     "data": {
      "text/plain": [
       "0.2408095574460244"
      ]
     },
     "execution_count": 141,
     "metadata": {},
     "output_type": "execute_result"
    }
   ],
   "source": [
    "# Proportion of target class '1' in the training dataset\n",
    "len(y_train[y_train==1])/len(y_train)"
   ]
  },
  {
   "cell_type": "markdown",
   "id": "7260def9-5c97-4bfa-a567-5c09fbd80cb5",
   "metadata": {},
   "source": [
    "The class balance is similar but not the same for the test dataset as for the training dataset. This difference could have a slight impact on the performance metrics, but it is likely there are other differences in the training and test datasets accounting for this difference in performance. As cross-validation isn't the focus of this assignment, we will leave this finding aside. For simplicity, let's use n_estimators = 350, which had the highest AUC during individual hyperparameter tuning."
   ]
  },
  {
   "cell_type": "markdown",
   "id": "e36847bb-5609-45b7-bb28-d6861386595f",
   "metadata": {},
   "source": [
    "We will collect the performance metrics for our best performing value of n-estimators for each type of model below, and compare them. \n",
    "<br> &emsp; &emsp; &emsp;Random Forest\n",
    "<br> &emsp; &emsp; &emsp;Adaboost\n",
    "<br> &emsp; &emsp; &emsp;Gradient Boost\n",
    "<br> &emsp; &emsp; &emsp;XGB\n",
    "<br> For this assignment, we'll vary only the n_estimators to use in the final comparison."
   ]
  },
  {
   "cell_type": "markdown",
   "id": "2c05a31a-1ad8-4747-8c22-b63fed8c6abc",
   "metadata": {},
   "source": [
    "<br>"
   ]
  },
  {
   "cell_type": "markdown",
   "id": "8729c9f6-0031-4d8b-932b-e1e42dbd6cdc",
   "metadata": {},
   "source": [
    "#### Best Random Forest (n_estimators only)"
   ]
  },
  {
   "cell_type": "code",
   "execution_count": 146,
   "id": "3669e1fc-7cda-48ca-ad4c-a6d457793e74",
   "metadata": {},
   "outputs": [
    {
     "data": {
      "text/html": [
       "<style>#sk-container-id-3 {color: black;}#sk-container-id-3 pre{padding: 0;}#sk-container-id-3 div.sk-toggleable {background-color: white;}#sk-container-id-3 label.sk-toggleable__label {cursor: pointer;display: block;width: 100%;margin-bottom: 0;padding: 0.3em;box-sizing: border-box;text-align: center;}#sk-container-id-3 label.sk-toggleable__label-arrow:before {content: \"▸\";float: left;margin-right: 0.25em;color: #696969;}#sk-container-id-3 label.sk-toggleable__label-arrow:hover:before {color: black;}#sk-container-id-3 div.sk-estimator:hover label.sk-toggleable__label-arrow:before {color: black;}#sk-container-id-3 div.sk-toggleable__content {max-height: 0;max-width: 0;overflow: hidden;text-align: left;background-color: #f0f8ff;}#sk-container-id-3 div.sk-toggleable__content pre {margin: 0.2em;color: black;border-radius: 0.25em;background-color: #f0f8ff;}#sk-container-id-3 input.sk-toggleable__control:checked~div.sk-toggleable__content {max-height: 200px;max-width: 100%;overflow: auto;}#sk-container-id-3 input.sk-toggleable__control:checked~label.sk-toggleable__label-arrow:before {content: \"▾\";}#sk-container-id-3 div.sk-estimator input.sk-toggleable__control:checked~label.sk-toggleable__label {background-color: #d4ebff;}#sk-container-id-3 div.sk-label input.sk-toggleable__control:checked~label.sk-toggleable__label {background-color: #d4ebff;}#sk-container-id-3 input.sk-hidden--visually {border: 0;clip: rect(1px 1px 1px 1px);clip: rect(1px, 1px, 1px, 1px);height: 1px;margin: -1px;overflow: hidden;padding: 0;position: absolute;width: 1px;}#sk-container-id-3 div.sk-estimator {font-family: monospace;background-color: #f0f8ff;border: 1px dotted black;border-radius: 0.25em;box-sizing: border-box;margin-bottom: 0.5em;}#sk-container-id-3 div.sk-estimator:hover {background-color: #d4ebff;}#sk-container-id-3 div.sk-parallel-item::after {content: \"\";width: 100%;border-bottom: 1px solid gray;flex-grow: 1;}#sk-container-id-3 div.sk-label:hover label.sk-toggleable__label {background-color: #d4ebff;}#sk-container-id-3 div.sk-serial::before {content: \"\";position: absolute;border-left: 1px solid gray;box-sizing: border-box;top: 0;bottom: 0;left: 50%;z-index: 0;}#sk-container-id-3 div.sk-serial {display: flex;flex-direction: column;align-items: center;background-color: white;padding-right: 0.2em;padding-left: 0.2em;position: relative;}#sk-container-id-3 div.sk-item {position: relative;z-index: 1;}#sk-container-id-3 div.sk-parallel {display: flex;align-items: stretch;justify-content: center;background-color: white;position: relative;}#sk-container-id-3 div.sk-item::before, #sk-container-id-3 div.sk-parallel-item::before {content: \"\";position: absolute;border-left: 1px solid gray;box-sizing: border-box;top: 0;bottom: 0;left: 50%;z-index: -1;}#sk-container-id-3 div.sk-parallel-item {display: flex;flex-direction: column;z-index: 1;position: relative;background-color: white;}#sk-container-id-3 div.sk-parallel-item:first-child::after {align-self: flex-end;width: 50%;}#sk-container-id-3 div.sk-parallel-item:last-child::after {align-self: flex-start;width: 50%;}#sk-container-id-3 div.sk-parallel-item:only-child::after {width: 0;}#sk-container-id-3 div.sk-dashed-wrapped {border: 1px dashed gray;margin: 0 0.4em 0.5em 0.4em;box-sizing: border-box;padding-bottom: 0.4em;background-color: white;}#sk-container-id-3 div.sk-label label {font-family: monospace;font-weight: bold;display: inline-block;line-height: 1.2em;}#sk-container-id-3 div.sk-label-container {text-align: center;}#sk-container-id-3 div.sk-container {/* jupyter's `normalize.less` sets `[hidden] { display: none; }` but bootstrap.min.css set `[hidden] { display: none !important; }` so we also need the `!important` here to be able to override the default hidden behavior on the sphinx rendered scikit-learn.org. See: https://github.com/scikit-learn/scikit-learn/issues/21755 */display: inline-block !important;position: relative;}#sk-container-id-3 div.sk-text-repr-fallback {display: none;}</style><div id=\"sk-container-id-3\" class=\"sk-top-container\"><div class=\"sk-text-repr-fallback\"><pre>RandomForestClassifier(n_estimators=350, random_state=890)</pre><b>In a Jupyter environment, please rerun this cell to show the HTML representation or trust the notebook. <br />On GitHub, the HTML representation is unable to render, please try loading this page with nbviewer.org.</b></div><div class=\"sk-container\" hidden><div class=\"sk-item\"><div class=\"sk-estimator sk-toggleable\"><input class=\"sk-toggleable__control sk-hidden--visually\" id=\"sk-estimator-id-3\" type=\"checkbox\" checked><label for=\"sk-estimator-id-3\" class=\"sk-toggleable__label sk-toggleable__label-arrow\">RandomForestClassifier</label><div class=\"sk-toggleable__content\"><pre>RandomForestClassifier(n_estimators=350, random_state=890)</pre></div></div></div></div></div>"
      ],
      "text/plain": [
       "RandomForestClassifier(n_estimators=350, random_state=890)"
      ]
     },
     "execution_count": 146,
     "metadata": {},
     "output_type": "execute_result"
    }
   ],
   "source": [
    "rf = RandomForestClassifier(n_estimators=350, random_state=890)\n",
    "rf.fit(x_train, y_train)"
   ]
  },
  {
   "cell_type": "code",
   "execution_count": 147,
   "id": "91c7b56f-4746-43a3-8e6d-1c1ac7fdbf48",
   "metadata": {},
   "outputs": [],
   "source": [
    "y_pred=rf.predict(x_test)"
   ]
  },
  {
   "cell_type": "code",
   "execution_count": 148,
   "id": "90b08b5b-2873-4c85-9793-cbebc77f1aa8",
   "metadata": {},
   "outputs": [
    {
     "data": {
      "text/html": [
       "<style type=\"text/css\">\n",
       "</style>\n",
       "<table id=\"T_d66f9\">\n",
       "  <thead>\n",
       "    <tr>\n",
       "      <th id=\"T_d66f9_level0_col0\" class=\"col_heading level0 col0\" >Accuracy</th>\n",
       "      <th id=\"T_d66f9_level0_col1\" class=\"col_heading level0 col1\" >Recall</th>\n",
       "      <th id=\"T_d66f9_level0_col2\" class=\"col_heading level0 col2\" >Precision</th>\n",
       "      <th id=\"T_d66f9_level0_col3\" class=\"col_heading level0 col3\" >F1 Score</th>\n",
       "      <th id=\"T_d66f9_level0_col4\" class=\"col_heading level0 col4\" >AUC</th>\n",
       "    </tr>\n",
       "  </thead>\n",
       "  <tbody>\n",
       "    <tr>\n",
       "      <td id=\"T_d66f9_row0_col0\" class=\"data row0 col0\" >0.838216</td>\n",
       "      <td id=\"T_d66f9_row0_col1\" class=\"data row0 col1\" >0.749069</td>\n",
       "      <td id=\"T_d66f9_row0_col2\" class=\"data row0 col2\" >0.781263</td>\n",
       "      <td id=\"T_d66f9_row0_col3\" class=\"data row0 col3\" >0.762686</td>\n",
       "      <td id=\"T_d66f9_row0_col4\" class=\"data row0 col4\" >0.749069</td>\n",
       "    </tr>\n",
       "  </tbody>\n",
       "</table>\n"
      ],
      "text/plain": [
       "<pandas.io.formats.style.Styler at 0x1e784bd4710>"
      ]
     },
     "metadata": {},
     "output_type": "display_data"
    }
   ],
   "source": [
    "perf(y_test, y_pred) # output performance metrics"
   ]
  },
  {
   "cell_type": "code",
   "execution_count": 149,
   "id": "55220bea-579a-4dfa-82ec-e35e96f00059",
   "metadata": {},
   "outputs": [],
   "source": [
    "metrics_df = pd.DataFrame(columns=['Metric'])\n",
    "\n",
    "def store_metrics(model_name):\n",
    "    global metrics_df\n",
    "    \n",
    "    # Calculate metrics\n",
    "    acc = accuracy_score(y_test, y_pred)\n",
    "    false_positive_rate, true_positive_rate, _ = roc_curve(y_test, y_pred)\n",
    "    roc_auc = auc(false_positive_rate, true_positive_rate)\n",
    "    \n",
    "    # Create a dictionary of metrics\n",
    "    metrics = {\n",
    "        'Accuracy': acc,\n",
    "        'AUC': roc_auc\n",
    "    }\n",
    "    \n",
    "    # Add metrics to the DataFrame\n",
    "    for metric, value in metrics.items():\n",
    "        if metric not in metrics_df['Metric'].values:\n",
    "            new_row = pd.DataFrame({'Metric': [metric]})\n",
    "            metrics_df = pd.concat([metrics_df, new_row], ignore_index=True)\n",
    "        metrics_df.loc[metrics_df['Metric'] == metric, model_name] = value\n",
    "\n",
    "#    return metrics_df\n"
   ]
  },
  {
   "cell_type": "code",
   "execution_count": 150,
   "id": "3194ce31-670b-4431-b3a0-3a7914d134d7",
   "metadata": {},
   "outputs": [],
   "source": [
    "store_metrics('Random Forest') # saving these metrics for comparison across models"
   ]
  },
  {
   "cell_type": "markdown",
   "id": "35d9056b-da90-493c-a480-4fdfa8833edc",
   "metadata": {},
   "source": [
    "### AdaBoost Model"
   ]
  },
  {
   "cell_type": "markdown",
   "id": "48b34eeb-53a4-47f4-8d4e-4f4bb39d39eb",
   "metadata": {},
   "source": [
    "First, we start with a basic AdaBoost Model."
   ]
  },
  {
   "cell_type": "code",
   "execution_count": 153,
   "id": "8491e0e7-29a9-40be-994b-1858a7463391",
   "metadata": {},
   "outputs": [],
   "source": [
    "ada = AdaBoostClassifier(random_state=890) # Defining the model type, and setting a random_state for consistency. All other hyperparameters are default.\n",
    "ada.fit(x_train, y_train) # training the model using the training data\n",
    "y_pred = ada.predict(x_test) # predict results based on the test data"
   ]
  },
  {
   "cell_type": "code",
   "execution_count": 154,
   "id": "e05192f3-9219-4940-8143-098aee29c8f5",
   "metadata": {
    "scrolled": true
   },
   "outputs": [
    {
     "data": {
      "text/html": [
       "<style type=\"text/css\">\n",
       "</style>\n",
       "<table id=\"T_adac4\">\n",
       "  <thead>\n",
       "    <tr>\n",
       "      <th id=\"T_adac4_level0_col0\" class=\"col_heading level0 col0\" >Accuracy</th>\n",
       "      <th id=\"T_adac4_level0_col1\" class=\"col_heading level0 col1\" >Recall</th>\n",
       "      <th id=\"T_adac4_level0_col2\" class=\"col_heading level0 col2\" >Precision</th>\n",
       "      <th id=\"T_adac4_level0_col3\" class=\"col_heading level0 col3\" >F1 Score</th>\n",
       "      <th id=\"T_adac4_level0_col4\" class=\"col_heading level0 col4\" >AUC</th>\n",
       "    </tr>\n",
       "  </thead>\n",
       "  <tbody>\n",
       "    <tr>\n",
       "      <td id=\"T_adac4_row0_col0\" class=\"data row0 col0\" >0.845034</td>\n",
       "      <td id=\"T_adac4_row0_col1\" class=\"data row0 col1\" >0.747785</td>\n",
       "      <td id=\"T_adac4_row0_col2\" class=\"data row0 col2\" >0.796584</td>\n",
       "      <td id=\"T_adac4_row0_col3\" class=\"data row0 col3\" >0.766951</td>\n",
       "      <td id=\"T_adac4_row0_col4\" class=\"data row0 col4\" >0.747785</td>\n",
       "    </tr>\n",
       "  </tbody>\n",
       "</table>\n"
      ],
      "text/plain": [
       "<pandas.io.formats.style.Styler at 0x1e784b8a790>"
      ]
     },
     "metadata": {},
     "output_type": "display_data"
    }
   ],
   "source": [
    "perf(y_test, y_pred) # call custom function to report on performance"
   ]
  },
  {
   "cell_type": "markdown",
   "id": "c1d8c5a9-0dfe-4bae-ba6a-6dda2caf8485",
   "metadata": {},
   "source": [
    "Now that we have a baseline, showing the performance using the defaults, we will vary n_estimators and see if a different number of decision trees can perform better."
   ]
  },
  {
   "cell_type": "code",
   "execution_count": 156,
   "id": "75acad15-d884-4e7a-a1f6-066029207eb3",
   "metadata": {},
   "outputs": [],
   "source": [
    "n_estimator_lst = range(50, 550,50) # defines a list of values to try for n_estimators\n",
    "train_auc = []\n",
    "test_auc = []\n",
    "train_accuracy = []\n",
    "test_accuracy = []\n",
    "\n",
    "for n_estimators in n_estimator_lst:\n",
    "    # train with hyperparameter\n",
    "    ada = AdaBoostClassifier(n_estimators=n_estimators, random_state=890)\n",
    "    ada.fit(x_train, y_train)\n",
    "\n",
    "    #Predict results for training set and log metics AUC and accuracy\n",
    "    train_y_pred = ada.predict(x_train)\n",
    "    false_positive_rate, true_positive_rate, thresholds = roc_curve(y_train, train_y_pred)\n",
    "    roc_auc = auc(false_positive_rate, true_positive_rate)\n",
    "    train_acc = np.mean(y_train==train_y_pred)\n",
    "    train_auc.append(roc_auc)\n",
    "    train_accuracy.append(train_acc)\n",
    "\n",
    "    #Predict results for test set and log metics AUC and accuracy\n",
    "    y_pred = ada.predict(x_test)\n",
    "    false_positive_rate, true_positive_rate, thresholds = roc_curve(y_test, y_pred)\n",
    "    roc_auc = auc(false_positive_rate, true_positive_rate)\n",
    "    test_acc = np.mean(y_test==y_pred)\n",
    "    test_auc.append(roc_auc)\n",
    "    test_accuracy.append(test_acc)"
   ]
  },
  {
   "cell_type": "markdown",
   "id": "c0f4e9a7-5b7a-4b8e-957d-cfbe169acfbc",
   "metadata": {},
   "source": [
    "Visualize the change in n_estimators"
   ]
  },
  {
   "cell_type": "code",
   "execution_count": 158,
   "id": "d08256ea-6478-429a-a3c4-8798b0166aea",
   "metadata": {},
   "outputs": [
    {
     "data": {
      "image/png": "[encoded data removed]",
      "text/plain": [
       "<Figure size 640x480 with 1 Axes>"
      ]
     },
     "metadata": {},
     "output_type": "display_data"
    }
   ],
   "source": [
    "# generates a line graph of the training AUC and testing AUC for comparison\n",
    "line1, = plt.plot(n_estimator_lst, train_auc, 'b', label=\"Train AUC\")\n",
    "line2, = plt.plot(n_estimator_lst, test_auc, 'r', label=\"Test AUC\")\n",
    "plt.legend(handler_map={line1: HandlerLine2D(numpoints=2)})\n",
    "plt.ylabel('AUC score')\n",
    "plt.xlabel('n_estimators')\n",
    "plt.show()"
   ]
  },
  {
   "cell_type": "code",
   "execution_count": 159,
   "id": "0027b475-4cdc-4e6d-8f0c-fed0cdd65062",
   "metadata": {},
   "outputs": [
    {
     "data": {
      "image/png": "[encoded data removed]",
      "text/plain": [
       "<Figure size 640x480 with 1 Axes>"
      ]
     },
     "metadata": {},
     "output_type": "display_data"
    }
   ],
   "source": [
    "# generates a line graph of the training accuracy and testing accuracy for comparison\n",
    "line1, = plt.plot(n_estimator_lst, train_accuracy, 'b', label=\"Train Accuracy\")\n",
    "line2, = plt.plot(n_estimator_lst, test_accuracy, 'r', label=\"Test Accuracy\")\n",
    "plt.legend(handler_map={line1: HandlerLine2D(numpoints=2)})\n",
    "plt.ylabel('Accuracy score')\n",
    "plt.xlabel('n_estimators')\n",
    "plt.show()"
   ]
  },
  {
   "cell_type": "markdown",
   "id": "d721322c-cb8c-4a70-a566-9fe0beb79bd3",
   "metadata": {},
   "source": [
    "Optimal n_estimators is 50. In both graphs, there is a steep decline between 50 and 100 estimators, suggesting an increase in estimators degrades predictive ability."
   ]
  },
  {
   "cell_type": "code",
   "execution_count": 161,
   "id": "c507eda8-d10c-4ba6-b0ae-5b00c1924b8f",
   "metadata": {},
   "outputs": [],
   "source": [
    "ada = AdaBoostClassifier(n_estimators=50,random_state=890)\n",
    "ada.fit(x_train, y_train)\n",
    "y_pred = ada.predict(x_test)"
   ]
  },
  {
   "cell_type": "code",
   "execution_count": 162,
   "id": "670ebef5-7b59-4f37-9a1b-e913e693ee2b",
   "metadata": {},
   "outputs": [
    {
     "data": {
      "text/html": [
       "<style type=\"text/css\">\n",
       "</style>\n",
       "<table id=\"T_06201\">\n",
       "  <thead>\n",
       "    <tr>\n",
       "      <th id=\"T_06201_level0_col0\" class=\"col_heading level0 col0\" >Accuracy</th>\n",
       "      <th id=\"T_06201_level0_col1\" class=\"col_heading level0 col1\" >Recall</th>\n",
       "      <th id=\"T_06201_level0_col2\" class=\"col_heading level0 col2\" >Precision</th>\n",
       "      <th id=\"T_06201_level0_col3\" class=\"col_heading level0 col3\" >F1 Score</th>\n",
       "      <th id=\"T_06201_level0_col4\" class=\"col_heading level0 col4\" >AUC</th>\n",
       "    </tr>\n",
       "  </thead>\n",
       "  <tbody>\n",
       "    <tr>\n",
       "      <td id=\"T_06201_row0_col0\" class=\"data row0 col0\" >0.845034</td>\n",
       "      <td id=\"T_06201_row0_col1\" class=\"data row0 col1\" >0.747785</td>\n",
       "      <td id=\"T_06201_row0_col2\" class=\"data row0 col2\" >0.796584</td>\n",
       "      <td id=\"T_06201_row0_col3\" class=\"data row0 col3\" >0.766951</td>\n",
       "      <td id=\"T_06201_row0_col4\" class=\"data row0 col4\" >0.747785</td>\n",
       "    </tr>\n",
       "  </tbody>\n",
       "</table>\n"
      ],
      "text/plain": [
       "<pandas.io.formats.style.Styler at 0x1e780376490>"
      ]
     },
     "metadata": {},
     "output_type": "display_data"
    }
   ],
   "source": [
    "perf(y_test, y_pred)"
   ]
  },
  {
   "cell_type": "code",
   "execution_count": 164,
   "id": "0a93772f-ef63-41fd-8400-440acbfb9228",
   "metadata": {},
   "outputs": [],
   "source": [
    "store_metrics('Ada Boost') # saving these metrics for comparison across models"
   ]
  },
  {
   "cell_type": "markdown",
   "id": "fd9ff467-b397-45ae-95b1-4bb504f0a20a",
   "metadata": {},
   "source": [
    "### Gradient Boost"
   ]
  },
  {
   "cell_type": "markdown",
   "id": "c2b70e8a-e621-4c00-b278-1117efd29e88",
   "metadata": {},
   "source": [
    "Now let's start with a basic Gradient Boost model."
   ]
  },
  {
   "cell_type": "code",
   "execution_count": 167,
   "id": "30f089da-bb86-479f-8faf-51c61b1d3352",
   "metadata": {},
   "outputs": [],
   "source": [
    "gb = GradientBoostingClassifier(random_state=890) # define model\n",
    "gb.fit(x_train, y_train) #train\n",
    "y_pred = gb.predict(x_test)"
   ]
  },
  {
   "cell_type": "code",
   "execution_count": 168,
   "id": "60c09684-4d61-40e4-9610-d2040b15349f",
   "metadata": {},
   "outputs": [
    {
     "data": {
      "text/html": [
       "<style type=\"text/css\">\n",
       "</style>\n",
       "<table id=\"T_0795e\">\n",
       "  <thead>\n",
       "    <tr>\n",
       "      <th id=\"T_0795e_level0_col0\" class=\"col_heading level0 col0\" >Accuracy</th>\n",
       "      <th id=\"T_0795e_level0_col1\" class=\"col_heading level0 col1\" >Recall</th>\n",
       "      <th id=\"T_0795e_level0_col2\" class=\"col_heading level0 col2\" >Precision</th>\n",
       "      <th id=\"T_0795e_level0_col3\" class=\"col_heading level0 col3\" >F1 Score</th>\n",
       "      <th id=\"T_0795e_level0_col4\" class=\"col_heading level0 col4\" >AUC</th>\n",
       "    </tr>\n",
       "  </thead>\n",
       "  <tbody>\n",
       "    <tr>\n",
       "      <td id=\"T_0795e_row0_col0\" class=\"data row0 col0\" >0.846631</td>\n",
       "      <td id=\"T_0795e_row0_col1\" class=\"data row0 col1\" >0.757361</td>\n",
       "      <td id=\"T_0795e_row0_col2\" class=\"data row0 col2\" >0.795790</td>\n",
       "      <td id=\"T_0795e_row0_col3\" class=\"data row0 col3\" >0.773294</td>\n",
       "      <td id=\"T_0795e_row0_col4\" class=\"data row0 col4\" >0.757361</td>\n",
       "    </tr>\n",
       "  </tbody>\n",
       "</table>\n"
      ],
      "text/plain": [
       "<pandas.io.formats.style.Styler at 0x1e78038db90>"
      ]
     },
     "metadata": {},
     "output_type": "display_data"
    }
   ],
   "source": [
    "perf(y_test, y_pred) # output performance metrics"
   ]
  },
  {
   "cell_type": "markdown",
   "id": "69d49bc7-bda5-4f89-a191-d6380a9b0e2c",
   "metadata": {},
   "source": [
    "Next, let's tune using n-estimators..."
   ]
  },
  {
   "cell_type": "code",
   "execution_count": 170,
   "id": "f6253c4c-fa4d-45d7-a15c-e0f6af17f4a7",
   "metadata": {},
   "outputs": [],
   "source": [
    "n_estimator_lst = range(50, 550,50) # creates a list of values we will try for n_estimators\n",
    "train_auc = []\n",
    "test_auc = []\n",
    "train_accuracy = []\n",
    "test_accuracy = []\n",
    "\n",
    "# loops through the different hyperparameter values and stores the performance\n",
    "for n_estimators in n_estimator_lst:\n",
    "    # train with hyperparameter\n",
    "    gb = GradientBoostingClassifier(n_estimators=n_estimators, random_state=890)\n",
    "    gb.fit(x_train, y_train)\n",
    "\n",
    "    #Predict results for training set and log metics AUC and accuracy\n",
    "    train_y_pred = gb.predict(x_train)\n",
    "    false_positive_rate, true_positive_rate, thresholds = roc_curve(y_train, train_y_pred)\n",
    "    roc_auc = auc(false_positive_rate, true_positive_rate)\n",
    "    train_acc = np.mean(y_train==train_y_pred)\n",
    "    train_auc.append(roc_auc)\n",
    "    train_accuracy.append(train_acc)\n",
    "\n",
    "    #Predict results for test set and log metics AUC and accuracy\n",
    "    y_pred = gb.predict(x_test)\n",
    "    false_positive_rate, true_positive_rate, thresholds = roc_curve(y_test, y_pred)\n",
    "    roc_auc = auc(false_positive_rate, true_positive_rate)\n",
    "    test_acc = np.mean(y_test==y_pred)\n",
    "    test_auc.append(roc_auc)\n",
    "    test_accuracy.append(test_acc)"
   ]
  },
  {
   "cell_type": "markdown",
   "id": "f376808a-aa9c-450e-9a39-ad68cb15d477",
   "metadata": {},
   "source": [
    "Visualize the change in n_estimators"
   ]
  },
  {
   "cell_type": "code",
   "execution_count": 172,
   "id": "031d9d23-3c6c-4c19-8b86-fd0b77b4d2c1",
   "metadata": {},
   "outputs": [
    {
     "data": {
      "image/png": "[encoded data removed]",
      "text/plain": [
       "<Figure size 640x480 with 1 Axes>"
      ]
     },
     "metadata": {},
     "output_type": "display_data"
    }
   ],
   "source": [
    "# generates a line graph of the training AUC and testing AUC for comparison\n",
    "line1, = plt.plot(n_estimator_lst, train_auc, 'b', label=\"Train AUC\")\n",
    "line2, = plt.plot(n_estimator_lst, test_auc, 'r', label=\"Test AUC\")\n",
    "plt.legend(handler_map={line1: HandlerLine2D(numpoints=2)})\n",
    "plt.ylabel('AUC score')\n",
    "plt.xlabel('n_estimators')\n",
    "plt.show()"
   ]
  },
  {
   "cell_type": "code",
   "execution_count": 173,
   "id": "f7d3fa9b-e671-447c-9bae-a489973ee392",
   "metadata": {},
   "outputs": [
    {
     "data": {
      "image/png": "[encoded data removed]",
      "text/plain": [
       "<Figure size 640x480 with 1 Axes>"
      ]
     },
     "metadata": {},
     "output_type": "display_data"
    }
   ],
   "source": [
    "# generates a line graph of the training accuracy and testing accuracy for comparison\n",
    "line1, = plt.plot(n_estimator_lst, train_accuracy, 'b', label=\"Train Accuracy\")\n",
    "line2, = plt.plot(n_estimator_lst, test_accuracy, 'r', label=\"Test Accuracy\")\n",
    "plt.legend(handler_map={line1: HandlerLine2D(numpoints=2)})\n",
    "plt.ylabel('Accuracy score')\n",
    "plt.xlabel('n_estimators')\n",
    "plt.show()"
   ]
  },
  {
   "cell_type": "markdown",
   "id": "4a9c016d-c9b7-4268-bd92-7f63ee7e7db0",
   "metadata": {},
   "source": [
    "100 is the optimal value for n_estimators, out of those tested. The accuracy graph shows accuracy peaks at 100. The AUC increases until about 150, at which point the curve begins to flatten. The truly optimal value is likely somewhere between 100 and 150. Although AUC continues to increase after 100, it does so at a reduced rate. By comparing the slope of the test data curve at 150 to that of the training data, we can see that overfitting has started."
   ]
  },
  {
   "cell_type": "code",
   "execution_count": 175,
   "id": "eaac33ba-548a-4319-bc6a-65c6f6b7f395",
   "metadata": {},
   "outputs": [
    {
     "data": {
      "text/html": [
       "<style type=\"text/css\">\n",
       "</style>\n",
       "<table id=\"T_98d21\">\n",
       "  <thead>\n",
       "    <tr>\n",
       "      <th id=\"T_98d21_level0_col0\" class=\"col_heading level0 col0\" >Estimators</th>\n",
       "      <th id=\"T_98d21_level0_col1\" class=\"col_heading level0 col1\" >Accuracy</th>\n",
       "    </tr>\n",
       "  </thead>\n",
       "  <tbody>\n",
       "    <tr>\n",
       "      <td id=\"T_98d21_row0_col0\" class=\"data row0 col0\" >50</td>\n",
       "      <td id=\"T_98d21_row0_col1\" class=\"data row0 col1\" >0.845525</td>\n",
       "    </tr>\n",
       "    <tr>\n",
       "      <td id=\"T_98d21_row1_col0\" class=\"data row1 col0\" >100</td>\n",
       "      <td id=\"T_98d21_row1_col1\" class=\"data row1 col1\" >0.846631</td>\n",
       "    </tr>\n",
       "    <tr>\n",
       "      <td id=\"T_98d21_row2_col0\" class=\"data row2 col0\" >150</td>\n",
       "      <td id=\"T_98d21_row2_col1\" class=\"data row2 col1\" >0.846508</td>\n",
       "    </tr>\n",
       "    <tr>\n",
       "      <td id=\"T_98d21_row3_col0\" class=\"data row3 col0\" >200</td>\n",
       "      <td id=\"T_98d21_row3_col1\" class=\"data row3 col1\" >0.845894</td>\n",
       "    </tr>\n",
       "    <tr>\n",
       "      <td id=\"T_98d21_row4_col0\" class=\"data row4 col0\" >250</td>\n",
       "      <td id=\"T_98d21_row4_col1\" class=\"data row4 col1\" >0.846078</td>\n",
       "    </tr>\n",
       "    <tr>\n",
       "      <td id=\"T_98d21_row5_col0\" class=\"data row5 col0\" >300</td>\n",
       "      <td id=\"T_98d21_row5_col1\" class=\"data row5 col1\" >0.845525</td>\n",
       "    </tr>\n",
       "    <tr>\n",
       "      <td id=\"T_98d21_row6_col0\" class=\"data row6 col0\" >350</td>\n",
       "      <td id=\"T_98d21_row6_col1\" class=\"data row6 col1\" >0.845525</td>\n",
       "    </tr>\n",
       "    <tr>\n",
       "      <td id=\"T_98d21_row7_col0\" class=\"data row7 col0\" >400</td>\n",
       "      <td id=\"T_98d21_row7_col1\" class=\"data row7 col1\" >0.845525</td>\n",
       "    </tr>\n",
       "    <tr>\n",
       "      <td id=\"T_98d21_row8_col0\" class=\"data row8 col0\" >450</td>\n",
       "      <td id=\"T_98d21_row8_col1\" class=\"data row8 col1\" >0.845464</td>\n",
       "    </tr>\n",
       "  </tbody>\n",
       "</table>\n"
      ],
      "text/plain": [
       "<pandas.io.formats.style.Styler at 0x1e78198f1d0>"
      ]
     },
     "metadata": {},
     "output_type": "display_data"
    }
   ],
   "source": [
    "# generate a table showing the accuracy values\n",
    "n_est_acc_results = pd.DataFrame({'Estimators': n_estimator_lst, 'Accuracy': test_accuracy})\n",
    "n_est_acc_results.reset_index(drop=True, inplace=True)\n",
    "display(n_est_acc_results[0:9].style.hide(axis=\"index\"))"
   ]
  },
  {
   "cell_type": "code",
   "execution_count": 176,
   "id": "a60d36a8-1d9e-42b5-b5a1-72fb3c3255cf",
   "metadata": {},
   "outputs": [],
   "source": [
    "# Re-run the model using the optimal n_estimators value\n",
    "gb = GradientBoostingClassifier(n_estimators=100,random_state=890)\n",
    "gb.fit(x_train, y_train)\n",
    "y_pred = gb.predict(x_test)"
   ]
  },
  {
   "cell_type": "code",
   "execution_count": 177,
   "id": "ab7bdb63-0d1a-4c6f-ad65-2535271c4113",
   "metadata": {},
   "outputs": [
    {
     "data": {
      "text/html": [
       "<style type=\"text/css\">\n",
       "</style>\n",
       "<table id=\"T_923d3\">\n",
       "  <thead>\n",
       "    <tr>\n",
       "      <th id=\"T_923d3_level0_col0\" class=\"col_heading level0 col0\" >Accuracy</th>\n",
       "      <th id=\"T_923d3_level0_col1\" class=\"col_heading level0 col1\" >Recall</th>\n",
       "      <th id=\"T_923d3_level0_col2\" class=\"col_heading level0 col2\" >Precision</th>\n",
       "      <th id=\"T_923d3_level0_col3\" class=\"col_heading level0 col3\" >F1 Score</th>\n",
       "      <th id=\"T_923d3_level0_col4\" class=\"col_heading level0 col4\" >AUC</th>\n",
       "    </tr>\n",
       "  </thead>\n",
       "  <tbody>\n",
       "    <tr>\n",
       "      <td id=\"T_923d3_row0_col0\" class=\"data row0 col0\" >0.846631</td>\n",
       "      <td id=\"T_923d3_row0_col1\" class=\"data row0 col1\" >0.757361</td>\n",
       "      <td id=\"T_923d3_row0_col2\" class=\"data row0 col2\" >0.795790</td>\n",
       "      <td id=\"T_923d3_row0_col3\" class=\"data row0 col3\" >0.773294</td>\n",
       "      <td id=\"T_923d3_row0_col4\" class=\"data row0 col4\" >0.757361</td>\n",
       "    </tr>\n",
       "  </tbody>\n",
       "</table>\n"
      ],
      "text/plain": [
       "<pandas.io.formats.style.Styler at 0x1e787407c50>"
      ]
     },
     "metadata": {},
     "output_type": "display_data"
    }
   ],
   "source": [
    "perf(y_test, y_pred)"
   ]
  },
  {
   "cell_type": "code",
   "execution_count": 178,
   "id": "be2c09fb-7b23-4f01-82e5-7d57e18880fc",
   "metadata": {},
   "outputs": [],
   "source": [
    "store_metrics('Gradient Boost') # saving these metrics for comparison across models"
   ]
  },
  {
   "cell_type": "markdown",
   "id": "7ced63f2-cfc7-4d51-8e7b-5a7a28eda1fd",
   "metadata": {},
   "source": [
    "### Extreme Gradient Boosting (XGB)"
   ]
  },
  {
   "cell_type": "markdown",
   "id": "3f0c83a6-0aff-4b43-a3f1-adc57bf031c8",
   "metadata": {},
   "source": [
    "Here, we start with a basic XGB model."
   ]
  },
  {
   "cell_type": "code",
   "execution_count": 181,
   "id": "1350b556-478d-4f43-9823-47f83665ba0a",
   "metadata": {},
   "outputs": [],
   "source": [
    "xgb = XGBClassifier(random_state=890) # define model\n",
    "xgb.fit(x_train, y_train) #train\n",
    "y_pred = xgb.predict(x_test) # predict"
   ]
  },
  {
   "cell_type": "code",
   "execution_count": 182,
   "id": "5c519ace-192b-49df-9cc3-de905557a91c",
   "metadata": {},
   "outputs": [
    {
     "data": {
      "text/html": [
       "<style type=\"text/css\">\n",
       "</style>\n",
       "<table id=\"T_23d82\">\n",
       "  <thead>\n",
       "    <tr>\n",
       "      <th id=\"T_23d82_level0_col0\" class=\"col_heading level0 col0\" >Accuracy</th>\n",
       "      <th id=\"T_23d82_level0_col1\" class=\"col_heading level0 col1\" >Recall</th>\n",
       "      <th id=\"T_23d82_level0_col2\" class=\"col_heading level0 col2\" >Precision</th>\n",
       "      <th id=\"T_23d82_level0_col3\" class=\"col_heading level0 col3\" >F1 Score</th>\n",
       "      <th id=\"T_23d82_level0_col4\" class=\"col_heading level0 col4\" >AUC</th>\n",
       "    </tr>\n",
       "  </thead>\n",
       "  <tbody>\n",
       "    <tr>\n",
       "      <td id=\"T_23d82_row0_col0\" class=\"data row0 col0\" >0.844420</td>\n",
       "      <td id=\"T_23d82_row0_col1\" class=\"data row0 col1\" >0.755913</td>\n",
       "      <td id=\"T_23d82_row0_col2\" class=\"data row0 col2\" >0.791630</td>\n",
       "      <td id=\"T_23d82_row0_col3\" class=\"data row0 col3\" >0.770876</td>\n",
       "      <td id=\"T_23d82_row0_col4\" class=\"data row0 col4\" >0.755913</td>\n",
       "    </tr>\n",
       "  </tbody>\n",
       "</table>\n"
      ],
      "text/plain": [
       "<pandas.io.formats.style.Styler at 0x1e780264e10>"
      ]
     },
     "metadata": {},
     "output_type": "display_data"
    }
   ],
   "source": [
    "perf(y_test, y_pred) # output metrics"
   ]
  },
  {
   "cell_type": "markdown",
   "id": "5fe2e5a7-864d-4a45-bfc4-eefc7b485267",
   "metadata": {},
   "source": [
    "Now we tune using n_estimators."
   ]
  },
  {
   "cell_type": "code",
   "execution_count": 184,
   "id": "5df9ef66-deea-4ee4-bcd5-239c4b9bf7d2",
   "metadata": {},
   "outputs": [],
   "source": [
    "n_estimator_lst = range(50, 550, 50) # creates a list of values we will try for n_estimators\n",
    "train_auc = []\n",
    "test_auc = []\n",
    "train_accuracy = []\n",
    "test_accuracy = []\n",
    "\n",
    "# loops through the different hyperparameter values and stores the performance\n",
    "for n_estimators in n_estimator_lst:\n",
    "    # train with hyperparameter\n",
    "    xgb = XGBClassifier(n_estimators=n_estimators, random_state=890)\n",
    "    xgb.fit(x_train, y_train)\n",
    "\n",
    "    #Predict results for training set and log metics AUC and accuracy\n",
    "    train_y_pred = xgb.predict(x_train)\n",
    "    false_positive_rate, true_positive_rate, thresholds = roc_curve(y_train, train_y_pred)\n",
    "    roc_auc = auc(false_positive_rate, true_positive_rate)\n",
    "    train_acc = np.mean(y_train==train_y_pred)\n",
    "    train_auc.append(roc_auc)\n",
    "    train_accuracy.append(train_acc)\n",
    "\n",
    "    #Predict results for test set and log metics AUC and accuracy\n",
    "    y_pred = xgb.predict(x_test)\n",
    "    false_positive_rate, true_positive_rate, thresholds = roc_curve(y_test, y_pred)\n",
    "    roc_auc = auc(false_positive_rate, true_positive_rate)\n",
    "    test_acc = np.mean(y_test==y_pred)\n",
    "    test_auc.append(roc_auc)\n",
    "    test_accuracy.append(test_acc)"
   ]
  },
  {
   "cell_type": "markdown",
   "id": "d0507fcd-ce1d-489f-95a0-03090e3d8df0",
   "metadata": {},
   "source": [
    "Visualize the change in n_estimators"
   ]
  },
  {
   "cell_type": "code",
   "execution_count": 186,
   "id": "154ac4e9-65ba-41ff-98f8-527d50758e4a",
   "metadata": {},
   "outputs": [
    {
     "data": {
      "image/png": "[encoded data removed]",
      "text/plain": [
       "<Figure size 640x480 with 1 Axes>"
      ]
     },
     "metadata": {},
     "output_type": "display_data"
    }
   ],
   "source": [
    "# generates a line graph of the training AUC and testing AUC for comparison\n",
    "line1, = plt.plot(n_estimator_lst, train_auc, 'b', label=\"Train AUC\")\n",
    "line2, = plt.plot(n_estimator_lst, test_auc, 'r', label=\"Test AUC\")\n",
    "plt.legend(handler_map={line1: HandlerLine2D(numpoints=2)})\n",
    "plt.ylabel('AUC score')\n",
    "plt.xlabel('n_estimators')\n",
    "plt.show()"
   ]
  },
  {
   "cell_type": "code",
   "execution_count": 187,
   "id": "02369ee9-2784-426e-bea6-06bd8368b4dd",
   "metadata": {},
   "outputs": [
    {
     "data": {
      "image/png": "[encoded data removed]",
      "text/plain": [
       "<Figure size 640x480 with 1 Axes>"
      ]
     },
     "metadata": {},
     "output_type": "display_data"
    }
   ],
   "source": [
    "# generates a line graph of the training accuracy and testing accuracy for comparison\n",
    "line1, = plt.plot(n_estimator_lst, train_accuracy, 'b', label=\"Train Accuracy\")\n",
    "line2, = plt.plot(n_estimator_lst, test_accuracy, 'r', label=\"Test Accuracy\")\n",
    "plt.legend(handler_map={line1: HandlerLine2D(numpoints=2)})\n",
    "plt.ylabel('Accuracy score')\n",
    "plt.xlabel('n_estimators')\n",
    "plt.show()"
   ]
  },
  {
   "cell_type": "markdown",
   "id": "6e4233e8-82c0-4f45-b4ba-989a603d43ea",
   "metadata": {},
   "source": [
    "Accuracy and AUC decline as more estimators are added. For this reason, we should keep n_estimators low. The optimal value from those tested is 50."
   ]
  },
  {
   "cell_type": "code",
   "execution_count": 189,
   "id": "11aeedf1-bbc3-4415-b51a-9db705d42fb1",
   "metadata": {},
   "outputs": [],
   "source": [
    "# re-running the model with the optimal value for n_estimators\n",
    "xgb = XGBClassifier(n_estimators=50,random_state=890)\n",
    "xgb.fit(x_train, y_train)\n",
    "y_pred = xgb.predict(x_test)"
   ]
  },
  {
   "cell_type": "code",
   "execution_count": 190,
   "id": "9917b93c-43c9-4d72-82ab-92315011dadc",
   "metadata": {},
   "outputs": [
    {
     "data": {
      "text/html": [
       "<style type=\"text/css\">\n",
       "</style>\n",
       "<table id=\"T_e2e23\">\n",
       "  <thead>\n",
       "    <tr>\n",
       "      <th id=\"T_e2e23_level0_col0\" class=\"col_heading level0 col0\" >Accuracy</th>\n",
       "      <th id=\"T_e2e23_level0_col1\" class=\"col_heading level0 col1\" >Recall</th>\n",
       "      <th id=\"T_e2e23_level0_col2\" class=\"col_heading level0 col2\" >Precision</th>\n",
       "      <th id=\"T_e2e23_level0_col3\" class=\"col_heading level0 col3\" >F1 Score</th>\n",
       "      <th id=\"T_e2e23_level0_col4\" class=\"col_heading level0 col4\" >AUC</th>\n",
       "    </tr>\n",
       "  </thead>\n",
       "  <tbody>\n",
       "    <tr>\n",
       "      <td id=\"T_e2e23_row0_col0\" class=\"data row0 col0\" >0.845525</td>\n",
       "      <td id=\"T_e2e23_row0_col1\" class=\"data row0 col1\" >0.757715</td>\n",
       "      <td id=\"T_e2e23_row0_col2\" class=\"data row0 col2\" >0.793270</td>\n",
       "      <td id=\"T_e2e23_row0_col3\" class=\"data row0 col3\" >0.772644</td>\n",
       "      <td id=\"T_e2e23_row0_col4\" class=\"data row0 col4\" >0.757715</td>\n",
       "    </tr>\n",
       "  </tbody>\n",
       "</table>\n"
      ],
      "text/plain": [
       "<pandas.io.formats.style.Styler at 0x1e780591d50>"
      ]
     },
     "metadata": {},
     "output_type": "display_data"
    }
   ],
   "source": [
    "perf(y_test, y_pred) # output metics"
   ]
  },
  {
   "cell_type": "code",
   "execution_count": 191,
   "id": "54de9272-3b70-4981-bf3a-8617eda71cd5",
   "metadata": {},
   "outputs": [],
   "source": [
    "store_metrics('XGB') # saving these metrics for comparison across models"
   ]
  },
  {
   "cell_type": "markdown",
   "id": "6501c3cc-0bc4-484b-8798-b883bf877d23",
   "metadata": {},
   "source": [
    "### Choosing the Best Model"
   ]
  },
  {
   "cell_type": "code",
   "execution_count": 193,
   "id": "74bdfa12-3d3b-4504-9a7a-ffd71aded757",
   "metadata": {},
   "outputs": [
    {
     "data": {
      "text/html": [
       "<div>\n",
       "<style scoped>\n",
       "    .dataframe tbody tr th:only-of-type {\n",
       "        vertical-align: middle;\n",
       "    }\n",
       "\n",
       "    .dataframe tbody tr th {\n",
       "        vertical-align: top;\n",
       "    }\n",
       "\n",
       "    .dataframe thead th {\n",
       "        text-align: right;\n",
       "    }\n",
       "</style>\n",
       "<table border=\"1\" class=\"dataframe\">\n",
       "  <thead>\n",
       "    <tr style=\"text-align: right;\">\n",
       "      <th></th>\n",
       "      <th>Metric</th>\n",
       "      <th>Random Forest</th>\n",
       "      <th>Ada Boost</th>\n",
       "      <th>Gradient Boost</th>\n",
       "      <th>XGB</th>\n",
       "    </tr>\n",
       "  </thead>\n",
       "  <tbody>\n",
       "    <tr>\n",
       "      <th>0</th>\n",
       "      <td>Accuracy</td>\n",
       "      <td>0.838216</td>\n",
       "      <td>0.845034</td>\n",
       "      <td>0.846631</td>\n",
       "      <td>0.845525</td>\n",
       "    </tr>\n",
       "    <tr>\n",
       "      <th>1</th>\n",
       "      <td>AUC</td>\n",
       "      <td>0.749069</td>\n",
       "      <td>0.747785</td>\n",
       "      <td>0.757361</td>\n",
       "      <td>0.757715</td>\n",
       "    </tr>\n",
       "  </tbody>\n",
       "</table>\n",
       "</div>"
      ],
      "text/plain": [
       "     Metric  Random Forest  Ada Boost  Gradient Boost       XGB\n",
       "0  Accuracy       0.838216   0.845034        0.846631  0.845525\n",
       "1       AUC       0.749069   0.747785        0.757361  0.757715"
      ]
     },
     "execution_count": 193,
     "metadata": {},
     "output_type": "execute_result"
    }
   ],
   "source": [
    "metrics_df # this is the dataframe where all our stored metrics from the different models is housed"
   ]
  },
  {
   "cell_type": "markdown",
   "id": "19b0dff9-d758-4a74-9812-9055dd164a65",
   "metadata": {},
   "source": [
    "The best of our tuned ensemble models is Gradient Boost, with the highest accuracy the second highest AUC, similar to XGB at .757."
   ]
  },
  {
   "cell_type": "code",
   "execution_count": 195,
   "id": "e7d76226-b966-46da-94a4-47c5e98f4d88",
   "metadata": {},
   "outputs": [],
   "source": [
    "# running the best model\n",
    "best_model = GradientBoostingClassifier(n_estimators=100,random_state=890)\n",
    "best_model.fit(x_train, y_train)\n",
    "y_pred = best_model.predict(x_test)"
   ]
  },
  {
   "cell_type": "code",
   "execution_count": 196,
   "id": "8b063237-f6a1-4ef2-a343-e6c6aeb098db",
   "metadata": {},
   "outputs": [
    {
     "data": {
      "text/html": [
       "<style type=\"text/css\">\n",
       "</style>\n",
       "<table id=\"T_21d1d\">\n",
       "  <thead>\n",
       "    <tr>\n",
       "      <th id=\"T_21d1d_level0_col0\" class=\"col_heading level0 col0\" >Accuracy</th>\n",
       "      <th id=\"T_21d1d_level0_col1\" class=\"col_heading level0 col1\" >Recall</th>\n",
       "      <th id=\"T_21d1d_level0_col2\" class=\"col_heading level0 col2\" >Precision</th>\n",
       "      <th id=\"T_21d1d_level0_col3\" class=\"col_heading level0 col3\" >F1 Score</th>\n",
       "      <th id=\"T_21d1d_level0_col4\" class=\"col_heading level0 col4\" >AUC</th>\n",
       "    </tr>\n",
       "  </thead>\n",
       "  <tbody>\n",
       "    <tr>\n",
       "      <td id=\"T_21d1d_row0_col0\" class=\"data row0 col0\" >0.846631</td>\n",
       "      <td id=\"T_21d1d_row0_col1\" class=\"data row0 col1\" >0.757361</td>\n",
       "      <td id=\"T_21d1d_row0_col2\" class=\"data row0 col2\" >0.795790</td>\n",
       "      <td id=\"T_21d1d_row0_col3\" class=\"data row0 col3\" >0.773294</td>\n",
       "      <td id=\"T_21d1d_row0_col4\" class=\"data row0 col4\" >0.757361</td>\n",
       "    </tr>\n",
       "  </tbody>\n",
       "</table>\n"
      ],
      "text/plain": [
       "<pandas.io.formats.style.Styler at 0x1e785903e10>"
      ]
     },
     "metadata": {},
     "output_type": "display_data"
    }
   ],
   "source": [
    "perf(y_test, y_pred)"
   ]
  },
  {
   "cell_type": "code",
   "execution_count": 197,
   "id": "635bfd3a-f568-499c-af84-c667a501d3af",
   "metadata": {},
   "outputs": [
    {
     "data": {
      "image/png": "[encoded data removed]",
      "text/plain": [
       "<Figure size 640x480 with 2 Axes>"
      ]
     },
     "metadata": {},
     "output_type": "display_data"
    }
   ],
   "source": [
    "# Confusion matrix for the best model\n",
    "confusion_matrix = metrics.confusion_matrix(y_test, y_pred)\n",
    "\n",
    "cm_display = metrics.ConfusionMatrixDisplay(confusion_matrix = confusion_matrix, display_labels = [0, 1])\n",
    "\n",
    "cm_display.plot()\n",
    "plt.show()"
   ]
  },
  {
   "cell_type": "markdown",
   "id": "3951e6fc-5c6b-437f-a092-e2127c58b9ae",
   "metadata": {},
   "source": [
    "### Step 3: Predictor"
   ]
  },
  {
   "cell_type": "markdown",
   "id": "9510f3c3-566d-42e4-8b0e-64848d78f42b",
   "metadata": {},
   "source": [
    "In this section, a single prediction can be made using our best model. To change the input, alter the user_input dictionary. Values should match bin formats from the initial dataset verbatim, except for hours, education years, and age, which can be entered as a number."
   ]
  },
  {
   "cell_type": "markdown",
   "id": "04858001-30d5-4c19-80bb-7147ae04ce3f",
   "metadata": {},
   "source": [
    "#### User Input"
   ]
  },
  {
   "cell_type": "code",
   "execution_count": 201,
   "id": "3d3995a1-d443-4ef9-9707-4ef97ab8c920",
   "metadata": {},
   "outputs": [],
   "source": [
    "predictor_df = abt_prepped.copy()"
   ]
  },
  {
   "cell_type": "code",
   "execution_count": 202,
   "id": "e3f9eb7f-16da-4f3f-a465-000a96b10b8f",
   "metadata": {},
   "outputs": [],
   "source": [
    "predictor_df = predictor_df.drop(predictor_df.index)"
   ]
  },
  {
   "cell_type": "code",
   "execution_count": 203,
   "id": "cc12bb78-0312-4246-8d1e-e4fca386918b",
   "metadata": {},
   "outputs": [
    {
     "data": {
      "text/html": [
       "<div>\n",
       "<style scoped>\n",
       "    .dataframe tbody tr th:only-of-type {\n",
       "        vertical-align: middle;\n",
       "    }\n",
       "\n",
       "    .dataframe tbody tr th {\n",
       "        vertical-align: top;\n",
       "    }\n",
       "\n",
       "    .dataframe thead th {\n",
       "        text-align: right;\n",
       "    }\n",
       "</style>\n",
       "<table border=\"1\" class=\"dataframe\">\n",
       "  <thead>\n",
       "    <tr style=\"text-align: right;\">\n",
       "      <th></th>\n",
       "      <th>flag</th>\n",
       "      <th>y</th>\n",
       "      <th>occupation_bin_Encoded</th>\n",
       "      <th>msr_bin_Encoded</th>\n",
       "      <th>race_sex_bin_Encoded</th>\n",
       "      <th>education_num_bin_Encoded</th>\n",
       "      <th>age_bin_0_25</th>\n",
       "      <th>age_bin_26_30_71_100</th>\n",
       "      <th>age_bin_31_35_61_70</th>\n",
       "      <th>age_bin_36_40_56_60</th>\n",
       "      <th>age_bin_40_55</th>\n",
       "      <th>capital_gl_0</th>\n",
       "      <th>capital_gl_less_thn_0</th>\n",
       "      <th>capital_gl_greater_thn_0</th>\n",
       "      <th>hours_per_week_0_30</th>\n",
       "      <th>hours_per_week_31_40</th>\n",
       "      <th>hours_per_week_71_100</th>\n",
       "      <th>hours_per_week_41_50_61_70</th>\n",
       "      <th>hours_per_week_51_60</th>\n",
       "      <th>workclass_no_income</th>\n",
       "      <th>workclass_income</th>\n",
       "    </tr>\n",
       "  </thead>\n",
       "  <tbody>\n",
       "  </tbody>\n",
       "</table>\n",
       "</div>"
      ],
      "text/plain": [
       "Empty DataFrame\n",
       "Columns: [flag, y, occupation_bin_Encoded, msr_bin_Encoded, race_sex_bin_Encoded, education_num_bin_Encoded, age_bin_0_25, age_bin_26_30_71_100, age_bin_31_35_61_70, age_bin_36_40_56_60, age_bin_40_55, capital_gl_0, capital_gl_less_thn_0, capital_gl_greater_thn_0, hours_per_week_0_30, hours_per_week_31_40, hours_per_week_71_100, hours_per_week_41_50_61_70, hours_per_week_51_60, workclass_no_income, workclass_income]\n",
       "Index: []"
      ]
     },
     "execution_count": 203,
     "metadata": {},
     "output_type": "execute_result"
    }
   ],
   "source": [
    "predictor_df.head()"
   ]
  },
  {
   "cell_type": "code",
   "execution_count": 204,
   "id": "25b6c1c4-0da7-41f7-b1b0-56359819ea03",
   "metadata": {},
   "outputs": [],
   "source": [
    "user_input = {'hrs': 48, 'occ': 'b. Mid - Low', 'msr': 'c. High', 'gain': 'c. > 0', 'race-sex': 'b. Mid', 'ed_yrs': 12, 'ed': 'e. High', 'class': 'b. income', 'age': 58}"
   ]
  },
  {
   "cell_type": "code",
   "execution_count": 205,
   "id": "e5b32f33-5beb-4f8a-845a-e9e41ceb9477",
   "metadata": {},
   "outputs": [
    {
     "data": {
      "text/plain": [
       "array(['b. 31-40', 'a. 0-30', 'd. 41-50 & 61-70', 'c. 71-100', 'e. 51-60'],\n",
       "      dtype=object)"
      ]
     },
     "execution_count": 205,
     "metadata": {},
     "output_type": "execute_result"
    }
   ],
   "source": [
    "abt['hours_per_week_bin'].unique()"
   ]
  },
  {
   "cell_type": "code",
   "execution_count": 206,
   "id": "2467ca7e-c0d4-4629-9fb8-6b0343352b85",
   "metadata": {},
   "outputs": [
    {
     "name": "stdout",
     "output_type": "stream",
     "text": [
      "d. 36-40 & 56-60\n"
     ]
    }
   ],
   "source": [
    "if 26 <= user_input['age'] <= 30 or user_input['age'] >= 71:\n",
    "    age_group = 'b. 26-30 & 71-100'\n",
    "elif 31 <= user_input['age'] <= 35 or user_input['age'] >= 61:\n",
    "    age_group = 'c. 31-35 & 61-70'\n",
    "elif 36 <= user_input['age'] <= 40 or user_input['age'] >= 56:\n",
    "    age_group = 'd. 36-40 & 56-60'\n",
    "elif 41 <= user_input['age'] <= 55:\n",
    "    age_group = 'e. 40-55'\n",
    "else:\n",
    "    age_group = 'a. 0-25'\n",
    "\n",
    "print(age_group)"
   ]
  },
  {
   "cell_type": "code",
   "execution_count": 207,
   "id": "bd093f6c-08bb-4d6a-85d3-648c395d5868",
   "metadata": {},
   "outputs": [
    {
     "name": "stdout",
     "output_type": "stream",
     "text": [
      "b. 9-12\n"
     ]
    }
   ],
   "source": [
    "if 0 <= user_input['ed_yrs'] <= 8:\n",
    "    ed_group = 'a. 0-8'\n",
    "elif 9 <= user_input['ed_yrs'] <= 12:\n",
    "    ed_group = 'b. 9-12'\n",
    "elif user_input['ed_yrs'] == 13:\n",
    "    ed_group = 'c. 13'\n",
    "elif user_input['ed_yrs'] == 14:\n",
    "    ed_group = 'd. 14'\n",
    "elif user_input['ed_yrs'] >= 15:\n",
    "    ed_group = 'e. 15+'\n",
    "else:\n",
    "    ed_group = 'Unknown'\n",
    "\n",
    "print(ed_group)"
   ]
  },
  {
   "cell_type": "code",
   "execution_count": 208,
   "id": "f1c5510d-b415-46ac-9891-996d8c262d24",
   "metadata": {},
   "outputs": [
    {
     "name": "stdout",
     "output_type": "stream",
     "text": [
      "d. 41-50 & 61-70\n"
     ]
    }
   ],
   "source": [
    "if 0 <= user_input['hrs'] <= 30:\n",
    "    hrs_group = 'a. 0-30'\n",
    "elif 31 <= user_input['hrs'] <= 40:\n",
    "    hrs_group = 'b. 31-40'\n",
    "elif 41 <= user_input['hrs'] <= 50 or 61 <= user_input['hrs'] <= 70:\n",
    "    hrs_group = 'd. 41-50 & 61-70'\n",
    "elif 51 <= user_input['hrs'] <= 60:\n",
    "    hrs_group = 'e. 51-60'\n",
    "elif 71 <= user_input['hrs'] <= 100:\n",
    "    hrs_group = 'c. 71-100'\n",
    "else:\n",
    "    hrs_group = 'Unknown'\n",
    "\n",
    "print(hrs_group)"
   ]
  },
  {
   "cell_type": "code",
   "execution_count": 209,
   "id": "09b046c6-265a-4926-9980-3502e14cbee4",
   "metadata": {},
   "outputs": [],
   "source": [
    "pred_input = user_input"
   ]
  },
  {
   "cell_type": "code",
   "execution_count": 210,
   "id": "67e7dacd-931d-4244-b104-621562dc61a4",
   "metadata": {},
   "outputs": [],
   "source": [
    "pred_input['age'] = age_group"
   ]
  },
  {
   "cell_type": "code",
   "execution_count": 211,
   "id": "1c4b4fa6-00f7-45e3-89bb-2ce4222ff7cc",
   "metadata": {},
   "outputs": [],
   "source": [
    "pred_input['ed_yrs'] = ed_group"
   ]
  },
  {
   "cell_type": "code",
   "execution_count": 212,
   "id": "2a959854-effa-4566-9120-e8a7561b28da",
   "metadata": {},
   "outputs": [],
   "source": [
    "pred_input['hrs'] = hrs_group"
   ]
  },
  {
   "cell_type": "code",
   "execution_count": 213,
   "id": "678e7b89-a924-4f4e-939c-5f2c99521913",
   "metadata": {},
   "outputs": [
    {
     "data": {
      "text/plain": [
       "{'hrs': 'd. 41-50 & 61-70',\n",
       " 'occ': 'b. Mid - Low',\n",
       " 'msr': 'c. High',\n",
       " 'gain': 'c. > 0',\n",
       " 'race-sex': 'b. Mid',\n",
       " 'ed_yrs': 'b. 9-12',\n",
       " 'ed': 'e. High',\n",
       " 'class': 'b. income',\n",
       " 'age': 'd. 36-40 & 56-60'}"
      ]
     },
     "execution_count": 213,
     "metadata": {},
     "output_type": "execute_result"
    }
   ],
   "source": [
    "pred_input"
   ]
  },
  {
   "cell_type": "code",
   "execution_count": 214,
   "id": "4ee7a37c-d49a-4e7e-bf23-44654d1dedc6",
   "metadata": {},
   "outputs": [],
   "source": [
    "# The new input needs to be encoded in the same way as the training data, so here we add the input as the first row in the dataset and perform the encoding again.\n",
    "reencode = df.copy()\n",
    "reencode = reencode.drop(['y','flag'], axis=1)"
   ]
  },
  {
   "cell_type": "code",
   "execution_count": 215,
   "id": "47389ea9-c457-424c-a6fd-cfcf63085800",
   "metadata": {},
   "outputs": [
    {
     "data": {
      "text/html": [
       "<div>\n",
       "<style scoped>\n",
       "    .dataframe tbody tr th:only-of-type {\n",
       "        vertical-align: middle;\n",
       "    }\n",
       "\n",
       "    .dataframe tbody tr th {\n",
       "        vertical-align: top;\n",
       "    }\n",
       "\n",
       "    .dataframe thead th {\n",
       "        text-align: right;\n",
       "    }\n",
       "</style>\n",
       "<table border=\"1\" class=\"dataframe\">\n",
       "  <thead>\n",
       "    <tr style=\"text-align: right;\">\n",
       "      <th></th>\n",
       "      <th>hours_per_week_bin</th>\n",
       "      <th>occupation_bin</th>\n",
       "      <th>msr_bin</th>\n",
       "      <th>capital_gl_bin</th>\n",
       "      <th>race_sex_bin</th>\n",
       "      <th>education_num_bin</th>\n",
       "      <th>education_bin</th>\n",
       "      <th>workclass_bin</th>\n",
       "      <th>age_bin</th>\n",
       "    </tr>\n",
       "  </thead>\n",
       "  <tbody>\n",
       "    <tr>\n",
       "      <th>0</th>\n",
       "      <td>b. 31-40</td>\n",
       "      <td>b. Mid - Low</td>\n",
       "      <td>b. Mid</td>\n",
       "      <td>c. &gt; 0</td>\n",
       "      <td>c. High</td>\n",
       "      <td>c. 13</td>\n",
       "      <td>c. Bachelors</td>\n",
       "      <td>b. income</td>\n",
       "      <td>d. 36-40 &amp; 56-60</td>\n",
       "    </tr>\n",
       "    <tr>\n",
       "      <th>1</th>\n",
       "      <td>a. 0-30</td>\n",
       "      <td>e. High</td>\n",
       "      <td>c. High</td>\n",
       "      <td>a. = 0</td>\n",
       "      <td>c. High</td>\n",
       "      <td>c. 13</td>\n",
       "      <td>c. Bachelors</td>\n",
       "      <td>b. income</td>\n",
       "      <td>e. 40-55</td>\n",
       "    </tr>\n",
       "    <tr>\n",
       "      <th>2</th>\n",
       "      <td>b. 31-40</td>\n",
       "      <td>a. Low</td>\n",
       "      <td>b. Mid</td>\n",
       "      <td>a. = 0</td>\n",
       "      <td>c. High</td>\n",
       "      <td>b. 9-12</td>\n",
       "      <td>b. Mid</td>\n",
       "      <td>b. income</td>\n",
       "      <td>d. 36-40 &amp; 56-60</td>\n",
       "    </tr>\n",
       "    <tr>\n",
       "      <th>3</th>\n",
       "      <td>b. 31-40</td>\n",
       "      <td>a. Low</td>\n",
       "      <td>c. High</td>\n",
       "      <td>a. = 0</td>\n",
       "      <td>b. Mid</td>\n",
       "      <td>a. 0-8</td>\n",
       "      <td>a. Low</td>\n",
       "      <td>b. income</td>\n",
       "      <td>e. 40-55</td>\n",
       "    </tr>\n",
       "    <tr>\n",
       "      <th>4</th>\n",
       "      <td>b. 31-40</td>\n",
       "      <td>e. High</td>\n",
       "      <td>c. High</td>\n",
       "      <td>a. = 0</td>\n",
       "      <td>a. Low</td>\n",
       "      <td>c. 13</td>\n",
       "      <td>c. Bachelors</td>\n",
       "      <td>b. income</td>\n",
       "      <td>b. 26-30 &amp; 71-100</td>\n",
       "    </tr>\n",
       "  </tbody>\n",
       "</table>\n",
       "</div>"
      ],
      "text/plain": [
       "  hours_per_week_bin occupation_bin  msr_bin capital_gl_bin race_sex_bin education_num_bin education_bin workclass_bin            age_bin\n",
       "0           b. 31-40   b. Mid - Low   b. Mid         c. > 0      c. High             c. 13  c. Bachelors     b. income   d. 36-40 & 56-60\n",
       "1            a. 0-30        e. High  c. High         a. = 0      c. High             c. 13  c. Bachelors     b. income           e. 40-55\n",
       "2           b. 31-40         a. Low   b. Mid         a. = 0      c. High           b. 9-12        b. Mid     b. income   d. 36-40 & 56-60\n",
       "3           b. 31-40         a. Low  c. High         a. = 0       b. Mid            a. 0-8        a. Low     b. income           e. 40-55\n",
       "4           b. 31-40        e. High  c. High         a. = 0       a. Low             c. 13  c. Bachelors     b. income  b. 26-30 & 71-100"
      ]
     },
     "execution_count": 215,
     "metadata": {},
     "output_type": "execute_result"
    }
   ],
   "source": [
    "reencode.head()"
   ]
  },
  {
   "cell_type": "code",
   "execution_count": 216,
   "id": "2294b4d7-69a8-4211-aad6-cc4da71909e2",
   "metadata": {},
   "outputs": [
    {
     "data": {
      "text/html": [
       "<div>\n",
       "<style scoped>\n",
       "    .dataframe tbody tr th:only-of-type {\n",
       "        vertical-align: middle;\n",
       "    }\n",
       "\n",
       "    .dataframe tbody tr th {\n",
       "        vertical-align: top;\n",
       "    }\n",
       "\n",
       "    .dataframe thead th {\n",
       "        text-align: right;\n",
       "    }\n",
       "</style>\n",
       "<table border=\"1\" class=\"dataframe\">\n",
       "  <thead>\n",
       "    <tr style=\"text-align: right;\">\n",
       "      <th></th>\n",
       "      <th>hours_per_week_bin</th>\n",
       "      <th>occupation_bin</th>\n",
       "      <th>msr_bin</th>\n",
       "      <th>capital_gl_bin</th>\n",
       "      <th>race_sex_bin</th>\n",
       "      <th>education_num_bin</th>\n",
       "      <th>education_bin</th>\n",
       "      <th>workclass_bin</th>\n",
       "      <th>age_bin</th>\n",
       "    </tr>\n",
       "  </thead>\n",
       "  <tbody>\n",
       "    <tr>\n",
       "      <th>0</th>\n",
       "      <td>d. 41-50 &amp; 61-70</td>\n",
       "      <td>b. Mid - Low</td>\n",
       "      <td>c. High</td>\n",
       "      <td>c. &gt; 0</td>\n",
       "      <td>b. Mid</td>\n",
       "      <td>b. 9-12</td>\n",
       "      <td>e. High</td>\n",
       "      <td>b. income</td>\n",
       "      <td>d. 36-40 &amp; 56-60</td>\n",
       "    </tr>\n",
       "    <tr>\n",
       "      <th>1</th>\n",
       "      <td>a. 0-30</td>\n",
       "      <td>e. High</td>\n",
       "      <td>c. High</td>\n",
       "      <td>a. = 0</td>\n",
       "      <td>c. High</td>\n",
       "      <td>c. 13</td>\n",
       "      <td>c. Bachelors</td>\n",
       "      <td>b. income</td>\n",
       "      <td>e. 40-55</td>\n",
       "    </tr>\n",
       "    <tr>\n",
       "      <th>2</th>\n",
       "      <td>b. 31-40</td>\n",
       "      <td>a. Low</td>\n",
       "      <td>b. Mid</td>\n",
       "      <td>a. = 0</td>\n",
       "      <td>c. High</td>\n",
       "      <td>b. 9-12</td>\n",
       "      <td>b. Mid</td>\n",
       "      <td>b. income</td>\n",
       "      <td>d. 36-40 &amp; 56-60</td>\n",
       "    </tr>\n",
       "    <tr>\n",
       "      <th>3</th>\n",
       "      <td>b. 31-40</td>\n",
       "      <td>a. Low</td>\n",
       "      <td>c. High</td>\n",
       "      <td>a. = 0</td>\n",
       "      <td>b. Mid</td>\n",
       "      <td>a. 0-8</td>\n",
       "      <td>a. Low</td>\n",
       "      <td>b. income</td>\n",
       "      <td>e. 40-55</td>\n",
       "    </tr>\n",
       "    <tr>\n",
       "      <th>4</th>\n",
       "      <td>b. 31-40</td>\n",
       "      <td>e. High</td>\n",
       "      <td>c. High</td>\n",
       "      <td>a. = 0</td>\n",
       "      <td>a. Low</td>\n",
       "      <td>c. 13</td>\n",
       "      <td>c. Bachelors</td>\n",
       "      <td>b. income</td>\n",
       "      <td>b. 26-30 &amp; 71-100</td>\n",
       "    </tr>\n",
       "  </tbody>\n",
       "</table>\n",
       "</div>"
      ],
      "text/plain": [
       "  hours_per_week_bin occupation_bin  msr_bin capital_gl_bin race_sex_bin education_num_bin education_bin workclass_bin            age_bin\n",
       "0   d. 41-50 & 61-70   b. Mid - Low  c. High         c. > 0       b. Mid           b. 9-12       e. High     b. income   d. 36-40 & 56-60\n",
       "1            a. 0-30        e. High  c. High         a. = 0      c. High             c. 13  c. Bachelors     b. income           e. 40-55\n",
       "2           b. 31-40         a. Low   b. Mid         a. = 0      c. High           b. 9-12        b. Mid     b. income   d. 36-40 & 56-60\n",
       "3           b. 31-40         a. Low  c. High         a. = 0       b. Mid            a. 0-8        a. Low     b. income           e. 40-55\n",
       "4           b. 31-40        e. High  c. High         a. = 0       a. Low             c. 13  c. Bachelors     b. income  b. 26-30 & 71-100"
      ]
     },
     "execution_count": 216,
     "metadata": {},
     "output_type": "execute_result"
    }
   ],
   "source": [
    "reencode.iloc[0] = list(pred_input.values()) # add user input\n",
    "reencode.head()"
   ]
  },
  {
   "cell_type": "code",
   "execution_count": 217,
   "id": "985e0351-0553-4e7f-987d-5ef3484074d1",
   "metadata": {},
   "outputs": [],
   "source": [
    "# Apply encoding to each column\n",
    "for col in ['occupation_bin', 'msr_bin', 'race_sex_bin', 'education_num_bin']:\n",
    "    reencode[col + '_Encoded'] = encode_column(reencode[col])"
   ]
  },
  {
   "cell_type": "code",
   "execution_count": 218,
   "id": "6024ed51-18e8-41dc-9387-9801c526cf2f",
   "metadata": {},
   "outputs": [],
   "source": [
    "reencode.drop('education_bin', axis=1, inplace=True)"
   ]
  },
  {
   "cell_type": "markdown",
   "id": "86bce2d0-8d08-4c26-9437-5c09cdb0f6c1",
   "metadata": {},
   "source": [
    "Now we must encode the nominal features."
   ]
  },
  {
   "cell_type": "code",
   "execution_count": 220,
   "id": "ca53eb66-7432-43df-a39e-e8e19579af30",
   "metadata": {},
   "outputs": [],
   "source": [
    "# One-Hot Encoding for nominal columns\n",
    "nominal_columns = ['age_bin', 'capital_gl_bin', 'hours_per_week_bin', 'workclass_bin']\n",
    "reencode = pd.get_dummies(reencode, columns=nominal_columns)"
   ]
  },
  {
   "cell_type": "code",
   "execution_count": 221,
   "id": "9ba166f5-535a-4da5-a0c2-3b620ed267cb",
   "metadata": {},
   "outputs": [
    {
     "data": {
      "text/html": [
       "<div>\n",
       "<style scoped>\n",
       "    .dataframe tbody tr th:only-of-type {\n",
       "        vertical-align: middle;\n",
       "    }\n",
       "\n",
       "    .dataframe tbody tr th {\n",
       "        vertical-align: top;\n",
       "    }\n",
       "\n",
       "    .dataframe thead th {\n",
       "        text-align: right;\n",
       "    }\n",
       "</style>\n",
       "<table border=\"1\" class=\"dataframe\">\n",
       "  <thead>\n",
       "    <tr style=\"text-align: right;\">\n",
       "      <th></th>\n",
       "      <th>occupation_bin_Encoded</th>\n",
       "      <th>msr_bin_Encoded</th>\n",
       "      <th>race_sex_bin_Encoded</th>\n",
       "      <th>education_num_bin_Encoded</th>\n",
       "      <th>age_bin_a. 0-25</th>\n",
       "      <th>age_bin_b. 26-30 &amp; 71-100</th>\n",
       "      <th>age_bin_c. 31-35 &amp; 61-70</th>\n",
       "      <th>age_bin_d. 36-40 &amp; 56-60</th>\n",
       "      <th>age_bin_e. 40-55</th>\n",
       "      <th>capital_gl_bin_a. = 0</th>\n",
       "      <th>capital_gl_bin_b. &lt; 0</th>\n",
       "      <th>capital_gl_bin_c. &gt; 0</th>\n",
       "      <th>hours_per_week_bin_a. 0-30</th>\n",
       "      <th>hours_per_week_bin_b. 31-40</th>\n",
       "      <th>hours_per_week_bin_c. 71-100</th>\n",
       "      <th>hours_per_week_bin_d. 41-50 &amp; 61-70</th>\n",
       "      <th>hours_per_week_bin_e. 51-60</th>\n",
       "      <th>workclass_bin_a. no income</th>\n",
       "      <th>workclass_bin_b. income</th>\n",
       "    </tr>\n",
       "  </thead>\n",
       "  <tbody>\n",
       "    <tr>\n",
       "      <th>0</th>\n",
       "      <td>2</td>\n",
       "      <td>3</td>\n",
       "      <td>2</td>\n",
       "      <td>2</td>\n",
       "      <td>0</td>\n",
       "      <td>0</td>\n",
       "      <td>0</td>\n",
       "      <td>1</td>\n",
       "      <td>0</td>\n",
       "      <td>0</td>\n",
       "      <td>0</td>\n",
       "      <td>1</td>\n",
       "      <td>0</td>\n",
       "      <td>0</td>\n",
       "      <td>0</td>\n",
       "      <td>1</td>\n",
       "      <td>0</td>\n",
       "      <td>0</td>\n",
       "      <td>1</td>\n",
       "    </tr>\n",
       "    <tr>\n",
       "      <th>1</th>\n",
       "      <td>5</td>\n",
       "      <td>3</td>\n",
       "      <td>3</td>\n",
       "      <td>3</td>\n",
       "      <td>0</td>\n",
       "      <td>0</td>\n",
       "      <td>0</td>\n",
       "      <td>0</td>\n",
       "      <td>1</td>\n",
       "      <td>1</td>\n",
       "      <td>0</td>\n",
       "      <td>0</td>\n",
       "      <td>1</td>\n",
       "      <td>0</td>\n",
       "      <td>0</td>\n",
       "      <td>0</td>\n",
       "      <td>0</td>\n",
       "      <td>0</td>\n",
       "      <td>1</td>\n",
       "    </tr>\n",
       "    <tr>\n",
       "      <th>2</th>\n",
       "      <td>1</td>\n",
       "      <td>2</td>\n",
       "      <td>3</td>\n",
       "      <td>2</td>\n",
       "      <td>0</td>\n",
       "      <td>0</td>\n",
       "      <td>0</td>\n",
       "      <td>1</td>\n",
       "      <td>0</td>\n",
       "      <td>1</td>\n",
       "      <td>0</td>\n",
       "      <td>0</td>\n",
       "      <td>0</td>\n",
       "      <td>1</td>\n",
       "      <td>0</td>\n",
       "      <td>0</td>\n",
       "      <td>0</td>\n",
       "      <td>0</td>\n",
       "      <td>1</td>\n",
       "    </tr>\n",
       "    <tr>\n",
       "      <th>3</th>\n",
       "      <td>1</td>\n",
       "      <td>3</td>\n",
       "      <td>2</td>\n",
       "      <td>1</td>\n",
       "      <td>0</td>\n",
       "      <td>0</td>\n",
       "      <td>0</td>\n",
       "      <td>0</td>\n",
       "      <td>1</td>\n",
       "      <td>1</td>\n",
       "      <td>0</td>\n",
       "      <td>0</td>\n",
       "      <td>0</td>\n",
       "      <td>1</td>\n",
       "      <td>0</td>\n",
       "      <td>0</td>\n",
       "      <td>0</td>\n",
       "      <td>0</td>\n",
       "      <td>1</td>\n",
       "    </tr>\n",
       "    <tr>\n",
       "      <th>4</th>\n",
       "      <td>5</td>\n",
       "      <td>3</td>\n",
       "      <td>1</td>\n",
       "      <td>3</td>\n",
       "      <td>0</td>\n",
       "      <td>1</td>\n",
       "      <td>0</td>\n",
       "      <td>0</td>\n",
       "      <td>0</td>\n",
       "      <td>1</td>\n",
       "      <td>0</td>\n",
       "      <td>0</td>\n",
       "      <td>0</td>\n",
       "      <td>1</td>\n",
       "      <td>0</td>\n",
       "      <td>0</td>\n",
       "      <td>0</td>\n",
       "      <td>0</td>\n",
       "      <td>1</td>\n",
       "    </tr>\n",
       "  </tbody>\n",
       "</table>\n",
       "</div>"
      ],
      "text/plain": [
       "   occupation_bin_Encoded  msr_bin_Encoded  race_sex_bin_Encoded  education_num_bin_Encoded  age_bin_a. 0-25  age_bin_b. 26-30 & 71-100  age_bin_c. 31-35 & 61-70  age_bin_d. 36-40 & 56-60  age_bin_e. 40-55  capital_gl_bin_a. = 0  capital_gl_bin_b. < 0  capital_gl_bin_c. > 0  hours_per_week_bin_a. 0-30  hours_per_week_bin_b. 31-40  hours_per_week_bin_c. 71-100  hours_per_week_bin_d. 41-50 & 61-70  hours_per_week_bin_e. 51-60  workclass_bin_a. no income  workclass_bin_b. income\n",
       "0                       2                3                     2                          2                0                          0                         0                         1                 0                      0                      0                      1                           0                            0                             0                                    1                            0                           0                        1\n",
       "1                       5                3                     3                          3                0                          0                         0                         0                 1                      1                      0                      0                           1                            0                             0                                    0                            0                           0                        1\n",
       "2                       1                2                     3                          2                0                          0                         0                         1                 0                      1                      0                      0                           0                            1                             0                                    0                            0                           0                        1\n",
       "3                       1                3                     2                          1                0                          0                         0                         0                 1                      1                      0                      0                           0                            1                             0                                    0                            0                           0                        1\n",
       "4                       5                3                     1                          3                0                          1                         0                         0                 0                      1                      0                      0                           0                            1                             0                                    0                            0                           0                        1"
      ]
     },
     "execution_count": 221,
     "metadata": {},
     "output_type": "execute_result"
    }
   ],
   "source": [
    "# Drop the old columns, keeping only the encoded columns\n",
    "reencode = reencode.iloc[:,4:]   \n",
    "reencode.head()"
   ]
  },
  {
   "cell_type": "code",
   "execution_count": 222,
   "id": "94ae09b8-9fcc-4d86-8790-c9e4cc79a763",
   "metadata": {},
   "outputs": [],
   "source": [
    "# Some models cannot accept special characters in the column name, so we must rename them.\n",
    "# Define a mapping for renaming columns\n",
    "rename_mapping = {\n",
    "    'age_bin_a. 0-25': 'age_bin_0_25',\n",
    "    'age_bin_b. 26-30 & 71-100': 'age_bin_26_30_71_100',\n",
    "    'age_bin_c. 31-35 & 61-70': 'age_bin_31_35_61_70',\n",
    "    'age_bin_d. 36-40 & 56-60': 'age_bin_36_40_56_60',\n",
    "    'age_bin_e. 40-55': 'age_bin_40_55',\n",
    "    'capital_gl_bin_a. = 0': 'capital_gl_0',\n",
    "    'capital_gl_bin_b. < 0': 'capital_gl_less_thn_0',\n",
    "    'capital_gl_bin_c. > 0': 'capital_gl_greater_thn_0',\n",
    "    'hours_per_week_bin_a. 0-30': 'hours_per_week_0_30',\n",
    "    'hours_per_week_bin_b. 31-40': 'hours_per_week_31_40',\n",
    "    'hours_per_week_bin_c. 71-100': 'hours_per_week_71_100',\n",
    "    'hours_per_week_bin_d. 41-50 & 61-70': 'hours_per_week_41_50_61_70',\n",
    "    'hours_per_week_bin_e. 51-60': 'hours_per_week_51_60',\n",
    "    'workclass_bin_a. no income': 'workclass_no_income',\n",
    "    'workclass_bin_b. income': 'workclass_income'\n",
    "}\n",
    "\n",
    "# Rename columns\n",
    "reencode.rename(columns=rename_mapping, inplace=True)"
   ]
  },
  {
   "cell_type": "code",
   "execution_count": 223,
   "id": "7ecd89b8-992f-4c14-aa11-b67bd01e4002",
   "metadata": {},
   "outputs": [
    {
     "data": {
      "text/html": [
       "<div>\n",
       "<style scoped>\n",
       "    .dataframe tbody tr th:only-of-type {\n",
       "        vertical-align: middle;\n",
       "    }\n",
       "\n",
       "    .dataframe tbody tr th {\n",
       "        vertical-align: top;\n",
       "    }\n",
       "\n",
       "    .dataframe thead th {\n",
       "        text-align: right;\n",
       "    }\n",
       "</style>\n",
       "<table border=\"1\" class=\"dataframe\">\n",
       "  <thead>\n",
       "    <tr style=\"text-align: right;\">\n",
       "      <th></th>\n",
       "      <th>occupation_bin_Encoded</th>\n",
       "      <th>msr_bin_Encoded</th>\n",
       "      <th>race_sex_bin_Encoded</th>\n",
       "      <th>education_num_bin_Encoded</th>\n",
       "      <th>age_bin_0_25</th>\n",
       "      <th>age_bin_26_30_71_100</th>\n",
       "      <th>age_bin_31_35_61_70</th>\n",
       "      <th>age_bin_36_40_56_60</th>\n",
       "      <th>age_bin_40_55</th>\n",
       "      <th>capital_gl_0</th>\n",
       "      <th>capital_gl_less_thn_0</th>\n",
       "      <th>capital_gl_greater_thn_0</th>\n",
       "      <th>hours_per_week_0_30</th>\n",
       "      <th>hours_per_week_31_40</th>\n",
       "      <th>hours_per_week_71_100</th>\n",
       "      <th>hours_per_week_41_50_61_70</th>\n",
       "      <th>hours_per_week_51_60</th>\n",
       "      <th>workclass_no_income</th>\n",
       "      <th>workclass_income</th>\n",
       "    </tr>\n",
       "  </thead>\n",
       "  <tbody>\n",
       "    <tr>\n",
       "      <th>0</th>\n",
       "      <td>2</td>\n",
       "      <td>3</td>\n",
       "      <td>2</td>\n",
       "      <td>2</td>\n",
       "      <td>0</td>\n",
       "      <td>0</td>\n",
       "      <td>0</td>\n",
       "      <td>1</td>\n",
       "      <td>0</td>\n",
       "      <td>0</td>\n",
       "      <td>0</td>\n",
       "      <td>1</td>\n",
       "      <td>0</td>\n",
       "      <td>0</td>\n",
       "      <td>0</td>\n",
       "      <td>1</td>\n",
       "      <td>0</td>\n",
       "      <td>0</td>\n",
       "      <td>1</td>\n",
       "    </tr>\n",
       "    <tr>\n",
       "      <th>1</th>\n",
       "      <td>5</td>\n",
       "      <td>3</td>\n",
       "      <td>3</td>\n",
       "      <td>3</td>\n",
       "      <td>0</td>\n",
       "      <td>0</td>\n",
       "      <td>0</td>\n",
       "      <td>0</td>\n",
       "      <td>1</td>\n",
       "      <td>1</td>\n",
       "      <td>0</td>\n",
       "      <td>0</td>\n",
       "      <td>1</td>\n",
       "      <td>0</td>\n",
       "      <td>0</td>\n",
       "      <td>0</td>\n",
       "      <td>0</td>\n",
       "      <td>0</td>\n",
       "      <td>1</td>\n",
       "    </tr>\n",
       "    <tr>\n",
       "      <th>2</th>\n",
       "      <td>1</td>\n",
       "      <td>2</td>\n",
       "      <td>3</td>\n",
       "      <td>2</td>\n",
       "      <td>0</td>\n",
       "      <td>0</td>\n",
       "      <td>0</td>\n",
       "      <td>1</td>\n",
       "      <td>0</td>\n",
       "      <td>1</td>\n",
       "      <td>0</td>\n",
       "      <td>0</td>\n",
       "      <td>0</td>\n",
       "      <td>1</td>\n",
       "      <td>0</td>\n",
       "      <td>0</td>\n",
       "      <td>0</td>\n",
       "      <td>0</td>\n",
       "      <td>1</td>\n",
       "    </tr>\n",
       "    <tr>\n",
       "      <th>3</th>\n",
       "      <td>1</td>\n",
       "      <td>3</td>\n",
       "      <td>2</td>\n",
       "      <td>1</td>\n",
       "      <td>0</td>\n",
       "      <td>0</td>\n",
       "      <td>0</td>\n",
       "      <td>0</td>\n",
       "      <td>1</td>\n",
       "      <td>1</td>\n",
       "      <td>0</td>\n",
       "      <td>0</td>\n",
       "      <td>0</td>\n",
       "      <td>1</td>\n",
       "      <td>0</td>\n",
       "      <td>0</td>\n",
       "      <td>0</td>\n",
       "      <td>0</td>\n",
       "      <td>1</td>\n",
       "    </tr>\n",
       "    <tr>\n",
       "      <th>4</th>\n",
       "      <td>5</td>\n",
       "      <td>3</td>\n",
       "      <td>1</td>\n",
       "      <td>3</td>\n",
       "      <td>0</td>\n",
       "      <td>1</td>\n",
       "      <td>0</td>\n",
       "      <td>0</td>\n",
       "      <td>0</td>\n",
       "      <td>1</td>\n",
       "      <td>0</td>\n",
       "      <td>0</td>\n",
       "      <td>0</td>\n",
       "      <td>1</td>\n",
       "      <td>0</td>\n",
       "      <td>0</td>\n",
       "      <td>0</td>\n",
       "      <td>0</td>\n",
       "      <td>1</td>\n",
       "    </tr>\n",
       "  </tbody>\n",
       "</table>\n",
       "</div>"
      ],
      "text/plain": [
       "   occupation_bin_Encoded  msr_bin_Encoded  race_sex_bin_Encoded  education_num_bin_Encoded  age_bin_0_25  age_bin_26_30_71_100  age_bin_31_35_61_70  age_bin_36_40_56_60  age_bin_40_55  capital_gl_0  capital_gl_less_thn_0  capital_gl_greater_thn_0  hours_per_week_0_30  hours_per_week_31_40  hours_per_week_71_100  hours_per_week_41_50_61_70  hours_per_week_51_60  workclass_no_income  workclass_income\n",
       "0                       2                3                     2                          2             0                     0                    0                    1              0             0                      0                         1                    0                     0                      0                           1                     0                    0                 1\n",
       "1                       5                3                     3                          3             0                     0                    0                    0              1             1                      0                         0                    1                     0                      0                           0                     0                    0                 1\n",
       "2                       1                2                     3                          2             0                     0                    0                    1              0             1                      0                         0                    0                     1                      0                           0                     0                    0                 1\n",
       "3                       1                3                     2                          1             0                     0                    0                    0              1             1                      0                         0                    0                     1                      0                           0                     0                    0                 1\n",
       "4                       5                3                     1                          3             0                     1                    0                    0              0             1                      0                         0                    0                     1                      0                           0                     0                    0                 1"
      ]
     },
     "execution_count": 223,
     "metadata": {},
     "output_type": "execute_result"
    }
   ],
   "source": [
    "reencode.head()"
   ]
  },
  {
   "cell_type": "code",
   "execution_count": 224,
   "id": "ddd865c3-f681-4f59-a818-252a38944160",
   "metadata": {},
   "outputs": [],
   "source": [
    "# Keep only the first row (the new user input data)\n",
    "first_row_df = reencode.iloc[:1]"
   ]
  },
  {
   "cell_type": "markdown",
   "id": "24d802a4-cbac-4412-8265-0a5a2e5e39a5",
   "metadata": {},
   "source": [
    "#### Prediction"
   ]
  },
  {
   "cell_type": "code",
   "execution_count": 226,
   "id": "d5ec863f-a9d4-4f7b-9352-1e81ede99d64",
   "metadata": {},
   "outputs": [],
   "source": [
    "pred=best_model.predict(first_row_df)"
   ]
  },
  {
   "cell_type": "code",
   "execution_count": 227,
   "id": "5f00bacf-bc95-4429-9d1e-8be510cbc39d",
   "metadata": {},
   "outputs": [
    {
     "name": "stdout",
     "output_type": "stream",
     "text": [
      "Predicted income level is >$50K\n"
     ]
    }
   ],
   "source": [
    "print(f\"Predicted income level is {'>$50K' if pred == 1 else '<=$50K'}\")"
   ]
  },
  {
   "cell_type": "code",
   "execution_count": 228,
   "id": "775e2568-e58a-427c-8df9-b8db20cf2c3f",
   "metadata": {},
   "outputs": [],
   "source": [
    "probabilities = best_model.predict_proba(first_row_df)"
   ]
  },
  {
   "cell_type": "code",
   "execution_count": 229,
   "id": "e561231f-4fdd-4b3a-9a18-7f2043faf9ad",
   "metadata": {},
   "outputs": [
    {
     "data": {
      "text/plain": [
       "array([[0.35040974, 0.64959026]])"
      ]
     },
     "execution_count": 229,
     "metadata": {},
     "output_type": "execute_result"
    }
   ],
   "source": [
    "probabilities"
   ]
  },
  {
   "cell_type": "markdown",
   "id": "968e5881-705c-4064-a663-cbd5b9b1518a",
   "metadata": {},
   "source": [
    "Using our sample predictors, the model predicted a 65% probability that the predicted value is 1, e.g., >50K."
   ]
  },
  {
   "cell_type": "markdown",
   "id": "4a3be4d3-9fd7-4771-aed6-7547224488f1",
   "metadata": {},
   "source": [
    "##### (End)"
   ]
  }
 ],
 "metadata": {
  "kernelspec": {
   "display_name": "Python [conda env:base] *",
   "language": "python",
   "name": "conda-base-py"
  },
  "language_info": {
   "codemirror_mode": {
    "name": "ipython",
    "version": 3
   },
   "file_extension": ".py",
   "mimetype": "text/x-python",
   "name": "python",
   "nbconvert_exporter": "python",
   "pygments_lexer": "ipython3",
   "version": "3.11.4"
  }
 },
 "nbformat": 4,
 "nbformat_minor": 5
}
